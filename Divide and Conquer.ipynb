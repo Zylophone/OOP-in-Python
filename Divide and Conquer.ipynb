{
 "cells": [
  {
   "cell_type": "markdown",
   "metadata": {},
   "source": [
    "# Divide and Conquer(Introduction to Algorithms)"
   ]
  },
  {
   "cell_type": "markdown",
   "metadata": {},
   "source": [
    "**Divide** the problem into a number of subproblems that are smaller instances of the same problem.\n",
    "\n",
    "**Conquer** the subproblems by solving them recursively. If the subproblem sizes are small enough, however, just solve the subproblems in a straightforward manner.\n",
    "\n",
    "**Combine** the solutions to the subproblems into the solution for the original problem."
   ]
  },
  {
   "cell_type": "code",
   "execution_count": null,
   "metadata": {
    "collapsed": true
   },
   "outputs": [],
   "source": []
  },
  {
   "cell_type": "markdown",
   "metadata": {},
   "source": [
    "### The maximum subarray problem "
   ]
  },
  {
   "cell_type": "markdown",
   "metadata": {},
   "source": [
    "**Divide and conquer solution**: The idea is we first divide the array into two halves A[low, mid] and A[mid+1, high]. The maximum subarray could appear in A[low, mid], A[mid+1, high] or cross the two halves. So we have the following recursion relation:\n",
    "\n",
    "maxsubarray(A[low,high])=max(maxsubarray(A[low,mid]),maxsubarray(A[mid+1,high]),maxsubarraycross(A[low,high]))\n",
    "\n",
    "In this algorithm, there is one nontrivial subproblem maxsubarraycross(A[low,high])). It can be obtained by expanding around the midpoint, scan the left and right subarray to find their maximum sum respectively and then add them together.\n",
    "\n",
    "base case:\n",
    "\n",
    "maxsubarray(A[low,high]), low=high: return A[low]\n",
    "\n",
    "The runtime analysis is as follows: \n",
    "$$\n",
    "T(n)=2T(n/2)+O(n)\n",
    "$$\n",
    "\n",
    "It turns out\n",
    "\n",
    "$$\n",
    "T(n)=O(n log n)\n",
    "$$"
   ]
  },
  {
   "cell_type": "code",
   "execution_count": 4,
   "metadata": {
    "collapsed": true
   },
   "outputs": [],
   "source": [
    "import sys\n",
    "\n",
    "class Solution(object):\n",
    "    def maxSubArray(self, nums):\n",
    "        \"\"\"\n",
    "        :type nums: List[int]\n",
    "        :rtype: int\n",
    "        \"\"\"\n",
    "        return self.findmaxsubarray(nums, 0, len(nums)-1)\n",
    "        \n",
    "    def findmaxsubarray(self, nums, start, end):\n",
    "        \"\"\"\n",
    "        :type nums: List[int]\n",
    "        :type start,end: int\n",
    "        :rtype: int\n",
    "        \"\"\"\n",
    "        if start==end:\n",
    "            return nums[start]\n",
    "        mid=(start+end)/2\n",
    "        a1=self.findmaxsubarray(nums, start, mid)\n",
    "        a2=self.findmaxsubarray(nums, mid+1, end)\n",
    "        a3=self.findmaxcross(nums, start, end)\n",
    "        \n",
    "        return max(max(a1,a2),a3)\n",
    "        \n",
    "    def findmaxcross(self, nums, start, end):\n",
    "        \"\"\"\n",
    "        :type nums: List[int]\n",
    "        :type start,end: int\n",
    "        :rtype: int\n",
    "        \"\"\"\n",
    "        mid=(start+end)/2\n",
    "        left_max=-sys.maxint-1\n",
    "        left_sum=0\n",
    "        for i in xrange(mid, start-1, -1):\n",
    "            left_sum+=nums[i]\n",
    "            left_max=max(left_max, left_sum)\n",
    "        right_max=-sys.maxint-1\n",
    "        right_sum=0\n",
    "        for i in xrange(mid+1, end+1):\n",
    "            right_sum+=nums[i]\n",
    "            right_max=max(right_max, right_sum)\n",
    "            \n",
    "        return left_max+right_max"
   ]
  },
  {
   "cell_type": "code",
   "execution_count": 5,
   "metadata": {
    "collapsed": false
   },
   "outputs": [
    {
     "data": {
      "text/plain": [
       "6"
      ]
     },
     "execution_count": 5,
     "metadata": {},
     "output_type": "execute_result"
    }
   ],
   "source": [
    "o=Solution()\n",
    "nums=[-2,1,-3,4,-1,2,1,-5,4]\n",
    "o.maxSubArray(nums)"
   ]
  },
  {
   "cell_type": "markdown",
   "metadata": {},
   "source": [
    "**O(n) solution**(buy and sell):"
   ]
  },
  {
   "cell_type": "code",
   "execution_count": null,
   "metadata": {
    "collapsed": true
   },
   "outputs": [],
   "source": [
    "import sys\n",
    "\n",
    "class Solution(object):\n",
    "    def maxSubArray(self, nums):\n",
    "        \"\"\"\n",
    "        :type nums: List[int]\n",
    "        :rtype: int\n",
    "        \"\"\"\n",
    "        if len(nums)==1: return nums[0]\n",
    "        valley=0\n",
    "        num_sum=0\n",
    "        max_sum=-sys.maxint-1\n",
    "        for num in nums:\n",
    "            num_sum+=num\n",
    "            max_sum=max(num_sum-valley,max_sum)\n",
    "            if num_sum<valley:\n",
    "                valley=num_sum\n",
    "            \n",
    "        return max_sum"
   ]
  },
  {
   "cell_type": "markdown",
   "metadata": {},
   "source": [
    "### Strassen’s algorithm for matrix multiplication"
   ]
  },
  {
   "cell_type": "code",
   "execution_count": null,
   "metadata": {
    "collapsed": true
   },
   "outputs": [],
   "source": []
  },
  {
   "cell_type": "markdown",
   "metadata": {},
   "source": [
    "### The master method for solving recurrences"
   ]
  },
  {
   "cell_type": "markdown",
   "metadata": {},
   "source": [
    "$$\n",
    "T(n)=a T(n/b)+f(n), a \\geq 1, b>1\n",
    "$$\n",
    "\n",
    "where $a$ is the number of subproblems. $n/b$ is the size of the subproblem. $f(n)$ encompasses the cost of dividing the problem and combining the results of the subproblems. "
   ]
  },
  {
   "cell_type": "markdown",
   "metadata": {},
   "source": [
    "#### The master theorem:"
   ]
  },
  {
   "cell_type": "markdown",
   "metadata": {},
   "source": [
    "If\n",
    "$$\n",
    "T(n)=a T(n/b)+f(n), a \\geq 1, b>1,\n",
    "$$\n",
    "then $T(n)$ has the following asymptotic bounds:\n",
    "\n",
    "1. If $f(n)=O(n^{\\log_b^a-\\epsilon})$ for some constant $\\epsilon>0$, then $T(n)=\\Theta(n^{\\log_b^a})$.\n",
    "2. If $f(n)=\\Theta(n^{\\log_b^a})$, then $T(n)=\\Theta(n^{\\log_b^a}\\log n)$.\n",
    "3. If $f(n)=\\Omega(n^{\\log_b^a+\\epsilon})$ for some constant $\\epsilon>0$, and if $a f(n/b) \\leq c f(n)$ for some constant $c<1$ and all sufficiently large $n$, then $T(n)=\\Theta(f(n))$. Notice that $\\Omega$ means lower bound."
   ]
  },
  {
   "cell_type": "markdown",
   "metadata": {},
   "source": [
    "**Examples**:"
   ]
  },
  {
   "cell_type": "markdown",
   "metadata": {},
   "source": [
    "1. $T(n)=9T(n/3)+n$\n",
    "\n",
    "Solution: $a=9, b=3, f(n)=n, \\log_b^a=2$, this corresponds to case 1. \n",
    "\n",
    "$$\n",
    "T(n)=\\Theta(n^2)\n",
    "$$\n",
    "\n",
    "2. $T(n)=T(2n/3)+1$\n",
    "\n",
    "Solution: $a=1, b=3/2, f(n)=1, \\log_b^a=0$, this corresponds to case 2.\n",
    "\n",
    "$$\n",
    "T(n)=\\Theta(log n)\n",
    "$$\n",
    "\n",
    "3. $T(n)=3T(n/4)+n \\lg n$\n",
    "\n",
    "Solution: $a=3, b=4, f(n)=n \\log n, \\log_b^a=\\log_4^3$, this corresponds to the first condition of case 3 with $\\epsilon \\approx 1-\\log_4^3 \\approx 0.2$. We need to check the second condition: $3 f(n/4)= (3/4) n \\log (n/4)$;\n",
    "$c f(n)=c n \\log n$, We want $(3/4) n \\log (n/4)<=c n \\log n=>3/4\\leq c<1$\n",
    "\n",
    "$$\n",
    "T(n)=\\Theta(log n)\n",
    "$$\n",
    "\n",
    "4. $T(n)=2T(n/2)+n \\lg n$\n",
    "\n",
    "Solution: $a=2, b=2, f(n)=n \\log n, \\log_b^a=1$, this does not satisfy the first condition of case 3 as $\\log n<n^{\\epsilon}$ for any $\\epsilon>0$.\n",
    "\n",
    "5. $T(n)=2T(n/2)+\\Theta(n)$\n",
    "6. $T(n)=8T(n/2)+\\Theta(n^2)$\n",
    "7. $T(n)=7T(n/2)+\\Theta(n^2)$"
   ]
  },
  {
   "cell_type": "markdown",
   "metadata": {},
   "source": [
    "## 240. Search a 2D Matrix II"
   ]
  },
  {
   "cell_type": "markdown",
   "metadata": {},
   "source": [
    "Write an efficient algorithm that searches for a value in an m x n matrix. This matrix has the following properties:\n",
    "\n",
    "* Integers in each row are sorted in ascending from left to right.\n",
    "* Integers in each column are sorted in ascending from top to bottom.\n",
    "\n",
    "For example,\n",
    "\n",
    "Consider the following matrix:\n",
    "\n",
    "[\n",
    "  [1,   4,  7, 11, 15],\n",
    "  [2,   5,  8, 12, 19],\n",
    "  [3,   6,  9, 16, 22],\n",
    "  [10, 13, 14, 17, 24],\n",
    "  [18, 21, 23, 26, 30]\n",
    "]\n",
    "\n",
    "Given target = 5, return true.\n",
    "\n",
    "Given target = 20, return false.\n",
    "\n"
   ]
  },
  {
   "cell_type": "markdown",
   "metadata": {},
   "source": [
    "Solution: \n",
    "\n",
    "1. Brutal force: O(m n) did not utilize sorted nature\n",
    "2. row search or column search: O(m log n) or O(n log m)\n",
    "3. O(m+n) solution: we start from the top right:\n",
    "   a. if target is greater: we eliminate the first row\n",
    "   b. if target is smaller: we eliminate the first col"
   ]
  },
  {
   "cell_type": "code",
   "execution_count": 1,
   "metadata": {
    "collapsed": true
   },
   "outputs": [],
   "source": [
    "class Solution(object):\n",
    "    def searchMatrix(self, matrix, target):\n",
    "        \"\"\"\n",
    "        :type matrix: List[List[int]]\n",
    "        :type target: int\n",
    "        :rtype: bool\n",
    "        \"\"\"\n",
    "        m=len(matrix)\n",
    "        if m==0:\n",
    "            return False\n",
    "        n=len(matrix[0])\n",
    "        if n==0:\n",
    "            return False\n",
    "        return self.helper(matrix,0,n-1,target)\n",
    "    \n",
    "    def helper(self,matrix,i,j,target):\n",
    "        if target>matrix[i][j]:\n",
    "            if i<len(matrix)-1:\n",
    "                return self.helper(matrix,i+1,j,target)\n",
    "            else:\n",
    "                return False\n",
    "        elif target<matrix[i][j]:\n",
    "            if j>0:\n",
    "                return self.helper(matrix,i,j-1,target)\n",
    "            else:\n",
    "                return False\n",
    "        else:\n",
    "            return True"
   ]
  },
  {
   "cell_type": "markdown",
   "metadata": {},
   "source": [
    "## 241. Different Ways to Add Parentheses"
   ]
  },
  {
   "cell_type": "markdown",
   "metadata": {},
   "source": [
    "Given a string of numbers and operators, return all possible results from computing all the different possible ways to group numbers and operators. The valid operators are +, - and *.\n",
    "\n",
    "\n",
    "Example 1\n",
    "\n",
    "Input: \"2-1-1\".\n",
    "\n",
    "((2-1)-1) = 0\n",
    "\n",
    "(2-(1-1)) = 2\n",
    "\n",
    "Output: [0, 2]\n",
    "\n",
    "\n",
    "Example 2\n",
    "\n",
    "Input: \"$2*3-4*5$\"\n",
    "\n",
    "$(2*(3-(4*5))) = -34$\n",
    "\n",
    "$((2*3)-(4*5)) = -14$\n",
    "\n",
    "$((2*(3-4))*5) = -10$\n",
    "\n",
    "$(2*((3-4)*5)) = -10$\n",
    "\n",
    "$(((2*3)-4)*5) = 10$\n",
    "\n",
    "Output: [-34, -14, -10, -10, 10]"
   ]
  },
  {
   "cell_type": "markdown",
   "metadata": {},
   "source": [
    "Solution: According to the discussion solution, We could apply divide and conquer once we encounter an operator in \"*\",\"+\",\"-\" in the expression. All we need to do is choose result1 from left subexpression and result 2 from right subexpression to get the final result. We keep breaking down the problem until we only have one result(1 num) from left subexpression and right subexpression respectively."
   ]
  },
  {
   "cell_type": "code",
   "execution_count": 1,
   "metadata": {
    "collapsed": true
   },
   "outputs": [],
   "source": [
    "class Solution(object):\n",
    "    def diffWaysToCompute(self, input):\n",
    "        \"\"\"\n",
    "        :type input: str\n",
    "        :rtype: List[int]\n",
    "        \"\"\"\n",
    "        n=len(input)\n",
    "        return self.helper(input,0,n-1)\n",
    "        \n",
    "    def helper(self, input, i, j):\n",
    "        \"\"\"\n",
    "        :type input: str\n",
    "        :type i,j: int\n",
    "        :rtype: List[int]\n",
    "        \"\"\"\n",
    "        if input[i:j+1].isdigit():\n",
    "            return [int(input[i:j+1])]\n",
    "        results=[]\n",
    "        for k in xrange(i,j+1):\n",
    "            if input[k] in '+-*':\n",
    "                res1=self.helper(input,i,k-1)\n",
    "                res2=self.helper(input,k+1,j)\n",
    "                for num1 in res1:\n",
    "                    for num2 in res2:\n",
    "                        results.append(self.operate(num1,num2,input[k]))\n",
    "                    \n",
    "        return results\n",
    "        \n",
    "    def operate(self, a, b, op):\n",
    "        \"\"\"\n",
    "        :type a,b: int\n",
    "        :type op: str\n",
    "        :rtype: int\n",
    "        \"\"\"\n",
    "        if op=='+':\n",
    "            return a+b\n",
    "        elif op=='-':\n",
    "            return a-b\n",
    "        else:\n",
    "            return a*b"
   ]
  },
  {
   "cell_type": "code",
   "execution_count": 3,
   "metadata": {
    "collapsed": false
   },
   "outputs": [
    {
     "data": {
      "text/plain": [
       "'bc'"
      ]
     },
     "execution_count": 3,
     "metadata": {},
     "output_type": "execute_result"
    }
   ],
   "source": [
    "\"abc\"[1:3]"
   ]
  },
  {
   "cell_type": "code",
   "execution_count": null,
   "metadata": {
    "collapsed": true
   },
   "outputs": [],
   "source": []
  }
 ],
 "metadata": {
  "kernelspec": {
   "display_name": "Python 2",
   "language": "python",
   "name": "python2"
  },
  "language_info": {
   "codemirror_mode": {
    "name": "ipython",
    "version": 2
   },
   "file_extension": ".py",
   "mimetype": "text/x-python",
   "name": "python",
   "nbconvert_exporter": "python",
   "pygments_lexer": "ipython2",
   "version": "2.7.12"
  }
 },
 "nbformat": 4,
 "nbformat_minor": 0
}
