{
 "cells": [
  {
   "cell_type": "markdown",
   "metadata": {},
   "source": [
    "# Array and List"
   ]
  },
  {
   "cell_type": "markdown",
   "metadata": {},
   "source": [
    "## 15. 3Sum"
   ]
  },
  {
   "cell_type": "markdown",
   "metadata": {},
   "source": [
    "Given an array S of n integers, are there elements a, b, c in S such that a + b + c = 0? Find all unique triplets in the array which gives the sum of zero.\n",
    "\n",
    "Note: The solution set must not contain duplicate triplets.\n",
    "\n",
    "For example, given array S = [-1, 0, 1, 2, -1, -4],\n",
    "\n",
    "A solution set is:\n",
    "[\n",
    "  [-1, 0, 1],\n",
    "  [-1, -1, 2]\n",
    "]\n"
   ]
  },
  {
   "cell_type": "markdown",
   "metadata": {},
   "source": [
    "Solution: The idea is to sort the list first. and then move from the beginning:\n",
    "\n",
    "1. for each i, j starts from i+1 and move forward, k starts from the end and move backward\n",
    "2. if sum(j,k)+i<0,j+1; if sum(k,j)+i>0,k-1 until k<=j\n",
    "3. The uniqueness of set requires moving i,j,k "
   ]
  },
  {
   "cell_type": "code",
   "execution_count": 123,
   "metadata": {
    "collapsed": true
   },
   "outputs": [],
   "source": [
    "class Solution(object):\n",
    "    def threeSum(self, nums):\n",
    "        \"\"\"\n",
    "        :type nums: List[int]\n",
    "        :rtype: List[List[int]]\n",
    "        \"\"\"\n",
    "        # sort the array first\n",
    "        nums.sort()\n",
    "        print nums\n",
    "        # length of array\n",
    "        n=len(nums)\n",
    "        # return list\n",
    "        results=[]\n",
    "        # check corner case\n",
    "        if n<3:\n",
    "            return results\n",
    "        # start fixing the first number\n",
    "        i=0\n",
    "        while i<n-2:\n",
    "            j=i+1\n",
    "            k=n-1\n",
    "            while j<k:\n",
    "                if (nums[j]+nums[k]+nums[i])==0:\n",
    "                    results.append([nums[i],nums[j],nums[k]])\n",
    "                    # guarantee uniqueness\n",
    "                    k-=1\n",
    "                    while j<k and nums[k]==nums[k+1]:\n",
    "                        k-=1\n",
    "                    j+=1\n",
    "                    while j<k and nums[j-1]==nums[j]:\n",
    "                        j+=1\n",
    "                elif (nums[j]+nums[k]+nums[i])>0:\n",
    "                    k-=1\n",
    "                else:\n",
    "                    j+=1\n",
    "            i+=1\n",
    "            while i<n-2 and nums[i-1]==nums[i]:\n",
    "                i+=1\n",
    "        return results"
   ]
  },
  {
   "cell_type": "code",
   "execution_count": 124,
   "metadata": {
    "collapsed": false
   },
   "outputs": [
    {
     "name": "stdout",
     "output_type": "stream",
     "text": [
      "[-1, -1, 0, 0, 1, 1]\n"
     ]
    },
    {
     "data": {
      "text/plain": [
       "[[-1, 0, 1]]"
      ]
     },
     "execution_count": 124,
     "metadata": {},
     "output_type": "execute_result"
    }
   ],
   "source": [
    "o=Solution()\n",
    "o.threeSum([-1,0,1,-1,0,1])"
   ]
  },
  {
   "cell_type": "code",
   "execution_count": 99,
   "metadata": {
    "collapsed": false
   },
   "outputs": [
    {
     "data": {
      "text/plain": [
       "[3, 2, 1]"
      ]
     },
     "execution_count": 99,
     "metadata": {},
     "output_type": "execute_result"
    }
   ],
   "source": [
    "s=[1,2,3]\n",
    "s.reverse()\n",
    "s"
   ]
  },
  {
   "cell_type": "markdown",
   "metadata": {},
   "source": [
    "## 18. 4Sum(This problem will be considered in more general K-Sum)"
   ]
  },
  {
   "cell_type": "markdown",
   "metadata": {},
   "source": [
    "Given an array S of n integers, are there elements a, b, c, and d in S such that a + b + c + d = target? Find all unique quadruplets in the array which gives the sum of target.\n",
    "\n",
    "Note: The solution set must not contain duplicate quadruplets.\n",
    "\n",
    "For example, given array S = [1, 0, -1, 0, -2, 2], and target = 0.\n",
    "\n",
    "A solution set is:\n",
    "[\n",
    "  [-1,  0, 0, 1],\n",
    "  [-2, -1, 1, 2],\n",
    "  [-2,  0, 0, 2]\n",
    "]\n"
   ]
  },
  {
   "cell_type": "markdown",
   "metadata": {},
   "source": [
    "Solution: In general, the runtime for K-Sum is O(n^(k-1)). And it can be reduced to two sum."
   ]
  },
  {
   "cell_type": "code",
   "execution_count": 368,
   "metadata": {
    "collapsed": false
   },
   "outputs": [],
   "source": [
    "class Solution(object):\n",
    "    def fourSum(self, nums, target):\n",
    "        \"\"\"\n",
    "        :type nums: List[int]\n",
    "        :type target: int\n",
    "        :rtype: List[List[int]]\n",
    "        \"\"\"\n",
    "        return self.findKsum(nums,target,4)\n",
    "        \n",
    "    # recursively findKsum    \n",
    "    def findKsum(self,nums,target,K):\n",
    "        results=[]\n",
    "        result=[]\n",
    "        # sorted nums\n",
    "        nums.sort()\n",
    "        self._findKsum(nums,target,K,result,results)\n",
    "        return results\n",
    "        \n",
    "            \n",
    "    def _findKsum(self,nums,target,K,result,results):\n",
    "        if K<2 or len(nums)<K:\n",
    "            return []\n",
    "        if K==2:\n",
    "            twoSum=self.twoSum(nums,target)\n",
    "            for pair in twoSum: \n",
    "                results.append(result+pair)\n",
    "        else:\n",
    "            i=0\n",
    "            while i<len(nums):\n",
    "                if i>0 and nums[i]==nums[i-1]:\n",
    "                    i+=1\n",
    "                else:\n",
    "                    residual=target-nums[i]\n",
    "                    self._findKsum(nums[i+1:],residual,K-1,result+[nums[i]],results)\n",
    "                    i+=1\n",
    "                \n",
    "            \n",
    "    # find twoSum(sorted nums, O(n log n), two pointer method)        \n",
    "    def twoSum(self,nums,target):\n",
    "        # two pointer method\n",
    "        start=0\n",
    "        end=len(nums)-1\n",
    "        results=[]\n",
    "        while start<end:\n",
    "            if nums[start]+nums[end]>target:\n",
    "                end-=1\n",
    "            elif nums[start]+nums[end]<target:\n",
    "                start+=1\n",
    "            else:\n",
    "                results.append([nums[start],nums[end]])\n",
    "                start+=1\n",
    "                while start<end and nums[start]==nums[start-1]:\n",
    "                    start+=1\n",
    "        return results"
   ]
  },
  {
   "cell_type": "code",
   "execution_count": 370,
   "metadata": {
    "collapsed": false
   },
   "outputs": [
    {
     "data": {
      "text/plain": [
       "[[-2, -1, 1, 2], [-2, 0, 0, 2], [-1, 0, 0, 1]]"
      ]
     },
     "execution_count": 370,
     "metadata": {},
     "output_type": "execute_result"
    }
   ],
   "source": [
    "o=Solution()\n",
    "o.fourSum([1, 0, -1, 0, -2, 2],0)"
   ]
  },
  {
   "cell_type": "markdown",
   "metadata": {},
   "source": [
    "A recursive solution for N-sum is as follows"
   ]
  },
  {
   "cell_type": "code",
   "execution_count": null,
   "metadata": {
    "collapsed": true
   },
   "outputs": [],
   "source": [
    "def fourSum(nums, target):\n",
    "    \"\"\"\n",
    "    :type nums: List[int]\n",
    "    :type target: int\n",
    "    :rtype: List[List[int]]\n",
    "    \"\"\"\n",
    "    def findNsum(nums, target, N, result, results): # nums is sorted before passed in\n",
    "        \"\"\"\n",
    "        :type nums: List[int]\n",
    "        :type target: int\n",
    "        :type N: int(N-sum)\n",
    "        :type result: int\n",
    "        :rtype: None (results are modified in-place)\n",
    "        \"\"\"\n",
    "        if len(nums) < N or N < 2 or target < nums[0]*N or target > nums[-1]*N:  # early termination: number list size<N or target out of range\n",
    "            return\n",
    "        if N == 2: # two pointers solve sorted 2-sum problem\n",
    "            l,r = 0,len(nums)-1\n",
    "            while l < r:\n",
    "                s = nums[l] + nums[r]\n",
    "                if s == target:\n",
    "                    results.append(result + [nums[l], nums[r]])\n",
    "                    l += 1\n",
    "                    while l < r and nums[l] == nums[l-1]:\n",
    "                        l += 1\n",
    "                elif s < target:\n",
    "                    l += 1\n",
    "                else:\n",
    "                    r -= 1\n",
    "        else: # recursively reduce N\n",
    "            for i in range(len(nums)-N+1):\n",
    "                if i == 0 or (i > 0 and nums[i-1] != nums[i]):\n",
    "                    findNsum(nums[i+1:], target-nums[i], N-1, result+[nums[i]], results)\n",
    "\n",
    "    results = []\n",
    "    findNsum(sorted(nums), target, 4, [], results)\n",
    "    return results"
   ]
  },
  {
   "cell_type": "markdown",
   "metadata": {},
   "source": [
    "To save memory space, for the recursive call, we can pass index instead pass a new list."
   ]
  },
  {
   "cell_type": "code",
   "execution_count": null,
   "metadata": {
    "collapsed": true
   },
   "outputs": [],
   "source": [
    "def findNSum(self, nums, start,target, N, path, paths):\n",
    "    if len(nums[start:]) < N or N < 2:\n",
    "        return\n",
    "    if nums[start] * N > target or nums[-1] * N < target:  # using sorted list property\n",
    "        return\n",
    "    \n",
    "    # solve 2Sum, base case\n",
    "    if N == 2:\n",
    "        l, r = start, len(nums)-1\n",
    "        while l < r:\n",
    "            s = nums[l] + nums[r] \n",
    "            if s == target:\n",
    "                paths.append(path + [nums[l], nums[r]])\n",
    "                l += 1\n",
    "                while l < r and nums[l] == nums[l-1]:  # skip the duplicates\n",
    "                    l += 1\n",
    "                r -= 1\n",
    "                while l < r and nums[r] == nums[r+1]:  \n",
    "                    r -= 1\n",
    "            elif s < target:\n",
    "                l += 1\n",
    "                while l < r and nums[l] == nums[l-1]:\n",
    "                    l += 1\n",
    "            else:\n",
    "                r -= 1\n",
    "                while l < r and nums[r] == nums[r+1]:\n",
    "                    r -= 1\n",
    "    else: # recursive reduce N\n",
    "        for i in range(len(nums[start:])-N+1):\n",
    "            if i > 0 and nums[start+i] == nums[start+i-1]:\n",
    "                continue\n",
    "            self.findNSum(nums, start+i+1, target-nums[start+i], N-1, path + [nums[start+i]], paths)"
   ]
  },
  {
   "cell_type": "markdown",
   "metadata": {},
   "source": [
    "## 26. Remove Duplicates from Sorted Array"
   ]
  },
  {
   "cell_type": "markdown",
   "metadata": {},
   "source": [
    "Given a sorted array, remove the duplicates in place such that each element appear only once and return the new length.\n",
    "\n",
    "Do not allocate extra space for another array, you must do this in place with constant memory.\n",
    "\n",
    "For example,\n",
    "Given input array nums = [1,1,2],\n",
    "\n",
    "Your function should return length = 2, with the first two elements of nums being 1 and 2 respectively. It doesn't matter what you leave beyond the new length."
   ]
  },
  {
   "cell_type": "markdown",
   "metadata": {},
   "source": [
    "Solution: Notice that the array is already sorted."
   ]
  },
  {
   "cell_type": "code",
   "execution_count": 267,
   "metadata": {
    "collapsed": true
   },
   "outputs": [],
   "source": [
    "class Solution(object):\n",
    "    def removeDuplicates(self, nums):\n",
    "        \"\"\"\n",
    "        :type nums: List[int]\n",
    "        :rtype: int\n",
    "        \"\"\"\n",
    "        n=len(nums)\n",
    "        i=1\n",
    "        t=1\n",
    "        while t<n:\n",
    "            if nums[i-1]==nums[i]:\n",
    "                nums.pop(i)\n",
    "                i-=1\n",
    "            i+=1\n",
    "            t+=1\n",
    "        return len(nums)"
   ]
  },
  {
   "cell_type": "code",
   "execution_count": 268,
   "metadata": {
    "collapsed": false
   },
   "outputs": [
    {
     "data": {
      "text/plain": [
       "2"
      ]
     },
     "execution_count": 268,
     "metadata": {},
     "output_type": "execute_result"
    }
   ],
   "source": [
    "o=Solution()\n",
    "o.removeDuplicates([1,1,2])"
   ]
  },
  {
   "cell_type": "markdown",
   "metadata": {},
   "source": [
    "## 27. Remove Element"
   ]
  },
  {
   "cell_type": "markdown",
   "metadata": {},
   "source": [
    "Given an array and a value, remove all instances of that value in place and return the new length.\n",
    "\n",
    "Do not allocate extra space for another array, you must do this in place with constant memory.\n",
    "\n",
    "The order of elements can be changed. It doesn't matter what you leave beyond the new length.\n",
    "\n",
    "Example:\n",
    "Given input array nums = [3,2,2,3], val = 3\n",
    "\n",
    "Your function should return length = 2, with the first two elements of nums being 2."
   ]
  },
  {
   "cell_type": "code",
   "execution_count": 310,
   "metadata": {
    "collapsed": true
   },
   "outputs": [],
   "source": [
    "class Solution(object):\n",
    "    def removeElement(self, nums, val):\n",
    "        \"\"\"\n",
    "        :type nums: List[int]\n",
    "        :type val: int\n",
    "        :rtype: int\n",
    "        \"\"\"\n",
    "        i=0\n",
    "        t=0\n",
    "        n=len(nums)\n",
    "        while t<n:\n",
    "            if nums[i]==val:\n",
    "                nums.pop(i)\n",
    "                i-=1\n",
    "            t+=1\n",
    "            i+=1\n",
    "        return len(nums)"
   ]
  },
  {
   "cell_type": "code",
   "execution_count": 311,
   "metadata": {
    "collapsed": false
   },
   "outputs": [
    {
     "data": {
      "text/plain": [
       "[2, 2]"
      ]
     },
     "execution_count": 311,
     "metadata": {},
     "output_type": "execute_result"
    }
   ],
   "source": [
    "o=Solution()\n",
    "nums=[3,2,2,3]\n",
    "o.removeElement(nums,3)\n",
    "nums"
   ]
  },
  {
   "cell_type": "markdown",
   "metadata": {},
   "source": [
    "## 31. Next Permutation"
   ]
  },
  {
   "cell_type": "markdown",
   "metadata": {},
   "source": [
    "Implement next permutation, which rearranges numbers into the lexicographically next greater permutation of numbers.\n",
    "\n",
    "If such arrangement is not possible, it must rearrange it as the lowest possible order (ie, sorted in ascending order).\n",
    "\n",
    "The replacement must be in-place, do not allocate extra memory.\n",
    "\n",
    "Here are some examples. Inputs are in the left-hand column and its corresponding outputs are in the right-hand column.\n",
    "\n",
    "1,2,3 → 1,3,2\n",
    "\n",
    "3,2,1 → 1,2,3\n",
    "\n",
    "1,1,5 → 1,5,1\n"
   ]
  },
  {
   "cell_type": "markdown",
   "metadata": {},
   "source": [
    "Solution: Brutal force: check all permutations of the numbers and then sort the number list. Time complexity n!log(n!). There will also be a lot of extra spaces. Improvement: if the numbers are in descending order, then there will be no next greater permutation of numbers. We return the reverse order; In general, we just need to find the right most pair that is in ascending order and then reverse them to create the next greater permutation of numbers."
   ]
  },
  {
   "cell_type": "code",
   "execution_count": 4,
   "metadata": {
    "collapsed": true
   },
   "outputs": [],
   "source": [
    "class Solution(object):\n",
    "    def nextPermutation(self, nums):\n",
    "        \"\"\"\n",
    "        :type nums: List[int]\n",
    "        :rtype: void Do not return anything, modify nums in-place instead.\n",
    "        \"\"\"\n",
    "        n=len(nums)\n",
    "        if n<=1: return\n",
    "        isPermuted=False\n",
    "        for i in range(n-1,0,-1):\n",
    "            if nums[i-1]<nums[i]:\n",
    "                nums[i],nums[i-1]=nums[i-1],nums[i]\n",
    "                isPermuted=True\n",
    "                break\n",
    "        if not isPermuted:\n",
    "            nums.reverse()"
   ]
  },
  {
   "cell_type": "code",
   "execution_count": 8,
   "metadata": {
    "collapsed": false
   },
   "outputs": [
    {
     "data": {
      "text/plain": [
       "[1, 5, 1]"
      ]
     },
     "execution_count": 8,
     "metadata": {},
     "output_type": "execute_result"
    }
   ],
   "source": [
    "o=Solution()\n",
    "nums=[1,1,5]\n",
    "o.nextPermutation(nums)\n",
    "nums"
   ]
  },
  {
   "cell_type": "markdown",
   "metadata": {},
   "source": [
    "The above solution is wrong for [1,3,2]->[2,1,3]. Editorial solution: Starting from right to left, we need to find the first decrementing pair a[i-1]<a[i], then we find the element that is just larger then a[i-1] to the right (we call it a[j]) and swap it with a[i-1]. after that we reverse the order of numbers to the right of a[i-1]."
   ]
  },
  {
   "cell_type": "markdown",
   "metadata": {},
   "source": [
    "<img src=https://leetcode.com/media/original_images/31_nums_graph.png>"
   ]
  },
  {
   "cell_type": "code",
   "execution_count": 35,
   "metadata": {
    "collapsed": true
   },
   "outputs": [],
   "source": [
    "class Solution(object):\n",
    "    def nextPermutation(self, nums):\n",
    "        \"\"\"\n",
    "        :type nums: List[int]\n",
    "        :rtype: void Do not return anything, modify nums in-place instead.\n",
    "        \"\"\"\n",
    "        n=len(nums)\n",
    "        if n<=1: return\n",
    "        pos=-1\n",
    "        for i in range(n-2,-1,-1):\n",
    "            if nums[i]<nums[i+1]:\n",
    "                pos=i\n",
    "                for j in range(i+1,n-1):\n",
    "                    if nums[j]>nums[i] and nums[j+1]<=nums[i]:\n",
    "                        nums[j],nums[i]=nums[i],nums[j]\n",
    "                if nums[n-1]>nums[i]:\n",
    "                    nums[n-1],nums[i]=nums[i],nums[n-1]\n",
    "                break\n",
    "        for i in range(pos+1,(n+pos+1)/2):\n",
    "            nums[i],nums[n-1-(i-pos-1)]=nums[n-1-(i-pos-1)],nums[i]"
   ]
  },
  {
   "cell_type": "code",
   "execution_count": 37,
   "metadata": {
    "collapsed": false
   },
   "outputs": [
    {
     "data": {
      "text/plain": [
       "[2, 1, 1, 3]"
      ]
     },
     "execution_count": 37,
     "metadata": {},
     "output_type": "execute_result"
    }
   ],
   "source": [
    "o=Solution()\n",
    "nums=[1,3,2,1]\n",
    "o.nextPermutation(nums)\n",
    "nums"
   ]
  },
  {
   "cell_type": "markdown",
   "metadata": {},
   "source": [
    "Let me do a little improvement:"
   ]
  },
  {
   "cell_type": "code",
   "execution_count": 50,
   "metadata": {
    "collapsed": true
   },
   "outputs": [],
   "source": [
    "class Solution(object):\n",
    "    def nextPermutation(self, nums):\n",
    "        \"\"\"\n",
    "        :type nums: List[int]\n",
    "        :rtype: void Do not return anything, modify nums in-place instead.\n",
    "        \"\"\"\n",
    "        n=len(nums)\n",
    "        if n<=1: return\n",
    "        pos=-1\n",
    "        for i in range(n-2,-1,-1):\n",
    "            if nums[i]<nums[i+1]:\n",
    "                pos=i\n",
    "                break\n",
    "                \n",
    "        if pos>=0:\n",
    "            for j in range(pos+1,n-1):\n",
    "                if nums[j]>nums[pos] and nums[j+1]<=nums[pos]:\n",
    "                    nums[j],nums[pos]=nums[pos],nums[j]\n",
    "            if nums[n-1]>nums[pos]:\n",
    "                nums[n-1],nums[pos]=nums[pos],nums[n-1]\n",
    "        \n",
    "        # reverse\n",
    "        l=pos+1\n",
    "        r=n-1\n",
    "        while l<r:\n",
    "            nums[l],nums[r]=nums[r],nums[l]\n",
    "            r-=1\n",
    "            l+=1"
   ]
  },
  {
   "cell_type": "code",
   "execution_count": 51,
   "metadata": {
    "collapsed": false
   },
   "outputs": [
    {
     "data": {
      "text/plain": [
       "[1, 2, 3]"
      ]
     },
     "execution_count": 51,
     "metadata": {},
     "output_type": "execute_result"
    }
   ],
   "source": [
    "o=Solution()\n",
    "nums=[3,2,1]\n",
    "o.nextPermutation(nums)\n",
    "nums"
   ]
  },
  {
   "cell_type": "markdown",
   "metadata": {},
   "source": [
    "Here is the discussion solution."
   ]
  },
  {
   "cell_type": "code",
   "execution_count": null,
   "metadata": {
    "collapsed": true
   },
   "outputs": [],
   "source": [
    "class Solution(object):\n",
    "    def nextPermutation(self, nums):\n",
    "        \"\"\"\n",
    "        :type nums: List[int]\n",
    "        :rtype: void Do not return anything, modify nums in-place instead.\n",
    "        \"\"\"\n",
    "        # find longest non-increasing suffix\n",
    "        right = len(nums)-1\n",
    "        while nums[right] <= nums[right-1] and right-1 >=0:\n",
    "            right -= 1\n",
    "        if right == 0:\n",
    "            return self.reverse(nums,0,len(nums)-1)\n",
    "        # find pivot\n",
    "        pivot = right-1\n",
    "        successor = 0\n",
    "        # find rightmost succesor\n",
    "        for i in range(len(nums)-1,pivot,-1):\n",
    "            if nums[i] > nums[pivot]:\n",
    "                successor = i\n",
    "                break\n",
    "        # swap pivot and successor\n",
    "        nums[pivot],nums[successor] = nums[successor],nums[pivot]  \n",
    "        # reverse suffix\n",
    "        self.reverse(nums,pivot+1,len(nums)-1)\n",
    "        \n",
    "    def reverse(self,nums,l,r):\n",
    "        while l < r:\n",
    "            nums[l],nums[r] = nums[r],nums[l]\n",
    "            l += 1\n",
    "            r -= 1"
   ]
  },
  {
   "cell_type": "markdown",
   "metadata": {},
   "source": [
    "## 33. Search in Rotated Sorted Array"
   ]
  },
  {
   "cell_type": "markdown",
   "metadata": {},
   "source": [
    "Suppose an array sorted in ascending order is rotated at some pivot unknown to you beforehand.\n",
    "\n",
    "(i.e., 0 1 2 4 5 6 7 might become 4 5 6 7 0 1 2).\n",
    "\n",
    "You are given a target value to search. If found in the array return its index, otherwise return -1.\n",
    "\n",
    "You may assume no duplicate exists in the array."
   ]
  },
  {
   "cell_type": "markdown",
   "metadata": {},
   "source": [
    "Solution: First we use the binary search to find pivot position and then we separate the list into left and right sublist and compare the element we would like to search for with the beginning of left subarray, if target>=nums[0], we do binary search in left subarray, else we search in right subarray."
   ]
  },
  {
   "cell_type": "code",
   "execution_count": 200,
   "metadata": {
    "collapsed": true
   },
   "outputs": [],
   "source": [
    "class Solution(object):\n",
    "    def search(self, nums, target):\n",
    "        \"\"\"\n",
    "        :type nums: List[int]\n",
    "        :type target: int\n",
    "        :rtype: int\n",
    "        \"\"\"\n",
    "        # find pivot position\n",
    "        n=len(nums)\n",
    "        pivot_pos=self.findpivotposition(nums,0,n-1)\n",
    "        # find target\n",
    "        if pivot_pos>0 and target>=nums[0]:\n",
    "            return self.binarysearch(nums,0,pivot_pos-1,target)\n",
    "        else:\n",
    "            return self.binarysearch(nums,pivot_pos,n-1,target)\n",
    "        \n",
    "    def findpivotposition(self,nums,start,end):\n",
    "        \"\"\"\n",
    "        :type nums: List[int]\n",
    "        :type start,end: int\n",
    "        :rtype: int\n",
    "        \"\"\"\n",
    "        if start==end:\n",
    "            return start\n",
    "        mid=(start+end)/2\n",
    "        if nums[mid]>nums[end]:\n",
    "            return self.findpivotposition(nums,mid+1,end)\n",
    "        else:\n",
    "            return self.findpivotposition(nums,start,mid)\n",
    "        \n",
    "    def binarysearch(self,nums,start,end,target):\n",
    "        \"\"\"\n",
    "        :type nums: List[int]\n",
    "        :type start,end: int\n",
    "        :type target: int\n",
    "        :rtype: int\n",
    "        \"\"\"\n",
    "        if start>end:\n",
    "            return -1\n",
    "        mid=(start+end)/2\n",
    "        if nums[mid]==target:\n",
    "            return mid\n",
    "        elif nums[mid]>target:\n",
    "            return self.binarysearch(nums,start,mid-1,target)\n",
    "        else:\n",
    "            return self.binarysearch(nums,mid+1,end,target)"
   ]
  },
  {
   "cell_type": "code",
   "execution_count": 207,
   "metadata": {
    "collapsed": false
   },
   "outputs": [
    {
     "data": {
      "text/plain": [
       "3"
      ]
     },
     "execution_count": 207,
     "metadata": {},
     "output_type": "execute_result"
    }
   ],
   "source": [
    "o=Solution()\n",
    "nums=[0,1,2,4,5,6,7]\n",
    "o.search(nums,4)"
   ]
  },
  {
   "cell_type": "markdown",
   "metadata": {},
   "source": [
    "## 34. Search for a Range"
   ]
  },
  {
   "cell_type": "markdown",
   "metadata": {},
   "source": [
    "Given an array of integers sorted in ascending order, find the starting and ending position of a given target value.\n",
    "\n",
    "Your algorithm's runtime complexity must be in the order of O(log n).\n",
    "\n",
    "If the target is not found in the array, return [-1, -1].\n",
    "\n",
    "For example,\n",
    "Given [5, 7, 7, 8, 8, 10] and target value 8,\n",
    "return [3, 4]."
   ]
  },
  {
   "cell_type": "markdown",
   "metadata": {},
   "source": [
    "Solution: If we combine binary search with linear search, the worst case time complexity will be O(n). So we should stick to binary search with the following cases:\n",
    "\n",
    "* If nums[midpoint]>target: search start and end in the left subarray\n",
    "* If nums[midpoint]<target: search start and end in the right subarray\n",
    "* If nums[midpoint]==target: search left subarray for start; search right subarray for end, both including midpoint."
   ]
  },
  {
   "cell_type": "code",
   "execution_count": 325,
   "metadata": {
    "collapsed": true
   },
   "outputs": [],
   "source": [
    "class Solution(object):\n",
    "    def searchRange(self, nums, target):\n",
    "        \"\"\"\n",
    "        :type nums: List[int]\n",
    "        :type target: int\n",
    "        :rtype: List[int]\n",
    "        \"\"\"\n",
    "        n=len(nums)\n",
    "        if n==0: return [-1,-1]\n",
    "        # search start\n",
    "        start=self.searchStart(nums,target,0,n-1)\n",
    "        # search end\n",
    "        end=self.searchEnd(nums,target,0,n-1)\n",
    "        \n",
    "        return [start,end]\n",
    "    \n",
    "    def searchStart(self,nums,target,start,end):\n",
    "        \"\"\"\n",
    "        :type nums: List[int]\n",
    "        :type target: int\n",
    "        :type start,end: int\n",
    "        :rtype: int\n",
    "        \"\"\"\n",
    "        midpoint=(start+end)/2\n",
    "        # found start\n",
    "        if start==end and nums[start]==target: \n",
    "            return start\n",
    "        elif start==end and nums[start]!=target or start>end:\n",
    "            return -1\n",
    "        # binary search\n",
    "        if nums[midpoint]>target:\n",
    "            return self.searchStart(nums,target,start,midpoint-1)\n",
    "        elif nums[midpoint]<target:\n",
    "            return self.searchStart(nums,target,midpoint+1,end)\n",
    "        else:\n",
    "            return self.searchStart(nums,target,start,midpoint)\n",
    "        \n",
    "    def searchEnd(self,nums,target,start,end):\n",
    "        \"\"\"\n",
    "        :type nums: List[int]\n",
    "        :type target: int\n",
    "        :type start,end: int\n",
    "        :rtype: int\n",
    "        \"\"\"\n",
    "        midpoint=(start+end+1)/2\n",
    "        # found start\n",
    "        if start==end and nums[start]==target: \n",
    "            return start\n",
    "        elif start==end and nums[start]!=target or start>end:\n",
    "            return -1\n",
    "        # binary search\n",
    "        if nums[midpoint]>target:\n",
    "            return self.searchEnd(nums,target,start,midpoint-1)\n",
    "        elif nums[midpoint]<target:\n",
    "            return self.searchEnd(nums,target,midpoint+1,end)\n",
    "        else:\n",
    "            return self.searchEnd(nums,target,midpoint,end)"
   ]
  },
  {
   "cell_type": "markdown",
   "metadata": {},
   "source": [
    "Testcase:\n",
    "\n",
    "1. 0 target in nums\n",
    "2. 1 target in nums\n",
    "3. range of targets in nums"
   ]
  },
  {
   "cell_type": "code",
   "execution_count": 326,
   "metadata": {
    "collapsed": false
   },
   "outputs": [
    {
     "data": {
      "text/plain": [
       "[-1, -1]"
      ]
     },
     "execution_count": 326,
     "metadata": {},
     "output_type": "execute_result"
    }
   ],
   "source": [
    "o=Solution()\n",
    "o.searchRange([2,2],1)"
   ]
  },
  {
   "cell_type": "markdown",
   "metadata": {},
   "source": [
    "## 35. Search Insert Position"
   ]
  },
  {
   "cell_type": "markdown",
   "metadata": {},
   "source": [
    "Given a sorted array and a target value, return the index if the target is found. If not, return the index where it would be if it were inserted in order.\n",
    "\n",
    "You may assume no duplicates in the array.\n",
    "\n",
    "Here are few examples.\n",
    "\n",
    "[1,3,5,6], 5 → 2\n",
    "\n",
    "[1,3,5,6], 2 → 1\n",
    "\n",
    "[1,3,5,6], 7 → 4\n",
    "\n",
    "[1,3,5,6], 0 → 0"
   ]
  },
  {
   "cell_type": "markdown",
   "metadata": {},
   "source": [
    "Solution: Since there is no duplicate in the sorted array, it is tempting to use binary search. But we have to deal with two cases:\n",
    "\n",
    "1. found->return index\n",
    "2. not found->return the neighboring index pair [before, front]\n",
    "3. not found->notice the corner cases: smaller than the beginning or larger than the end\n",
    "\n",
    "Example:\n",
    "\n",
    "[1,2,4,5],3 -> 2"
   ]
  },
  {
   "cell_type": "code",
   "execution_count": 338,
   "metadata": {
    "collapsed": true
   },
   "outputs": [],
   "source": [
    "class Solution(object):\n",
    "    def searchInsert(self, nums, target):\n",
    "        \"\"\"\n",
    "        :type nums: List[int]\n",
    "        :type target: int\n",
    "        :rtype: int\n",
    "        \"\"\"\n",
    "        return self.binarySearch(nums,target,0,len(nums)-1)\n",
    "        \n",
    "    def binarySearch(self,nums,target,start,end):\n",
    "        \"\"\"\n",
    "        :type nums: List[int]\n",
    "        :type target: int\n",
    "        :type start,end: int\n",
    "        :rtype: int\n",
    "        \"\"\"\n",
    "        if start==end and nums[start]>target:\n",
    "            return start\n",
    "        elif start==end and nums[start]<target:\n",
    "            return start+1\n",
    "        \n",
    "        mid=(start+end)/2\n",
    "        if nums[mid]==target:\n",
    "            return mid\n",
    "        elif nums[mid]<target:\n",
    "            return self.binarySearch(nums,target,mid+1,end)\n",
    "        else:\n",
    "            return self.binarySearch(nums,target,start,mid) "
   ]
  },
  {
   "cell_type": "code",
   "execution_count": 340,
   "metadata": {
    "collapsed": false
   },
   "outputs": [
    {
     "data": {
      "text/plain": [
       "0"
      ]
     },
     "execution_count": 340,
     "metadata": {},
     "output_type": "execute_result"
    }
   ],
   "source": [
    "o=Solution()\n",
    "nums=[1,3]\n",
    "o.searchInsert(nums,0)"
   ]
  },
  {
   "cell_type": "markdown",
   "metadata": {},
   "source": [
    "The above code is wrong for [1,3],0. "
   ]
  },
  {
   "cell_type": "markdown",
   "metadata": {},
   "source": [
    "## 39. Combination Sum"
   ]
  },
  {
   "cell_type": "markdown",
   "metadata": {},
   "source": [
    "Given a set of candidate numbers (C) (without duplicates) and a target number (T), find all unique combinations in C where the candidate numbers sums to T.\n",
    "\n",
    "The same repeated number may be chosen from C unlimited number of times.\n",
    "\n",
    "Note:\n",
    "* All numbers (including target) will be positive integers.\n",
    "* The solution set must not contain duplicate combinations.\n",
    "\n",
    "For example, given candidate set [2, 3, 6, 7] and target 7, \n",
    "A solution set is: \n",
    "[\n",
    "  [7],\n",
    "  [2, 2, 3]\n",
    "]\n"
   ]
  },
  {
   "cell_type": "markdown",
   "metadata": {},
   "source": [
    "Solution: If we see target and 0 as nodes of a graph, what we need to do is search all the paths from start to target. To avoid duplicates, each node is connected to the next node by paths longer than the previous paths."
   ]
  },
  {
   "cell_type": "markdown",
   "metadata": {},
   "source": [
    "**dfs solution:**"
   ]
  },
  {
   "cell_type": "code",
   "execution_count": 371,
   "metadata": {
    "collapsed": true
   },
   "outputs": [],
   "source": [
    "class Solution(object):\n",
    "    def combinationSum(self, candidates, target):\n",
    "        \"\"\"\n",
    "        :type candidates: List[int]\n",
    "        :type target: int\n",
    "        :rtype: List[List[int]]\n",
    "        \"\"\"\n",
    "        candidates.sort()\n",
    "        results=[]\n",
    "        self.dfs(candidates,0,target,[],results)\n",
    "        return results\n",
    "        \n",
    "    def dfs(self,candidates,index,target,path,results):\n",
    "        \"\"\"\n",
    "        :type candidates: List[int]\n",
    "        :type index: int\n",
    "        :type target: int\n",
    "        :type path: List[int]\n",
    "        :type results: List[List[int]]\n",
    "        :rtype: None(in-place modification of results)\n",
    "        \"\"\"\n",
    "        if target<0:\n",
    "            return\n",
    "        elif target==0:\n",
    "            results.append(path)\n",
    "            return\n",
    "        else:\n",
    "            for i in range(index,len(candidates)):\n",
    "                self.dfs(candidates,i,target-candidates[i],path+[candidates[i]],results)"
   ]
  },
  {
   "cell_type": "code",
   "execution_count": 373,
   "metadata": {
    "collapsed": false
   },
   "outputs": [
    {
     "data": {
      "text/plain": [
       "[[2, 2, 3], [7]]"
      ]
     },
     "execution_count": 373,
     "metadata": {},
     "output_type": "execute_result"
    }
   ],
   "source": [
    "o=Solution()\n",
    "candidates=[2, 3, 6, 7]\n",
    "o.combinationSum(candidates,7)"
   ]
  },
  {
   "cell_type": "markdown",
   "metadata": {},
   "source": [
    "We will also consider alternative solutions as practices."
   ]
  },
  {
   "cell_type": "code",
   "execution_count": 367,
   "metadata": {
    "collapsed": true
   },
   "outputs": [],
   "source": []
  },
  {
   "cell_type": "markdown",
   "metadata": {},
   "source": [
    "## 40. Combination Sum II"
   ]
  },
  {
   "cell_type": "markdown",
   "metadata": {},
   "source": [
    "Given a collection of candidate numbers (C) and a target number (T), find all unique combinations in C where the candidate numbers sums to T.\n",
    "\n",
    "Each number in C may only be used once in the combination.\n",
    "\n",
    "Note:\n",
    "* All numbers (including target) will be positive integers.\n",
    "* The solution set must not contain duplicate combinations.\n",
    "\n",
    "For example, given candidate set [10, 1, 2, 7, 6, 1, 5] and target 8, \n",
    "A solution set is: \n",
    "[\n",
    "  [1, 7],\n",
    "  [1, 2, 5],\n",
    "  [2, 6],\n",
    "  [1, 1, 6]\n",
    "]\n"
   ]
  },
  {
   "cell_type": "code",
   "execution_count": 375,
   "metadata": {
    "collapsed": true
   },
   "outputs": [],
   "source": [
    "class Solution(object):\n",
    "    def combinationSum2(self, candidates, target):\n",
    "        \"\"\"\n",
    "        :type candidates: List[int]\n",
    "        :type target: int\n",
    "        :rtype: List[List[int]]\n",
    "        \"\"\"\n",
    "        candidates.sort()\n",
    "        results=[]\n",
    "        self.dfs(candidates,0,target,[],results)\n",
    "        return results\n",
    "        \n",
    "    def dfs(self,candidates,index,target,path,results):\n",
    "        \"\"\"\n",
    "        :type candidates: List[int]\n",
    "        :type index: int\n",
    "        :type target: int\n",
    "        :type path: List[int]\n",
    "        :type results: List[List[int]]\n",
    "        :rtype: None(in-place modification of results)\n",
    "        \"\"\"\n",
    "        if target<0:\n",
    "            return\n",
    "        elif target==0:\n",
    "            results.append(path)\n",
    "            return\n",
    "        else:\n",
    "            for i in range(index,len(candidates)):\n",
    "                self.dfs(candidates,i+1,target-candidates[i],path+[candidates[i]],results)"
   ]
  },
  {
   "cell_type": "code",
   "execution_count": 376,
   "metadata": {
    "collapsed": false
   },
   "outputs": [
    {
     "data": {
      "text/plain": [
       "[[1, 1, 6], [1, 2, 5], [1, 7], [1, 2, 5], [1, 7], [2, 6]]"
      ]
     },
     "execution_count": 376,
     "metadata": {},
     "output_type": "execute_result"
    }
   ],
   "source": [
    "o=Solution()\n",
    "candidates=[10, 1, 2, 7, 6, 1, 5]\n",
    "o.combinationSum2(candidates,8)"
   ]
  },
  {
   "cell_type": "markdown",
   "metadata": {},
   "source": [
    "The above solution is wrong for the given example as there are two 1 in the list which combined with 7 gives the same combination. We need to modify the dfs solution to skip duplicate in the sorted list."
   ]
  },
  {
   "cell_type": "code",
   "execution_count": 377,
   "metadata": {
    "collapsed": true
   },
   "outputs": [],
   "source": [
    "class Solution(object):\n",
    "    def combinationSum2(self, candidates, target):\n",
    "        \"\"\"\n",
    "        :type candidates: List[int]\n",
    "        :type target: int\n",
    "        :rtype: List[List[int]]\n",
    "        \"\"\"\n",
    "        candidates.sort()\n",
    "        results=[]\n",
    "        self.dfs(candidates,0,target,[],results)\n",
    "        return results\n",
    "        \n",
    "    def dfs(self,candidates,index,target,path,results):\n",
    "        \"\"\"\n",
    "        :type candidates: List[int]\n",
    "        :type index: int\n",
    "        :type target: int\n",
    "        :type path: List[int]\n",
    "        :type results: List[List[int]]\n",
    "        :rtype: None(in-place modification of results)\n",
    "        \"\"\"\n",
    "        if target<0:\n",
    "            return\n",
    "        elif target==0:\n",
    "            results.append(path)\n",
    "        else:\n",
    "            for i in range(index,len(candidates)):\n",
    "                if i==index or candidates[i]!=candidates[i-1]:\n",
    "                    self.dfs(candidates,i+1,target-candidates[i],path+[candidates[i]],results)"
   ]
  },
  {
   "cell_type": "code",
   "execution_count": 378,
   "metadata": {
    "collapsed": false
   },
   "outputs": [
    {
     "data": {
      "text/plain": [
       "[[1, 1, 6], [1, 2, 5], [1, 7], [2, 6]]"
      ]
     },
     "execution_count": 378,
     "metadata": {},
     "output_type": "execute_result"
    }
   ],
   "source": [
    "o=Solution()\n",
    "candidates=[10, 1, 2, 7, 6, 1, 5]\n",
    "o.combinationSum2(candidates,8)"
   ]
  },
  {
   "cell_type": "markdown",
   "metadata": {},
   "source": [
    "## 48. Rotate Image"
   ]
  },
  {
   "cell_type": "markdown",
   "metadata": {},
   "source": [
    "You are given an n x n 2D matrix representing an image.\n",
    "\n",
    "Rotate the image by 90 degrees (clockwise).\n",
    "\n",
    "Follow up:\n",
    "Could you do this in-place?"
   ]
  },
  {
   "cell_type": "markdown",
   "metadata": {},
   "source": [
    "Solution: We could do it layer by layer by setting an offset value until we are left with one by one block"
   ]
  },
  {
   "cell_type": "code",
   "execution_count": 400,
   "metadata": {
    "collapsed": true
   },
   "outputs": [],
   "source": [
    "class Solution(object):\n",
    "    def rotate(self, matrix):\n",
    "        \"\"\"\n",
    "        :type matrix: List[List[int]]\n",
    "        :rtype: void Do not return anything, modify matrix in-place instead.\n",
    "        \"\"\"\n",
    "        n=len(matrix)\n",
    "        offset=0\n",
    "        while offset<(n/2):\n",
    "            for i in range(offset,n-offset-1):\n",
    "                # left to top\n",
    "                top=matrix[offset][i]\n",
    "                matrix[offset][i]=matrix[n-1-i][offset]\n",
    "                \n",
    "                # top to right\n",
    "                right=matrix[i][n-offset-1]\n",
    "                matrix[i][n-offset-1]=top\n",
    "                \n",
    "                # right to bottom\n",
    "                bottom=matrix[n-offset-1][n-1-i]\n",
    "                matrix[n-offset-1][n-1-i]=right\n",
    "                \n",
    "                # bottom to left\n",
    "                matrix[n-1-i][offset]=bottom            \n",
    "            offset+=1"
   ]
  },
  {
   "cell_type": "code",
   "execution_count": 401,
   "metadata": {
    "collapsed": false
   },
   "outputs": [
    {
     "data": {
      "text/plain": [
       "[[0, 0, 0], [1, 1, 2], [0, 0, 0]]"
      ]
     },
     "execution_count": 401,
     "metadata": {},
     "output_type": "execute_result"
    }
   ],
   "source": [
    "o=Solution()\n",
    "matrix=[[0,2,0],[0,1,0],[0,1,0]]\n",
    "o.rotate(matrix)\n",
    "matrix"
   ]
  },
  {
   "cell_type": "markdown",
   "metadata": {},
   "source": [
    "## 53. Maximum Subarray"
   ]
  },
  {
   "cell_type": "markdown",
   "metadata": {},
   "source": [
    "Find the contiguous subarray within an array (containing at least one number) which has the largest sum.\n",
    "\n",
    "For example, given the array [-2,1,-3,4,-1,2,1,-5,4],\n",
    "the contiguous subarray [4,-1,2,1] has the largest sum = 6.\n",
    "\n",
    "click to show more practice.\n",
    "\n",
    "More practice:\n",
    "If you have figured out the O(n) solution, try coding another solution using the divide and conquer approach, which is more subtle."
   ]
  },
  {
   "cell_type": "markdown",
   "metadata": {},
   "source": [
    "Solution: Brutal force: construct a window of length l and slide it through the array to search for the largest sum. Time complexity: O(n^2). Improvement: As the largest sum is from a contiguous subarray, we could borrow the idea from buy and sell stocks, which is to find the largest difference between peak and valley."
   ]
  },
  {
   "cell_type": "markdown",
   "metadata": {},
   "source": [
    "**O(n) solution**"
   ]
  },
  {
   "cell_type": "code",
   "execution_count": 451,
   "metadata": {
    "collapsed": true
   },
   "outputs": [],
   "source": [
    "import sys\n",
    "\n",
    "class Solution(object):\n",
    "    def maxSubArray(self, nums):\n",
    "        \"\"\"\n",
    "        :type nums: List[int]\n",
    "        :rtype: int\n",
    "        \"\"\"\n",
    "        if len(nums)==1: return nums[0]\n",
    "        valley=0\n",
    "        num_sum=0\n",
    "        max_sum=-sys.maxint-1\n",
    "        for num in nums:\n",
    "            num_sum+=num\n",
    "            max_sum=max(num_sum-valley,max_sum)\n",
    "            if num_sum<valley:\n",
    "                valley=num_sum\n",
    "            \n",
    "        return max_sum"
   ]
  },
  {
   "cell_type": "markdown",
   "metadata": {},
   "source": [
    "Testcase:\n",
    "\n",
    "1. single element [-2]\n",
    "2. positive array/negative array\n",
    "3. array with fluctuations"
   ]
  },
  {
   "cell_type": "markdown",
   "metadata": {},
   "source": [
    "**case 1**:"
   ]
  },
  {
   "cell_type": "code",
   "execution_count": 452,
   "metadata": {
    "collapsed": false
   },
   "outputs": [
    {
     "data": {
      "text/plain": [
       "-2"
      ]
     },
     "execution_count": 452,
     "metadata": {},
     "output_type": "execute_result"
    }
   ],
   "source": [
    "o=Solution()\n",
    "nums=[-2]\n",
    "o.maxSubArray(nums)"
   ]
  },
  {
   "cell_type": "markdown",
   "metadata": {},
   "source": [
    "**case 2**:"
   ]
  },
  {
   "cell_type": "code",
   "execution_count": 455,
   "metadata": {
    "collapsed": false
   },
   "outputs": [
    {
     "data": {
      "text/plain": [
       "6"
      ]
     },
     "execution_count": 455,
     "metadata": {},
     "output_type": "execute_result"
    }
   ],
   "source": [
    "o=Solution()\n",
    "nums=[1,2,3]\n",
    "o.maxSubArray(nums)"
   ]
  },
  {
   "cell_type": "markdown",
   "metadata": {},
   "source": [
    "**case 3**:"
   ]
  },
  {
   "cell_type": "code",
   "execution_count": 454,
   "metadata": {
    "collapsed": false
   },
   "outputs": [
    {
     "data": {
      "text/plain": [
       "6"
      ]
     },
     "execution_count": 454,
     "metadata": {},
     "output_type": "execute_result"
    }
   ],
   "source": [
    "o=Solution()\n",
    "nums=[-2,1,-3,4,-1,2,1,-5,4]\n",
    "o.maxSubArray(nums)"
   ]
  },
  {
   "cell_type": "markdown",
   "metadata": {},
   "source": [
    "Alternatively, consider a divide and conquer algorithm as follows:"
   ]
  },
  {
   "cell_type": "code",
   "execution_count": null,
   "metadata": {
    "collapsed": true
   },
   "outputs": [],
   "source": []
  },
  {
   "cell_type": "markdown",
   "metadata": {},
   "source": [
    "## 54. Spiral Matrix"
   ]
  },
  {
   "cell_type": "markdown",
   "metadata": {},
   "source": [
    "Given a matrix of m x n elements (m rows, n columns), return all elements of the matrix in spiral order.\n",
    "\n",
    "For example,\n",
    "Given the following matrix:\n",
    "\n",
    "[\n",
    " [ 1, 2, 3 ],\n",
    " [ 4, 5, 6 ],\n",
    " [ 7, 8, 9 ]\n",
    "]\n",
    "You should return [1,2,3,6,9,8,7,4,5]."
   ]
  },
  {
   "cell_type": "markdown",
   "metadata": {},
   "source": [
    "Solution: We could use an offset to append elements layer by layer."
   ]
  },
  {
   "cell_type": "code",
   "execution_count": 460,
   "metadata": {
    "collapsed": true
   },
   "outputs": [],
   "source": [
    "class Solution(object):\n",
    "    def spiralOrder(self, matrix):\n",
    "        \"\"\"\n",
    "        :type matrix: List[List[int]]\n",
    "        :rtype: List[int]\n",
    "        \"\"\"\n",
    "        m=len(matrix)\n",
    "        if m==0: return []\n",
    "        n=len(matrix[0])\n",
    "        if n==0: return []\n",
    "        res=[]\n",
    "        offset=0\n",
    "        while 2*offset<min(m,n):\n",
    "            # up \n",
    "            for i in range(offset,n-offset):\n",
    "                res.append(matrix[offset][i])\n",
    "            # right\n",
    "            for i in range(offset+1,m-offset):\n",
    "                res.append(matrix[i][n-1-offset])\n",
    "            # bottom\n",
    "            for i in range(n-1-offset-1,offset-1,-1):\n",
    "                res.append(matrix[m-1-offset][i])\n",
    "            # left\n",
    "            for i in range(m-1-offset-1,offset,-1):\n",
    "                res.append(matrix[i][offset])\n",
    "            \n",
    "            offset+=1\n",
    "            \n",
    "        return res"
   ]
  },
  {
   "cell_type": "markdown",
   "metadata": {},
   "source": [
    "Testcase:\n",
    "\n",
    "1. square matrix\n",
    "2. rectangular matrix"
   ]
  },
  {
   "cell_type": "markdown",
   "metadata": {},
   "source": [
    "**Case 1**:"
   ]
  },
  {
   "cell_type": "code",
   "execution_count": 461,
   "metadata": {
    "collapsed": false
   },
   "outputs": [
    {
     "data": {
      "text/plain": [
       "[1, 2, 3, 6, 9, 8, 7, 4, 5]"
      ]
     },
     "execution_count": 461,
     "metadata": {},
     "output_type": "execute_result"
    }
   ],
   "source": [
    "o=Solution()\n",
    "matrix=[[ 1, 2, 3 ], [ 4, 5, 6 ], [ 7, 8, 9 ]]\n",
    "o.spiralOrder(matrix)"
   ]
  },
  {
   "cell_type": "markdown",
   "metadata": {},
   "source": [
    "**Case 2**:"
   ]
  },
  {
   "cell_type": "code",
   "execution_count": 463,
   "metadata": {
    "collapsed": false
   },
   "outputs": [
    {
     "data": {
      "text/plain": [
       "[1, 2, 3, 2, 1]"
      ]
     },
     "execution_count": 463,
     "metadata": {},
     "output_type": "execute_result"
    }
   ],
   "source": [
    "o=Solution()\n",
    "matrix=[[ 1, 2, 3 ]]\n",
    "o.spiralOrder(matrix)"
   ]
  },
  {
   "cell_type": "markdown",
   "metadata": {},
   "source": [
    "The above solution is wrong for m=1 or n=1. We should modify it as follows."
   ]
  },
  {
   "cell_type": "code",
   "execution_count": 464,
   "metadata": {
    "collapsed": true
   },
   "outputs": [],
   "source": [
    "class Solution(object):\n",
    "    def spiralOrder(self, matrix):\n",
    "        \"\"\"\n",
    "        :type matrix: List[List[int]]\n",
    "        :rtype: List[int]\n",
    "        \"\"\"\n",
    "        m=len(matrix)\n",
    "        if m==0: return []\n",
    "        n=len(matrix[0])\n",
    "        if n==0: return []\n",
    "        res=[]\n",
    "        offset=0\n",
    "        while 2*offset<min(m,n):\n",
    "            # up \n",
    "            for i in range(offset,n-offset):\n",
    "                res.append(matrix[offset][i])\n",
    "            # right\n",
    "            for i in range(offset+1,m-offset):\n",
    "                res.append(matrix[i][n-1-offset])\n",
    "            # bottom\n",
    "            if m-1-offset>offset:\n",
    "                for i in range(n-1-offset-1,offset-1,-1):\n",
    "                    res.append(matrix[m-1-offset][i])\n",
    "            # left\n",
    "            if n-1-offset>offset:\n",
    "                for i in range(m-1-offset-1,offset,-1):\n",
    "                    res.append(matrix[i][offset])\n",
    "            \n",
    "            offset+=1\n",
    "            \n",
    "        return res"
   ]
  },
  {
   "cell_type": "code",
   "execution_count": 467,
   "metadata": {
    "collapsed": false
   },
   "outputs": [
    {
     "data": {
      "text/plain": [
       "[1, 2, 3, 6, 5, 4]"
      ]
     },
     "execution_count": 467,
     "metadata": {},
     "output_type": "execute_result"
    }
   ],
   "source": [
    "o=Solution()\n",
    "matrix=[[ 1, 2, 3 ], [ 4, 5, 6 ]]\n",
    "o.spiralOrder(matrix)"
   ]
  },
  {
   "cell_type": "code",
   "execution_count": 465,
   "metadata": {
    "collapsed": false
   },
   "outputs": [
    {
     "data": {
      "text/plain": [
       "[1, 2, 3]"
      ]
     },
     "execution_count": 465,
     "metadata": {},
     "output_type": "execute_result"
    }
   ],
   "source": [
    "o=Solution()\n",
    "matrix=[[ 1, 2, 3 ]]\n",
    "o.spiralOrder(matrix)"
   ]
  },
  {
   "cell_type": "markdown",
   "metadata": {},
   "source": [
    "## 59. Spiral Matrix II"
   ]
  },
  {
   "cell_type": "markdown",
   "metadata": {},
   "source": [
    "Given an integer n, generate a square matrix filled with elements from 1 to $n^2$ in spiral order.\n",
    "\n",
    "For example,\n",
    "Given n = 3,\n",
    "\n",
    "You should return the following matrix:\n",
    "[\n",
    " [ 1, 2, 3 ],\n",
    " [ 8, 9, 4 ],\n",
    " [ 7, 6, 5 ]\n",
    "]\n"
   ]
  },
  {
   "cell_type": "markdown",
   "metadata": {},
   "source": [
    "Solution: We could still use an offset value to follow the spiral order. We use another counter to go from 1 to $n^2$."
   ]
  },
  {
   "cell_type": "code",
   "execution_count": 468,
   "metadata": {
    "collapsed": true
   },
   "outputs": [],
   "source": [
    "class Solution(object):\n",
    "    def generateMatrix(self, n):\n",
    "        \"\"\"\n",
    "        :type n: int\n",
    "        :rtype: List[List[int]]\n",
    "        \"\"\"\n",
    "        matrix=[[0]*n for i in xrange(n)]\n",
    "        offset=0\n",
    "        num=0\n",
    "        while 2*offset<n:\n",
    "            # up \n",
    "            for i in range(offset,n-offset):\n",
    "                num+=1\n",
    "                matrix[offset][i]=num\n",
    "            # right\n",
    "            for i in range(offset+1,n-offset):\n",
    "                num+=1\n",
    "                matrix[i][n-1-offset]=num\n",
    "            # bottom\n",
    "            if n-1-offset>offset:\n",
    "                for i in range(n-1-offset-1,offset-1,-1):\n",
    "                    num+=1\n",
    "                    matrix[n-1-offset][i]=num\n",
    "            # left\n",
    "            if n-1-offset>offset:\n",
    "                for i in range(n-1-offset-1,offset,-1):\n",
    "                    num+=1\n",
    "                    matrix[i][offset]=num\n",
    "            \n",
    "            offset+=1\n",
    "            \n",
    "        return matrix"
   ]
  },
  {
   "cell_type": "code",
   "execution_count": 471,
   "metadata": {
    "collapsed": false
   },
   "outputs": [
    {
     "data": {
      "text/plain": [
       "[[1, 2, 3], [8, 9, 4], [7, 6, 5]]"
      ]
     },
     "execution_count": 471,
     "metadata": {},
     "output_type": "execute_result"
    }
   ],
   "source": [
    "o=Solution()\n",
    "o.generateMatrix(3)"
   ]
  },
  {
   "cell_type": "markdown",
   "metadata": {},
   "source": [
    "## 64. Minimum Path Sum"
   ]
  },
  {
   "cell_type": "markdown",
   "metadata": {},
   "source": [
    "Given a m x n grid filled with non-negative numbers, find a path from top left to bottom right which minimizes the sum of all numbers along its path.\n",
    "\n",
    "Note: You can only move either down or right at any point in time."
   ]
  },
  {
   "cell_type": "markdown",
   "metadata": {},
   "source": [
    "Solution: We could apply a recursive algorithm to track every possible path and the sum of all numbers along the way."
   ]
  },
  {
   "cell_type": "code",
   "execution_count": 230,
   "metadata": {
    "collapsed": true
   },
   "outputs": [],
   "source": [
    "class Solution(object):\n",
    "    def minPathSum(self, grid):\n",
    "        \"\"\"\n",
    "        :type grid: List[List[int]]\n",
    "        :rtype: int\n",
    "        \"\"\"\n",
    "        m=len(grid)\n",
    "        if m==0: return 0\n",
    "        n=len(grid[0])\n",
    "        if n==0: return 0\n",
    "        path_sums=[]\n",
    "        self.minPathSumhelper(grid,m,n,0,0,grid[0][0],path_sums)\n",
    "        return min(path_sums)\n",
    "        \n",
    "    def minPathSumhelper(self,grid,m,n,i,j,path_sum,path_sums):\n",
    "        \"\"\"\n",
    "        :type grid: List[List[int]]\n",
    "        :type path_sum: int\n",
    "        :type path_sums: List[int]\n",
    "        :type i,j,m,n: int\n",
    "        :rtype: none(in-place)\n",
    "        \"\"\"\n",
    "        if i==m-1 and j==n-1:\n",
    "            path_sums.append(path_sum)\n",
    "            return\n",
    "        else:\n",
    "            if i<m-1:\n",
    "                self.minPathSumhelper(grid,m,n,i+1,j,path_sum+grid[i+1][j],path_sums)\n",
    "            if j<n-1:\n",
    "                self.minPathSumhelper(grid,m,n,i,j+1,path_sum+grid[i][j+1],path_sums)"
   ]
  },
  {
   "cell_type": "code",
   "execution_count": 231,
   "metadata": {
    "collapsed": false
   },
   "outputs": [
    {
     "data": {
      "text/plain": [
       "18"
      ]
     },
     "execution_count": 231,
     "metadata": {},
     "output_type": "execute_result"
    }
   ],
   "source": [
    "o=Solution()\n",
    "grid=[[1,2,3,4],[5,6,7,8]]\n",
    "o.minPathSum(grid)"
   ]
  },
  {
   "cell_type": "markdown",
   "metadata": {},
   "source": [
    "The above solution is TLE. The time complexity is in proportion to the number of paths O(2^(m+n)). The space complexity is the same. We could improve the above algorithm by the following recursion:\n",
    "$$\n",
    "pathmin(i,j)=min(pathmin(i-1,j),pathmin(i,j-1))+grid(i,j)\n",
    "$$\n",
    "\n",
    "The base case is given by\n",
    "\n",
    "$$\n",
    "pathmin(0,0)=grid(0,0)\n",
    "$$\n",
    "\n",
    "We could modify grid directly to use only O(1) space."
   ]
  },
  {
   "cell_type": "code",
   "execution_count": 232,
   "metadata": {
    "collapsed": true
   },
   "outputs": [],
   "source": [
    "class Solution(object):\n",
    "    def minPathSum(self, grid):\n",
    "        \"\"\"\n",
    "        :type grid: List[List[int]]\n",
    "        :rtype: int\n",
    "        \"\"\"\n",
    "        m=len(grid)\n",
    "        if m==0: return 0\n",
    "        n=len(grid[0])\n",
    "        if n==0: return 0\n",
    "        for i in range(m):\n",
    "            for j in range(n):\n",
    "                if i>0 and j>0:\n",
    "                    grid[i][j]+=min(grid[i-1][j],grid[i][j-1])\n",
    "                elif i>0:\n",
    "                    grid[i][j]+=grid[i-1][j]\n",
    "                elif j>0:\n",
    "                    grid[i][j]+=grid[i][j-1]\n",
    "        return grid[m-1][n-1]"
   ]
  },
  {
   "cell_type": "code",
   "execution_count": 233,
   "metadata": {
    "collapsed": false
   },
   "outputs": [
    {
     "data": {
      "text/plain": [
       "18"
      ]
     },
     "execution_count": 233,
     "metadata": {},
     "output_type": "execute_result"
    }
   ],
   "source": [
    "o=Solution()\n",
    "grid=[[1,2,3,4],[5,6,7,8]]\n",
    "o.minPathSum(grid)"
   ]
  },
  {
   "cell_type": "markdown",
   "metadata": {},
   "source": [
    "## 66. Plus One"
   ]
  },
  {
   "cell_type": "markdown",
   "metadata": {},
   "source": [
    "Given a non-negative number represented as an array of digits, plus one to the number.\n",
    "\n",
    "The digits are stored such that the most significant digit is at the head of the list."
   ]
  },
  {
   "cell_type": "code",
   "execution_count": 32,
   "metadata": {
    "collapsed": true
   },
   "outputs": [],
   "source": [
    "class Solution(object):\n",
    "    def plusOne(self, digits):\n",
    "        \"\"\"\n",
    "        :type digits: List[int]\n",
    "        :rtype: List[int]\n",
    "        \"\"\"\n",
    "        plus=1\n",
    "        n=len(digits)\n",
    "        for i in range(n)[::-1]:\n",
    "            if digits[i]+plus>9:\n",
    "                digits[i]=0\n",
    "                plus=1\n",
    "            else:\n",
    "                digits[i]+=plus\n",
    "                plus=0\n",
    "        # most significant digit\n",
    "        if plus==1:\n",
    "            digits.insert(0,1)\n",
    "            \n",
    "        return digits"
   ]
  },
  {
   "cell_type": "code",
   "execution_count": 36,
   "metadata": {
    "collapsed": false
   },
   "outputs": [
    {
     "data": {
      "text/plain": [
       "[1, 2, 0]"
      ]
     },
     "execution_count": 36,
     "metadata": {},
     "output_type": "execute_result"
    }
   ],
   "source": [
    "o=Solution()\n",
    "o.plusOne([1,1,9])"
   ]
  },
  {
   "cell_type": "markdown",
   "metadata": {},
   "source": [
    "## 73. Set Matrix Zeroes"
   ]
  },
  {
   "cell_type": "markdown",
   "metadata": {},
   "source": [
    "Given a m x n matrix, if an element is 0, set its entire row and column to 0. Do it in place.\n",
    "\n",
    "click to show follow up.\n",
    "\n",
    "Follow up:\n",
    "* Did you use extra space?\n",
    "* A straight forward solution using O(mn) space is probably a bad idea.\n",
    "* A simple improvement uses O(m + n) space, but still not the best solution.\n",
    "* Could you devise a constant space solution?\n",
    "\n"
   ]
  },
  {
   "cell_type": "markdown",
   "metadata": {},
   "source": [
    "Solution: This is a classic coding question. Normally we will have to use extra space to store the original matrix. But if we have to do in-place, we have to scann the whole matrix to record all locations of zeros, in the worst case it is still $O(m\\times n)$ extra space. For improvement we only need to store column and row indices which in the worst case is $O(m+n)$. But it is still not the best solution."
   ]
  },
  {
   "cell_type": "code",
   "execution_count": 347,
   "metadata": {
    "collapsed": true
   },
   "outputs": [],
   "source": [
    "class Solution(object):\n",
    "    def setZeroes(self, matrix):\n",
    "        \"\"\"\n",
    "        :type matrix: List[List[int]]\n",
    "        :rtype: void Do not return anything, modify matrix in-place instead.\n",
    "        \"\"\"\n",
    "        m=len(matrix)\n",
    "        if m==0: return\n",
    "        n=len(matrix[0])\n",
    "        if n==0: return\n",
    "        cols=[]\n",
    "        rows=[]\n",
    "        for i in range(m):\n",
    "            for j in range(n):\n",
    "                if matrix[i][j]==0:\n",
    "                    cols.append(j)\n",
    "                    rows.append(i)\n",
    "                    \n",
    "        for row_index in rows:\n",
    "            for j in range(n):\n",
    "                matrix[row_index][j]=0\n",
    "        \n",
    "        for i in range(m):\n",
    "            for col_index in cols:\n",
    "                matrix[i][col_index]=0"
   ]
  },
  {
   "cell_type": "code",
   "execution_count": 348,
   "metadata": {
    "collapsed": false
   },
   "outputs": [],
   "source": [
    "o=Solution()\n",
    "matrix=[[1,0]]\n",
    "o.setZeroes(matrix)"
   ]
  },
  {
   "cell_type": "markdown",
   "metadata": {},
   "source": [
    "Improvement: constant space discussion solution\n",
    "\n",
    "Use the first column and the first row as marker:\n",
    "\n",
    "1. first scan through the whole matrix, and if one row i has zero, label matrix[i][0] = 0, if column j has zero, then label matrix[0][j] = 0.if we find the first row has zero, then mark a boolean row = true, if the first column has zeros, mark a boolean col = true;\n",
    "\n",
    "2. By the markers on the first row and first col, set the other columns and rows to zeros. (first row and first column already contain zeros)\n",
    "\n",
    "3. According to booleans row and col, decide whether to set first row and column to zeros."
   ]
  },
  {
   "cell_type": "code",
   "execution_count": 349,
   "metadata": {
    "collapsed": true
   },
   "outputs": [],
   "source": [
    "class Solution(object):\n",
    "    def setZeroes(self, matrix):\n",
    "        \"\"\"\n",
    "        :type matrix: List[List[int]]\n",
    "        :rtype: void Do not return anything, modify matrix in-place instead.\n",
    "        \"\"\"\n",
    "        m=len(matrix)\n",
    "        if m==0: return\n",
    "        n=len(matrix[0])\n",
    "        if n==0: return\n",
    "        # first row and column indicator\n",
    "        row=False\n",
    "        col=False\n",
    "        # check zeros in first row\n",
    "        for i in range(n):\n",
    "            if matrix[0][i]==0:\n",
    "                row=True\n",
    "        # check zeros in first column\n",
    "        for i in range(m):\n",
    "            if matrix[i][0]==0:\n",
    "                col=True\n",
    "        # check other columns and rows\n",
    "        for i in range(1,m):\n",
    "            for j in range(1,n):\n",
    "                if matrix[i][j]==0:\n",
    "                    matrix[i][0]=0\n",
    "                    matrix[0][j]=0\n",
    "        # set columns and rows except for the first\n",
    "        for i in range(1,m):\n",
    "            if matrix[i][0]==0:\n",
    "                matrix[i]=[0 for j in range(n)]\n",
    "        for j in range(1,n):\n",
    "            if matrix[0][j]==0:\n",
    "                for i in range(1,m):\n",
    "                    matrix[i][j]=0\n",
    "        # set first column and row\n",
    "        if row:\n",
    "            for j in range(n):\n",
    "                matrix[0][j]=0\n",
    "        if col:\n",
    "            for i in range(m):\n",
    "                matrix[i][0]=0"
   ]
  },
  {
   "cell_type": "code",
   "execution_count": 351,
   "metadata": {
    "collapsed": false
   },
   "outputs": [
    {
     "data": {
      "text/plain": [
       "[[0, 0]]"
      ]
     },
     "execution_count": 351,
     "metadata": {},
     "output_type": "execute_result"
    }
   ],
   "source": [
    "o=Solution()\n",
    "matrix=[[1,0]]\n",
    "o.setZeroes(matrix)\n",
    "matrix"
   ]
  },
  {
   "cell_type": "markdown",
   "metadata": {},
   "source": [
    "## 74. Search a 2D Matrix"
   ]
  },
  {
   "cell_type": "markdown",
   "metadata": {},
   "source": [
    "Write an efficient algorithm that searches for a value in an m x n matrix. This matrix has the following properties:\n",
    "\n",
    "Integers in each row are sorted from left to right.\n",
    "The first integer of each row is greater than the last integer of the previous row.\n",
    "\n",
    "For example,\n",
    "\n",
    "Consider the following matrix:\n",
    "\n",
    "[\n",
    "  [1,   3,  5,  7],\n",
    "  [10, 11, 16, 20],\n",
    "  [23, 30, 34, 50]\n",
    "]\n",
    "\n",
    "Given target = 3, return true."
   ]
  },
  {
   "cell_type": "markdown",
   "metadata": {},
   "source": [
    "Solution: We could code the 2d index into 1d index and use binary search algorithm for the 1-d array."
   ]
  },
  {
   "cell_type": "code",
   "execution_count": 411,
   "metadata": {
    "collapsed": true
   },
   "outputs": [],
   "source": [
    "class Solution(object):\n",
    "    def searchMatrix(self, matrix, target):\n",
    "        \"\"\"\n",
    "        :type matrix: List[List[int]]\n",
    "        :type target: int\n",
    "        :rtype: bool\n",
    "        \"\"\"\n",
    "        m=len(matrix)\n",
    "        if m==0: return False\n",
    "        n=len(matrix[0])\n",
    "        if n==0: return False\n",
    "        \n",
    "        return self.binarySearch(matrix, m, n, 0, m*n-1, target)\n",
    "    \n",
    "    def binarySearch(self, matrix, m, n, start, end, target):\n",
    "        \"\"\"\n",
    "        :type matrix: List[List[int]]\n",
    "        :type start,end: int\n",
    "        :type target: int\n",
    "        :rtype: bool\n",
    "        \"\"\"\n",
    "        if start>end:\n",
    "            return False\n",
    "        mid=(start+end)/2\n",
    "        \n",
    "        start_i=start//n\n",
    "        start_j=start%n\n",
    "        end_i=end//n\n",
    "        end_j=end%n\n",
    "        mid_i=mid//n\n",
    "        mid_j=mid%n\n",
    "        if matrix[mid_i][mid_j]==target:\n",
    "            return True\n",
    "        elif matrix[mid_i][mid_j]<target:\n",
    "            return self.binarySearch(matrix,m,n,mid+1,end,target)\n",
    "        else:\n",
    "            return self.binarySearch(matrix,m,n,start,mid-1,target)"
   ]
  },
  {
   "cell_type": "code",
   "execution_count": 415,
   "metadata": {
    "collapsed": false
   },
   "outputs": [
    {
     "data": {
      "text/plain": [
       "False"
      ]
     },
     "execution_count": 415,
     "metadata": {},
     "output_type": "execute_result"
    }
   ],
   "source": [
    "o=Solution()\n",
    "matrix=[[1, 3, 5, 7], [10, 11, 16, 20], [23, 30, 34, 50]]\n",
    "o.searchMatrix(matrix,51)"
   ]
  },
  {
   "cell_type": "markdown",
   "metadata": {},
   "source": [
    "## 75. Sort Colors"
   ]
  },
  {
   "cell_type": "markdown",
   "metadata": {},
   "source": [
    "Given an array with n objects colored red, white or blue, sort them so that objects of the same color are adjacent, with the colors in the order red, white and blue.\n",
    "\n",
    "Here, we will use the integers 0, 1, and 2 to represent the color red, white, and blue respectively.\n",
    "\n",
    "Note:\n",
    "You are not suppose to use the library's sort function for this problem.\n",
    "\n",
    "click to show follow up.\n",
    "\n",
    "Follow up:\n",
    "\n",
    "A rather straight forward solution is a two-pass algorithm using counting sort.\n",
    "\n",
    "First, iterate the array counting number of 0's, 1's, and 2's, then overwrite array with total number of 0's, then 1's and followed by 2's.\n",
    "\n",
    "Could you come up with an one-pass algorithm using only constant space?\n"
   ]
  },
  {
   "cell_type": "markdown",
   "metadata": {},
   "source": [
    "Solution: We first consider two pass algorithm using counting sort."
   ]
  },
  {
   "cell_type": "code",
   "execution_count": 416,
   "metadata": {
    "collapsed": true
   },
   "outputs": [],
   "source": [
    "class Solution(object):\n",
    "    def sortColors(self, nums):\n",
    "        \"\"\"\n",
    "        :type nums: List[int]\n",
    "        :rtype: void Do not return anything, modify nums in-place instead.\n",
    "        \"\"\"\n",
    "        n=len(nums)\n",
    "        count_zeros=0\n",
    "        count_ones=0\n",
    "        count_twos=0\n",
    "        for i in xrange(n):\n",
    "            if nums[i]==0: count_zeros+=1\n",
    "            if nums[i]==1: count_ones+=1\n",
    "            if nums[i]==2: count_twos+=1\n",
    "        i=0\n",
    "        while count_zeros:\n",
    "            nums[i]=0\n",
    "            count_zeros-=1\n",
    "            i+=1\n",
    "        while count_ones:\n",
    "            nums[i]=1\n",
    "            count_ones-=1\n",
    "            i+=1\n",
    "        while count_twos:\n",
    "            nums[i]=2\n",
    "            count_twos-=1\n",
    "            i+=1"
   ]
  },
  {
   "cell_type": "code",
   "execution_count": 419,
   "metadata": {
    "collapsed": false
   },
   "outputs": [
    {
     "data": {
      "text/plain": [
       "[0, 0, 1, 1, 2]"
      ]
     },
     "execution_count": 419,
     "metadata": {},
     "output_type": "execute_result"
    }
   ],
   "source": [
    "o=Solution()\n",
    "nums=[0,2,1,1,0]\n",
    "o.sortColors(nums)\n",
    "nums"
   ]
  },
  {
   "cell_type": "markdown",
   "metadata": {},
   "source": [
    "Then we consider one-pass algorithm (Discussion solution): As we already know there are only 0,1,2 in the array, We only need to record the indent for 1 and 2. The indent for 1 is to record the number of 0's. The indent for 2 is to record the number of 0's and 1's. To do it in one pass, we have the following algorithm:"
   ]
  },
  {
   "cell_type": "code",
   "execution_count": 420,
   "metadata": {
    "collapsed": true
   },
   "outputs": [],
   "source": [
    "class Solution(object):\n",
    "    def sortColors(self, nums):\n",
    "        \"\"\"\n",
    "        :type nums: List[int]\n",
    "        :rtype: void Do not return anything, modify nums in-place instead.\n",
    "        \"\"\"\n",
    "        n=len(nums)\n",
    "        i=0\n",
    "        j=0\n",
    "        for k in xrange(n):\n",
    "            v=nums[k]\n",
    "            nums[k]=2\n",
    "            if v<2:\n",
    "                nums[j]=1\n",
    "                j+=1\n",
    "            if v==0:\n",
    "                nums[i]=0\n",
    "                i+=1"
   ]
  },
  {
   "cell_type": "code",
   "execution_count": 422,
   "metadata": {
    "collapsed": false
   },
   "outputs": [
    {
     "data": {
      "text/plain": [
       "[0, 0, 1, 1, 2, 2]"
      ]
     },
     "execution_count": 422,
     "metadata": {},
     "output_type": "execute_result"
    }
   ],
   "source": [
    "o=Solution()\n",
    "nums=[0,2,2,1,1,0]\n",
    "o.sortColors(nums)\n",
    "nums"
   ]
  },
  {
   "cell_type": "markdown",
   "metadata": {},
   "source": [
    "## 78. Subsets"
   ]
  },
  {
   "cell_type": "markdown",
   "metadata": {},
   "source": [
    "Given a set of distinct integers, nums, return all possible subsets.\n",
    "\n",
    "Note: The solution set must not contain duplicate subsets.\n",
    "\n",
    "For example,\n",
    "If nums = [1,2,3], a solution is:\n",
    "\n",
    "[\n",
    "  [3],\n",
    "  [1],\n",
    "  [2],\n",
    "  [1,2,3],\n",
    "  [1,3],\n",
    "  [2,3],\n",
    "  [1,2],\n",
    "  []\n",
    "]"
   ]
  },
  {
   "cell_type": "markdown",
   "metadata": {},
   "source": [
    "Solution: Brutal force, use binary digits to decide whether an element should appear in the set. In this algorithm, the time complexity should be at least O(n 2^n). Improvement: dfs solution"
   ]
  },
  {
   "cell_type": "markdown",
   "metadata": {},
   "source": [
    "**Iterative solution**:"
   ]
  },
  {
   "cell_type": "code",
   "execution_count": 406,
   "metadata": {
    "collapsed": true
   },
   "outputs": [],
   "source": [
    "class Solution(object):\n",
    "    def subsets(self, nums):\n",
    "        \"\"\"\n",
    "        :type nums: List[int]\n",
    "        :rtype: List[List[int]]\n",
    "        \"\"\"\n",
    "        nums.sort()\n",
    "        res=[[]]\n",
    "        for num in nums:\n",
    "            res+=[e+[num] for e in res]\n",
    "        return res"
   ]
  },
  {
   "cell_type": "code",
   "execution_count": 407,
   "metadata": {
    "collapsed": false
   },
   "outputs": [
    {
     "data": {
      "text/plain": [
       "[[], [1], [2], [1, 2], [3], [1, 3], [2, 3], [1, 2, 3]]"
      ]
     },
     "execution_count": 407,
     "metadata": {},
     "output_type": "execute_result"
    }
   ],
   "source": [
    "o=Solution()\n",
    "nums=[1,2,3]\n",
    "o.subsets(nums)"
   ]
  },
  {
   "cell_type": "markdown",
   "metadata": {},
   "source": [
    "**Bit manipulation**:"
   ]
  },
  {
   "cell_type": "code",
   "execution_count": 408,
   "metadata": {
    "collapsed": true
   },
   "outputs": [],
   "source": [
    "class Solution(object):\n",
    "    def subsets(self, nums):\n",
    "        \"\"\"\n",
    "        :type nums: List[int]\n",
    "        :rtype: List[List[int]]\n",
    "        \"\"\"\n",
    "        res=[]\n",
    "        n=len(nums)\n",
    "        for i in xrange(1<<n):\n",
    "            subset=[]\n",
    "            for j in xrange(n):\n",
    "                if i&(1<<j):\n",
    "                    subset.append(nums[j])\n",
    "            res.append(subset)\n",
    "            \n",
    "        return res"
   ]
  },
  {
   "cell_type": "code",
   "execution_count": 409,
   "metadata": {
    "collapsed": false
   },
   "outputs": [
    {
     "data": {
      "text/plain": [
       "[[], [1], [2], [1, 2], [3], [1, 3], [2, 3], [1, 2, 3]]"
      ]
     },
     "execution_count": 409,
     "metadata": {},
     "output_type": "execute_result"
    }
   ],
   "source": [
    "o=Solution()\n",
    "nums=[1,2,3]\n",
    "o.subsets(nums)"
   ]
  },
  {
   "cell_type": "markdown",
   "metadata": {},
   "source": [
    "**dfs**:"
   ]
  },
  {
   "cell_type": "code",
   "execution_count": 402,
   "metadata": {
    "collapsed": true
   },
   "outputs": [],
   "source": [
    "class Solution(object):\n",
    "    def subsets(self, nums):\n",
    "        \"\"\"\n",
    "        :type nums: List[int]\n",
    "        :rtype: List[List[int]]\n",
    "        \"\"\"\n",
    "        res=[]\n",
    "        nums.sort()\n",
    "        n=len(nums)\n",
    "        self.dfs(nums,n,0,[],res)\n",
    "        \n",
    "        return res\n",
    "        \n",
    "    def dfs(self,nums,n,index,path,res):\n",
    "        \"\"\"\n",
    "        :type nums: List[int]\n",
    "        :type index,n: int\n",
    "        :type path: List[int]\n",
    "        :type res: List[List[int]]\n",
    "        \"\"\"\n",
    "        res.append(path)\n",
    "        for i in range(index,n):\n",
    "            self.dfs(nums,n,i+1,path+[nums[i]],res)"
   ]
  },
  {
   "cell_type": "code",
   "execution_count": 403,
   "metadata": {
    "collapsed": false
   },
   "outputs": [
    {
     "data": {
      "text/plain": [
       "[[], [1], [1, 2], [1, 2, 3], [1, 3], [2], [2, 3], [3]]"
      ]
     },
     "execution_count": 403,
     "metadata": {},
     "output_type": "execute_result"
    }
   ],
   "source": [
    "o=Solution()\n",
    "nums=[1,2,3]\n",
    "o.subsets(nums)"
   ]
  },
  {
   "cell_type": "code",
   "execution_count": null,
   "metadata": {
    "collapsed": true
   },
   "outputs": [],
   "source": []
  },
  {
   "cell_type": "markdown",
   "metadata": {
    "collapsed": true
   },
   "source": [
    "## 79. Word Search"
   ]
  },
  {
   "cell_type": "markdown",
   "metadata": {},
   "source": [
    "Given a 2D board and a word, find if the word exists in the grid.\n",
    "\n",
    "The word can be constructed from letters of sequentially adjacent cell, where \"adjacent\" cells are those horizontally or vertically neighboring. The same letter cell may not be used more than once.\n",
    "\n",
    "For example,\n",
    "\n",
    "Given board =\n",
    "\n",
    "[\n",
    "\n",
    "  ['A','B','C','E'],\n",
    "  \n",
    "  ['S','F','C','S'],\n",
    "  \n",
    "  ['A','D','E','E']\n",
    "  \n",
    "]\n",
    "\n",
    "word = \"ABCCED\", -> returns true,\n",
    "\n",
    "word = \"SEE\", -> returns true,\n",
    "\n",
    "word = \"ABCB\", -> returns false."
   ]
  },
  {
   "cell_type": "markdown",
   "metadata": {},
   "source": [
    "Solution: A straightforward solution is to start from every possible location on the board that correspond to word[0]. Then search the adjacent cells for the consecutive letters in the word. Things to be noticed\n",
    "\n",
    "1. The starting cell can be anywhere on the board\n",
    "2. The visited cells should be labeled."
   ]
  },
  {
   "cell_type": "code",
   "execution_count": 89,
   "metadata": {
    "collapsed": false
   },
   "outputs": [],
   "source": [
    "class Solution(object):\n",
    "    def exist(self, board, word):\n",
    "        \"\"\"\n",
    "        :type board: List[List[str]]\n",
    "        :type word: str\n",
    "        :rtype: bool\n",
    "        \"\"\"\n",
    "        # number of rows\n",
    "        n=len(board)\n",
    "        # number of columns\n",
    "        m=len(board[0])\n",
    "        for i in range(n):\n",
    "            for j in range(m):\n",
    "                if self.checkbyletter(i,j,board[:],word):\n",
    "                    return True\n",
    "        return False\n",
    "    \n",
    "    # recursively check letter by letter\n",
    "    def checkbyletter(self,i,j,board,word):\n",
    "        \"\"\"\n",
    "        :type board: List[List[str]]\n",
    "        :type i,j: int\n",
    "        :type word: str\n",
    "        :rtype: bool\n",
    "        \"\"\"\n",
    "        # base case(all letters match and the word is empty)\n",
    "        if word=='':\n",
    "            return True\n",
    "        # recursion\n",
    "        if board[i][j]==word[0]:\n",
    "            # check if there is just a single word left\n",
    "            if word[1:]=='':\n",
    "                return True\n",
    "            # used to recover\n",
    "            tmp=board[i][j]\n",
    "            # board[i][j] is visited\n",
    "            board[i][j]='#'\n",
    "            # upwards\n",
    "            if i-1>=0 and board[i-1][j]!='#':\n",
    "                if self.checkbyletter(i-1,j,board[:],word[1:]):\n",
    "                    return True\n",
    "            # downwards\n",
    "            if i+1<len(board) and board[i+1][j]!='#':\n",
    "                if self.checkbyletter(i+1,j,board[:],word[1:]):\n",
    "                    return True\n",
    "            # left\n",
    "            if j-1>=0 and board[i][j-1]!='#':\n",
    "                if self.checkbyletter(i,j-1,board[:],word[1:]):\n",
    "                    return True\n",
    "            # right\n",
    "            if j+1<len(board[0]) and board[i][j+1]!='#':\n",
    "                if self.checkbyletter(i,j+1,board[:],word[1:]):\n",
    "                    return True\n",
    "                \n",
    "            board[i][j]=tmp\n",
    "        \n",
    "        return False"
   ]
  },
  {
   "cell_type": "code",
   "execution_count": 90,
   "metadata": {
    "collapsed": false
   },
   "outputs": [
    {
     "data": {
      "text/plain": [
       "False"
      ]
     },
     "execution_count": 90,
     "metadata": {},
     "output_type": "execute_result"
    }
   ],
   "source": [
    "o=Solution()\n",
    "board=[list(\"aa\")]\n",
    "word = 'aaa'\n",
    "o.exist(board,word)"
   ]
  },
  {
   "cell_type": "markdown",
   "metadata": {},
   "source": [
    "## 81. Search in Rotated Sorted Array II"
   ]
  },
  {
   "cell_type": "markdown",
   "metadata": {},
   "source": [
    "Follow up for \"Search in Rotated Sorted Array\":\n",
    "What if duplicates are allowed?\n",
    "\n",
    "Would this affect the run-time complexity? How and why?\n",
    "\n",
    "Suppose an array sorted in ascending order is rotated at some pivot unknown to you beforehand.\n",
    "\n",
    "(i.e., 0 1 2 4 5 6 7 might become 4 5 6 7 0 1 2).\n",
    "\n",
    "Write a function to determine if a given target is in the array.\n",
    "\n",
    "The array may contain duplicates."
   ]
  },
  {
   "cell_type": "markdown",
   "metadata": {},
   "source": [
    "Solution: The non-duplicate method of finding the pivot does not apply if we consider [2,2,2,0,2,2] and [2,0,2,2,2,2]"
   ]
  },
  {
   "cell_type": "code",
   "execution_count": 212,
   "metadata": {
    "collapsed": true
   },
   "outputs": [],
   "source": [
    "class Solution(object):\n",
    "    def search(self, nums, target):\n",
    "        \"\"\"\n",
    "        :type nums: List[int]\n",
    "        :type target: int\n",
    "        :rtype: bool\n",
    "        \"\"\"\n",
    "        # find pivot position\n",
    "        n=len(nums)\n",
    "        pivot_pos=self.findpivotposition(nums,0,n-1)\n",
    "        print pivot_pos\n",
    "        # find target\n",
    "        if pivot_pos>0 and target>=nums[0]:\n",
    "            return self.binarysearch(nums,0,pivot_pos-1,target)\n",
    "        else:\n",
    "            return self.binarysearch(nums,pivot_pos,n-1,target)\n",
    "        \n",
    "    def findpivotposition(self,nums,start,end):\n",
    "        \"\"\"\n",
    "        :type nums: List[int]\n",
    "        :type start,end: int\n",
    "        :rtype: int\n",
    "        \"\"\"\n",
    "        if start==end:\n",
    "            return start\n",
    "        mid=(start+end)/2\n",
    "        if nums[mid]>nums[end]:\n",
    "            return self.findpivotposition(nums,mid+1,end)\n",
    "        elif nums[mid]==nums[end]:\n",
    "            p=mid+1\n",
    "            while p<=end and nums[p]==nums[p-1]:\n",
    "                p+=1\n",
    "            if p>end:\n",
    "                return self.findpivotposition(nums,start,mid)\n",
    "            else:\n",
    "                return self.findpivotposition(nums,p,end)\n",
    "        else:\n",
    "            return self.findpivotposition(nums,start,mid)\n",
    "        \n",
    "    def binarysearch(self,nums,start,end,target):\n",
    "        \"\"\"\n",
    "        :type nums: List[int]\n",
    "        :type start,end: int\n",
    "        :type target: int\n",
    "        :rtype: int\n",
    "        \"\"\"\n",
    "        if start>end:\n",
    "            return -1\n",
    "        mid=(start+end)/2\n",
    "        if nums[mid]==target:\n",
    "            return mid\n",
    "        elif nums[mid]>target:\n",
    "            return self.binarysearch(nums,start,mid-1,target)\n",
    "        else:\n",
    "            return self.binarysearch(nums,mid+1,end,target)"
   ]
  },
  {
   "cell_type": "code",
   "execution_count": 214,
   "metadata": {
    "collapsed": false
   },
   "outputs": [
    {
     "name": "stdout",
     "output_type": "stream",
     "text": [
      "1\n"
     ]
    },
    {
     "data": {
      "text/plain": [
       "1"
      ]
     },
     "execution_count": 214,
     "metadata": {},
     "output_type": "execute_result"
    }
   ],
   "source": [
    "o=Solution()\n",
    "nums=[2,0,2,2,2,2]\n",
    "o.search(nums,0)"
   ]
  },
  {
   "cell_type": "markdown",
   "metadata": {},
   "source": [
    "## 90. Subsets II"
   ]
  },
  {
   "cell_type": "markdown",
   "metadata": {},
   "source": [
    "Given a collection of integers that might contain duplicates, nums, return all possible subsets.\n",
    "\n",
    "Note: The solution set must not contain duplicate subsets.\n",
    "\n",
    "For example,\n",
    "If nums = [1,2,2], a solution is:\n",
    "\n",
    "[\n",
    "  [2],\n",
    "  [1],\n",
    "  [1,2,2],\n",
    "  [2,2],\n",
    "  [1,2],\n",
    "  []\n",
    "]\n"
   ]
  },
  {
   "cell_type": "markdown",
   "metadata": {},
   "source": [
    "Solution: Brutal force: $2^n$ subsets containing duplicates. Discussion solution: To avoid duplicate, we first sort nums. Then we could first create a list of empty set and then add elements in nums into the set. If there is a duplicate (nums[i]==nums[i-1]), we only add it to the last sets created by adding nums[i-1] already."
   ]
  },
  {
   "cell_type": "code",
   "execution_count": 189,
   "metadata": {
    "collapsed": true
   },
   "outputs": [],
   "source": [
    "class Solution(object):\n",
    "    def subsetsWithDup(self, nums):\n",
    "        \"\"\"\n",
    "        :type nums: List[int]\n",
    "        :rtype: List[List[int]]\n",
    "        \"\"\"\n",
    "        # initialize result list\n",
    "        res=[[]]\n",
    "        # sort number list\n",
    "        nums.sort()\n",
    "        for i in range(len(nums)):\n",
    "            if i == 0 or nums[i] != nums[i - 1]:\n",
    "                l = len(res)\n",
    "            for j in range(len(res) - l, len(res)):\n",
    "                res.append(res[j] + [nums[i]])\n",
    "        return res"
   ]
  },
  {
   "cell_type": "code",
   "execution_count": 190,
   "metadata": {
    "collapsed": false
   },
   "outputs": [
    {
     "name": "stdout",
     "output_type": "stream",
     "text": [
      "[[]]\n",
      "[[], [1]]\n",
      "[[], [1], [2], [1, 2]]\n"
     ]
    },
    {
     "data": {
      "text/plain": [
       "[[], [1], [2], [1, 2], [2, 2], [1, 2, 2]]"
      ]
     },
     "execution_count": 190,
     "metadata": {},
     "output_type": "execute_result"
    }
   ],
   "source": [
    "o=Solution()\n",
    "nums=[1,2,2]\n",
    "o.subsetsWithDup(nums)"
   ]
  },
  {
   "cell_type": "markdown",
   "metadata": {},
   "source": [
    "Alternatively, we could consider a dfs solution: we can treat parent subsets as nodes and they are connected by the remaining non-duplicate elements in the sorted nums list to the child node(subset with one more element). To print all the non-duplicate subsets, we only need to track the path of each node and attach the paths to the result"
   ]
  },
  {
   "cell_type": "code",
   "execution_count": 191,
   "metadata": {
    "collapsed": true
   },
   "outputs": [],
   "source": [
    "class Solution(object):\n",
    "    def subsetsWithDup(self, nums):\n",
    "        \"\"\"\n",
    "        :type nums: List[int]\n",
    "        :rtype: List[List[int]]\n",
    "        \"\"\"\n",
    "        res=[]\n",
    "        nums.sort()\n",
    "        self.dfs(nums,0,[],res)\n",
    "        return res\n",
    "    \n",
    "    def dfs(self,nums,start,path,res):\n",
    "        \"\"\"\n",
    "        :type nums: List[int]\n",
    "        :type start: int\n",
    "        :type path: List[int]\n",
    "        :type res: List[List[int]]\n",
    "        :rtype: None\n",
    "        \"\"\"\n",
    "        res.append(path)\n",
    "        for i in range(start,len(nums)):\n",
    "            if i>start and nums[i]==nums[i-1]:\n",
    "                continue\n",
    "            self.dfs(nums,i+1,path+[nums[i]],res)"
   ]
  },
  {
   "cell_type": "code",
   "execution_count": 192,
   "metadata": {
    "collapsed": false
   },
   "outputs": [
    {
     "data": {
      "text/plain": [
       "[[], [1], [1, 2], [1, 2, 2], [2], [2, 2]]"
      ]
     },
     "execution_count": 192,
     "metadata": {},
     "output_type": "execute_result"
    }
   ],
   "source": [
    "o=Solution()\n",
    "nums=[1,2,2]\n",
    "o.subsetsWithDup(nums)"
   ]
  },
  {
   "cell_type": "markdown",
   "metadata": {},
   "source": [
    "## <font color=red>105. Construct Binary Tree from Preorder and Inorder Traversal"
   ]
  },
  {
   "cell_type": "markdown",
   "metadata": {},
   "source": [
    "Given preorder and inorder traversal of a tree, construct the binary tree.\n",
    "\n",
    "Note:\n",
    "You may assume that duplicates do not exist in the tree."
   ]
  },
  {
   "cell_type": "markdown",
   "metadata": {},
   "source": [
    "Solution: In the preorder traversal, the first node visited must be the root. Then in the inorder traversal, the left sublist to the root is left subtree, the right sublist to the root is right subtree. We could count the length of the sublists in inorder traversal to extract them from the preorder traversal. Then the left and right child can be read from the root of left subtree and right subtree respectively. We do this recursively until the sublists are empty."
   ]
  },
  {
   "cell_type": "code",
   "execution_count": 477,
   "metadata": {
    "collapsed": true
   },
   "outputs": [],
   "source": [
    "# Definition for a binary tree node.\n",
    "class TreeNode(object):\n",
    "    def __init__(self, x):\n",
    "        self.val = x\n",
    "        self.left = None\n",
    "        self.right = None\n",
    "\n",
    "class Solution(object):\n",
    "    def buildTree(self, preorder, inorder):\n",
    "        \"\"\"\n",
    "        :type preorder: List[int]\n",
    "        :type inorder: List[int]\n",
    "        :rtype: TreeNode\n",
    "        \"\"\"\n",
    "        if inorder==[]:\n",
    "            return None\n",
    "        root=TreeNode(preorder[0])\n",
    "        self._buildTree(inorder,preorder,root)\n",
    "        return root\n",
    "        \n",
    "    def _buildTree(self,inorder,preorder,root):\n",
    "        # root position in inorder\n",
    "        n=len(inorder)\n",
    "        root_pos=inorder.index(preorder[0])\n",
    "        # construct left subtree\n",
    "        if root_pos>0:\n",
    "            root.left=TreeNode(preorder[1:root_pos+1][0])\n",
    "            self._buildTree(inorder[:root_pos],preorder[1:root_pos+1],root.left)\n",
    "        # construct right subtree\n",
    "        if root_pos<n-1:\n",
    "            root.right=TreeNode(preorder[root_pos+1:n][0])\n",
    "            self._buildTree(inorder[root_pos+1:],preorder[root_pos+1:n],root.right)"
   ]
  },
  {
   "cell_type": "code",
   "execution_count": 486,
   "metadata": {
    "collapsed": false
   },
   "outputs": [
    {
     "name": "stdout",
     "output_type": "stream",
     "text": [
      "None\n"
     ]
    }
   ],
   "source": [
    "o=Solution()\n",
    "root=o.buildTree([1,2,4,5,3,6],[4,2,5,1,6,3])\n",
    "print root.right.right"
   ]
  },
  {
   "cell_type": "markdown",
   "metadata": {},
   "source": [
    "The above solution is MLE, so we could improve it by passing indices instead of sublists"
   ]
  },
  {
   "cell_type": "code",
   "execution_count": 487,
   "metadata": {
    "collapsed": true
   },
   "outputs": [],
   "source": [
    "# Definition for a binary tree node.\n",
    "class TreeNode(object):\n",
    "    def __init__(self, x):\n",
    "        self.val = x\n",
    "        self.left = None\n",
    "        self.right = None\n",
    "\n",
    "class Solution(object):\n",
    "    def buildTree(self, preorder, inorder):\n",
    "        \"\"\"\n",
    "        :type preorder: List[int]\n",
    "        :type inorder: List[int]\n",
    "        :rtype: TreeNode\n",
    "        \"\"\"\n",
    "        if inorder==[]:\n",
    "            return None\n",
    "        root=TreeNode(preorder[0])\n",
    "        start1=start2=0\n",
    "        end1=end2=len(inorder)\n",
    "        self._buildTree(start1,end1,start2,end2,inorder,preorder,root)\n",
    "        return root\n",
    "        \n",
    "    def _buildTree(self,start1,end1,start2,end2,inorder,preorder,root):\n",
    "        # root position in inorder\n",
    "        root_pos=inorder.index(preorder[start2:end2][0])\n",
    "        # construct left subtree\n",
    "        if root_pos>start1:\n",
    "            root.left=TreeNode(preorder[start2+1:start2+1+root_pos-start1][0])\n",
    "            self._buildTree(start1,root_pos,start2+1,start2+1+root_pos-start1,inorder,preorder,root.left)\n",
    "        # construct right subtree\n",
    "        if root_pos<end1-1:\n",
    "            length=end1-1-root_pos\n",
    "            root.right=TreeNode(preorder[end2-length:end2][0])\n",
    "            self._buildTree(root_pos+1,end1,end2-length,end2,inorder,preorder,root.right)"
   ]
  },
  {
   "cell_type": "code",
   "execution_count": 494,
   "metadata": {
    "collapsed": false
   },
   "outputs": [
    {
     "name": "stdout",
     "output_type": "stream",
     "text": [
      "6\n"
     ]
    }
   ],
   "source": [
    "o=Solution()\n",
    "root=o.buildTree([1,2,4,5,3,6],[4,2,5,1,6,3])\n",
    "print root.right.left.val"
   ]
  },
  {
   "cell_type": "markdown",
   "metadata": {},
   "source": [
    "## 106. Construct Binary Tree from Inorder and Postorder Traversal"
   ]
  },
  {
   "cell_type": "markdown",
   "metadata": {},
   "source": [
    "Given inorder and postorder traversal of a tree, construct the binary tree.\n",
    "\n",
    "Note:\n",
    "You may assume that duplicates do not exist in the tree."
   ]
  },
  {
   "cell_type": "markdown",
   "metadata": {},
   "source": [
    "Solution: In the postorder traversal, The last node visited must be the root. Then in the inorder traversal, the left sublist to the root is left subtree, the right sublist to the root is right subtree. We could count the length of the sublists in inorder traversal to extract them from postorder traversal. Then the left and right child can be read from the root of left subtree and right subtree respectively. So we could apply recursive algorithm until the sublist is empty."
   ]
  },
  {
   "cell_type": "code",
   "execution_count": 380,
   "metadata": {
    "collapsed": false
   },
   "outputs": [],
   "source": [
    "# Definition for a binary tree node.\n",
    "class TreeNode(object):\n",
    "    def __init__(self, x):\n",
    "        self.val = x\n",
    "        self.left = None\n",
    "        self.right = None\n",
    "\n",
    "class Solution(object):\n",
    "    def buildTree(self, inorder, postorder):\n",
    "        \"\"\"\n",
    "        :type inorder: List[int]\n",
    "        :type postorder: List[int]\n",
    "        :rtype: TreeNode\n",
    "        \"\"\"\n",
    "        if inorder==[]:\n",
    "            return None\n",
    "        root=TreeNode(postorder[-1])\n",
    "        self._buildTree(inorder,postorder,root)\n",
    "        return root\n",
    "        \n",
    "    def _buildTree(self,inorder,postorder,root):\n",
    "        # root position in inorder\n",
    "        n=len(inorder)\n",
    "        root_pos=inorder.index(postorder[-1])\n",
    "        # construct left subtree\n",
    "        if root_pos>0:\n",
    "            root.left=TreeNode(postorder[:root_pos][-1])\n",
    "            self._buildTree(inorder[:root_pos],postorder[:root_pos],root.left)\n",
    "        # construct right subtree\n",
    "        if root_pos<n-1:\n",
    "            root.right=TreeNode(postorder[root_pos:n-1][-1])\n",
    "            self._buildTree(inorder[root_pos+1:],postorder[root_pos:n-1],root.right)"
   ]
  },
  {
   "cell_type": "code",
   "execution_count": 390,
   "metadata": {
    "collapsed": false
   },
   "outputs": [
    {
     "name": "stdout",
     "output_type": "stream",
     "text": [
      "None\n"
     ]
    }
   ],
   "source": [
    "o=Solution()\n",
    "root=o.buildTree([3,2,4,1,6,5],[3,4,2,6,5,1])\n",
    "print root.left.right.right"
   ]
  },
  {
   "cell_type": "markdown",
   "metadata": {},
   "source": [
    "The above solution is MLE, so we could improve it by passing indices instead of sublists"
   ]
  },
  {
   "cell_type": "code",
   "execution_count": 459,
   "metadata": {
    "collapsed": true
   },
   "outputs": [],
   "source": [
    "# Definition for a binary tree node.\n",
    "class TreeNode(object):\n",
    "    def __init__(self, x):\n",
    "        self.val = x\n",
    "        self.left = None\n",
    "        self.right = None\n",
    "\n",
    "class Solution(object):\n",
    "    def buildTree(self, inorder, postorder):\n",
    "        \"\"\"\n",
    "        :type inorder: List[int]\n",
    "        :type postorder: List[int]\n",
    "        :rtype: TreeNode\n",
    "        \"\"\"\n",
    "        if inorder==[]:\n",
    "            return None\n",
    "        root=TreeNode(postorder[-1])\n",
    "        start1=start2=0\n",
    "        end1=end2=len(inorder)\n",
    "        self._buildTree(start1,end1,start2,end2,inorder,postorder,root)\n",
    "        return root\n",
    "        \n",
    "    def _buildTree(self,start1,end1,start2,end2,inorder,postorder,root):\n",
    "        print start1,end1,start2,end2\n",
    "        # root position in inorder\n",
    "        root_pos=inorder.index(postorder[start2:end2][-1])\n",
    "        # construct left subtree\n",
    "        if root_pos>start1:\n",
    "            root.left=TreeNode(postorder[start2:start2+root_pos-start1][-1])\n",
    "            self._buildTree(start1,root_pos,start2,start2+root_pos-start1,inorder,postorder,root.left)\n",
    "        # construct right subtree\n",
    "        if root_pos<end1-1:\n",
    "            length=end1-1-root_pos\n",
    "            root.right=TreeNode(postorder[end2-1-length:end2-1][-1])\n",
    "            self._buildTree(root_pos+1,end1,end2-1-length,end2-1,inorder,postorder,root.right)"
   ]
  },
  {
   "cell_type": "code",
   "execution_count": 460,
   "metadata": {
    "collapsed": false
   },
   "outputs": [
    {
     "name": "stdout",
     "output_type": "stream",
     "text": [
      "0 3 0 3\n",
      "1 3 0 2\n",
      "1 2 0 1\n",
      "1 2 3\n"
     ]
    }
   ],
   "source": [
    "o=Solution()\n",
    "root=o.buildTree([1,3,2],[3,2,1])\n",
    "print root.val, root.right.val, root.right.left.val"
   ]
  },
  {
   "cell_type": "markdown",
   "metadata": {},
   "source": [
    "## 118. Pascal's Triangle"
   ]
  },
  {
   "cell_type": "markdown",
   "metadata": {},
   "source": [
    "Given numRows, generate the first numRows of Pascal's triangle.\n",
    "\n",
    "For example, given numRows = 5,\n",
    "Return\n",
    "\n",
    "[\n",
    "     [1],     \n",
    "    [1,1],    \n",
    "   [1,2,1],   \n",
    "  [1,3,3,1],  \n",
    " [1,4,6,4,1] \n",
    "]\n"
   ]
  },
  {
   "cell_type": "markdown",
   "metadata": {},
   "source": [
    "Solution: we could construct each row from last row:\n",
    "\n",
    "1. base case: row1=[1]; row2=[1,1]\n",
    "2. recursion: rowi+1 from rowi"
   ]
  },
  {
   "cell_type": "code",
   "execution_count": 182,
   "metadata": {
    "collapsed": true
   },
   "outputs": [],
   "source": [
    "class Solution(object):\n",
    "    def generate(self, numRows):\n",
    "        \"\"\"\n",
    "        :type numRows: int\n",
    "        :rtype: List[List[int]]\n",
    "        \"\"\"\n",
    "        # initialize\n",
    "        row=0\n",
    "        # return triangle\n",
    "        pascal=[]\n",
    "        while row<numRows:\n",
    "            if row==0:\n",
    "                pascal.append([1])\n",
    "            elif row==1:\n",
    "                pascal.append([1,1])\n",
    "            else:\n",
    "                layer=[]\n",
    "                for i in range(len(pascal[row-1])):\n",
    "                    # first\n",
    "                    if i==0:\n",
    "                        layer.append(pascal[row-1][i])\n",
    "                    # last\n",
    "                    if i==len(pascal[row-1])-1:\n",
    "                        layer.append(pascal[row-1][i])\n",
    "                    else:\n",
    "                        layer.append(pascal[row-1][i]+pascal[row-1][i+1])\n",
    "                pascal.append(layer)\n",
    "            row+=1\n",
    "        return pascal"
   ]
  },
  {
   "cell_type": "code",
   "execution_count": 184,
   "metadata": {
    "collapsed": false
   },
   "outputs": [
    {
     "data": {
      "text/plain": [
       "[[1], [1, 1], [1, 2, 1], [1, 3, 3, 1], [1, 4, 6, 4, 1]]"
      ]
     },
     "execution_count": 184,
     "metadata": {},
     "output_type": "execute_result"
    }
   ],
   "source": [
    "o=Solution()\n",
    "o.generate(5)"
   ]
  },
  {
   "cell_type": "markdown",
   "metadata": {},
   "source": [
    "## 119. Pascal's Triangle II"
   ]
  },
  {
   "cell_type": "markdown",
   "metadata": {},
   "source": [
    "Given an index k, return the kth row of the Pascal's triangle.\n",
    "\n",
    "For example, given k = 3,\n",
    "Return [1,3,3,1].\n",
    "\n",
    "Note:\n",
    "Could you optimize your algorithm to use only O(k) extra space?"
   ]
  },
  {
   "cell_type": "markdown",
   "metadata": {},
   "source": [
    "Solution: The kth row has k values. First we consider a recursive implementation, if we want to print out k-th row, we need k-1th row.\n",
    "\n",
    "1. base case: row=1\n",
    "2. thisRow[i]=lastRow[i-1]+lastRow[i]"
   ]
  },
  {
   "cell_type": "code",
   "execution_count": 3,
   "metadata": {
    "collapsed": true
   },
   "outputs": [],
   "source": [
    "class Solution(object):\n",
    "    def getRow(self, rowIndex):\n",
    "        \"\"\"\n",
    "        :type rowIndex: int\n",
    "        :rtype: List[int]\n",
    "        \"\"\"\n",
    "        if rowIndex==0:\n",
    "            return [1]\n",
    "        lastRow=self.getRow(rowIndex-1)\n",
    "        thisRow=[0]*(rowIndex+1)\n",
    "        thisRow[0]=thisRow[rowIndex]=1\n",
    "        for i in range(1,rowIndex):\n",
    "            thisRow[i]=lastRow[i-1]+lastRow[i]\n",
    "        return thisRow"
   ]
  },
  {
   "cell_type": "code",
   "execution_count": 4,
   "metadata": {
    "collapsed": false
   },
   "outputs": [
    {
     "data": {
      "text/plain": [
       "[1, 3, 3, 1]"
      ]
     },
     "execution_count": 4,
     "metadata": {},
     "output_type": "execute_result"
    }
   ],
   "source": [
    "o=Solution()\n",
    "o.getRow(3)"
   ]
  },
  {
   "cell_type": "markdown",
   "metadata": {},
   "source": [
    "Alternatively, we could use a two list method."
   ]
  },
  {
   "cell_type": "code",
   "execution_count": 7,
   "metadata": {
    "collapsed": true
   },
   "outputs": [],
   "source": [
    "class Solution(object):\n",
    "    def getRow(self, rowIndex):\n",
    "        \"\"\"\n",
    "        :type rowIndex: int\n",
    "        :rtype: List[int]\n",
    "        \"\"\"\n",
    "        # initialize\n",
    "        prev=[]\n",
    "        this=[1]\n",
    "        for row in range(1,rowIndex+1):\n",
    "            prev=this\n",
    "            this=[1]*(row+1)\n",
    "            for i in range(1,row):\n",
    "                this[i]=prev[i-1]+prev[i]\n",
    "        return this"
   ]
  },
  {
   "cell_type": "code",
   "execution_count": 8,
   "metadata": {
    "collapsed": false
   },
   "outputs": [
    {
     "data": {
      "text/plain": [
       "[1, 3, 3, 1]"
      ]
     },
     "execution_count": 8,
     "metadata": {},
     "output_type": "execute_result"
    }
   ],
   "source": [
    "o=Solution()\n",
    "o.getRow(3)"
   ]
  },
  {
   "cell_type": "markdown",
   "metadata": {},
   "source": [
    "The above solution is O(k^2)."
   ]
  },
  {
   "cell_type": "markdown",
   "metadata": {},
   "source": [
    "## 120. Triangle"
   ]
  },
  {
   "cell_type": "markdown",
   "metadata": {},
   "source": [
    "Given a triangle, find the minimum path sum from top to bottom. Each step you may move to adjacent numbers on the row below.\n",
    "\n",
    "For example, given the following triangle\n",
    "[\n",
    "     [2],\n",
    "    [3,4],\n",
    "   [6,5,7],\n",
    "  [4,1,8,3]\n",
    "]\n",
    "The minimum path sum from top to bottom is 11 (i.e., 2 + 3 + 5 + 1 = 11).\n",
    "\n",
    "Note:\n",
    "Bonus point if you are able to do this using only O(n) extra space, where n is the total number of rows in the triangle.\n",
    "\n"
   ]
  },
  {
   "cell_type": "markdown",
   "metadata": {},
   "source": [
    "Solution: I will try to solve this problem by recursion and keep a list. But it will take O(2^n) to store the sum of paths."
   ]
  },
  {
   "cell_type": "code",
   "execution_count": 345,
   "metadata": {
    "collapsed": true
   },
   "outputs": [],
   "source": [
    "class Solution(object):\n",
    "    def minimumTotal(self, triangle):\n",
    "        \"\"\"\n",
    "        :type triangle: List[List[int]]\n",
    "        :rtype: int\n",
    "        \"\"\"\n",
    "        totals=[]\n",
    "        self.pathsums(0,0,triangle,0,totals)\n",
    "        return min(totals)\n",
    "        \n",
    "    def pathsums(self,row,i,triangle,total,totals):\n",
    "        total+=triangle[row][i]\n",
    "        if row<len(triangle)-1:\n",
    "            self.pathsums(row+1,i,triangle,total,totals)\n",
    "            self.pathsums(row+1,i+1,triangle,total,totals)\n",
    "        else:\n",
    "            totals.append(total)"
   ]
  },
  {
   "cell_type": "code",
   "execution_count": 346,
   "metadata": {
    "collapsed": false
   },
   "outputs": [
    {
     "data": {
      "text/plain": [
       "11"
      ]
     },
     "execution_count": 346,
     "metadata": {},
     "output_type": "execute_result"
    }
   ],
   "source": [
    "o=Solution()\n",
    "o.minimumTotal([[2], [3,4], [6,5,7], [4,1,8,3]])"
   ]
  },
  {
   "cell_type": "markdown",
   "metadata": {},
   "source": [
    "The above solution is top-down and TLE. Let me try bottom up"
   ]
  },
  {
   "cell_type": "code",
   "execution_count": 347,
   "metadata": {
    "collapsed": true
   },
   "outputs": [],
   "source": [
    "class Solution(object):\n",
    "    def minimumTotal(self, triangle):\n",
    "        \"\"\"\n",
    "        :type triangle: List[List[int]]\n",
    "        :rtype: int\n",
    "        \"\"\"\n",
    "        # special case\n",
    "        if len(triangle)==1:\n",
    "            return triangle[0][0]\n",
    "        row=len(triangle)-2\n",
    "        while row>=0:\n",
    "            for i in xrange(len(triangle[row])):\n",
    "                triangle[row][i]+=min(triangle[row+1][i],triangle[row+1][i+1])\n",
    "            row-=1\n",
    "        return triangle[0][0]"
   ]
  },
  {
   "cell_type": "code",
   "execution_count": 348,
   "metadata": {
    "collapsed": false
   },
   "outputs": [
    {
     "data": {
      "text/plain": [
       "11"
      ]
     },
     "execution_count": 348,
     "metadata": {},
     "output_type": "execute_result"
    }
   ],
   "source": [
    "o=Solution()\n",
    "o.minimumTotal([[2], [3,4], [6,5,7], [4,1,8,3]])"
   ]
  },
  {
   "cell_type": "markdown",
   "metadata": {},
   "source": [
    "## 121. Best Time to Buy and Sell Stock"
   ]
  },
  {
   "cell_type": "markdown",
   "metadata": {},
   "source": [
    "Say you have an array for which the ith element is the price of a given stock on day i.\n",
    "\n",
    "If you were only permitted to complete at most one transaction (ie, buy one and sell one share of the stock), design an algorithm to find the maximum profit.\n",
    "\n",
    "Example 1:\n",
    "Input: [7, 1, 5, 3, 6, 4]\n",
    "Output: 5\n",
    "\n",
    "max. difference = 6-1 = 5 (not 7-1 = 6, as selling price needs to be larger than buying price)\n",
    "\n",
    "Example 2:\n",
    "Input: [7, 6, 4, 3, 1]\n",
    "Output: 0\n",
    "\n",
    "In this case, no transaction is done, i.e. max profit = 0."
   ]
  },
  {
   "cell_type": "markdown",
   "metadata": {},
   "source": [
    "Solution: The brutal force search takes O(n^2) time. Need improvement on that. The key point is we could not sell before we buy so we have to record the lowest price up to day i(which should be the minimum buy price) and the prices that are higher than the minimum buy price after that day. Then we pick up the largest profit=sell-buy."
   ]
  },
  {
   "cell_type": "code",
   "execution_count": 333,
   "metadata": {
    "collapsed": true
   },
   "outputs": [],
   "source": [
    "class Solution(object):\n",
    "    def maxProfit(self, prices):\n",
    "        \"\"\"\n",
    "        :type prices: List[int]\n",
    "        :rtype: int\n",
    "        \"\"\"\n",
    "        if prices==[]:\n",
    "            return 0\n",
    "        buy=prices[0]\n",
    "        sell=0\n",
    "        profit=0\n",
    "        for i in xrange(len(prices)):\n",
    "            if prices[i]<buy:\n",
    "                buy=prices[i]\n",
    "            elif prices[i]>buy:\n",
    "                sell=prices[i]\n",
    "                if (sell-buy)>profit:\n",
    "                    profit=(sell-buy)\n",
    "        return profit"
   ]
  },
  {
   "cell_type": "code",
   "execution_count": 332,
   "metadata": {
    "collapsed": false
   },
   "outputs": [
    {
     "data": {
      "text/plain": [
       "5"
      ]
     },
     "execution_count": 332,
     "metadata": {},
     "output_type": "execute_result"
    }
   ],
   "source": [
    "o=Solution()\n",
    "o.maxProfit([7, 1, 5, 3, 6, 4])"
   ]
  },
  {
   "cell_type": "markdown",
   "metadata": {},
   "source": [
    "## 152. <font color=red>Maximum Product Subarray"
   ]
  },
  {
   "cell_type": "markdown",
   "metadata": {},
   "source": [
    "Find the contiguous subarray within an array (containing at least one number) which has the largest product.\n",
    "\n",
    "For example, given the array [2,3,-2,4],\n",
    "the contiguous subarray [2,3] has the largest product = 6."
   ]
  },
  {
   "cell_type": "markdown",
   "metadata": {},
   "source": [
    "Solution: brutal force solution O(n^2) time. A clever solution:\n",
    "\n",
    "Let max or min result from A[0] to A[k] be MAX[k] or MIN[k]\n",
    "\n",
    "The max result from A[0] to A[i] can only come from:\n",
    "* Decision 1. discard previous result, restart at A[i]\n",
    "* Decision 2. take A[i], MAX[i] = MAX[i-1] * A[i]\n",
    "* Decision 3. this is the most tricky part: A[i] can be negative, then MAX[i-1] * A[i] is negative (suppose MAX[i-1] is positive). Or a more complicated case: MIN[i-1] and MAX[i-1] are both negative, and A[i] is negative too, so that we need to take MIN[i-1] * A[i] into consideration.\n",
    "\n",
    "Same thing to min result from A[0] to A[i]."
   ]
  },
  {
   "cell_type": "code",
   "execution_count": 169,
   "metadata": {
    "collapsed": true
   },
   "outputs": [],
   "source": [
    "class Solution(object):\n",
    "    def maxProduct(self, nums):\n",
    "        \"\"\"\n",
    "        :type nums: List[int]\n",
    "        :rtype: int\n",
    "        \"\"\"\n",
    "        n=len(nums)\n",
    "        if n==0: return 0\n",
    "        maxsofar=nums[0]\n",
    "        maxherepre=nums[0]\n",
    "        minherepre=nums[0]\n",
    "        maxhere=nums[0]\n",
    "        minhere=nums[0]\n",
    "        for i in range(1,n):\n",
    "            maxhere=max(max(maxherepre*nums[i],minherepre*nums[i]),nums[i])\n",
    "            minhere=min(min(maxherepre*nums[i],minherepre*nums[i]),nums[i])\n",
    "            if maxhere>maxsofar:\n",
    "                maxsofar=maxhere\n",
    "            maxherepre=maxhere\n",
    "            minherepre=minhere\n",
    "        return maxsofar"
   ]
  },
  {
   "cell_type": "code",
   "execution_count": 170,
   "metadata": {
    "collapsed": false
   },
   "outputs": [
    {
     "data": {
      "text/plain": [
       "6"
      ]
     },
     "execution_count": 170,
     "metadata": {},
     "output_type": "execute_result"
    }
   ],
   "source": [
    "o=Solution()\n",
    "o.maxProduct([2,3,-2,4])"
   ]
  },
  {
   "cell_type": "markdown",
   "metadata": {},
   "source": [
    "## 153. Find Minimum in Rotated Sorted Array"
   ]
  },
  {
   "cell_type": "markdown",
   "metadata": {},
   "source": [
    "Suppose a sorted array is rotated at some pivot unknown to you beforehand.\n",
    "\n",
    "(i.e., 0 1 2 4 5 6 7 might become 4 5 6 7 0 1 2).\n",
    "\n",
    "Find the minimum element.\n",
    "\n",
    "You may assume no duplicate exists in the array."
   ]
  },
  {
   "cell_type": "markdown",
   "metadata": {},
   "source": [
    "Solution: We just need to locate the position that the rotation happens. This can be done by Binary search."
   ]
  },
  {
   "cell_type": "code",
   "execution_count": 324,
   "metadata": {
    "collapsed": true
   },
   "outputs": [],
   "source": [
    "class Solution(object):\n",
    "    def findMin(self, nums):\n",
    "        \"\"\"\n",
    "        :type nums: List[int]\n",
    "        :rtype: int\n",
    "        \"\"\"\n",
    "        if nums==[]:\n",
    "            return None\n",
    "        start=0\n",
    "        end=len(nums)-1\n",
    "        if start==end:\n",
    "            return nums[start]\n",
    "        midpoint=(start+end)/2\n",
    "        if nums[midpoint]>nums[end]:\n",
    "            return self.findMin(nums[midpoint+1:])\n",
    "        else:\n",
    "            return self.findMin(nums[:midpoint+1])"
   ]
  },
  {
   "cell_type": "code",
   "execution_count": 325,
   "metadata": {
    "collapsed": false
   },
   "outputs": [
    {
     "data": {
      "text/plain": [
       "1"
      ]
     },
     "execution_count": 325,
     "metadata": {},
     "output_type": "execute_result"
    }
   ],
   "source": [
    "o=Solution()\n",
    "o.findMin([2,3,4,5,1])"
   ]
  },
  {
   "cell_type": "markdown",
   "metadata": {},
   "source": [
    "## 162. Find Peak Element"
   ]
  },
  {
   "cell_type": "markdown",
   "metadata": {},
   "source": [
    "A peak element is an element that is greater than its neighbors.\n",
    "\n",
    "Given an input array where num[i] ≠ num[i+1], find a peak element and return its index.\n",
    "\n",
    "The array may contain multiple peaks, in that case return the index to any one of the peaks is fine.\n",
    "\n",
    "You may imagine that num[-1] = num[n] = -∞.\n",
    "\n",
    "For example, in array [1, 2, 3, 1], 3 is a peak element and your function should return the index number 2."
   ]
  },
  {
   "cell_type": "markdown",
   "metadata": {},
   "source": [
    "Solution: We need to be careful about the start and the end."
   ]
  },
  {
   "cell_type": "markdown",
   "metadata": {},
   "source": [
    "**O(n) solution**:"
   ]
  },
  {
   "cell_type": "code",
   "execution_count": 157,
   "metadata": {
    "collapsed": true
   },
   "outputs": [],
   "source": [
    "class Solution(object):\n",
    "    def findPeakElement(self, nums):\n",
    "        \"\"\"\n",
    "        :type nums: List[int]\n",
    "        :rtype: int\n",
    "        \"\"\"\n",
    "        n=len(nums)\n",
    "        if n==1: return 0\n",
    "        if nums[0]>nums[1]: return 0\n",
    "        for i in range(1,n-1):\n",
    "            if nums[i]>nums[i-1] and nums[i]>nums[i+1]:\n",
    "                return i\n",
    "        if nums[n-1]>nums[n-2]: return n-1"
   ]
  },
  {
   "cell_type": "code",
   "execution_count": 158,
   "metadata": {
    "collapsed": false
   },
   "outputs": [
    {
     "data": {
      "text/plain": [
       "1"
      ]
     },
     "execution_count": 158,
     "metadata": {},
     "output_type": "execute_result"
    }
   ],
   "source": [
    "o=Solution()\n",
    "o.findPeakElement([1,3])"
   ]
  },
  {
   "cell_type": "markdown",
   "metadata": {},
   "source": [
    "**O(log n) solution(Binary Search):**"
   ]
  },
  {
   "cell_type": "markdown",
   "metadata": {},
   "source": [
    "This problem is similar to Local Minimum. And according to the given condition, num[i] != num[i+1], there must exist a O(logN) solution. So we use binary search for this problem.\n",
    "\n",
    "* If num[i-1] < num[i] > num[i+1], then num[i] is peak\n",
    "* If num[i-1] < num[i] < num[i+1], then num[i+1...n-1] must contains a peak\n",
    "* If num[i-1] > num[i] > num[i+1], then num[0...i-1] must contains a peak\n",
    "* If num[i-1] > num[i] < num[i+1], then both sides have peak(n is num.length)"
   ]
  },
  {
   "cell_type": "code",
   "execution_count": 163,
   "metadata": {
    "collapsed": true
   },
   "outputs": [],
   "source": [
    "class Solution(object):\n",
    "    def findPeakElement(self, nums):\n",
    "        \"\"\"\n",
    "        :type nums: List[int]\n",
    "        :rtype: int\n",
    "        \"\"\"\n",
    "        n=len(nums)\n",
    "        return self.findPeakElementhelper(nums,0,n-1)\n",
    "        \n",
    "    def findPeakElementhelper(self,nums,start,end):\n",
    "        if start==end:\n",
    "            return start\n",
    "        elif start+1==end:\n",
    "            if nums[start]>nums[end]:\n",
    "                return start\n",
    "            else:\n",
    "                return end\n",
    "        mid=(start+end)/2\n",
    "        if nums[mid]>nums[mid+1] and nums[mid]>nums[mid-1]:\n",
    "            return mid\n",
    "        elif nums[mid]<nums[mid+1] and nums[mid]>nums[mid-1]:\n",
    "            return self.findPeakElementhelper(nums,mid+1,end)\n",
    "        elif nums[mid]<nums[mid+1] and nums[mid]>nums[mid-1]:\n",
    "            return self.findPeakElementhelper(nums,start,mid-1)\n",
    "        else:\n",
    "            return self.findPeakElementhelper(nums,start,mid-1)"
   ]
  },
  {
   "cell_type": "code",
   "execution_count": 164,
   "metadata": {
    "collapsed": false
   },
   "outputs": [
    {
     "data": {
      "text/plain": [
       "2"
      ]
     },
     "execution_count": 164,
     "metadata": {},
     "output_type": "execute_result"
    }
   ],
   "source": [
    "o=Solution()\n",
    "o.findPeakElement([1,2,3,2,1])"
   ]
  },
  {
   "cell_type": "markdown",
   "metadata": {},
   "source": [
    "## 189. Rotate Array"
   ]
  },
  {
   "cell_type": "markdown",
   "metadata": {},
   "source": [
    "Rotate an array of n elements to the right by k steps.\n",
    "\n",
    "For example, with n = 7 and k = 3, the array [1,2,3,4,5,6,7] is rotated to [5,6,7,1,2,3,4].\n",
    "\n",
    "Note:\n",
    "Try to come up as many solutions as you can, there are at least 3 different ways to solve this problem."
   ]
  },
  {
   "cell_type": "markdown",
   "metadata": {},
   "source": [
    "Solution: First solution, pop and add from the end"
   ]
  },
  {
   "cell_type": "code",
   "execution_count": 278,
   "metadata": {
    "collapsed": true
   },
   "outputs": [],
   "source": [
    "class Solution(object):\n",
    "    def rotate(self, nums, k):\n",
    "        \"\"\"\n",
    "        :type nums: List[int]\n",
    "        :type k: int\n",
    "        :rtype: void Do not return anything, modify nums in-place instead.\n",
    "        \"\"\"\n",
    "        for i in range(k):\n",
    "            nums.insert(0,nums.pop())"
   ]
  },
  {
   "cell_type": "code",
   "execution_count": 279,
   "metadata": {
    "collapsed": false
   },
   "outputs": [
    {
     "data": {
      "text/plain": [
       "[5, 6, 7, 1, 2, 3, 4]"
      ]
     },
     "execution_count": 279,
     "metadata": {},
     "output_type": "execute_result"
    }
   ],
   "source": [
    "o=Solution()\n",
    "nums=[1,2,3,4,5,6,7]\n",
    "o.rotate(nums,3)\n",
    "nums"
   ]
  },
  {
   "cell_type": "markdown",
   "metadata": {},
   "source": [
    "The same idea can be improved by manipulating sublist, which leads to better performance."
   ]
  },
  {
   "cell_type": "code",
   "execution_count": 294,
   "metadata": {
    "collapsed": true
   },
   "outputs": [],
   "source": [
    "class Solution(object):\n",
    "    def rotate(self, nums, k):\n",
    "        \"\"\"\n",
    "        :type nums: List[int]\n",
    "        :type k: int\n",
    "        :rtype: void Do not return anything, modify nums in-place instead.\n",
    "        \"\"\"\n",
    "        n=len(nums)\n",
    "        k%=n\n",
    "        nums+=nums[0:n-k] # notice that nums=nums+nums[0:n-k] is not in-place\n",
    "        # or nums[:]=nums[:]+nums[0:n-k]\n",
    "        del nums[0:n-k]"
   ]
  },
  {
   "cell_type": "code",
   "execution_count": 295,
   "metadata": {
    "collapsed": false
   },
   "outputs": [
    {
     "data": {
      "text/plain": [
       "[5, 6, 7, 1, 2, 3, 4]"
      ]
     },
     "execution_count": 295,
     "metadata": {},
     "output_type": "execute_result"
    }
   ],
   "source": [
    "o=Solution()\n",
    "nums=[1,2,3,4,5,6,7]\n",
    "o.rotate(nums,3)\n",
    "nums"
   ]
  },
  {
   "cell_type": "markdown",
   "metadata": {},
   "source": [
    "An alternative solution is based on the following logic\n",
    "\n",
    "1. abc def->cba def\n",
    "2. cba def->cba fed\n",
    "3. cbafed->defabc"
   ]
  },
  {
   "cell_type": "code",
   "execution_count": 301,
   "metadata": {
    "collapsed": false
   },
   "outputs": [
    {
     "data": {
      "text/plain": [
       "[3, 2, 1]"
      ]
     },
     "execution_count": 301,
     "metadata": {},
     "output_type": "execute_result"
    }
   ],
   "source": [
    "a=[1,2,3,4,5,6]\n",
    "list(reversed(a[0:3]))"
   ]
  },
  {
   "cell_type": "markdown",
   "metadata": {},
   "source": [
    "## 209. Minimum Size Subarray Sum"
   ]
  },
  {
   "cell_type": "markdown",
   "metadata": {},
   "source": [
    "Given an array of n positive integers and a positive integer s, find the minimal length of a contiguous subarray of which the sum ≥ s. If there isn't one, return 0 instead.\n",
    "\n",
    "For example, given the array [2,3,1,2,4,3] and s = 7,\n",
    "the subarray [4,3] has the minimal length under the problem constraint.\n",
    "\n",
    "click to show more practice.\n",
    "\n",
    "More practice:\n",
    "\n",
    "If you have figured out the O(n) solution, try coding another solution of which the time complexity is O(n log n)."
   ]
  },
  {
   "cell_type": "markdown",
   "metadata": {},
   "source": [
    "Solution: Brutal force. check all subarrays. O(n^2) time and O(n^2) space. Alternatively, we could calculate the sum_array with s[i] the sum of nums[0] to nums[i]. That saves space to O(n). Discussion solution with time O(n):\n",
    "\n",
    "1. expand the subarray window until sum>s\n",
    "2. shrink the window as far as possible\n",
    "3. slide the window and seek possible further shrink"
   ]
  },
  {
   "cell_type": "code",
   "execution_count": 110,
   "metadata": {
    "collapsed": true
   },
   "outputs": [],
   "source": [
    "class Solution(object):\n",
    "    def minSubArrayLen(self, s, nums):\n",
    "        \"\"\"\n",
    "        :type s: int\n",
    "        :type nums: List[int]\n",
    "        :rtype: int\n",
    "        \"\"\"  \n",
    "        n=len(nums)\n",
    "        # expand\n",
    "        j=0\n",
    "        # shrink\n",
    "        i=0\n",
    "        num_sum=0\n",
    "        min_length=n+1\n",
    "        while j<n:\n",
    "            while (num_sum < s and j < n): \n",
    "                num_sum += nums[j]\n",
    "                j+=1\n",
    "            if num_sum>=s:\n",
    "                while num_sum>=s and i<j:\n",
    "                    num_sum-=nums[i]\n",
    "                    i+=1\n",
    "                min_length=min(min_length,j-i+1)\n",
    "        return 0 if min_length==n+1 else min_length"
   ]
  },
  {
   "cell_type": "code",
   "execution_count": 115,
   "metadata": {
    "collapsed": false
   },
   "outputs": [
    {
     "data": {
      "text/plain": [
       "2"
      ]
     },
     "execution_count": 115,
     "metadata": {},
     "output_type": "execute_result"
    }
   ],
   "source": [
    "o=Solution()\n",
    "o.minSubArrayLen(7,[2,3,1,2,4,3])"
   ]
  },
  {
   "cell_type": "markdown",
   "metadata": {},
   "source": [
    "Test cases:\n",
    "\n",
    "1. such subarray exists\n",
    "2. such subarray does not exist\n",
    "3. min_length==nums.length\n",
    "4. min_length==1"
   ]
  },
  {
   "cell_type": "markdown",
   "metadata": {},
   "source": [
    "## <font color=red>216. Combination Sum III"
   ]
  },
  {
   "cell_type": "markdown",
   "metadata": {},
   "source": [
    "Find all possible combinations of k numbers that add up to a number n, given that only numbers from 1 to 9 can be used and each combination should be a unique set of numbers.\n",
    "\n",
    "\n",
    "Example 1:\n",
    "\n",
    "Input: k = 3, n = 7\n",
    "\n",
    "Output:\n",
    "\n",
    "[[1,2,4]]\n",
    "\n",
    "Example 2:\n",
    "\n",
    "Input: k = 3, n = 9\n",
    "\n",
    "Output:\n",
    "\n",
    "[[1,2,6], [1,3,5], [2,3,4]]"
   ]
  },
  {
   "cell_type": "markdown",
   "metadata": {},
   "source": [
    "Solution: Brutal force: time complexity O(n^3). If we consider the idea from 3Sum, the time complexity should become O(n^2). We fix the first number among 1 to n-1, then we use two pointer method to find second and third number."
   ]
  },
  {
   "cell_type": "markdown",
   "metadata": {},
   "source": [
    "**3Sum**"
   ]
  },
  {
   "cell_type": "code",
   "execution_count": 119,
   "metadata": {
    "collapsed": true
   },
   "outputs": [],
   "source": [
    "class Solution(object):\n",
    "    def combinationSum3(self, k, n):\n",
    "        \"\"\"\n",
    "        :type k: int\n",
    "        :type n: int\n",
    "        :rtype: List[List[int]]\n",
    "        \"\"\"\n",
    "        results=[]\n",
    "        for i in range(1,n):\n",
    "            j=i+1\n",
    "            k=n-1\n",
    "            while j<k:\n",
    "                sum3=i+j+k\n",
    "                if sum3>n:\n",
    "                    k-=1\n",
    "                elif sum3<n:\n",
    "                    j+=1\n",
    "                else:\n",
    "                    results.append([i,j,k])\n",
    "                    k-=1\n",
    "                    j+=1\n",
    "        return results"
   ]
  },
  {
   "cell_type": "code",
   "execution_count": 120,
   "metadata": {
    "collapsed": false
   },
   "outputs": [
    {
     "data": {
      "text/plain": [
       "[[1, 2, 6], [1, 3, 5], [2, 3, 4]]"
      ]
     },
     "execution_count": 120,
     "metadata": {},
     "output_type": "execute_result"
    }
   ],
   "source": [
    "o=Solution()\n",
    "o.combinationSum3(3,9)"
   ]
  },
  {
   "cell_type": "markdown",
   "metadata": {},
   "source": [
    "For general combination of k numbers, we could in principle apply KSum code. But let me consider a different idea."
   ]
  },
  {
   "cell_type": "markdown",
   "metadata": {},
   "source": [
    "**dfs solution**: Consider 0 to n as nodes of a graph and $i_1<i_2<i_3<...<i_k(i_1+i_2+i_3+...+i_k=n)$ as edges in the path from 0 to n."
   ]
  },
  {
   "cell_type": "code",
   "execution_count": 135,
   "metadata": {
    "collapsed": true
   },
   "outputs": [],
   "source": [
    "class Solution(object):\n",
    "    def combinationSum3(self, k, n):\n",
    "        \"\"\"\n",
    "        :type k: int\n",
    "        :type n: int\n",
    "        :rtype: List[List[int]]\n",
    "        \"\"\"\n",
    "        results=[]\n",
    "        path=[]\n",
    "        self.dfs(0,n,k,results,path)\n",
    "        return results\n",
    "        \n",
    "    def dfs(self,last_length,n,k,results,path):\n",
    "        \"\"\"\n",
    "        :type last_length: int\n",
    "        :type n: int\n",
    "        :type k: int\n",
    "        :type results: List[List[int]]\n",
    "        :type path: List[int]\n",
    "        \"\"\"\n",
    "        if k==0 and n==0:\n",
    "            results.append(path)\n",
    "        for i in range(last_length+1,n+1):\n",
    "            self.dfs(i,n-i,k-1,results,path+[i])"
   ]
  },
  {
   "cell_type": "code",
   "execution_count": 137,
   "metadata": {
    "collapsed": false
   },
   "outputs": [
    {
     "data": {
      "text/plain": [
       "[[1, 17], [2, 16], [3, 15], [4, 14], [5, 13], [6, 12], [7, 11], [8, 10]]"
      ]
     },
     "execution_count": 137,
     "metadata": {},
     "output_type": "execute_result"
    }
   ],
   "source": [
    "o=Solution()\n",
    "o.combinationSum3(2,18)"
   ]
  },
  {
   "cell_type": "markdown",
   "metadata": {},
   "source": [
    "The above solution is not right on k=2, n=18 as only 1-9 can be used."
   ]
  },
  {
   "cell_type": "code",
   "execution_count": 138,
   "metadata": {
    "collapsed": true
   },
   "outputs": [],
   "source": [
    "class Solution(object):\n",
    "    def combinationSum3(self, k, n):\n",
    "        \"\"\"\n",
    "        :type k: int\n",
    "        :type n: int\n",
    "        :rtype: List[List[int]]\n",
    "        \"\"\"\n",
    "        results=[]\n",
    "        path=[]\n",
    "        self.dfs(0,n,k,results,path)\n",
    "        return results\n",
    "        \n",
    "    def dfs(self,last_length,n,k,results,path):\n",
    "        \"\"\"\n",
    "        :type last_length: int\n",
    "        :type n: int\n",
    "        :type k: int\n",
    "        :type results: List[List[int]]\n",
    "        :type path: List[int]\n",
    "        \"\"\"\n",
    "        if k==0 and n==0:\n",
    "            results.append(path)\n",
    "        for i in range(last_length+1,10):\n",
    "            self.dfs(i,n-i,k-1,results,path+[i])"
   ]
  },
  {
   "cell_type": "code",
   "execution_count": 139,
   "metadata": {
    "collapsed": false
   },
   "outputs": [
    {
     "data": {
      "text/plain": [
       "[]"
      ]
     },
     "execution_count": 139,
     "metadata": {},
     "output_type": "execute_result"
    }
   ],
   "source": [
    "o=Solution()\n",
    "o.combinationSum3(2,18)"
   ]
  },
  {
   "cell_type": "markdown",
   "metadata": {},
   "source": [
    "## 217. Contains Duplicate"
   ]
  },
  {
   "cell_type": "markdown",
   "metadata": {},
   "source": [
    "Given an array of integers, find if the array contains any duplicates. Your function should return true if any value appears at least twice in the array, and it should return false if every element is distinct."
   ]
  },
  {
   "cell_type": "markdown",
   "metadata": {},
   "source": [
    "Solution: We could sort the array first and then check uniqueness, time O(n log n)"
   ]
  },
  {
   "cell_type": "code",
   "execution_count": null,
   "metadata": {
    "collapsed": true
   },
   "outputs": [],
   "source": [
    "class Solution(object):\n",
    "    def containsDuplicate(self, nums):\n",
    "        \"\"\"\n",
    "        :type nums: List[int]\n",
    "        :rtype: bool\n",
    "        \"\"\"\n",
    "        nums.sort()\n",
    "        for i in range(len(nums)-1):\n",
    "            if nums[i]==nums[i+1]:\n",
    "                return True\n",
    "        return False"
   ]
  },
  {
   "cell_type": "markdown",
   "metadata": {},
   "source": [
    "## 219. Contains Duplicate II"
   ]
  },
  {
   "cell_type": "markdown",
   "metadata": {},
   "source": [
    "Given an array of integers and an integer k, find out whether there are two distinct indices i and j in the array such that nums[i] = nums[j] and the difference between i and j is at most k."
   ]
  },
  {
   "cell_type": "markdown",
   "metadata": {},
   "source": [
    "Solution: Obviously this problem can be solved in O(n^2). Can we do better? One way is to use hashtable"
   ]
  },
  {
   "cell_type": "code",
   "execution_count": 248,
   "metadata": {
    "collapsed": true
   },
   "outputs": [],
   "source": [
    "class Solution(object):\n",
    "    def containsNearbyDuplicate(self, nums, k):\n",
    "        \"\"\"\n",
    "        :type nums: List[int]\n",
    "        :type k: int\n",
    "        :rtype: bool\n",
    "        \"\"\"\n",
    "        nums_keys=set(nums)\n",
    "        nums_dict={e:[] for e in nums_keys}\n",
    "        for i in range(len(nums)):\n",
    "            nums_dict[nums[i]].append(i)\n",
    "        for num in nums_dict.keys():\n",
    "            indices=nums_dict[num]\n",
    "            if len(indices)>1:\n",
    "                for i in range(len(indices)-1):\n",
    "                    if indices[i+1]-indices[i]<=k:\n",
    "                        return True\n",
    "        return False"
   ]
  },
  {
   "cell_type": "code",
   "execution_count": 249,
   "metadata": {
    "collapsed": false
   },
   "outputs": [
    {
     "data": {
      "text/plain": [
       "True"
      ]
     },
     "execution_count": 249,
     "metadata": {},
     "output_type": "execute_result"
    }
   ],
   "source": [
    "o=Solution()\n",
    "o.containsNearbyDuplicate([1,0,1,1],1)"
   ]
  },
  {
   "cell_type": "code",
   "execution_count": 245,
   "metadata": {
    "collapsed": false
   },
   "outputs": [
    {
     "data": {
      "text/plain": [
       "set()"
      ]
     },
     "execution_count": 245,
     "metadata": {},
     "output_type": "execute_result"
    }
   ],
   "source": [
    "a=set([])\n",
    "a"
   ]
  },
  {
   "cell_type": "markdown",
   "metadata": {},
   "source": [
    "The above solution is TLE."
   ]
  },
  {
   "cell_type": "markdown",
   "metadata": {},
   "source": [
    "## 228. Summary Ranges"
   ]
  },
  {
   "cell_type": "markdown",
   "metadata": {},
   "source": [
    "Given a sorted integer array without duplicates, return the summary of its ranges.\n",
    "\n",
    "For example, given [0,1,2,4,5,7], return [\"0->2\",\"4->5\",\"7\"]."
   ]
  },
  {
   "cell_type": "markdown",
   "metadata": {},
   "source": [
    "Solution: We need two pointers to record the range. We do one pass and check start and end number. We need to be careful in handling corner cases and edge cases."
   ]
  },
  {
   "cell_type": "code",
   "execution_count": 105,
   "metadata": {
    "collapsed": true
   },
   "outputs": [],
   "source": [
    "class Solution(object):\n",
    "    def summaryRanges(self, nums):\n",
    "        \"\"\"\n",
    "        :type nums: List[int]\n",
    "        :rtype: List[str]\n",
    "        \"\"\"\n",
    "        n=len(nums)\n",
    "        if n==0: return []\n",
    "        results=[]\n",
    "        start=end=nums[0]\n",
    "        for i in range(n-1):\n",
    "            if nums[i+1]==nums[i]+1:\n",
    "                end=nums[i+1]\n",
    "            else:\n",
    "                if start==end:\n",
    "                    results.append(str(start))\n",
    "                else:\n",
    "                    results.append(str(start)+'->'+str(end))\n",
    "                    \n",
    "                start=end=nums[i+1]\n",
    "                \n",
    "        if start==end:\n",
    "            results.append(str(start))\n",
    "        else:\n",
    "            results.append(str(start)+'->'+str(end))\n",
    "            \n",
    "        return results"
   ]
  },
  {
   "cell_type": "code",
   "execution_count": 109,
   "metadata": {
    "collapsed": false
   },
   "outputs": [
    {
     "data": {
      "text/plain": [
       "['0->2']"
      ]
     },
     "execution_count": 109,
     "metadata": {},
     "output_type": "execute_result"
    }
   ],
   "source": [
    "o=Solution()\n",
    "nums=[0,1,2]\n",
    "o.summaryRanges(nums)"
   ]
  },
  {
   "cell_type": "markdown",
   "metadata": {},
   "source": [
    "## 229. Majority Element II"
   ]
  },
  {
   "cell_type": "markdown",
   "metadata": {},
   "source": [
    "Given an integer array of size n, find all elements that appear more than ⌊ n/3 ⌋ times. The algorithm should run in linear time and in O(1) space."
   ]
  },
  {
   "cell_type": "markdown",
   "metadata": {},
   "source": [
    "Solution: The problem can obviously be solved by hashtable with extra space. For O(1) space, since we have at most 2 elements that could appear more than ⌊ n/3 ⌋ times, the result list should be of size 2 at most. We could first sort the nums list in-place, then we count the elements by one pass. But that will take O(n log n) time. "
   ]
  },
  {
   "cell_type": "markdown",
   "metadata": {},
   "source": [
    "**Top discussion solution**: Boyer-Moore Majority Vote algorithm\n",
    "\n",
    "The essential concepts is you keep a counter for the majority number X. If you find a number Y that is not X, the current counter should deduce 1. The reason is that if there is 5 X and 4 Y, there would be one (5-4) more X than Y. This could be explained as \"4 X being paired out by 4 Y\".\n",
    "\n",
    "And since the requirement is finding the majority for more than ceiling of [n/3], the answer would be less than or equal to two numbers.\n",
    "So we can modify the algorithm to maintain two counters for two majorities."
   ]
  },
  {
   "cell_type": "code",
   "execution_count": 96,
   "metadata": {
    "collapsed": true
   },
   "outputs": [],
   "source": [
    "class Solution(object):\n",
    "    def majorityElement(self, nums):\n",
    "        \"\"\"\n",
    "        :type nums: List[int]\n",
    "        :rtype: List[int]\n",
    "        \"\"\"\n",
    "        counter1,counter2=0,0\n",
    "        candidate1,candidate2=0,1\n",
    "        l=len(nums)\n",
    "        if l<=1: return nums\n",
    "        results=[]\n",
    "        # get majority1 and majority2\n",
    "        for n in nums:\n",
    "            if n==candidate1:\n",
    "                counter1+=1\n",
    "            elif n==candidate2:\n",
    "                counter2+=1\n",
    "            elif counter1==0:\n",
    "                candidate1,counter1=n,1\n",
    "            elif counter2==0:\n",
    "                candidate2,counter2=n,1\n",
    "            else:\n",
    "                counter1-=1\n",
    "                counter2-=1\n",
    "                \n",
    "        # check whether the counts of majority 1 and 2 are over ⌊ n/3 ⌋\n",
    "        if nums.count(candidate1)>l/3: \n",
    "            results.append(candidate1)\n",
    "        if nums.count(candidate2)>l/3: \n",
    "            results.append(candidate2)\n",
    "        return results"
   ]
  },
  {
   "cell_type": "code",
   "execution_count": 97,
   "metadata": {
    "collapsed": false
   },
   "outputs": [
    {
     "data": {
      "text/plain": [
       "[1]"
      ]
     },
     "execution_count": 97,
     "metadata": {},
     "output_type": "execute_result"
    }
   ],
   "source": [
    "o=Solution()\n",
    "nums=[4,2,1,1]\n",
    "o.majorityElement(nums)"
   ]
  },
  {
   "cell_type": "markdown",
   "metadata": {},
   "source": [
    "## 238. Product of Array Except Self"
   ]
  },
  {
   "cell_type": "markdown",
   "metadata": {},
   "source": [
    "Given an array of n integers where n > 1, nums, return an array output such that output[i] is equal to the product of all the elements of nums except nums[i].\n",
    "\n",
    "Solve it without division and in O(n).\n",
    "\n",
    "For example, given [1,2,3,4], return [24,12,8,6].\n",
    "\n",
    "**Follow up**:\n",
    "Could you solve it with constant space complexity? (Note: The output array does not count as extra space for the purpose of space complexity analysis.)"
   ]
  },
  {
   "cell_type": "markdown",
   "metadata": {},
   "source": [
    "Solution: Without division, the brutal force time complexity is $O(n^2)$. Refering to the discussion solution. We could do two passes to get the result:\n",
    "\n",
    "1. forward pass: product of entries before index i.\n",
    "2. backward pass: product of entries after i."
   ]
  },
  {
   "cell_type": "code",
   "execution_count": 56,
   "metadata": {
    "collapsed": true
   },
   "outputs": [],
   "source": [
    "class Solution(object):\n",
    "    def productExceptSelf(self, nums):\n",
    "        \"\"\"\n",
    "        :type nums: List[int]\n",
    "        :rtype: List[int]\n",
    "        \"\"\"\n",
    "        n=len(nums)\n",
    "        results=[1]*n\n",
    "        for i in range(1,n):\n",
    "            results[i]=results[i-1]*nums[i-1]\n",
    "        product_afterward=1\n",
    "        for i in range(n-2,-1,-1):\n",
    "            product_afterward*=nums[i+1]\n",
    "            results[i]*=product_afterward\n",
    "        return results"
   ]
  },
  {
   "cell_type": "code",
   "execution_count": 57,
   "metadata": {
    "collapsed": false
   },
   "outputs": [
    {
     "data": {
      "text/plain": [
       "[24, 12, 8, 6]"
      ]
     },
     "execution_count": 57,
     "metadata": {},
     "output_type": "execute_result"
    }
   ],
   "source": [
    "o=Solution()\n",
    "nums=[1,2,3,4]\n",
    "o.productExceptSelf(nums)"
   ]
  },
  {
   "cell_type": "markdown",
   "metadata": {},
   "source": [
    "## 283. Move Zeroes"
   ]
  },
  {
   "cell_type": "markdown",
   "metadata": {},
   "source": [
    "Given an array nums, write a function to move all 0's to the end of it while maintaining the relative order of the non-zero elements.\n",
    "\n",
    "For example, given nums = [0, 1, 0, 3, 12], after calling your function, nums should be [1, 3, 12, 0, 0].\n",
    "\n",
    "Note:\n",
    "* You must do this in-place without making a copy of the array.\n",
    "* Minimize the total number of operations."
   ]
  },
  {
   "cell_type": "markdown",
   "metadata": {},
   "source": [
    "Solution I"
   ]
  },
  {
   "cell_type": "code",
   "execution_count": 204,
   "metadata": {
    "collapsed": true
   },
   "outputs": [],
   "source": [
    "class Solution(object):\n",
    "    # in-place\n",
    "    def moveZeroes(self, nums):\n",
    "        zero = 0  # records the position of \"0\"\n",
    "        for i in xrange(len(nums)):\n",
    "            if nums[i] != 0:\n",
    "                nums[i], nums[zero] = nums[zero], nums[i]\n",
    "                zero += 1\n",
    "            "
   ]
  },
  {
   "cell_type": "markdown",
   "metadata": {},
   "source": [
    "Solution II"
   ]
  },
  {
   "cell_type": "code",
   "execution_count": null,
   "metadata": {
    "collapsed": true
   },
   "outputs": [],
   "source": [
    "class Solution(object):\n",
    "    def moveZeroes(self, nums):\n",
    "        \"\"\"\n",
    "        :type nums: List[int]\n",
    "        :rtype: void Do not return anything, modify nums in-place instead.\n",
    "        \"\"\"\n",
    "        i=0\n",
    "        t=0\n",
    "        while t<len(nums):\n",
    "            if nums[i]==0:\n",
    "                nums.pop(i)\n",
    "                nums.append(0)\n",
    "                t=t+1\n",
    "                i=i-1\n",
    "            else:\n",
    "                t=t+1\n",
    "            i=i+1\n",
    "        return"
   ]
  },
  {
   "cell_type": "markdown",
   "metadata": {},
   "source": [
    "## 287. <font color=red>Find the Duplicate Number"
   ]
  },
  {
   "cell_type": "markdown",
   "metadata": {},
   "source": [
    "Given an array nums containing n + 1 integers where each integer is between 1 and n (inclusive), prove that at least one duplicate number must exist. Assume that there is only one duplicate number, find the duplicate one.\n",
    "\n",
    "Note:\n",
    "* You must not modify the array (assume the array is read only).\n",
    "* You must use only constant, O(1) extra space.\n",
    "* Your runtime complexity should be less than O(n^2).\n",
    "* There is only one duplicate number in the array, but it could be repeated more than once."
   ]
  },
  {
   "cell_type": "markdown",
   "metadata": {},
   "source": [
    "Solution: From the first and second note, sorting is not allowed. Possible approaches:\n",
    "\n",
    "1. Bit Manipulation\n",
    "2. Binary search"
   ]
  },
  {
   "cell_type": "code",
   "execution_count": null,
   "metadata": {
    "collapsed": true
   },
   "outputs": [],
   "source": [
    "class Solution(object):\n",
    "    def findDuplicate(self, nums):\n",
    "        \"\"\"\n",
    "        :type nums: List[int]\n",
    "        :rtype: int\n",
    "        \"\"\""
   ]
  },
  {
   "cell_type": "markdown",
   "metadata": {},
   "source": [
    "## 289. Game of Life"
   ]
  },
  {
   "cell_type": "markdown",
   "metadata": {},
   "source": [
    "According to the Wikipedia's article: \"The Game of Life, also known simply as Life, is a cellular automaton devised by the British mathematician John Horton Conway in 1970.\"\n",
    "\n",
    "Given a board with m by n cells, each cell has an initial state live (1) or dead (0). Each cell interacts with its eight neighbors (horizontal, vertical, diagonal) using the following four rules (taken from the above Wikipedia article):\n",
    "\n",
    "1. Any live cell with fewer than two live neighbors dies, as if caused by under-population.\n",
    "2. Any live cell with two or three live neighbors lives on to the next generation.\n",
    "3. Any live cell with more than three live neighbors dies, as if by over-population..\n",
    "4. Any dead cell with exactly three live neighbors becomes a live cell, as if by reproduction.\n",
    "\n",
    "Write a function to compute the next state (after one update) of the board given its current state.\n",
    "\n",
    "Follow up: \n",
    "\n",
    "1. Could you solve it in-place? Remember that the board needs to be updated at the same time: You cannot update some cells first and then use their updated values to update other cells.\n",
    "\n",
    "2. In this question, we represent the board using a 2D array. In principle, the board is infinite, which would cause problems when the active area encroaches the border of the array. How would you address these problems?\n"
   ]
  },
  {
   "cell_type": "markdown",
   "metadata": {},
   "source": [
    "Solution: (Discussion solution)To solve it in place, we use 2 bits to store 2 states:\n",
    "\n",
    "[2nd bit, 1st bit] = [next state, current state]\n",
    "\n",
    "- 00  dead (next) <- dead (current)\n",
    "- 01  dead (next) <- live (current)  \n",
    "- 10  live (next) <- dead (current)  \n",
    "- 11  live (next) <- live (current) \n",
    "\n",
    "* In the beginning, every cell is either 00 or 01.\n",
    "* Notice that 1st state is independent of 2nd state.\n",
    "* Imagine all cells are instantly changing from the 1st to the 2nd state, at the same time.\n",
    "* Let's count # of neighbors from 1st state and set 2nd state bit.\n",
    "* Since every 2nd state is by default dead, no need to consider transition 01 -> 00.\n",
    "* In the end, delete every cell's 1st state by doing >> 1.\n",
    "\n",
    "For each cell's 1st bit, check the 8 pixels around itself, and set the cell's 2nd bit.\n",
    "\n",
    "* Transition 01 -> 11: when board == 1 and lives >= 2 && lives <= 3.\n",
    "* Transition 00 -> 10: when board == 0 and lives == 3.\n",
    "\n",
    "To get the current state, simply do\n",
    "\n",
    "board[i][j] & 1\n",
    "\n",
    "To get the next state, simply do\n",
    "\n",
    "board[i][j] >> 1"
   ]
  },
  {
   "cell_type": "code",
   "execution_count": 472,
   "metadata": {
    "collapsed": true
   },
   "outputs": [],
   "source": [
    "class Solution(object):\n",
    "    def gameOfLife(self, board):\n",
    "        \"\"\"\n",
    "        :type board: List[List[int]]\n",
    "        :rtype: void Do not return anything, modify board in-place instead.\n",
    "        \"\"\"\n",
    "        m=len(board)\n",
    "        if m==0: return\n",
    "        n=len(board[0])\n",
    "        if n==0: return\n",
    "        \n",
    "        # record transition\n",
    "        for i in range(m):\n",
    "            for j in range(n):\n",
    "                num_lives=self.count_live_neighbors(board,m,n,i,j)\n",
    "                \n",
    "                if board[i][j]==1 and (num_lives==2 or num_lives==3):\n",
    "                    board[i][j]=3\n",
    "                elif board[i][j]==0 and num_lives==3:\n",
    "                    board[i][j]=2\n",
    "        \n",
    "        # current state\n",
    "        for i in range(m):\n",
    "            for j in range(n):\n",
    "                board[i][j]=(board[i][j] >> 1)\n",
    "                \n",
    "    def count_live_neighbors(self, board, m, n, i, j):\n",
    "        \"\"\"\n",
    "        :type board: List[List[int]]\n",
    "        :type m,n,i,j: int\n",
    "        :rtype: int\n",
    "        \"\"\"\n",
    "        lives=0\n",
    "        # up\n",
    "        if i>0:\n",
    "            lives+=(board[i-1][j]&1)\n",
    "        # down\n",
    "        if i+1<m:\n",
    "            lives+=(board[i+1][j]&1)\n",
    "        # left\n",
    "        if j>0:\n",
    "            lives+=(board[i][j-1]&1)\n",
    "        # right\n",
    "        if j+1<n:\n",
    "            lives+=(board[i][j+1]&1)\n",
    "        # up_left\n",
    "        if i>0 and j>0:\n",
    "            lives+=(board[i-1][j-1]&1)\n",
    "        # up_right\n",
    "        if i>0 and j+1<n:\n",
    "            lives+=(board[i-1][j+1]&1)\n",
    "        # down_left\n",
    "        if i+1<m and j>0:\n",
    "            lives+=(board[i+1][j-1]&1)\n",
    "        # down_right\n",
    "        if i+1<m and j+1<n:\n",
    "            lives+=(board[i+1][j+1]&1)\n",
    "            \n",
    "        return lives"
   ]
  },
  {
   "cell_type": "code",
   "execution_count": null,
   "metadata": {
    "collapsed": true
   },
   "outputs": [],
   "source": []
  },
  {
   "cell_type": "markdown",
   "metadata": {},
   "source": [
    "## 414. Third Maximum Number"
   ]
  },
  {
   "cell_type": "markdown",
   "metadata": {},
   "source": [
    "Given a non-empty array of integers, return the third maximum number in this array. If it does not exist, return the maximum number. The time complexity must be in O(n).\n",
    "\n",
    "Example 1:\n",
    "Input: [3, 2, 1]\n",
    "\n",
    "Output: 1\n",
    "\n",
    "Explanation: The third maximum is 1.\n",
    "\n",
    "Example 2:\n",
    "Input: [1, 2]\n",
    "\n",
    "Output: 2\n",
    "\n",
    "Explanation: The third maximum does not exist, so the maximum (2) is returned instead.\n",
    "\n",
    "Example 3:\n",
    "Input: [2, 2, 3, 1]\n",
    "\n",
    "Output: 1\n",
    "\n",
    "Explanation: Note that the third maximum here means the third maximum distinct number.\n",
    "Both numbers with value 2 are both considered as second maximum."
   ]
  },
  {
   "cell_type": "markdown",
   "metadata": {},
   "source": [
    "Solution: This is part of bubble sort, in which we flace the largest 3 numbers in place."
   ]
  },
  {
   "cell_type": "code",
   "execution_count": 169,
   "metadata": {
    "collapsed": true
   },
   "outputs": [],
   "source": [
    "class Solution(object):\n",
    "    def thirdMax(self, nums):\n",
    "        \"\"\"\n",
    "        :type nums: List[int]\n",
    "        :rtype: int\n",
    "        \"\"\"\n",
    "        n=len(nums)\n",
    "        if n==0:\n",
    "            return None\n",
    "        size=len(nums)\n",
    "        while(size>=len(nums)-3):\n",
    "            for i in range(size-1):\n",
    "                if(nums[i]>nums[i+1]):\n",
    "                    temp=nums[i]\n",
    "                    nums[i]=nums[i+1]\n",
    "                    nums[i+1]=temp\n",
    "            size-=1\n",
    "        # return thirdMax\n",
    "        if n>=3:\n",
    "            return nums[n-1-2]\n",
    "        else:\n",
    "            return nums[n-1]"
   ]
  },
  {
   "cell_type": "code",
   "execution_count": 167,
   "metadata": {
    "collapsed": false
   },
   "outputs": [
    {
     "data": {
      "text/plain": [
       "2"
      ]
     },
     "execution_count": 167,
     "metadata": {},
     "output_type": "execute_result"
    }
   ],
   "source": [
    "o=Solution()\n",
    "o.thirdMax([2, 2, 3, 1])"
   ]
  },
  {
   "cell_type": "markdown",
   "metadata": {},
   "source": [
    "The above solution is not right when there is duplicate. Below we apply a simple modification"
   ]
  },
  {
   "cell_type": "code",
   "execution_count": 170,
   "metadata": {
    "collapsed": true
   },
   "outputs": [],
   "source": [
    "class Solution(object):\n",
    "    def thirdMax(self, nums):\n",
    "        \"\"\"\n",
    "        :type nums: List[int]\n",
    "        :rtype: int\n",
    "        \"\"\"\n",
    "        # avoid duplicates\n",
    "        nums=list(set(nums))\n",
    "        n=len(nums)\n",
    "        if n==0:\n",
    "            return None\n",
    "        size=len(nums)\n",
    "        while(size>=len(nums)-3):\n",
    "            for i in range(size-1):\n",
    "                if(nums[i]>nums[i+1]):\n",
    "                    temp=nums[i]\n",
    "                    nums[i]=nums[i+1]\n",
    "                    nums[i+1]=temp\n",
    "            size-=1\n",
    "        # return thirdMax\n",
    "        if n>=3:\n",
    "            return nums[n-1-2]\n",
    "        else:\n",
    "            return nums[n-1]"
   ]
  },
  {
   "cell_type": "code",
   "execution_count": 171,
   "metadata": {
    "collapsed": false
   },
   "outputs": [
    {
     "data": {
      "text/plain": [
       "1"
      ]
     },
     "execution_count": 171,
     "metadata": {},
     "output_type": "execute_result"
    }
   ],
   "source": [
    "o=Solution()\n",
    "o.thirdMax([2, 2, 3, 1])"
   ]
  },
  {
   "cell_type": "markdown",
   "metadata": {},
   "source": [
    "## 442. Find All Duplicates in an Array"
   ]
  },
  {
   "cell_type": "markdown",
   "metadata": {},
   "source": [
    "Given an array of integers, 1 ≤ a[i] ≤ n (n = size of array), some elements appear twice and others appear once.\n",
    "\n",
    "Find all the elements that appear twice in this array.\n",
    "\n",
    "Could you do it without extra space and in O(n) runtime?\n",
    "\n",
    "Example:\n",
    "\n",
    "Input:\n",
    "[4,3,2,7,8,2,3,1]\n",
    "\n",
    "Output:\n",
    "[2,3]\n"
   ]
  },
  {
   "cell_type": "markdown",
   "metadata": {},
   "source": [
    "Solution: The solution is similar to 448 except for slight modification."
   ]
  },
  {
   "cell_type": "code",
   "execution_count": 172,
   "metadata": {
    "collapsed": true
   },
   "outputs": [],
   "source": [
    "class Solution(object):\n",
    "    def findDuplicates(self, nums):\n",
    "        \"\"\"\n",
    "        :type nums: List[int]\n",
    "        :rtype: List[int]\n",
    "        \"\"\"\n",
    "        results=[]\n",
    "        for i in range(len(nums)):\n",
    "            # exchange until one of the pairs is in its correct position\n",
    "            while nums[i]!=i+1 and nums[nums[i]-1]!=nums[i]:\n",
    "                tmp=nums[nums[i]-1]\n",
    "                nums[nums[i]-1]=nums[i]\n",
    "                nums[i]=tmp\n",
    "        for i in range(len(nums)):\n",
    "            if i+1!=nums[i]:\n",
    "                results.append(nums[i])\n",
    "        return results"
   ]
  },
  {
   "cell_type": "code",
   "execution_count": 173,
   "metadata": {
    "collapsed": false
   },
   "outputs": [
    {
     "data": {
      "text/plain": [
       "[3, 2]"
      ]
     },
     "execution_count": 173,
     "metadata": {},
     "output_type": "execute_result"
    }
   ],
   "source": [
    "o=Solution()\n",
    "o.findDuplicates([4,3,2,7,8,2,3,1])"
   ]
  },
  {
   "cell_type": "markdown",
   "metadata": {},
   "source": [
    "Another solution is to utilize the fact that elements can appear once or twice(odd or even), we could multiply the number in the postition they indicate by -1 and see if those numbers are positive(duplicate) or negative(non-duplicate)."
   ]
  },
  {
   "cell_type": "code",
   "execution_count": 174,
   "metadata": {
    "collapsed": true
   },
   "outputs": [],
   "source": [
    "class Solution(object):\n",
    "    def findDuplicates(self, nums):\n",
    "        \"\"\"\n",
    "        :type nums: List[int]\n",
    "        :rtype: List[int]\n",
    "        \"\"\"\n",
    "        res = list()\n",
    "        for i in range(0, len(nums)):\n",
    "            nums[abs(nums[i])-1] *= -1\n",
    "            if nums[abs(nums[i])-1] > 0:\n",
    "                res.append(abs(nums[i]))\n",
    "        return res"
   ]
  },
  {
   "cell_type": "code",
   "execution_count": 175,
   "metadata": {
    "collapsed": false
   },
   "outputs": [
    {
     "data": {
      "text/plain": [
       "[2, 3]"
      ]
     },
     "execution_count": 175,
     "metadata": {},
     "output_type": "execute_result"
    }
   ],
   "source": [
    "o=Solution()\n",
    "o.findDuplicates([4,3,2,7,8,2,3,1])"
   ]
  },
  {
   "cell_type": "markdown",
   "metadata": {},
   "source": [
    "## 448. Find All Numbers Disappeared in an Array"
   ]
  },
  {
   "cell_type": "markdown",
   "metadata": {},
   "source": [
    "Given an array of integers where 1 ≤ a[i] ≤ n (n = size of array), some elements appear twice and others appear once.\n",
    "\n",
    "Find all the elements of [1, n] inclusive that do not appear in this array.\n",
    "\n",
    "Could you do it without extra space and in O(n) runtime? You may assume the returned list does not count as extra space.\n",
    "\n",
    "Example:\n",
    "\n",
    "Input:\n",
    "[4,3,2,7,8,2,3,1]\n",
    "\n",
    "Output:\n",
    "[5,6]\n",
    "\n"
   ]
  },
  {
   "cell_type": "markdown",
   "metadata": {},
   "source": [
    "Solution: First we need to sort array a. This can be done in O(n) time by placing back the elements where they should be until no further exchange can be made"
   ]
  },
  {
   "cell_type": "code",
   "execution_count": 152,
   "metadata": {
    "collapsed": true
   },
   "outputs": [],
   "source": [
    "class Solution(object):\n",
    "    def findDisappearedNumbers(self, nums):\n",
    "        \"\"\"\n",
    "        :type nums: List[int]\n",
    "        :rtype: List[int]\n",
    "        \"\"\"\n",
    "        results=[]\n",
    "        for i in range(len(nums)):\n",
    "            # exchange until one of the pairs is in its correct position\n",
    "            while nums[i]!=i+1 and nums[nums[i]-1]!=nums[i]:\n",
    "                tmp=nums[nums[i]-1]\n",
    "                nums[nums[i]-1]=nums[i]\n",
    "                nums[i]=tmp\n",
    "            print nums\n",
    "        for i in range(len(nums)):\n",
    "            if i+1!=nums[i]:\n",
    "                results.append(i+1)\n",
    "        return results"
   ]
  },
  {
   "cell_type": "code",
   "execution_count": 153,
   "metadata": {
    "collapsed": false
   },
   "outputs": [
    {
     "name": "stdout",
     "output_type": "stream",
     "text": [
      "[3, 2, 3, 4, 8, 2, 7, 1]\n",
      "[3, 2, 3, 4, 8, 2, 7, 1]\n",
      "[3, 2, 3, 4, 8, 2, 7, 1]\n",
      "[3, 2, 3, 4, 8, 2, 7, 1]\n",
      "[1, 2, 3, 4, 3, 2, 7, 8]\n",
      "[1, 2, 3, 4, 3, 2, 7, 8]\n",
      "[1, 2, 3, 4, 3, 2, 7, 8]\n",
      "[1, 2, 3, 4, 3, 2, 7, 8]\n"
     ]
    },
    {
     "data": {
      "text/plain": [
       "[5, 6]"
      ]
     },
     "execution_count": 153,
     "metadata": {},
     "output_type": "execute_result"
    }
   ],
   "source": [
    "o=Solution()\n",
    "o.findDisappearedNumbers([4,3,2,7,8,2,3,1])"
   ]
  },
  {
   "cell_type": "markdown",
   "metadata": {
    "collapsed": true
   },
   "source": [
    "## 485. Max Consecutive Ones"
   ]
  },
  {
   "cell_type": "markdown",
   "metadata": {},
   "source": [
    "Given a binary array, find the maximum number of consecutive 1s in this array.\n",
    "\n",
    "Example 1:\n",
    "Input: [1,1,0,1,1,1]\n",
    "Output: 3\n",
    "\n",
    "Explanation: The first two digits or the last three digits are consecutive 1s.\n",
    "    The maximum number of consecutive 1s is 3.\n",
    "    \n",
    "Note:\n",
    "\n",
    "* The input array will only contain 0 and 1.\n",
    "* The length of input array is a positive integer and will not exceed 10,000\n"
   ]
  },
  {
   "cell_type": "markdown",
   "metadata": {},
   "source": [
    "Solution: We could do a one pass scan, record the current length of consecutive ones and compare it to the maximum length so far."
   ]
  },
  {
   "cell_type": "code",
   "execution_count": 215,
   "metadata": {
    "collapsed": true
   },
   "outputs": [],
   "source": [
    "class Solution(object):\n",
    "    def findMaxConsecutiveOnes(self, nums):\n",
    "        \"\"\"\n",
    "        :type nums: List[int]\n",
    "        :rtype: int\n",
    "        \"\"\"\n",
    "        max_length=0\n",
    "        length=0\n",
    "        n=len(nums)\n",
    "        for i in range(n):\n",
    "            if nums[i]==1:\n",
    "                length+=1\n",
    "            else:\n",
    "                length=0\n",
    "            max_length=max(max_length,length)\n",
    "        return max_length"
   ]
  },
  {
   "cell_type": "code",
   "execution_count": 219,
   "metadata": {
    "collapsed": false
   },
   "outputs": [
    {
     "data": {
      "text/plain": [
       "0"
      ]
     },
     "execution_count": 219,
     "metadata": {},
     "output_type": "execute_result"
    }
   ],
   "source": [
    "o=Solution()\n",
    "nums=[0,0,0]\n",
    "o.findMaxConsecutiveOnes(nums)"
   ]
  },
  {
   "cell_type": "code",
   "execution_count": null,
   "metadata": {
    "collapsed": true
   },
   "outputs": [],
   "source": []
  }
 ],
 "metadata": {
  "kernelspec": {
   "display_name": "Python 2",
   "language": "python",
   "name": "python2"
  },
  "language_info": {
   "codemirror_mode": {
    "name": "ipython",
    "version": 2
   },
   "file_extension": ".py",
   "mimetype": "text/x-python",
   "name": "python",
   "nbconvert_exporter": "python",
   "pygments_lexer": "ipython2",
   "version": "2.7.12"
  }
 },
 "nbformat": 4,
 "nbformat_minor": 0
}
