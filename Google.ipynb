{
 "cells": [
  {
   "cell_type": "code",
   "execution_count": 7,
   "metadata": {
    "collapsed": false
   },
   "outputs": [],
   "source": [
    "class Node(object):\n",
    "    def __init__(self,val):\n",
    "        self.val=val\n",
    "        self.next=None\n",
    "\n",
    "def weave(head):\n",
    "    if not head:\n",
    "        return\n",
    " \n",
    "    p1=p2=head\n",
    "    # move p1 to the middle and p2 to the end\n",
    "    while p2.next and p2.next.next:\n",
    "        p1=p1.next\n",
    "        p2=p2.next.next\n",
    "\n",
    "    # move back p2\n",
    "    p2=head\n",
    "    \n",
    "    # start weaving\n",
    "    head2=p1.next\n",
    "    p1=head2\n",
    "    while p1.next and p2.next:\n",
    "        tmp2=p2.next\n",
    "        tmp1=p1.next\n",
    "        p2.next=p1\n",
    "        p1.next=tmp2\n",
    "        p1=tmp1\n",
    "        p2=tmp2\n",
    "    p2.next=p1\n"
   ]
  },
  {
   "cell_type": "code",
   "execution_count": 10,
   "metadata": {
    "collapsed": false
   },
   "outputs": [
    {
     "name": "stdout",
     "output_type": "stream",
     "text": [
      "1\n",
      "2\n",
      "3\n",
      "4\n",
      "5\n",
      "6\n"
     ]
    }
   ],
   "source": [
    "head=Node(1)\n",
    "head.next=Node(3)\n",
    "head.next.next=Node(5)\n",
    "head.next.next.next=Node(2)\n",
    "head.next.next.next.next=Node(4)\n",
    "head.next.next.next.next.next=Node(6)\n",
    "weave(head)\n",
    "while head:\n",
    "    print head.val\n",
    "    head=head.next"
   ]
  },
  {
   "cell_type": "code",
   "execution_count": 18,
   "metadata": {
    "collapsed": false
   },
   "outputs": [
    {
     "data": {
      "text/plain": [
       "-2"
      ]
     },
     "execution_count": 18,
     "metadata": {},
     "output_type": "execute_result"
    }
   ],
   "source": [
    "a=-3>>1\n",
    "a"
   ]
  },
  {
   "cell_type": "code",
   "execution_count": 29,
   "metadata": {
    "collapsed": false
   },
   "outputs": [
    {
     "data": {
      "text/plain": [
       "4294967296"
      ]
     },
     "execution_count": 29,
     "metadata": {},
     "output_type": "execute_result"
    }
   ],
   "source": [
    "0x100000000"
   ]
  },
  {
   "cell_type": "code",
   "execution_count": 30,
   "metadata": {
    "collapsed": true
   },
   "outputs": [],
   "source": [
    "def getbit(num,i):\n",
    "    return (num>>i)&1"
   ]
  },
  {
   "cell_type": "code",
   "execution_count": 34,
   "metadata": {
    "collapsed": false
   },
   "outputs": [
    {
     "data": {
      "text/plain": [
       "0"
      ]
     },
     "execution_count": 34,
     "metadata": {},
     "output_type": "execute_result"
    }
   ],
   "source": [
    "getbit(20,5)"
   ]
  },
  {
   "cell_type": "code",
   "execution_count": 35,
   "metadata": {
    "collapsed": true
   },
   "outputs": [],
   "source": [
    "def nthfibonacci(n):\n",
    "    fibonacci=[0,1]\n",
    "    for i in range(2,n+1):\n",
    "        fibonacci.append(fibonacci[i-1]+fibonacci[i-2])\n",
    "    return fibonacci[n]"
   ]
  },
  {
   "cell_type": "code",
   "execution_count": 39,
   "metadata": {
    "collapsed": false
   },
   "outputs": [
    {
     "data": {
      "text/plain": [
       "1"
      ]
     },
     "execution_count": 39,
     "metadata": {},
     "output_type": "execute_result"
    }
   ],
   "source": [
    "nthfibonacci(2)"
   ]
  },
  {
   "cell_type": "markdown",
   "metadata": {},
   "source": [
    "## Merge Sort"
   ]
  },
  {
   "cell_type": "code",
   "execution_count": 51,
   "metadata": {
    "collapsed": true
   },
   "outputs": [],
   "source": [
    "def mergesort(array):\n",
    "    n=len(array)\n",
    "    helper=[None]*n\n",
    "    __mergesort(array,helper,0,n-1)\n",
    "    \n",
    "def __mergesort(array,helper,start,end):\n",
    "    if start<end:\n",
    "        middle=(start+end)/2\n",
    "        __mergesort(array,helper,start,middle)\n",
    "        __mergesort(array,helper,middle+1,end)\n",
    "        merge(array,helper,start,middle,end)\n",
    "        \n",
    "def merge(array,helper,start,middle,end):\n",
    "    for i in range(start,end+1):\n",
    "        helper[i]=array[i]\n",
    "        \n",
    "    # in the merging algorithm, we need two pointers\n",
    "    left=start\n",
    "    right=middle+1\n",
    "    i=start\n",
    "    while left<=middle and right<=end:\n",
    "        if helper[left]<=helper[right]:\n",
    "            array[i]=helper[left]\n",
    "            left+=1\n",
    "        else:\n",
    "            array[i]=helper[right]\n",
    "            right+=1\n",
    "        i+=1\n",
    "        \n",
    "    while left<=middle:\n",
    "        array[i]=helper[left]\n",
    "        i+=1\n",
    "        left+=1"
   ]
  },
  {
   "cell_type": "code",
   "execution_count": 52,
   "metadata": {
    "collapsed": false
   },
   "outputs": [
    {
     "data": {
      "text/plain": [
       "[-10, -3, -2, 1]"
      ]
     },
     "execution_count": 52,
     "metadata": {},
     "output_type": "execute_result"
    }
   ],
   "source": [
    "array=[1,-2,-3,-10]\n",
    "mergesort(array)\n",
    "array"
   ]
  },
  {
   "cell_type": "markdown",
   "metadata": {},
   "source": [
    "## Quick Sort"
   ]
  },
  {
   "cell_type": "markdown",
   "metadata": {},
   "source": [
    "1. choose a pivot, partition the array around it\n",
    "2. quicksort the left subarray and the right subarray"
   ]
  },
  {
   "cell_type": "code",
   "execution_count": 38,
   "metadata": {
    "collapsed": false
   },
   "outputs": [],
   "source": [
    "import random\n",
    "\n",
    "def quicksort(array):\n",
    "    __quicksort(array,0,len(array)-1)\n",
    "\n",
    "def __quicksort(array,left,right):\n",
    "    if left>=right:\n",
    "        return\n",
    "    pivot=array[random.randint(left,right)]\n",
    "    index=partition(array,left,right,pivot)\n",
    "    __quicksort(array,left,index-1)\n",
    "    __quicksort(array,index+1,right)\n",
    "\n",
    "def partition(array,left,right,pivot):\n",
    "    while left<right:\n",
    "        while array[left]<pivot:\n",
    "            left+=1\n",
    "        while array[right]>pivot:\n",
    "            right-=1\n",
    "        # swap\n",
    "        if left<right:\n",
    "            array[left],array[right]=array[right],array[left]\n",
    "    return left"
   ]
  },
  {
   "cell_type": "code",
   "execution_count": 40,
   "metadata": {
    "collapsed": false
   },
   "outputs": [
    {
     "data": {
      "text/plain": [
       "[-3, -2, 0, 1, 9]"
      ]
     },
     "execution_count": 40,
     "metadata": {},
     "output_type": "execute_result"
    }
   ],
   "source": [
    "array=[-2,0,9,-3,1]\n",
    "quicksort(array)\n",
    "array"
   ]
  },
  {
   "cell_type": "code",
   "execution_count": 88,
   "metadata": {
    "collapsed": false
   },
   "outputs": [
    {
     "data": {
      "text/plain": [
       "2"
      ]
     },
     "execution_count": 88,
     "metadata": {},
     "output_type": "execute_result"
    }
   ],
   "source": [
    "random.randint(1,2)"
   ]
  },
  {
   "cell_type": "code",
   "execution_count": 42,
   "metadata": {
    "collapsed": false
   },
   "outputs": [
    {
     "name": "stdout",
     "output_type": "stream",
     "text": [
      "0\n",
      "0\n",
      "1\n"
     ]
    }
   ],
   "source": [
    "def binary(num):\n",
    "    while num>0:\n",
    "        res=num%2\n",
    "        num=(num-res)//2\n",
    "        print res\n",
    "binary(4)"
   ]
  },
  {
   "cell_type": "code",
   "execution_count": 43,
   "metadata": {
    "collapsed": false
   },
   "outputs": [
    {
     "data": {
      "text/plain": [
       "2147483648"
      ]
     },
     "execution_count": 43,
     "metadata": {},
     "output_type": "execute_result"
    }
   ],
   "source": [
    "2**31"
   ]
  },
  {
   "cell_type": "code",
   "execution_count": 47,
   "metadata": {
    "collapsed": false
   },
   "outputs": [
    {
     "data": {
      "text/plain": [
       "2147483648"
      ]
     },
     "execution_count": 47,
     "metadata": {},
     "output_type": "execute_result"
    }
   ],
   "source": [
    "0x100000000/2"
   ]
  },
  {
   "cell_type": "code",
   "execution_count": 50,
   "metadata": {
    "collapsed": false
   },
   "outputs": [
    {
     "data": {
      "text/plain": [
       "2147483647"
      ]
     },
     "execution_count": 50,
     "metadata": {},
     "output_type": "execute_result"
    }
   ],
   "source": [
    "(-1+0x100000000)>>1"
   ]
  },
  {
   "cell_type": "code",
   "execution_count": null,
   "metadata": {
    "collapsed": true
   },
   "outputs": [],
   "source": []
  }
 ],
 "metadata": {
  "kernelspec": {
   "display_name": "Python 2",
   "language": "python",
   "name": "python2"
  },
  "language_info": {
   "codemirror_mode": {
    "name": "ipython",
    "version": 2
   },
   "file_extension": ".py",
   "mimetype": "text/x-python",
   "name": "python",
   "nbconvert_exporter": "python",
   "pygments_lexer": "ipython2",
   "version": "2.7.12"
  }
 },
 "nbformat": 4,
 "nbformat_minor": 0
}
