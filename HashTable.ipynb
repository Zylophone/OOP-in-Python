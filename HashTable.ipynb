{
 "cells": [
  {
   "cell_type": "markdown",
   "metadata": {},
   "source": [
    "## Application:"
   ]
  },
  {
   "cell_type": "markdown",
   "metadata": {},
   "source": [
    "### De-duplication"
   ]
  },
  {
   "cell_type": "markdown",
   "metadata": {},
   "source": [
    "### 2Sum"
   ]
  },
  {
   "cell_type": "markdown",
   "metadata": {},
   "source": [
    "## 36. Valid Sudoku"
   ]
  },
  {
   "cell_type": "markdown",
   "metadata": {},
   "source": [
    "Determine if a Sudoku is valid, according to: Sudoku Puzzles - The Rules.\n",
    "\n",
    "The Sudoku board could be partially filled, where empty cells are filled with the character '.'.\n",
    "\n",
    "<img src=http://upload.wikimedia.org/wikipedia/commons/thumb/f/ff/Sudoku-by-L2G-20050714.svg/250px-Sudoku-by-L2G-20050714.svg.png>\n",
    "\n",
    "A partially filled sudoku which is valid.\n",
    "\n",
    "Note:\n",
    "A valid Sudoku board (partially filled) is not necessarily solvable. Only the filled cells need to be validated."
   ]
  },
  {
   "cell_type": "markdown",
   "metadata": {},
   "source": [
    "Solution: The board has to be $9\\times9$ at most. We could use 3 boolean Lists: row, col, subbox to store the numbers."
   ]
  },
  {
   "cell_type": "code",
   "execution_count": 54,
   "metadata": {
    "collapsed": true
   },
   "outputs": [],
   "source": [
    "class Solution(object):\n",
    "    def isValidSudoku(self, board):\n",
    "        \"\"\"\n",
    "        :type board: List[List[str]]\n",
    "        :rtype: bool\n",
    "        \"\"\"\n",
    "        m=len(board)\n",
    "        n=len(board[0])\n",
    "        row=[[0]*9 for i in xrange(9)]\n",
    "        col=[[0]*9 for i in xrange(9)]\n",
    "        subbox=[[0]*9 for i in xrange(9)]\n",
    "        \n",
    "        for i in xrange(m):\n",
    "            for j in xrange(n):\n",
    "                num=board[i][j]\n",
    "                if num!='.':\n",
    "                    num=int(num)\n",
    "                    k=i/3*3+j/3\n",
    "                    if row[i][num-1] or col[j][num-1] or subbox[k][num-1]:\n",
    "                        return False\n",
    "                    else:\n",
    "                        row[i][num-1]=1\n",
    "                        col[j][num-1]=1\n",
    "                        subbox[k][num-1]=1\n",
    "                    \n",
    "        return True"
   ]
  },
  {
   "cell_type": "code",
   "execution_count": 55,
   "metadata": {
    "collapsed": false
   },
   "outputs": [
    {
     "data": {
      "text/plain": [
       "True"
      ]
     },
     "execution_count": 55,
     "metadata": {},
     "output_type": "execute_result"
    }
   ],
   "source": [
    "o=Solution()\n",
    "board=[['5','3','.'],['6','.','.'],['.','9','8']]\n",
    "o.isValidSudoku(board)"
   ]
  },
  {
   "cell_type": "markdown",
   "metadata": {},
   "source": [
    "## 49. Group Anagrams"
   ]
  },
  {
   "cell_type": "markdown",
   "metadata": {},
   "source": [
    "Given an array of strings, group anagrams together.\n",
    "\n",
    "For example, given: [\"eat\", \"tea\", \"tan\", \"ate\", \"nat\", \"bat\"], \n",
    "\n",
    "Return:\n",
    "\n",
    "[\n",
    "  [\"ate\", \"eat\",\"tea\"],\n",
    "  [\"nat\",\"tan\"],\n",
    "  [\"bat\"]\n",
    "]\n",
    "\n",
    "Note: All inputs will be in lower-case.\n",
    "\n"
   ]
  },
  {
   "cell_type": "markdown",
   "metadata": {},
   "source": [
    "Solution: A first solution is to sort each entry and store it in hashtable. Time complexity O(n* m log(m))\n",
    "\n",
    "key: sorted array\n",
    "\n",
    "value: list of anagrams"
   ]
  },
  {
   "cell_type": "code",
   "execution_count": 13,
   "metadata": {
    "collapsed": true
   },
   "outputs": [],
   "source": [
    "class Solution(object):\n",
    "    def groupAnagrams(self, strs):\n",
    "        \"\"\"\n",
    "        :type strs: List[str]\n",
    "        :rtype: List[List[str]]\n",
    "        \"\"\"\n",
    "        str_dict={}\n",
    "        for e in strs:\n",
    "            temp=''.join(sorted(e))\n",
    "            if str_dict.get(temp):\n",
    "                str_dict[temp].append(e)\n",
    "            else:\n",
    "                str_dict[temp]=[e]\n",
    "        \n",
    "        res=[]\n",
    "        for key in str_dict.keys():\n",
    "            res.append(str_dict[key])\n",
    "            \n",
    "        return res"
   ]
  },
  {
   "cell_type": "code",
   "execution_count": 14,
   "metadata": {
    "collapsed": false
   },
   "outputs": [
    {
     "data": {
      "text/plain": [
       "[['tan', 'nat'], ['bat'], ['eat', 'tea', 'ate']]"
      ]
     },
     "execution_count": 14,
     "metadata": {},
     "output_type": "execute_result"
    }
   ],
   "source": [
    "o=Solution()\n",
    "o.groupAnagrams([\"eat\", \"tea\", \"tan\", \"ate\", \"nat\", \"bat\"])"
   ]
  },
  {
   "cell_type": "markdown",
   "metadata": {},
   "source": [
    "We could try to improve the above solution. "
   ]
  },
  {
   "cell_type": "markdown",
   "metadata": {},
   "source": [
    "## 187. Repeated DNA Sequences"
   ]
  },
  {
   "cell_type": "markdown",
   "metadata": {},
   "source": [
    "All DNA is composed of a series of nucleotides abbreviated as A, C, G, and T, for example: \"ACGAATTCCG\". When studying DNA, it is sometimes useful to identify repeated sequences within the DNA.\n",
    "\n",
    "Write a function to find all the 10-letter-long sequences (substrings) that occur more than once in a DNA molecule.\n",
    "\n",
    "For example,\n",
    "\n",
    "Given s = \"AAAAACCCCCAAAAACCCCCCAAAAAGGGTTT\",\n",
    "\n",
    "Return:\n",
    "[\"AAAAACCCCC\", \"CCCCCAAAAA\"]."
   ]
  },
  {
   "cell_type": "markdown",
   "metadata": {},
   "source": [
    "Solution: first solution: create a 10-letter-long window, slide it through the given string and then record all different sequences in the hashtable and lookup if there is a duplicate. The memory will be O(n). The time will be O(n)."
   ]
  },
  {
   "cell_type": "code",
   "execution_count": 190,
   "metadata": {
    "collapsed": true
   },
   "outputs": [],
   "source": [
    "class Solution(object):\n",
    "    def findRepeatedDnaSequences(self, s):\n",
    "        \"\"\"\n",
    "        :type s: str\n",
    "        :rtype: List[str]\n",
    "        \"\"\"\n",
    "        DNA_dict={}\n",
    "        n=len(s)\n",
    "        results=[]\n",
    "        for i in range(n-9):\n",
    "            if DNA_dict.get(s[i:i+10])!=None:\n",
    "                if DNA_dict[s[i:i+10]]==1:\n",
    "                    results.append(s[i:i+10])\n",
    "                DNA_dict[s[i:i+10]]+=1\n",
    "            else:\n",
    "                DNA_dict[s[i:i+10]]=1\n",
    "        return results"
   ]
  },
  {
   "cell_type": "code",
   "execution_count": 191,
   "metadata": {
    "collapsed": false
   },
   "outputs": [
    {
     "data": {
      "text/plain": [
       "['AAAAACCCCC', 'CCCCCAAAAA']"
      ]
     },
     "execution_count": 191,
     "metadata": {},
     "output_type": "execute_result"
    }
   ],
   "source": [
    "o=Solution()\n",
    "s=\"AAAAACCCCCAAAAACCCCCCAAAAAGGGTTT\"\n",
    "o.findRepeatedDnaSequences(s)"
   ]
  },
  {
   "cell_type": "markdown",
   "metadata": {},
   "source": [
    "The above solution is wrong in the case \"AAAAAAAAAAAA\". We use hashtable to store the number of repetition."
   ]
  },
  {
   "cell_type": "code",
   "execution_count": 192,
   "metadata": {
    "collapsed": false
   },
   "outputs": [
    {
     "data": {
      "text/plain": [
       "['AAAAAAAAAA']"
      ]
     },
     "execution_count": 192,
     "metadata": {},
     "output_type": "execute_result"
    }
   ],
   "source": [
    "o=Solution()\n",
    "s=\"AAAAAAAAAAAA\"\n",
    "o.findRepeatedDnaSequences(s)"
   ]
  },
  {
   "cell_type": "markdown",
   "metadata": {},
   "source": [
    "Discussion solution: use a defauldict to initialize as 0 the dictionary of integers, then check the dictionary for substrings seen more than once."
   ]
  },
  {
   "cell_type": "code",
   "execution_count": 193,
   "metadata": {
    "collapsed": true
   },
   "outputs": [],
   "source": [
    "class Solution(object):\n",
    "    # @param s, a string\n",
    "    # @return a list of strings\n",
    "    def findRepeatedDnaSequences(self, s):\n",
    "        sequences = collections.defaultdict(int) #set '0' as the default value for non-existing keys (using defaultdict\n",
    "        # is more convenient in this case than dict)\n",
    "        for i in range(len(s)):\n",
    "            sequences[s[i:i+10]] += 1#add 1 to the count\n",
    "        return [key for key, value in sequences.iteritems() if value > 1] #extract the relevant keys \n",
    "    # (this is much more concise than using list.append)"
   ]
  },
  {
   "cell_type": "code",
   "execution_count": 194,
   "metadata": {
    "collapsed": false
   },
   "outputs": [
    {
     "data": {
      "text/plain": [
       "['AAAAAAAAAA']"
      ]
     },
     "execution_count": 194,
     "metadata": {},
     "output_type": "execute_result"
    }
   ],
   "source": [
    "o=Solution()\n",
    "s=\"AAAAAAAAAAAA\"\n",
    "o.findRepeatedDnaSequences(s)"
   ]
  },
  {
   "cell_type": "markdown",
   "metadata": {},
   "source": [
    "## 202. Happy Number"
   ]
  },
  {
   "cell_type": "markdown",
   "metadata": {},
   "source": [
    "Write an algorithm to determine if a number is \"happy\".\n",
    "\n",
    "A happy number is a number defined by the following process: Starting with any positive integer, replace the number by the sum of the squares of its digits, and repeat the process until the number equals 1 (where it will stay), or it loops endlessly in a cycle which does not include 1. Those numbers for which this process ends in 1 are happy numbers.\n",
    "\n",
    "Example: 19 is a happy number\n",
    "\n",
    "$$\n",
    "1^2 + 9^2 = 82 \\\\\n",
    "8^2 + 2^2 = 68 \\\\\n",
    "6^2 + 8^2 = 100 \\\\\n",
    "1^2 + 0^2 + 0^2 = 1 \\\\\n",
    "$$"
   ]
  },
  {
   "cell_type": "markdown",
   "metadata": {},
   "source": [
    "what about 20?\n",
    "$$\n",
    "2^2 + 0^2 = 4 \\\\\n",
    "4^2 = 16 \\\\\n",
    "1^2+6^2 = 37 \\\\\n",
    "3^2+7^2=58 \\\\\n",
    "5^2+8^2=89 \\\\\n",
    "8^2+9^2=81+64=145 \\\\\n",
    "9^2+7^2=81+49=130 \\\\\n",
    "9^2+5^2=81+25=106 \\\\\n",
    "1^2+0+6^2=37 \\\\\n",
    "...\n",
    "$$\n",
    "\n",
    "So it loops endlessly from 37."
   ]
  },
  {
   "cell_type": "markdown",
   "metadata": {},
   "source": [
    "Solution: A naive method is to store all the sum of squares in the hashtable to check the loop ends. But it could cause an uncertain amount of memory or time complexity. We will see later if there could be improvements."
   ]
  },
  {
   "cell_type": "code",
   "execution_count": 102,
   "metadata": {
    "collapsed": true
   },
   "outputs": [],
   "source": [
    "class Solution(object):\n",
    "    def isHappy(self, n):\n",
    "        \"\"\"\n",
    "        :type n: int\n",
    "        :rtype: bool\n",
    "        \"\"\"\n",
    "        results_dict={}\n",
    "        num=n\n",
    "        while results_dict.get(num)!=True:\n",
    "            results_dict[num]=True\n",
    "            sum_of_squares=0\n",
    "            while num>0:\n",
    "                sum_of_squares+=(num%10)**2\n",
    "                num=num//10\n",
    "            num=sum_of_squares\n",
    "            if sum_of_squares==1:\n",
    "                return True\n",
    "        return False"
   ]
  },
  {
   "cell_type": "code",
   "execution_count": 114,
   "metadata": {
    "collapsed": false
   },
   "outputs": [
    {
     "data": {
      "text/plain": [
       "True"
      ]
     },
     "execution_count": 114,
     "metadata": {},
     "output_type": "execute_result"
    }
   ],
   "source": [
    "o=Solution()\n",
    "o.isHappy(100)"
   ]
  },
  {
   "cell_type": "markdown",
   "metadata": {},
   "source": [
    "To reduce the space complexity to O(1), we should borrow the idea from solving whether a linkedlist has a loop, where if there is a loop, the fast pointer will always catch the slow one."
   ]
  },
  {
   "cell_type": "code",
   "execution_count": 121,
   "metadata": {
    "collapsed": true
   },
   "outputs": [],
   "source": [
    "class Solution(object):\n",
    "    def isHappy(self, n):\n",
    "        \"\"\"\n",
    "        :type n: int\n",
    "        :rtype: bool\n",
    "        \"\"\"\n",
    "        x=n\n",
    "        y=n\n",
    "        while y>1:\n",
    "            x=self.sumofsquares(x)\n",
    "            y=self.sumofsquares(self.sumofsquares(y))\n",
    "            if y==1:\n",
    "                return True\n",
    "            if x==y:\n",
    "                return False        \n",
    "        return True\n",
    "    \n",
    "    def sumofsquares(self,n):\n",
    "        sum_of_squares=0\n",
    "        while n>0:\n",
    "            sum_of_squares+=(n%10)**2\n",
    "            n=n//10\n",
    "        return sum_of_squares"
   ]
  },
  {
   "cell_type": "code",
   "execution_count": 122,
   "metadata": {
    "collapsed": false
   },
   "outputs": [
    {
     "data": {
      "text/plain": [
       "True"
      ]
     },
     "execution_count": 122,
     "metadata": {},
     "output_type": "execute_result"
    }
   ],
   "source": [
    "o=Solution()\n",
    "o.isHappy(100)"
   ]
  },
  {
   "cell_type": "markdown",
   "metadata": {},
   "source": [
    "## 204. <font color=red>Count Primes"
   ]
  },
  {
   "cell_type": "markdown",
   "metadata": {},
   "source": [
    "Description:\n",
    "\n",
    "Count the number of prime numbers less than a non-negative number, n.\n",
    "\n"
   ]
  },
  {
   "cell_type": "markdown",
   "metadata": {},
   "source": [
    "Solution: for 2<=i<n, We could create a hashtable to store all the prime numbers less than i and then check i+1 divided by these prime numbers."
   ]
  },
  {
   "cell_type": "code",
   "execution_count": 148,
   "metadata": {
    "collapsed": false
   },
   "outputs": [],
   "source": [
    "import math\n",
    "class Solution(object):\n",
    "    def countPrimes(self, n):\n",
    "        \"\"\"\n",
    "        :type n: int\n",
    "        :rtype: int\n",
    "        \"\"\"\n",
    "        primes=[]\n",
    "        for i in range(2,n):\n",
    "            if i==2:\n",
    "                primes.append(i)\n",
    "            else:\n",
    "                res=[(i%num)==0 for num in primes if num<=i]\n",
    "                if sum(res)==0:\n",
    "                    primes.append(i)\n",
    "        return primes"
   ]
  },
  {
   "cell_type": "code",
   "execution_count": 149,
   "metadata": {
    "collapsed": false
   },
   "outputs": [
    {
     "data": {
      "text/plain": [
       "[2, 3, 5, 7, 11, 13, 17, 19, 23]"
      ]
     },
     "execution_count": 149,
     "metadata": {},
     "output_type": "execute_result"
    }
   ],
   "source": [
    "o=Solution()\n",
    "o.countPrimes(28)"
   ]
  },
  {
   "cell_type": "markdown",
   "metadata": {},
   "source": [
    "The above solution is likely to be O(n^2) and turns out to be TLE. We need to seek an alternative approach. If we only divide i by numbers<=sqrt(n) then the time complexity will be O(N^1.5)"
   ]
  },
  {
   "cell_type": "code",
   "execution_count": 171,
   "metadata": {
    "collapsed": true
   },
   "outputs": [],
   "source": [
    "import math\n",
    "class Solution(object):\n",
    "    def countPrimes(self, n):\n",
    "        \"\"\"\n",
    "        :type n: int\n",
    "        :rtype: int\n",
    "        \"\"\"\n",
    "        primes=[]\n",
    "        for i in range(2,n):\n",
    "            if i==2:\n",
    "                primes.append(i)\n",
    "            else:\n",
    "                res=[(i%num)==0 for num in range(2,int(math.sqrt(i))+1)]\n",
    "                if sum(res)==0:\n",
    "                    primes.append(i)\n",
    "        return primes"
   ]
  },
  {
   "cell_type": "code",
   "execution_count": 172,
   "metadata": {
    "collapsed": false
   },
   "outputs": [
    {
     "data": {
      "text/plain": [
       "[2, 3, 5, 7, 11, 13, 17, 19, 23]"
      ]
     },
     "execution_count": 172,
     "metadata": {},
     "output_type": "execute_result"
    }
   ],
   "source": [
    "o=Solution()\n",
    "o.countPrimes(28)"
   ]
  },
  {
   "cell_type": "markdown",
   "metadata": {},
   "source": [
    "## 205. Isomorphic Strings"
   ]
  },
  {
   "cell_type": "markdown",
   "metadata": {},
   "source": [
    "Given two strings s and t, determine if they are isomorphic.\n",
    "\n",
    "Two strings are isomorphic if the characters in s can be replaced to get t.\n",
    "\n",
    "All occurrences of a character must be replaced with another character while preserving the order of characters. No two characters may map to the same character but a character may map to itself.\n",
    "\n",
    "For example,\n",
    "\n",
    "Given \"egg\", \"add\", return true.\n",
    "\n",
    "Given \"foo\", \"bar\", return false.\n",
    "\n",
    "Given \"paper\", \"title\", return true.\n",
    "\n",
    "Note:\n",
    "You may assume both s and t have the same length."
   ]
  },
  {
   "cell_type": "markdown",
   "metadata": {},
   "source": [
    "Solution: s and t should be bijection in characters."
   ]
  },
  {
   "cell_type": "code",
   "execution_count": 42,
   "metadata": {
    "collapsed": true
   },
   "outputs": [],
   "source": [
    "class Solution(object):\n",
    "    def isIsomorphic(self, s, t):\n",
    "        \"\"\"\n",
    "        :type s: str\n",
    "        :type t: str\n",
    "        :rtype: bool\n",
    "        \"\"\"\n",
    "        n=len(s)\n",
    "        m=len(t)\n",
    "        if m!=n: return False\n",
    "        s_t={}\n",
    "        t_s={}\n",
    "        for i in xrange(n):\n",
    "            if s_t.get(s[i]) and t_s.get(t[i]):\n",
    "                if s_t[s[i]]!=t[i] or t_s[t[i]]!=s[i]:\n",
    "                        return False\n",
    "            elif s_t.get(s[i]) or t_s.get(t[i]):\n",
    "                return False\n",
    "            else:\n",
    "                s_t[s[i]]=t[i]\n",
    "                t_s[t[i]]=s[i]\n",
    "                \n",
    "        return True"
   ]
  },
  {
   "cell_type": "code",
   "execution_count": 46,
   "metadata": {
    "collapsed": false
   },
   "outputs": [
    {
     "data": {
      "text/plain": [
       "False"
      ]
     },
     "execution_count": 46,
     "metadata": {},
     "output_type": "execute_result"
    }
   ],
   "source": [
    "o=Solution()\n",
    "s=\"foo\"\n",
    "t=\"bars\"\n",
    "o.isIsomorphic(s,t)"
   ]
  },
  {
   "cell_type": "markdown",
   "metadata": {},
   "source": [
    "## 242. Valid Anagram"
   ]
  },
  {
   "cell_type": "markdown",
   "metadata": {},
   "source": [
    "Given two strings s and t, write a function to determine if t is an anagram of s.\n",
    "\n",
    "For example,\n",
    "\n",
    "s = \"anagram\", t = \"nagaram\", return true.\n",
    "\n",
    "s = \"rat\", t = \"car\", return false.\n",
    "\n",
    "Note:\n",
    "\n",
    "You may assume the string contains only lowercase alphabets.\n",
    "\n",
    "Follow up:\n",
    "\n",
    "What if the inputs contain unicode characters? How would you adapt your solution to such case?\n",
    "\n"
   ]
  },
  {
   "cell_type": "markdown",
   "metadata": {},
   "source": [
    "Solution: Naive solution is to sort both s and t. The time complexity will be O(n log n) and the space complexity will be O(n). But we could also implement a hashtable to store the count of elements in one string and then compare with the other. This will take O(n) space and O(n) time."
   ]
  },
  {
   "cell_type": "code",
   "execution_count": 129,
   "metadata": {
    "collapsed": true
   },
   "outputs": [],
   "source": [
    "class Solution(object):\n",
    "    def isAnagram(self, s, t):\n",
    "        \"\"\"\n",
    "        :type s: str\n",
    "        :type t: str\n",
    "        :rtype: bool\n",
    "        \"\"\"\n",
    "        compare_dict={}\n",
    "        for c in s:\n",
    "            if compare_dict.get(c)==None:\n",
    "                compare_dict[c]=1\n",
    "            else:\n",
    "                compare_dict[c]+=1\n",
    "        match=0\n",
    "        for i in xrange(len(t)):\n",
    "            if compare_dict.get(t[i])==None:\n",
    "                return False\n",
    "            else:\n",
    "                compare_dict[t[i]]-=1\n",
    "            if compare_dict.get(t[i])==0:\n",
    "                match+=1\n",
    "        if match==len(compare_dict):\n",
    "            return True\n",
    "        else:\n",
    "            return False"
   ]
  },
  {
   "cell_type": "code",
   "execution_count": 131,
   "metadata": {
    "collapsed": false
   },
   "outputs": [
    {
     "data": {
      "text/plain": [
       "False"
      ]
     },
     "execution_count": 131,
     "metadata": {},
     "output_type": "execute_result"
    }
   ],
   "source": [
    "o=Solution()\n",
    "o.isAnagram(\"car\",\"rat\")"
   ]
  },
  {
   "cell_type": "markdown",
   "metadata": {},
   "source": [
    "## 274. H-Index"
   ]
  },
  {
   "cell_type": "markdown",
   "metadata": {},
   "source": [
    "Given an array of citations (each citation is a non-negative integer) of a researcher, write a function to compute the researcher's h-index.\n",
    "\n",
    "According to the definition of h-index on Wikipedia: \"A scientist has index h if h of his/her N papers have at least h citations each, and the other N − h papers have no more than h citations each.\"\n",
    "\n",
    "For example, given citations = [3, 0, 6, 1, 5], which means the researcher has 5 papers in total and each of them had received 3, 0, 6, 1, 5 citations respectively. Since the researcher has 3 papers with at least 3 citations each and the remaining two with no more than 3 citations each, his h-index is 3.\n",
    "\n",
    "Note: If there are several possible values for h, the maximum one is taken as the h-index.\n",
    "\n",
    "Hint:\n",
    "\n",
    "1. An easy approach is to sort the array first.\n",
    "2. What are the possible values of h-index?\n",
    "3. A faster approach is to use extra space."
   ]
  },
  {
   "cell_type": "markdown",
   "metadata": {},
   "source": [
    "Solution: We first sort the array and then compare it to counting one by one. Once the value of the member in the citations becomes smaller than the counting or we reach the end of the array, we find our h."
   ]
  },
  {
   "cell_type": "code",
   "execution_count": 165,
   "metadata": {
    "collapsed": true
   },
   "outputs": [],
   "source": [
    "class Solution(object):\n",
    "    def hIndex(self, citations):\n",
    "        \"\"\"\n",
    "        :type citations: List[int]\n",
    "        :rtype: int\n",
    "        \"\"\"\n",
    "        citations.sort()\n",
    "        citations.reverse()\n",
    "        n=len(citations)\n",
    "        h=0\n",
    "        for i in xrange(n):\n",
    "            if citations[i]>=i+1:\n",
    "                h+=1\n",
    "        return h"
   ]
  },
  {
   "cell_type": "code",
   "execution_count": 166,
   "metadata": {
    "collapsed": false
   },
   "outputs": [
    {
     "data": {
      "text/plain": [
       "1"
      ]
     },
     "execution_count": 166,
     "metadata": {},
     "output_type": "execute_result"
    }
   ],
   "source": [
    "o=Solution()\n",
    "citations=[0,1]\n",
    "o.hIndex(citations)"
   ]
  },
  {
   "cell_type": "markdown",
   "metadata": {},
   "source": [
    "A O(N) solution is also possible with extra space."
   ]
  },
  {
   "cell_type": "markdown",
   "metadata": {},
   "source": [
    "## 290. Word Pattern"
   ]
  },
  {
   "cell_type": "markdown",
   "metadata": {},
   "source": [
    "Given a pattern and a string str, find if str follows the same pattern.\n",
    "\n",
    "Here follow means a full match, such that there is a bijection between a letter in pattern and a non-empty word in str.\n",
    "\n",
    "Examples:\n",
    "\n",
    "pattern = \"abba\", str = \"dog cat cat dog\" should return true.\n",
    "\n",
    "pattern = \"abba\", str = \"dog cat cat fish\" should return false.\n",
    "\n",
    "pattern = \"aaaa\", str = \"dog cat cat dog\" should return false.\n",
    "\n",
    "pattern = \"abba\", str = \"dog dog dog dog\" should return false.\n",
    "\n",
    "Notes:\n",
    "You may assume pattern contains only lowercase letters, and str contains lowercase letters separated by a single space."
   ]
  },
  {
   "cell_type": "markdown",
   "metadata": {},
   "source": [
    "Solution: The straightforward solution is to use a hashtable with patterns as keys and word string as the values. "
   ]
  },
  {
   "cell_type": "code",
   "execution_count": 27,
   "metadata": {
    "collapsed": true
   },
   "outputs": [],
   "source": [
    "class Solution(object):\n",
    "    def wordPattern(self, pattern, str):\n",
    "        \"\"\"\n",
    "        :type pattern: str\n",
    "        :type str: str\n",
    "        :rtype: bool\n",
    "        \"\"\"\n",
    "        word_pattern={}\n",
    "        word_count=0\n",
    "        n=len(str)\n",
    "        m=len(pattern)\n",
    "        word=''\n",
    "        for i in xrange(n):\n",
    "            if str[i].isalpha():\n",
    "                word+=str[i]\n",
    "            if str[i]==' ' or i==n-1:\n",
    "                word_count+=1\n",
    "                if word_count>m:\n",
    "                    return False\n",
    "                if word_pattern.get(pattern[word_count-1]):\n",
    "                    if word_pattern[pattern[word_count-1]]!=word:\n",
    "                        return False\n",
    "                else:\n",
    "                    word_pattern[pattern[word_count-1]]=word\n",
    "                word=''\n",
    "        \n",
    "        return word_count==m"
   ]
  },
  {
   "cell_type": "code",
   "execution_count": 34,
   "metadata": {
    "collapsed": false
   },
   "outputs": [
    {
     "data": {
      "text/plain": [
       "True"
      ]
     },
     "execution_count": 34,
     "metadata": {},
     "output_type": "execute_result"
    }
   ],
   "source": [
    "o=Solution()\n",
    "pattern = \"abba\"\n",
    "str = \"dog dog dog dog\"\n",
    "o.wordPattern(pattern,str)"
   ]
  },
  {
   "cell_type": "markdown",
   "metadata": {},
   "source": [
    "The above solution is problematic in bijection. We will modify it by using another dictionary:"
   ]
  },
  {
   "cell_type": "code",
   "execution_count": 38,
   "metadata": {
    "collapsed": true
   },
   "outputs": [],
   "source": [
    "class Solution(object):\n",
    "    def wordPattern(self, pattern, str):\n",
    "        \"\"\"\n",
    "        :type pattern: str\n",
    "        :type str: str\n",
    "        :rtype: bool\n",
    "        \"\"\"\n",
    "        pattern_word={}\n",
    "        word_pattern={}\n",
    "        word_count=0\n",
    "        n=len(str)\n",
    "        m=len(pattern)\n",
    "        word=''\n",
    "        for i in xrange(n):\n",
    "            if str[i].isalpha():\n",
    "                word+=str[i]\n",
    "            if str[i]==' ' or i==n-1:\n",
    "                word_count+=1\n",
    "                \n",
    "                if word_count>m:\n",
    "                    return False\n",
    "                if pattern_word.get(pattern[word_count-1]) and word_pattern.get(word):\n",
    "                    if pattern_word[pattern[word_count-1]]!=word or word_pattern[word]!=pattern[word_count-1]:\n",
    "                        return False\n",
    "                elif pattern_word.get(pattern[word_count-1]) or word_pattern.get(word):\n",
    "                    return False\n",
    "                else:\n",
    "                    pattern_word[pattern[word_count-1]]=word\n",
    "                    word_pattern[word]=pattern[word_count-1]\n",
    "                \n",
    "                word=''\n",
    "        \n",
    "        return word_count==m"
   ]
  },
  {
   "cell_type": "code",
   "execution_count": 41,
   "metadata": {
    "collapsed": false
   },
   "outputs": [
    {
     "data": {
      "text/plain": [
       "False"
      ]
     },
     "execution_count": 41,
     "metadata": {},
     "output_type": "execute_result"
    }
   ],
   "source": [
    "o=Solution()\n",
    "pattern = \"abba\"\n",
    "str = \"dog dog dog dog\"\n",
    "o.wordPattern(pattern,str)"
   ]
  },
  {
   "cell_type": "markdown",
   "metadata": {},
   "source": [
    "## 299. Bulls and Cows"
   ]
  },
  {
   "cell_type": "markdown",
   "metadata": {},
   "source": [
    "You are playing the following Bulls and Cows game with your friend: You write down a number and ask your friend to guess what the number is. Each time your friend makes a guess, you provide a hint that indicates how many digits in said guess match your secret number exactly in both digit and position (called \"bulls\") and how many digits match the secret number but locate in the wrong position (called \"cows\"). Your friend will use successive guesses and hints to eventually derive the secret number.\n",
    "\n",
    "For example:\n",
    "\n",
    "Secret number:  \"1807\"\n",
    "\n",
    "Friend's guess: \"7810\"\n",
    "\n",
    "Hint: 1 bull and 3 cows. (The bull is 8, the cows are 0, 1 and 7.)\n",
    "\n",
    "Write a function to return a hint according to the secret number and friend's guess, use A to indicate the bulls and B to indicate the cows. In the above example, your function should return \"1A3B\".\n",
    "\n",
    "Please note that both secret number and friend's guess may contain duplicate digits, for example:\n",
    "\n",
    "Secret number:  \"1123\"\n",
    "\n",
    "Friend's guess: \"0111\"\n",
    "\n",
    "In this case, the 1st 1 in friend's guess is a bull, the 2nd or 3rd 1 is a cow, and your function should return \"1A1B\".\n",
    "You may assume that the secret number and your friend's guess only contain digits, and their lengths are always equal.\n",
    "\n"
   ]
  },
  {
   "cell_type": "markdown",
   "metadata": {},
   "source": [
    "Solution: We use a hashtable to store the number and its position in the secret number. Then we check the numbers in the guess:\n",
    "\n",
    "1. If the number appears in the keys of the hashtable, but the position does not match, then we count the cows\n",
    "2. If the number appears in the keys of the hashtable and the position does match, then we count the bulls"
   ]
  },
  {
   "cell_type": "code",
   "execution_count": 119,
   "metadata": {
    "collapsed": true
   },
   "outputs": [],
   "source": [
    "class Solution(object):\n",
    "    def getHint(self, secret, guess):\n",
    "        \"\"\"\n",
    "        :type secret: str\n",
    "        :type guess: str\n",
    "        :rtype: str\n",
    "        \"\"\"\n",
    "        num_pos={}\n",
    "        n=len(secret)\n",
    "        for i in xrange(n):\n",
    "            num_pos[secret[i]]=i\n",
    "        \n",
    "        cows=0\n",
    "        bulls=0\n",
    "        for i in xrange(n):\n",
    "            if num_pos.get(guess[i])!=None:\n",
    "                if num_pos[guess[i]]==i:\n",
    "                    bulls+=1\n",
    "                else:\n",
    "                    cows+=1\n",
    "        return '%sA%sB' % (bulls, cows)"
   ]
  },
  {
   "cell_type": "code",
   "execution_count": 120,
   "metadata": {
    "collapsed": false
   },
   "outputs": [
    {
     "name": "stdout",
     "output_type": "stream",
     "text": [
      "{'1': 0, '8': 1, '7': 3, '0': 2}\n",
      "0 7\n",
      "0 8\n",
      "0 1\n",
      "0 0\n"
     ]
    },
    {
     "data": {
      "text/plain": [
       "'1A3B'"
      ]
     },
     "execution_count": 120,
     "metadata": {},
     "output_type": "execute_result"
    }
   ],
   "source": [
    "o=Solution()\n",
    "secret=\"1807\"\n",
    "guess=\"7810\"\n",
    "o.getHint(secret,guess)"
   ]
  },
  {
   "cell_type": "markdown",
   "metadata": {},
   "source": [
    "The above solution is wrong in handling duplicates. Consider a different scenario as follows: we compare secret and guess number by number, if the numbers at the corresponding positions match, we increment the bulls. Meanwhile, we record the appearance of number 0-9 of secret in a boolean list. If it appears in guess but not at the same position, we increment the cows."
   ]
  },
  {
   "cell_type": "code",
   "execution_count": 125,
   "metadata": {
    "collapsed": true
   },
   "outputs": [],
   "source": [
    "class Solution(object):\n",
    "    def getHint(self, secret, guess):\n",
    "        \"\"\"\n",
    "        :type secret: str\n",
    "        :type guess: str\n",
    "        :rtype: str\n",
    "        \"\"\"\n",
    "        n=len(secret)\n",
    "        nums=[0]*10\n",
    "        \n",
    "        for i in xrange(n):\n",
    "            nums[int(secret[i])]=1\n",
    "        \n",
    "        bulls=0\n",
    "        cows=0\n",
    "        for i in xrange(n):\n",
    "            if secret[i]==guess[i]:\n",
    "                bulls+=1\n",
    "            elif nums[int(guess[i])]:\n",
    "                cows+=1\n",
    "                \n",
    "        return '%sA%sB' % (bulls, cows)"
   ]
  },
  {
   "cell_type": "code",
   "execution_count": 127,
   "metadata": {
    "collapsed": false
   },
   "outputs": [
    {
     "data": {
      "text/plain": [
       "'1A2B'"
      ]
     },
     "execution_count": 127,
     "metadata": {},
     "output_type": "execute_result"
    }
   ],
   "source": [
    "o=Solution()\n",
    "secret=\"1123\"\n",
    "guess=\"0111\"\n",
    "o.getHint(secret,guess)"
   ]
  },
  {
   "cell_type": "markdown",
   "metadata": {},
   "source": [
    "The above solution does not compensate the cancellation of the matched numbers. Modification: record the number of appearances of each number in the secret."
   ]
  },
  {
   "cell_type": "code",
   "execution_count": 154,
   "metadata": {
    "collapsed": true
   },
   "outputs": [],
   "source": [
    "class Solution(object):\n",
    "    def getHint(self, secret, guess):\n",
    "        \"\"\"\n",
    "        :type secret: str\n",
    "        :type guess: str\n",
    "        :rtype: str\n",
    "        \"\"\"\n",
    "        n=len(secret)\n",
    "        nums=[0]*10\n",
    "        \n",
    "        for i in xrange(n):\n",
    "            nums[int(secret[i])]+=1\n",
    "        \n",
    "        bulls=0\n",
    "        cows=0\n",
    "        print nums\n",
    "        for i in xrange(n):\n",
    "            if secret[i]==guess[i]:\n",
    "                bulls+=1\n",
    "                nums[int(secret[i])]-=1\n",
    "            elif nums[int(guess[i])]>0:\n",
    "                cows+=1\n",
    "                nums[int(guess[i])]-=1\n",
    "            print nums, bulls, cows\n",
    "                \n",
    "        return '%sA%sB' % (bulls, cows)"
   ]
  },
  {
   "cell_type": "code",
   "execution_count": 155,
   "metadata": {
    "collapsed": false
   },
   "outputs": [
    {
     "name": "stdout",
     "output_type": "stream",
     "text": [
      "[0, 2, 2, 0, 0, 0, 0, 0, 0, 0]\n",
      "[0, 1, 2, 0, 0, 0, 0, 0, 0, 0] 1 0\n",
      "[0, 1, 1, 0, 0, 0, 0, 0, 0, 0] 1 1\n",
      "[0, 1, 0, 0, 0, 0, 0, 0, 0, 0] 2 1\n",
      "[0, 1, -1, 0, 0, 0, 0, 0, 0, 0] 3 1\n"
     ]
    },
    {
     "data": {
      "text/plain": [
       "'3A1B'"
      ]
     },
     "execution_count": 155,
     "metadata": {},
     "output_type": "execute_result"
    }
   ],
   "source": [
    "o=Solution()\n",
    "secret=\"1122\"\n",
    "guess=\"1222\"\n",
    "o.getHint(secret,guess)"
   ]
  },
  {
   "cell_type": "markdown",
   "metadata": {},
   "source": [
    "The above solution is wrong in keeping track of cows. We need to keep track of the compensation between secret and guess when we pass the array. "
   ]
  },
  {
   "cell_type": "code",
   "execution_count": 156,
   "metadata": {
    "collapsed": true
   },
   "outputs": [],
   "source": [
    "class Solution(object):\n",
    "    def getHint(self, secret, guess):\n",
    "        \"\"\"\n",
    "        :type secret: str\n",
    "        :type guess: str\n",
    "        :rtype: str\n",
    "        \"\"\"\n",
    "        n=len(secret)\n",
    "        nums=[0]*10\n",
    "        \n",
    "        bulls=0\n",
    "        cows=0\n",
    "        \n",
    "        for i in xrange(n):\n",
    "            if secret[i]==guess[i]:\n",
    "                bulls+=1\n",
    "            else:\n",
    "                if nums[int(guess[i])]>0:\n",
    "                    cows+=1\n",
    "                if nums[int(secret[i])]<0:\n",
    "                    cows+=1\n",
    "                nums[int(guess[i])]-=1\n",
    "                nums[int(secret[i])]+=1\n",
    "                \n",
    "        return '%sA%sB' % (bulls, cows)"
   ]
  },
  {
   "cell_type": "code",
   "execution_count": 157,
   "metadata": {
    "collapsed": false
   },
   "outputs": [
    {
     "data": {
      "text/plain": [
       "'3A0B'"
      ]
     },
     "execution_count": 157,
     "metadata": {},
     "output_type": "execute_result"
    }
   ],
   "source": [
    "o=Solution()\n",
    "secret=\"1122\"\n",
    "guess=\"1222\"\n",
    "o.getHint(secret,guess)"
   ]
  },
  {
   "cell_type": "markdown",
   "metadata": {},
   "source": [
    "## 349. Intersection of Two Arrays"
   ]
  },
  {
   "cell_type": "markdown",
   "metadata": {},
   "source": [
    "Given two arrays, write a function to compute their intersection.\n",
    "\n",
    "Example:\n",
    "\n",
    "Given nums1 = [1, 2, 2, 1], nums2 = [2, 2], return [2].\n",
    "\n",
    "Note:\n",
    "\n",
    "Each element in the result must be unique.\n",
    "\n",
    "The result can be in any order.\n"
   ]
  },
  {
   "cell_type": "markdown",
   "metadata": {},
   "source": [
    "Solution: We could create hashtable for nums1 and then look up the table for nums2."
   ]
  },
  {
   "cell_type": "code",
   "execution_count": 97,
   "metadata": {
    "collapsed": true
   },
   "outputs": [],
   "source": [
    "class Solution(object):\n",
    "    def intersection(self, nums1, nums2):\n",
    "        \"\"\"\n",
    "        :type nums1: List[int]\n",
    "        :type nums2: List[int]\n",
    "        :rtype: List[int]\n",
    "        \"\"\"\n",
    "        result=[]\n",
    "        nums1_dict={}\n",
    "        for num in nums1:\n",
    "            if nums1_dict.get(num)==None:\n",
    "                nums1_dict[num]=True\n",
    "        for num in nums2:\n",
    "            if nums1_dict.get(num)!=None and nums1_dict[num]:\n",
    "                nums1_dict[num]=False\n",
    "                result.append(num)\n",
    "        return result"
   ]
  },
  {
   "cell_type": "code",
   "execution_count": 98,
   "metadata": {
    "collapsed": false
   },
   "outputs": [
    {
     "data": {
      "text/plain": [
       "[1, 2]"
      ]
     },
     "execution_count": 98,
     "metadata": {},
     "output_type": "execute_result"
    }
   ],
   "source": [
    "o=Solution()\n",
    "o.intersection([1,2,2,1],[1,2,3])"
   ]
  },
  {
   "cell_type": "markdown",
   "metadata": {},
   "source": [
    "## 350. Intersection of Two Arrays II"
   ]
  },
  {
   "cell_type": "markdown",
   "metadata": {},
   "source": [
    "Given two arrays, write a function to compute their intersection.\n",
    "\n",
    "Example:\n",
    "\n",
    "Given nums1 = [1, 2, 2, 1], nums2 = [2, 2], return [2, 2].\n",
    "\n",
    "Note:\n",
    "\n",
    "Each element in the result should appear as many times as it shows in both arrays.\n",
    "The result can be in any order.\n",
    "\n",
    "Follow up:\n",
    "\n",
    "What if the given array is already sorted? How would you optimize your algorithm?\n",
    "\n",
    "What if nums1's size is small compared to nums2's size? Which algorithm is better?\n",
    "\n",
    "What if elements of nums2 are stored on disk, and the memory is limited such that you cannot load all elements into the memory at once?"
   ]
  },
  {
   "cell_type": "code",
   "execution_count": 99,
   "metadata": {
    "collapsed": true
   },
   "outputs": [],
   "source": [
    "class Solution(object):\n",
    "    def intersect(self, nums1, nums2):\n",
    "        \"\"\"\n",
    "        :type nums1: List[int]\n",
    "        :type nums2: List[int]\n",
    "        :rtype: List[int]\n",
    "        \"\"\"\n",
    "        result=[]\n",
    "        nums1_dict={}\n",
    "        for num in nums1:\n",
    "            if nums1_dict.get(num)==None:\n",
    "                nums1_dict[num]=1\n",
    "            else:\n",
    "                nums1_dict[num]+=1\n",
    "        for num in nums2:\n",
    "            if nums1_dict.get(num)!=None:\n",
    "                nums1_dict[num]-=1\n",
    "                if nums1_dict[num]>=0:\n",
    "                    result.append(num)\n",
    "        return result"
   ]
  },
  {
   "cell_type": "code",
   "execution_count": 101,
   "metadata": {
    "collapsed": false
   },
   "outputs": [
    {
     "data": {
      "text/plain": [
       "[1, 2, 2]"
      ]
     },
     "execution_count": 101,
     "metadata": {},
     "output_type": "execute_result"
    }
   ],
   "source": [
    "o=Solution()\n",
    "o.intersect([1,2,2,1],[1,2,2])"
   ]
  },
  {
   "cell_type": "markdown",
   "metadata": {},
   "source": [
    "Now we consider the follow-ups."
   ]
  },
  {
   "cell_type": "markdown",
   "metadata": {},
   "source": [
    "## 447. Number of Boomerangs"
   ]
  },
  {
   "cell_type": "markdown",
   "metadata": {},
   "source": [
    "Given n points in the plane that are all **pairwise distinct**, a \"boomerang\" is a tuple of points (i, j, k) such that the distance between i and j equals the distance between i and k (the order of the tuple matters).\n",
    "\n",
    "Find the number of boomerangs. You may assume that n will be at most 500 and coordinates of points are all in the range [-10000, 10000] (inclusive).\n",
    "\n",
    "Example:\n",
    "Input:\n",
    "[[0,0],[1,0],[2,0]]\n",
    "\n",
    "Output:\n",
    "2\n",
    "\n",
    "Explanation:\n",
    "The two boomerangs are [[1,0],[0,0],[2,0]] and [[1,0],[2,0],[0,0]]"
   ]
  },
  {
   "cell_type": "markdown",
   "metadata": {},
   "source": [
    "Solution: For each point, create a hashmap and count all points with same distance. If for a point p, there are k points with distance d, number of boomerangs corresponding to that are k*(k-1). Keep adding these to get the final result."
   ]
  },
  {
   "cell_type": "code",
   "execution_count": 26,
   "metadata": {
    "collapsed": true
   },
   "outputs": [],
   "source": [
    "class Solution(object):\n",
    "    def numberOfBoomerangs(self, points):\n",
    "        \"\"\"\n",
    "        :type points: List[List[int]]\n",
    "        :rtype: int\n",
    "        \"\"\"\n",
    "        count=0\n",
    "        for i in xrange(len(points)):\n",
    "            distance_dict={}\n",
    "            for j in xrange(len(points)):\n",
    "                distance=(points[i][0]-points[j][0])**2+(points[i][1]-points[j][1])**2\n",
    "                if distance_dict.get(distance)==None:\n",
    "                    distance_dict[distance]=1\n",
    "                else:\n",
    "                    distance_dict[distance]+=1\n",
    "            for key in distance_dict.keys():\n",
    "                count+=distance_dict[key]*(distance_dict[key]-1)\n",
    "                \n",
    "        return count"
   ]
  },
  {
   "cell_type": "code",
   "execution_count": 27,
   "metadata": {
    "collapsed": false
   },
   "outputs": [
    {
     "data": {
      "text/plain": [
       "2"
      ]
     },
     "execution_count": 27,
     "metadata": {},
     "output_type": "execute_result"
    }
   ],
   "source": [
    "o=Solution()\n",
    "o.numberOfBoomerangs([[0,0],[1,0],[2,0]])"
   ]
  },
  {
   "cell_type": "markdown",
   "metadata": {},
   "source": [
    "## 438. Find All Anagrams in a String  "
   ]
  },
  {
   "cell_type": "markdown",
   "metadata": {},
   "source": [
    "Given a string s and a non-empty string p, find all the start indices of p's anagrams in s.\n",
    "\n",
    "Strings consists of lowercase English letters only and the length of both strings s and p will not be larger than 20,100.\n",
    "\n",
    "The order of output does not matter.\n",
    "\n",
    "Example 1:\n",
    "\n",
    "Input:\n",
    "s: \"cbaebabacd\" p: \"abc\"\n",
    "\n",
    "Output:\n",
    "[0, 6]\n",
    "\n",
    "Explanation:\n",
    "\n",
    "The substring with start index = 0 is \"cba\", which is an anagram of \"abc\".\n",
    "\n",
    "The substring with start index = 6 is \"bac\", which is an anagram of \"abc\".\n",
    "\n",
    "Example 2:\n",
    "\n",
    "Input:\n",
    "s: \"abab\" p: \"ab\"\n",
    "\n",
    "Output:\n",
    "[0, 1, 2]\n",
    "\n",
    "Explanation:\n",
    "\n",
    "The substring with start index = 0 is \"ab\", which is an anagram of \"ab\".\n",
    "\n",
    "The substring with start index = 1 is \"ba\", which is an anagram of \"ab\".\n",
    "\n",
    "The substring with start index = 2 is \"ab\", which is an anagram of \"ab\"."
   ]
  },
  {
   "cell_type": "markdown",
   "metadata": {},
   "source": [
    "Solution: Linear search and a anagram comparator."
   ]
  },
  {
   "cell_type": "code",
   "execution_count": 35,
   "metadata": {
    "collapsed": true
   },
   "outputs": [],
   "source": [
    "class Solution(object):\n",
    "    def findAnagrams(self, s, p):\n",
    "        \"\"\"\n",
    "        :type s: str\n",
    "        :type p: str\n",
    "        :rtype: List[int]\n",
    "        \"\"\"\n",
    "        len_anagram=len(p)\n",
    "        indices=[]\n",
    "        i=0\n",
    "        while i<len(s):\n",
    "            result=self.anagrams_comparator(s[i:i+len_anagram],p)\n",
    "            if result==0:\n",
    "                indices.append(i)\n",
    "                i+=1\n",
    "            else:\n",
    "                i+=1\n",
    "        return indices\n",
    "            \n",
    "    def anagrams_comparator(self,a,b):\n",
    "        a=list(a)\n",
    "        b=list(b)\n",
    "        a.sort()\n",
    "        b.sort()\n",
    "        if a>b:\n",
    "            return 1\n",
    "        elif a==b:\n",
    "            return 0\n",
    "        else:\n",
    "            return -1"
   ]
  },
  {
   "cell_type": "code",
   "execution_count": 36,
   "metadata": {
    "collapsed": false
   },
   "outputs": [
    {
     "data": {
      "text/plain": [
       "[0, 1, 2]"
      ]
     },
     "execution_count": 36,
     "metadata": {},
     "output_type": "execute_result"
    }
   ],
   "source": [
    "o=Solution()\n",
    "o.findAnagrams(\"abab\",\"ab\")"
   ]
  },
  {
   "cell_type": "markdown",
   "metadata": {},
   "source": [
    "The above solution is TLE. Let me try to solve it by hashtable."
   ]
  },
  {
   "cell_type": "markdown",
   "metadata": {},
   "source": [
    "Alternative solution: Create anagram list for p and then store elements in hashtable. Then do a linear search with O(n) time complexity. But the time complexity for creating all anagrams will be O(p^2). Seems not good."
   ]
  },
  {
   "cell_type": "code",
   "execution_count": 89,
   "metadata": {
    "collapsed": false
   },
   "outputs": [],
   "source": [
    "class Solution(object):\n",
    "    def findAnagrams(self, s, p):\n",
    "        \"\"\"\n",
    "        :type s: str\n",
    "        :type p: str\n",
    "        :rtype: List[int]\n",
    "        \"\"\"\n",
    "        indices=[]\n",
    "        p_dict={}\n",
    "        # create a dictionary of p\n",
    "        for c in p:\n",
    "            if p_dict.get(c)==None:\n",
    "                p_dict[c]=1\n",
    "            else:\n",
    "                p_dict[c]+=1\n",
    "        # update the dict value of p when passing through s.\n",
    "        match=0\n",
    "        for i in xrange(len(s)):\n",
    "            # check correspondence \n",
    "            if p_dict.get(s[i])!=None:\n",
    "                p_dict[s[i]]-=1\n",
    "                if p_dict[s[i]]==0:\n",
    "                    match+=1\n",
    "            if i>=len(p):\n",
    "                print match,i\n",
    "                if p_dict.get(s[i-len(p)])!=None:\n",
    "                    p_dict[s[i-len(p)]]+=1\n",
    "                    if p_dict[s[i-len(p)]]==1:\n",
    "                        match-=1\n",
    "                print match\n",
    "            if match==len(p_dict):\n",
    "                indices.append(i-len(p)+1)\n",
    "        return indices"
   ]
  },
  {
   "cell_type": "code",
   "execution_count": 92,
   "metadata": {
    "collapsed": false
   },
   "outputs": [
    {
     "name": "stdout",
     "output_type": "stream",
     "text": [
      "1 2\n",
      "1\n"
     ]
    },
    {
     "data": {
      "text/plain": [
       "[1]"
      ]
     },
     "execution_count": 92,
     "metadata": {},
     "output_type": "execute_result"
    }
   ],
   "source": [
    "o=Solution()\n",
    "o.findAnagrams(\"baa\",\"aa\")"
   ]
  },
  {
   "cell_type": "code",
   "execution_count": 44,
   "metadata": {
    "collapsed": false
   },
   "outputs": [
    {
     "data": {
      "text/plain": [
       "2"
      ]
     },
     "execution_count": 44,
     "metadata": {},
     "output_type": "execute_result"
    }
   ],
   "source": [
    "a={1:1,2:1}\n",
    "len(a)"
   ]
  },
  {
   "cell_type": "markdown",
   "metadata": {},
   "source": [
    "## 454. 4Sum II"
   ]
  },
  {
   "cell_type": "markdown",
   "metadata": {},
   "source": [
    "Given four lists A, B, C, D of integer values, compute how many tuples (i, j, k, l) there are such that A[i] + B[j] + C[k] + D[l] is zero.\n",
    "\n",
    "To make problem a bit easier, all A, B, C, D have same length of N where 0 ≤ N ≤ 500. All integers are in the range of $-2^{28}$ to $2^{28} - 1$ and the result is guaranteed to be at most $2^{31} - 1$.\n",
    "\n",
    "Example:\n",
    "\n",
    "Input:\n",
    "\n",
    "A = [ 1, 2]\n",
    "\n",
    "B = [-2,-1]\n",
    "\n",
    "C = [-1, 2]\n",
    "\n",
    "D = [ 0, 2]\n",
    "\n",
    "Output:\n",
    "2\n",
    "\n",
    "Explanation:\n",
    "\n",
    "The two tuples are:\n",
    "1. (0, 0, 0, 1) -> A[0] + B[0] + C[0] + D[1] = 1 + (-2) + (-1) + 2 = 0\n",
    "2. (1, 1, 0, 0) -> A[1] + B[1] + C[0] + D[0] = 2 + (-1) + (-1) + 0 = 0"
   ]
  },
  {
   "cell_type": "markdown",
   "metadata": {},
   "source": [
    "Solution: Brutal force solution: $O(N^4)$. Improvement on the time complexity can be considered in the direction of using extra space. We store all the possible sum results of A and B in the hashtable AB and then check in all the possible sum results of C and D. This algorithm uses $O(n^2)$ space and $O(n^2)$ time."
   ]
  },
  {
   "cell_type": "code",
   "execution_count": 195,
   "metadata": {
    "collapsed": true
   },
   "outputs": [],
   "source": [
    "import collections\n",
    "\n",
    "class Solution(object):\n",
    "    def fourSumCount(self, A, B, C, D):\n",
    "        \"\"\"\n",
    "        :type A: List[int]\n",
    "        :type B: List[int]\n",
    "        :type C: List[int]\n",
    "        :type D: List[int]\n",
    "        :rtype: int\n",
    "        \"\"\"\n",
    "        AB = collections.defaultdict(int) # key: sum_results, value: count\n",
    "        n=len(A)\n",
    "        for i in xrange(n):\n",
    "            for j in xrange(n):\n",
    "                AB[A[i]+B[j]]+=1\n",
    "        \n",
    "        count=0\n",
    "        for i in xrange(n):\n",
    "            for j in xrange(n):\n",
    "                count+=AB[-C[i]-D[j]]\n",
    "                \n",
    "        return count"
   ]
  },
  {
   "cell_type": "code",
   "execution_count": 196,
   "metadata": {
    "collapsed": false
   },
   "outputs": [
    {
     "data": {
      "text/plain": [
       "2"
      ]
     },
     "execution_count": 196,
     "metadata": {},
     "output_type": "execute_result"
    }
   ],
   "source": [
    "o=Solution()\n",
    "A = [ 1, 2]\n",
    "B = [-2,-1]\n",
    "C = [-1, 2]\n",
    "D = [ 0, 2]\n",
    "o.fourSumCount(A,B,C,D)"
   ]
  },
  {
   "cell_type": "markdown",
   "metadata": {},
   "source": [
    "A more concise way is to use counter in the collections."
   ]
  },
  {
   "cell_type": "code",
   "execution_count": 203,
   "metadata": {
    "collapsed": false
   },
   "outputs": [
    {
     "data": {
      "text/plain": [
       "0"
      ]
     },
     "execution_count": 203,
     "metadata": {},
     "output_type": "execute_result"
    }
   ],
   "source": [
    "A = [ 1, 2]\n",
    "B = [-2,-1]\n",
    "AB = collections.Counter(a+b for a in A for b in B)\n",
    "AB[-10]"
   ]
  },
  {
   "cell_type": "code",
   "execution_count": 210,
   "metadata": {
    "collapsed": false
   },
   "outputs": [],
   "source": [
    "import collections\n",
    "\n",
    "class Solution(object):\n",
    "    def fourSumCount(self, A, B, C, D):\n",
    "        \"\"\"\n",
    "        :type A: List[int]\n",
    "        :type B: List[int]\n",
    "        :type C: List[int]\n",
    "        :type D: List[int]\n",
    "        :rtype: int\n",
    "        \"\"\"\n",
    "        AB=collections.Counter(a+b for a in A for b in B)\n",
    "        return sum([AB[-c-d] for c in C for d in D])"
   ]
  },
  {
   "cell_type": "code",
   "execution_count": 211,
   "metadata": {
    "collapsed": false
   },
   "outputs": [
    {
     "data": {
      "text/plain": [
       "2"
      ]
     },
     "execution_count": 211,
     "metadata": {},
     "output_type": "execute_result"
    }
   ],
   "source": [
    "o=Solution()\n",
    "A = [ 1, 2]\n",
    "B = [-2,-1]\n",
    "C = [-1, 2]\n",
    "D = [ 0, 2]\n",
    "o.fourSumCount(A,B,C,D)"
   ]
  },
  {
   "cell_type": "markdown",
   "metadata": {
    "collapsed": true
   },
   "source": [
    "## 463. Island Perimeter"
   ]
  },
  {
   "cell_type": "markdown",
   "metadata": {},
   "source": [
    "You are given a map in form of a two-dimensional integer grid where 1 represents land and 0 represents water. Grid cells are connected horizontally/vertically (not diagonally). The grid is completely surrounded by water, and there is exactly one island (i.e., one or more connected land cells). The island doesn't have \"lakes\" (water inside that isn't connected to the water around the island). One cell is a square with side length 1. The grid is rectangular, width and height don't exceed 100. Determine the perimeter of the island.\n",
    "\n",
    "Example:\n",
    "\n",
    "[[0,1,0,0],\n",
    " [1,1,1,0],\n",
    " [0,1,0,0],\n",
    " [1,1,0,0]]\n",
    "\n",
    "Answer: 16\n",
    "\n",
    "Explanation: The perimeter is the 16 yellow stripes in the image below:\n",
    "\n",
    "<img src=https://leetcode.com/static/images/problemset/island.png>"
   ]
  },
  {
   "cell_type": "markdown",
   "metadata": {},
   "source": [
    "Solution: We just need to count the number of borders o the island. The borders are identifies if\n",
    "\n",
    "1. The cell is a land and is at the 4 edges of the grid\n",
    "2. The cell is a land and it is connected to water"
   ]
  },
  {
   "cell_type": "code",
   "execution_count": 56,
   "metadata": {
    "collapsed": true
   },
   "outputs": [],
   "source": [
    "class Solution(object):\n",
    "    def islandPerimeter(self, grid):\n",
    "        \"\"\"\n",
    "        :type grid: List[List[int]]\n",
    "        :rtype: int\n",
    "        \"\"\"\n",
    "        m=len(grid)\n",
    "        if m==0: return 0\n",
    "        n=len(grid[0])\n",
    "        if n==0: return 0\n",
    "        \n",
    "        perimeter=0\n",
    "        \n",
    "        for i in xrange(m):\n",
    "            for j in xrange(n):\n",
    "                if grid[i][j]:\n",
    "                    if i==0:\n",
    "                        perimeter+=1\n",
    "                    elif not grid[i-1][j]:\n",
    "                        perimeter+=1\n",
    "                    if j==0:\n",
    "                        perimeter+=1\n",
    "                    elif not grid[i][j-1]:\n",
    "                        perimeter+=1\n",
    "                    if i==m-1:\n",
    "                        perimeter+=1\n",
    "                    elif not grid[i+1][j]:\n",
    "                        perimeter+=1\n",
    "                    if j==n-1:\n",
    "                        perimeter+=1\n",
    "                    elif not grid[i][j+1]:\n",
    "                        perimeter+=1\n",
    "                        \n",
    "        return perimeter"
   ]
  },
  {
   "cell_type": "code",
   "execution_count": 59,
   "metadata": {
    "collapsed": false
   },
   "outputs": [
    {
     "data": {
      "text/plain": [
       "4"
      ]
     },
     "execution_count": 59,
     "metadata": {},
     "output_type": "execute_result"
    }
   ],
   "source": [
    "o=Solution()\n",
    "grid=[[1]]\n",
    "o.islandPerimeter(grid)"
   ]
  },
  {
   "cell_type": "code",
   "execution_count": null,
   "metadata": {
    "collapsed": true
   },
   "outputs": [],
   "source": []
  }
 ],
 "metadata": {
  "kernelspec": {
   "display_name": "Python 2",
   "language": "python",
   "name": "python2"
  },
  "language_info": {
   "codemirror_mode": {
    "name": "ipython",
    "version": 2
   },
   "file_extension": ".py",
   "mimetype": "text/x-python",
   "name": "python",
   "nbconvert_exporter": "python",
   "pygments_lexer": "ipython2",
   "version": "2.7.12"
  }
 },
 "nbformat": 4,
 "nbformat_minor": 0
}
