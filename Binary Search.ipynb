{
 "cells": [
  {
   "cell_type": "markdown",
   "metadata": {},
   "source": [
    "## 29. Divide Two Integers"
   ]
  },
  {
   "cell_type": "markdown",
   "metadata": {},
   "source": [
    "Divide two integers without using multiplication, division and mod operator.\n",
    "\n",
    "If it is overflow, return MAX_INT."
   ]
  },
  {
   "cell_type": "markdown",
   "metadata": {},
   "source": [
    "Solution: We need to consider both positive numbers and negative numbers and 0. In addition, we consider the overflow.\n",
    "\n",
    "1. divisor and dividend have the same sign: \n",
    "2. divisor and dividend have the opposite sign:\n",
    "3. dividend=0\n",
    "4. divisor=0: return max_int\n",
    "\n",
    "Question: overflow for divisor and divident?"
   ]
  },
  {
   "cell_type": "code",
   "execution_count": 27,
   "metadata": {
    "collapsed": true
   },
   "outputs": [],
   "source": [
    "class Solution(object):\n",
    "    def divide(self, dividend, divisor):\n",
    "        \"\"\"\n",
    "        :type dividend: int\n",
    "        :type divisor: int\n",
    "        :rtype: int\n",
    "        \"\"\"\n",
    "        if divisor==0 or abs(dividend)>2**31-1:\n",
    "            return 2**31-1\n",
    "        if dividend==0:\n",
    "            return 0\n",
    "        sign=1\n",
    "        if dividend<0 and divisor>0 or dividend>0 and divisor<0:\n",
    "            sign=-1\n",
    "        numerator=abs(dividend)\n",
    "        denominator=abs(divisor)\n",
    "        residual=numerator\n",
    "        quotient=0\n",
    "        while residual>0:\n",
    "            quotient+=1\n",
    "            residual-=denominator\n",
    "        if residual==0:\n",
    "            return sign*quotient\n",
    "        elif sign==1:\n",
    "            return quotient-1\n",
    "        else:\n",
    "            return -quotient"
   ]
  },
  {
   "cell_type": "markdown",
   "metadata": {},
   "source": [
    "The above solution is time consuming for (2**31-1)/1."
   ]
  },
  {
   "cell_type": "markdown",
   "metadata": {},
   "source": [
    "## 33. Search in Rotated Sorted Array"
   ]
  },
  {
   "cell_type": "markdown",
   "metadata": {},
   "source": [
    "Suppose a sorted array is rotated at some pivot unknown to you beforehand.\n",
    "\n",
    "(i.e., 0 1 2 4 5 6 7 might become 4 5 6 7 0 1 2).\n",
    "\n",
    "You are given a target value to search. If found in the array return its index, otherwise return -1.\n",
    "\n",
    "You may assume no duplicate exists in the array."
   ]
  },
  {
   "cell_type": "markdown",
   "metadata": {},
   "source": [
    "Solution: First we locate the pivot position with binary search, then we compare the target value with the beginning of the left sublist or the end of the right sublist."
   ]
  },
  {
   "cell_type": "code",
   "execution_count": 30,
   "metadata": {
    "collapsed": true
   },
   "outputs": [],
   "source": [
    "class Solution(object):\n",
    "    def search(self, nums, target):\n",
    "        \"\"\"\n",
    "        :type nums: List[int]\n",
    "        :type target: int\n",
    "        :rtype: int\n",
    "        \"\"\"\n",
    "        # find pivot\n",
    "        n=len(nums)\n",
    "        start=0\n",
    "        end=n-1\n",
    "        while start<end:\n",
    "            midpoint=(start+end)/2\n",
    "            if nums[midpoint]>nums[end]:\n",
    "                start=midpoint+1\n",
    "            else:\n",
    "                end=midpoint\n",
    "        # compare to the beginning of the left sublist\n",
    "        if target==nums[n-1]:\n",
    "            return n-1\n",
    "        elif target<nums[n-1]:\n",
    "            return self.BinSearch(start,n-1,nums,target)\n",
    "        else:\n",
    "            return self.BinSearch(0,start-1,nums,target)\n",
    "        # not found\n",
    "        return -1\n",
    "    \n",
    "    def BinSearch(self,start,end,nums,target):\n",
    "        while start<=end:\n",
    "            midpoint=(start+end)/2\n",
    "            if nums[midpoint]==target:\n",
    "                return midpoint\n",
    "            elif nums[midpoint]>target:\n",
    "                end=midpoint-1\n",
    "            else:\n",
    "                start=midpoint+1\n",
    "        return -1"
   ]
  },
  {
   "cell_type": "code",
   "execution_count": 31,
   "metadata": {
    "collapsed": false
   },
   "outputs": [
    {
     "name": "stdout",
     "output_type": "stream",
     "text": [
      "0\n"
     ]
    },
    {
     "data": {
      "text/plain": [
       "-1"
      ]
     },
     "execution_count": 31,
     "metadata": {},
     "output_type": "execute_result"
    }
   ],
   "source": [
    "o=Solution()\n",
    "nums=[1,3]\n",
    "o.search(nums,3)"
   ]
  },
  {
   "cell_type": "markdown",
   "metadata": {},
   "source": [
    "## 154. Find Minimum in Rotated Sorted Array II"
   ]
  },
  {
   "cell_type": "markdown",
   "metadata": {},
   "source": [
    "Follow up for \"Find Minimum in Rotated Sorted Array\":\n",
    "What if duplicates are allowed?\n",
    "\n",
    "Would this affect the run-time complexity? How and why?\n",
    "\n",
    "Suppose a sorted array is rotated at some pivot unknown to you beforehand.\n",
    "\n",
    "(i.e., 0 1 2 4 5 6 7 might become 4 5 6 7 0 1 2).\n",
    "\n",
    "Find the minimum element.\n",
    "\n",
    "The array may contain duplicates."
   ]
  },
  {
   "cell_type": "markdown",
   "metadata": {},
   "source": [
    "Solution: We think about several specific cases different from part I of the problem:\n",
    "\n",
    "[3,1,1,1],start=1\n",
    "\n",
    "[3,3,4,3],start=3\n",
    "\n",
    "[3,3,1,3],start=2\n",
    "\n",
    "In all the above cases, we have nums[midpoint]==nums[end] but the pivot lies in different sublists.\n",
    "\n",
    "So if nums[midpoint]==nums[end], we have to shift the midpoint to find the non-duplicate. If we choose to shift to the end, there are two cases: \n",
    "\n",
    "1. midpoint==end: then the pivot is in the left sublist.\n",
    "2. nums[i]<nums[i+1]: right sublist\n",
    "3. nums[i]>nums[i+1]: left sublist"
   ]
  },
  {
   "cell_type": "code",
   "execution_count": 32,
   "metadata": {
    "collapsed": true
   },
   "outputs": [],
   "source": [
    "class Solution(object):\n",
    "    def findMin(self, nums):\n",
    "        \"\"\"\n",
    "        :type nums: List[int]\n",
    "        :rtype: int\n",
    "        \"\"\"\n",
    "        if nums==[]:\n",
    "            return None\n",
    "        start=0\n",
    "        end=len(nums)-1\n",
    "        return self._findMin(nums,start,end)\n",
    "        \n",
    "    def _findMin(self,nums,start,end):\n",
    "        if start==end:\n",
    "            return nums[start]\n",
    "        midpoint=(start+end)/2\n",
    "        if nums[midpoint]>=nums[end]:\n",
    "            i=midpoint\n",
    "            while i<end and nums[i+1]==nums[i]:\n",
    "                i+=1\n",
    "            if i==end:\n",
    "                return self._findMin(nums,start,midpoint)\n",
    "            else:\n",
    "                return self._findMin(nums,i+1,end)\n",
    "        else:\n",
    "            return self._findMin(nums,start,midpoint)"
   ]
  },
  {
   "cell_type": "code",
   "execution_count": 33,
   "metadata": {
    "collapsed": false
   },
   "outputs": [
    {
     "data": {
      "text/plain": [
       "1"
      ]
     },
     "execution_count": 33,
     "metadata": {},
     "output_type": "execute_result"
    }
   ],
   "source": [
    "o=Solution()\n",
    "o.findMin([3,3,1,3])"
   ]
  },
  {
   "cell_type": "markdown",
   "metadata": {},
   "source": [
    "Test case 1:\n",
    "nums=[1]: start==end: return 1\n",
    "\n",
    "Test case 2:\n",
    "nums=[1,1]: nums[midpoint]==nums[end], i==end, midpoint=0, start=0: return nums[0]\n",
    "\n",
    "Test case 3:\n",
    "nums=[3,1,1,1]: \n",
    "\n",
    "1st recursion: nums[midpoint]==nums[end], i==end, midpoint=1, start=0\n",
    "2nd recursion: nums[midpoint]>nums[end], i!=end, midpoint=0,end=1\n",
    "3rd recursion: start==end: return nums[1]\n",
    "\n",
    "Test case 4:\n",
    "nums=[3,3,4,3]:\n",
    "\n",
    "1st recursion: nums[midpoint]==nums[end], i=midpoint!=end, midpoint=1, end=3\n",
    "2nd recursion: i!=end, midpoint=2, end=3\n",
    "3rd recursion: return nums[3]\n",
    "\n",
    "Test case 5:\n",
    "nums=[1,3]\n",
    "\n",
    "1st recursion: midpoint=0, end==1, nums[midpoint]<nums[end], start=0, midpoint=0\n",
    "2nd recursion: return nums[0]"
   ]
  },
  {
   "cell_type": "markdown",
   "metadata": {},
   "source": [
    "## 278. First Bad Version"
   ]
  },
  {
   "cell_type": "markdown",
   "metadata": {},
   "source": [
    "You are a product manager and currently leading a team to develop a new product. Unfortunately, the latest version of your product fails the quality check. Since each version is developed based on the previous version, all the versions after a bad version are also bad.\n",
    "\n",
    "Suppose you have n versions [1, 2, ..., n] and you want to find out the first bad one, which causes all the following ones to be bad.\n",
    "\n",
    "You are given an API bool isBadVersion(version) which will return whether version is bad. Implement a function to find the first bad version. You should minimize the number of calls to the API."
   ]
  },
  {
   "cell_type": "markdown",
   "metadata": {},
   "source": [
    "Solution: Brutal force solution is linear search with O(n). An improved solution is binary search with O(log n)"
   ]
  },
  {
   "cell_type": "code",
   "execution_count": null,
   "metadata": {
    "collapsed": true
   },
   "outputs": [],
   "source": [
    "# The isBadVersion API is already defined for you.\n",
    "# @param version, an integer\n",
    "# @return a bool\n",
    "# def isBadVersion(version):\n",
    "\n",
    "class Solution(object):\n",
    "    def firstBadVersion(self, n):\n",
    "        \"\"\"\n",
    "        :type n: int\n",
    "        :rtype: int\n",
    "        \"\"\""
   ]
  },
  {
   "cell_type": "markdown",
   "metadata": {},
   "source": [
    "## 374. Guess Number Higher or Lower"
   ]
  },
  {
   "cell_type": "markdown",
   "metadata": {},
   "source": [
    "We are playing the Guess Game. The game is as follows:\n",
    "\n",
    "I pick a number from 1 to n. You have to guess which number I picked.\n",
    "\n",
    "Every time you guess wrong, I'll tell you whether the number is higher or lower.\n",
    "\n",
    "You call a pre-defined API guess(int num) which returns 3 possible results (-1, 1, or 0):\n",
    "\n",
    "-1 : My number is lower\n",
    " 1 : My number is higher\n",
    " 0 : Congrats! You got it!\n",
    "\n",
    "Example:\n",
    "n = 10, I pick 6.\n",
    "\n",
    "Return 6.\n"
   ]
  },
  {
   "cell_type": "code",
   "execution_count": null,
   "metadata": {
    "collapsed": true
   },
   "outputs": [],
   "source": [
    "# The guess API is already defined for you.\n",
    "# @param num, your guess\n",
    "# @return -1 if my number is lower, 1 if my number is higher, otherwise return 0\n",
    "# def guess(num):\n",
    "\n",
    "class Solution(object):\n",
    "    def guessNumber(self, n):\n",
    "        \"\"\"\n",
    "        :type n: int\n",
    "        :rtype: int\n",
    "        \"\"\""
   ]
  },
  {
   "cell_type": "markdown",
   "metadata": {},
   "source": [
    "## 436. Find Right Interval"
   ]
  },
  {
   "cell_type": "markdown",
   "metadata": {},
   "source": [
    "Given a set of intervals, for each of the interval i, check if there exists an interval j whose start point is bigger than or equal to the end point of the interval i, which can be called that j is on the \"right\" of i.\n",
    "\n",
    "For any interval i, you need to store the minimum interval j's index, which means that the interval j has the minimum start point to build the \"right\" relationship for interval i. If the interval j doesn't exist, store -1 for the interval i. Finally, you need output the stored value of each interval as an array.\n",
    "\n",
    "Note:\n",
    "* You may assume the interval's end point is always bigger than its start point.\n",
    "* You may assume none of these intervals have the same start point.\n",
    "\n",
    "Example 1:\n",
    "\n",
    "Input: [ [1,2] ]\n",
    "\n",
    "Output: [-1]\n",
    "\n",
    "Explanation: There is only one interval in the collection, so it outputs -1.\n",
    "\n",
    "Example 2:\n",
    "\n",
    "Input: [ [3,4], [2,3], [1,2] ]\n",
    "\n",
    "Output: [-1, 0, 1]\n",
    "\n",
    "Explanation: There is no satisfied \"right\" interval for [3,4].\n",
    "For [2,3], the interval [3,4] has minimum-\"right\" start point;\n",
    "For [1,2], the interval [2,3] has minimum-\"right\" start point.\n",
    "\n",
    "Example 3:\n",
    "\n",
    "Input: [ [1,4], [2,3], [3,4] ]\n",
    "\n",
    "Output: [-1, 2, -1]\n",
    "\n",
    "Explanation: There is no satisfied \"right\" interval for [1,4] and [3,4].\n",
    "For [2,3], the interval [3,4] has minimum-\"right\" start point.\n"
   ]
  },
  {
   "cell_type": "code",
   "execution_count": null,
   "metadata": {
    "collapsed": true
   },
   "outputs": [],
   "source": [
    "# Definition for an interval.\n",
    "# class Interval(object):\n",
    "#     def __init__(self, s=0, e=0):\n",
    "#         self.start = s\n",
    "#         self.end = e\n",
    "\n",
    "class Solution(object):\n",
    "    def findRightInterval(self, intervals):\n",
    "        \"\"\"\n",
    "        :type intervals: List[Interval]\n",
    "        :rtype: List[int]\n",
    "        \"\"\""
   ]
  },
  {
   "cell_type": "markdown",
   "metadata": {},
   "source": [
    "## 441. Arranging Coins"
   ]
  },
  {
   "cell_type": "markdown",
   "metadata": {},
   "source": [
    "You have a total of n coins that you want to form in a staircase shape, where every k-th row must have exactly k coins.\n",
    "\n",
    "Given n, find the total number of full staircase rows that can be formed.\n",
    "\n",
    "n is a non-negative integer and fits within the range of a 32-bit signed integer.\n",
    "\n",
    "Example 1:\n",
    "\n",
    "n = 5\n",
    "\n",
    "The coins can form the following rows:\n",
    "\n",
    "¤\n",
    "¤ ¤\n",
    "¤ ¤\n",
    "\n",
    "Because the 3rd row is incomplete, we return 2.\n",
    "Example 2:\n",
    "\n",
    "n = 8\n",
    "\n",
    "The coins can form the following rows:\n",
    "\n",
    "¤\n",
    "¤ ¤\n",
    "¤ ¤ ¤\n",
    "¤ ¤\n",
    "\n",
    "Because the 4th row is incomplete, we return 3.\n"
   ]
  },
  {
   "cell_type": "code",
   "execution_count": null,
   "metadata": {
    "collapsed": true
   },
   "outputs": [],
   "source": [
    "class Solution(object):\n",
    "    def arrangeCoins(self, n):\n",
    "        \"\"\"\n",
    "        :type n: int\n",
    "        :rtype: int\n",
    "        \"\"\""
   ]
  },
  {
   "cell_type": "markdown",
   "metadata": {},
   "source": [
    "## 454. 4Sum II"
   ]
  },
  {
   "cell_type": "markdown",
   "metadata": {},
   "source": [
    "Given four lists A, B, C, D of integer values, compute how many tuples (i, j, k, l) there are such that A[i] + B[j] + C[k] + D[l] is zero.\n",
    "\n",
    "To make problem a bit easier, all A, B, C, D have same length of N where 0 ≤ N ≤ 500. All integers are in the range of -228 to 228 - 1 and the result is guaranteed to be at most 231 - 1.\n",
    "\n",
    "Example:\n",
    "\n",
    "Input:\n",
    "A = [ 1, 2]\n",
    "B = [-2,-1]\n",
    "C = [-1, 2]\n",
    "D = [ 0, 2]\n",
    "\n",
    "Output:\n",
    "2\n",
    "\n",
    "Explanation:\n",
    "The two tuples are:\n",
    "1. (0, 0, 0, 1) -> A[0] + B[0] + C[0] + D[1] = 1 + (-2) + (-1) + 2 = 0\n",
    "2. (1, 1, 0, 0) -> A[1] + B[1] + C[0] + D[0] = 2 + (-1) + (-1) + 0 = 0\n"
   ]
  },
  {
   "cell_type": "code",
   "execution_count": null,
   "metadata": {
    "collapsed": true
   },
   "outputs": [],
   "source": [
    "class Solution(object):\n",
    "    def fourSumCount(self, A, B, C, D):\n",
    "        \"\"\"\n",
    "        :type A: List[int]\n",
    "        :type B: List[int]\n",
    "        :type C: List[int]\n",
    "        :type D: List[int]\n",
    "        :rtype: int\n",
    "        \"\"\""
   ]
  }
 ],
 "metadata": {
  "kernelspec": {
   "display_name": "Python 2",
   "language": "python",
   "name": "python2"
  },
  "language_info": {
   "codemirror_mode": {
    "name": "ipython",
    "version": 2
   },
   "file_extension": ".py",
   "mimetype": "text/x-python",
   "name": "python",
   "nbconvert_exporter": "python",
   "pygments_lexer": "ipython2",
   "version": "2.7.12"
  }
 },
 "nbformat": 4,
 "nbformat_minor": 0
}
