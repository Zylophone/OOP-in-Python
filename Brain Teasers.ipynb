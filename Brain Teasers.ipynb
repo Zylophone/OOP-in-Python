{
 "cells": [
  {
   "cell_type": "markdown",
   "metadata": {},
   "source": [
    "# Brain Teasers"
   ]
  },
  {
   "cell_type": "markdown",
   "metadata": {},
   "source": [
    "**1**. Add arithmetic operators (plus, minus, times, divide) to make the following expression true: 3 1 3 6 = 8. You can use any parentheses you’d like."
   ]
  },
  {
   "cell_type": "markdown",
   "metadata": {},
   "source": [
    "Solution: An interviewer is asking this problem to see how you think and approach problems—so don’t just guess randomly.\n",
    "Try approaching this the following way: What sorts of operations would get us to 8? I can think of a few:\n",
    "\n",
    "4 * 2 = 8\n",
    "\n",
    "16 / 2 = 8\n",
    "\n",
    "4 + 4 = 8\n",
    "\n",
    "Let’s start with the first one. Is there any way to make 3 1 3 6 produce 4 * 2? We can easily notice that 3 + 1 = 4 (the first two numbers). We can also notice that 6 / 3 = 2. If we had “3 1 6 3”, we’d be done, since (3 + 1)*(6 / 3) = 8. Although it seems a little unconventional to do this, we can, in fact, just flip the 6 and the 3 to get the solution: (( 3 + 1 ) / 3) * 6 = 8"
   ]
  },
  {
   "cell_type": "markdown",
   "metadata": {},
   "source": [
    "**2**. There is an 8x8 chess board in which two diagonally opposite corners have been cut off. You are given 31 dominos, and a single domino can cover exactly two squares. Can you use the 31 dominos to cover the entire board? Prove your answer (by providing an example, or showing why it’s impossible)."
   ]
  },
  {
   "cell_type": "markdown",
   "metadata": {},
   "source": [
    "Solution: Impossible. Here’s why: The chess board initially has 32 black and 32 white squares. By re- moving opposite corners (which must be the same color), we’re left with 30 of one color and 32 of the other color. Let’s say, for the sake of argument, that we have 30 black and 32 white squares.\n",
    "When we lay down each domino, we’re taking up one white and one black square. Therefore, 31 dominos will take up 31 white squares and 31 black squares exactly. On this board, how- ever, we must have 30 black squares and 32 white squares. Hence, it is impossible.\n",
    "\n",
    "<img src=https://upload.wikimedia.org/wikipedia/commons/thumb/7/70/Checkerboard_pattern.svg/500px-Checkerboard_pattern.svg.png \\>"
   ]
  },
  {
   "cell_type": "markdown",
   "metadata": {},
   "source": [
    "**3**. You have a five quart jug and a three quart jug, and an unlimited supply of water (but no measuring cups). How would you come up with exactly four quarts of water?\n",
    "NOTE: The jugs are oddly shaped, such that filling up exactly ‘half’ of the jug would be impossible."
   ]
  },
  {
   "cell_type": "markdown",
   "metadata": {},
   "source": [
    "Solution: First fill up the five quart jug, and then fill up three quart jug with the water from the five quart jug. The five quart jug is left with 2 quart water. Then pour away the water in the three quart jug. Pour the remaining 2 quart water in the five quart jug into the three quart jug. Now there are no water left in the five quart jug but 2 quart water in the three quart jug. Finally, fill up the five quart jug and pour one quart into the three quart jug to fill it up. As a result, there remains 4 quart water in the five quart jug.\n",
    "\n",
    "Generalization: as long as the two jug sizes are relatively prime (i.e., have no common prime factors), you can find a pour sequence for any value between 1 and the sum of the jug sizes."
   ]
  },
  {
   "cell_type": "markdown",
   "metadata": {},
   "source": [
    "**4**. A bunch of men are on an island. A genie comes down and gathers everyone together and places a magical hat on some people’s heads (i.e., **at least one person has a hat**). The hat is magical: it can be seen by other people, but not by the wearer of the hat himself. To remove the hat, those (and only those who have a hat) must dunk themselves underwater at exactly midnight. If there are n people and c hats, how long does it take the men to remove the hats? The men cannot tell each other (in any way) that they have a hat.\n",
    "FOLLOW UP Prove that your solution is correct."
   ]
  },
  {
   "cell_type": "markdown",
   "metadata": {},
   "source": [
    "Solution:\n",
    "\n",
    "Base case, c=1:\n",
    "\n",
    "The man who does not see any hat should go.\n",
    "\n",
    "c=2: The two men see one hat and are unsure whether c=1 or c=2. They should know that if c=1, it should be removed at Night #1. Since this is not the case. They know there will be two hats. Those see one hat should go on Night #2.\n",
    "\n",
    "c=3: Three men should see two hats. They are not sure c=2 or c=3. But if c=2, it should take two night to remove. So if at the third night this is not the case. They are sure c=3, then they should go.\n",
    "\n",
    "general c: Those see c-1 hats should expect to wait c-1 nights. The others see c hats should expect to wait for c nights. As a result, c hats are removed on Night #c.\n",
    "\n",
    "The general proof should be induction. We have already examined c=1 and c=2. Let's assume people know c-1 hats are removed on night #c-1. Consider c hats in total. Since people know c-1 hats will be removed in c-1 nights. Those who see c-1 hats expect to wait for c-1 nights. The others just keep where they are. Then on the c-th night. Those who still see c-1 hats should realize that there is a hat on his/her head. So they should go. Thus c hats will be removed on the c-th night."
   ]
  },
  {
   "cell_type": "markdown",
   "metadata": {},
   "source": [
    "**5**. There is a building of 100 floors. If an egg drops from the Nth floor or above it will break. If it’s dropped from any floor below, it will not break. You’re given 2 eggs. Find N, while minimizing the number of drops for the worst case."
   ]
  },
  {
   "cell_type": "markdown",
   "metadata": {},
   "source": [
    "Solution: \n",
    "\n",
    "1. Naively, drop from bottom floor to top floor, Worst case: 100-th floor: 100 drops; N-th floor: N+1 drops\n",
    "2. Drop egg1 at 10, 20, 30, 40, 50, 60,...,100. The worst case is 100. Then egg1 is dropped 10 times, egg2 needs to be dropped from 91 to 99 (9 times), the total will be 19 times. Can we improve this worst case number of drop?\n",
    "3. The observation is that **regardless of how we drop Egg1, Egg2 must do a linear search. i.e., if Egg1 breaks between floor 10 and 15, we have to check every floor in between with the Egg2**. \n",
    "4. **A perfectly load balanced system would be one in which Drops of Egg1 + Drops of Egg2 is always the same, regardless of where Egg1 broke**. So everytime the increased number of floors to drop Egg1 should reduce by one such that the number of drops for egg2 will decrease by 1 in compensation for one more drop of egg1 in the worst case. As a result, \n",
    "$$X+X-1+\\ldots+1=100=>(1+X)X/2=100=>X\\approx14$$\n",
    "In the worst case, the number of drops is 14.(Egg1 1 drop, Egg2 13 drops)"
   ]
  },
  {
   "cell_type": "markdown",
   "metadata": {},
   "source": [
    "**6**. There are one hundred closed lockers in a hallway. A man begins by opening all one hundred lockers. Next, he closes every second locker. Then he goes to every third locker and closes it if it is open or opens it if it is closed (e.g., he toggles every third locker). After his one hundredth pass in the hallway, in which he toggles only locker number one hundred, how many lockers are open?"
   ]
  },
  {
   "cell_type": "markdown",
   "metadata": {},
   "source": [
    "Solution: From analysis, the number of toggles for each locker number should be the number of factors for that number (including itself and one). Generally, those with odd number of factors should be open; even should be closed. \n",
    "\n",
    "The key questions(<font color='red'>where I stuck</font>) is how could the number of factors be odd? Answer: the number it self is a perfect square! Then how many perfect square are there in 1-100?\n",
    "\n",
    "$$0<n^{2}<=100=>0<n \\leq 10=>total\\ number=10$$"
   ]
  },
  {
   "cell_type": "code",
   "execution_count": null,
   "metadata": {
    "collapsed": true
   },
   "outputs": [],
   "source": []
  }
 ],
 "metadata": {
  "kernelspec": {
   "display_name": "Python 2",
   "language": "python",
   "name": "python2"
  },
  "language_info": {
   "codemirror_mode": {
    "name": "ipython",
    "version": 2
   },
   "file_extension": ".py",
   "mimetype": "text/x-python",
   "name": "python",
   "nbconvert_exporter": "python",
   "pygments_lexer": "ipython2",
   "version": "2.7.12"
  }
 },
 "nbformat": 4,
 "nbformat_minor": 0
}
