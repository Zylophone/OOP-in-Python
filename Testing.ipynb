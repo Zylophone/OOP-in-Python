{
 "cells": [
  {
   "cell_type": "markdown",
   "metadata": {},
   "source": [
    "# Testing"
   ]
  },
  {
   "cell_type": "code",
   "execution_count": 48,
   "metadata": {
    "collapsed": false
   },
   "outputs": [],
   "source": [
    "# Definition for singly-linked list.\n",
    "class ListNode(object):\n",
    "    def __init__(self, x):\n",
    "        self.val = x\n",
    "        self.next = None\n",
    "\n",
    "class Solution(object):\n",
    "    def addTwoNumbers(self, l1, l2):\n",
    "        \"\"\"\n",
    "        :type l1: ListNode\n",
    "        :type l2: ListNode\n",
    "        :rtype: ListNode\n",
    "        \"\"\"\n",
    "        l3=ListNode(None)\n",
    "        result=l3\n",
    "        add=0\n",
    "        while l1 or l2:\n",
    "            l3.next=ListNode(None)\n",
    "            l3=l3.next\n",
    "            l3.val=0\n",
    "            if l1:\n",
    "                l3.val+=l1.val\n",
    "                l1=l1.next\n",
    "            if l2:\n",
    "                l3.val+=l2.val\n",
    "                l2=l2.next\n",
    "            l3.val+=add\n",
    "            if l3.val>9:\n",
    "                l3.val-=10\n",
    "                add=1\n",
    "            else:\n",
    "                add=0\n",
    "        if add>0:\n",
    "            l3.next=ListNode(None)\n",
    "            l3=l3.next\n",
    "            l3.val=add\n",
    "            \n",
    "        return result.next"
   ]
  },
  {
   "cell_type": "code",
   "execution_count": 49,
   "metadata": {
    "collapsed": false
   },
   "outputs": [
    {
     "name": "stdout",
     "output_type": "stream",
     "text": [
      "8\n"
     ]
    }
   ],
   "source": [
    "l1=ListNode(2)\n",
    "l1.next=ListNode(4)\n",
    "l1.next.next=ListNode(3)\n",
    "l2=ListNode(5)\n",
    "l2.next=ListNode(6)\n",
    "l2.next.next=ListNode(4)\n",
    "l2.next.next.next=ListNode(5)\n",
    "o=Solution()\n",
    "print o.addTwoNumbers(l1,l2).next.next.val"
   ]
  },
  {
   "cell_type": "code",
   "execution_count": 50,
   "metadata": {
    "collapsed": false
   },
   "outputs": [
    {
     "data": {
      "text/plain": [
       "'s'"
      ]
     },
     "execution_count": 50,
     "metadata": {},
     "output_type": "execute_result"
    }
   ],
   "source": [
    "a='st'\n",
    "a[0]"
   ]
  },
  {
   "cell_type": "code",
   "execution_count": 94,
   "metadata": {
    "collapsed": false
   },
   "outputs": [],
   "source": [
    "class Solution(object):\n",
    "    def lengthOfLongestSubstring(self, s):\n",
    "        \"\"\"\n",
    "        :type s: str\n",
    "        :rtype: int\n",
    "        \"\"\"\n",
    "        longest=0 # number of letters in maximum substring\n",
    "        current=0 # count num of letters in current substring\n",
    "        start=0 # start position of substring\n",
    "        index_dict={} # create a dictionary that stores the letters and their indices in the current substring\n",
    "        for i in range(len(s)):\n",
    "            if s[i] in index_dict and index_dict[s[i]]>=start:\n",
    "                current=current+1-(index_dict[s[i]]-start+1) # update substring length\n",
    "                start=index_dict[s[i]]+1 # update start position to be the next letter to where s[i] previously appears\n",
    "                index_dict[s[i]]=i # update the dictionary for new position of s[i]\n",
    "            else: # current letter not in index_dict\n",
    "                index_dict[s[i]]=i\n",
    "                current+=1\n",
    "                longest=max(current,longest) # update max\n",
    "                \n",
    "        return longest\n",
    "\n",
    "# class Solution(object):\n",
    "#     def lengthOfLongestSubstring(self, s):\n",
    "#         \"\"\"\n",
    "#         :type s: str\n",
    "#         :rtype: int\n",
    "#         \"\"\"\n",
    "#         index = {}  # cache the position of each char in current sub str\n",
    "#         start = 0   # cache the position of the start char in current sub str\n",
    "#         longest, current = 0, 0 # result, and the length of current sub str\n",
    "#         for i, c in enumerate(s):\n",
    "#             if c in index and index[c] >= start:\n",
    "#                 # current c is in current sub str\n",
    "#                 # we shuink the current str\n",
    "#                 current = current + start - index[c]\n",
    "#                 # then update the start position and the index of c\n",
    "#                 start = index[c]+1\n",
    "#                 index[c] = i\n",
    "#             else:\n",
    "#                 # current c is not in current sub str\n",
    "#                 # we update the current str, and see if it's longer than \n",
    "#                 # the longest sub str\n",
    "#                 index[c] = i\n",
    "#                 current += 1\n",
    "#                 longest = max(longest, current)\n",
    "#         return longest"
   ]
  },
  {
   "cell_type": "code",
   "execution_count": 96,
   "metadata": {
    "collapsed": false
   },
   "outputs": [
    {
     "data": {
      "text/plain": [
       "4"
      ]
     },
     "execution_count": 96,
     "metadata": {},
     "output_type": "execute_result"
    }
   ],
   "source": [
    "o=Solution()\n",
    "a='abaadadvdfa'\n",
    "o.lengthOfLongestSubstring(a)"
   ]
  },
  {
   "cell_type": "code",
   "execution_count": null,
   "metadata": {
    "collapsed": true
   },
   "outputs": [],
   "source": []
  }
 ],
 "metadata": {
  "kernelspec": {
   "display_name": "Python 2",
   "language": "python",
   "name": "python2"
  },
  "language_info": {
   "codemirror_mode": {
    "name": "ipython",
    "version": 2
   },
   "file_extension": ".py",
   "mimetype": "text/x-python",
   "name": "python",
   "nbconvert_exporter": "python",
   "pygments_lexer": "ipython2",
   "version": "2.7.12"
  }
 },
 "nbformat": 4,
 "nbformat_minor": 0
}
