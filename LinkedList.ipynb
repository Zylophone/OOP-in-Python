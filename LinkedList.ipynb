{
 "cells": [
  {
   "cell_type": "markdown",
   "metadata": {},
   "source": [
    "## 19. Remove Nth Node From End of List"
   ]
  },
  {
   "cell_type": "markdown",
   "metadata": {},
   "source": [
    "Given a linked list, remove the nth node from the end of list and return its head.\n",
    "\n",
    "For example,\n",
    "\n",
    "   Given linked list: 1->2->3->4->5, and n = 2.\n",
    "\n",
    "   After removing the second node from the end, the linked list becomes 1->2->3->5.\n",
    "   \n",
    "Note:\n",
    "\n",
    "Given n will always be valid.\n",
    "\n",
    "Try to do this in one pass.\n",
    "\n"
   ]
  },
  {
   "cell_type": "markdown",
   "metadata": {},
   "source": [
    "Solution: It is restricted to one pass, so we have to go from the head to the end. Then how do we locate the n-th element from the end of the linkedlist? What we could do is to use two pointers moving at the same pace. If the second pointer reaches null, the first pointer is right at the location of the node we would like to remove. But we also need to keep track of the node before that node in order to remove the node from the linkedlist. So we need an extra pointer."
   ]
  },
  {
   "cell_type": "code",
   "execution_count": 3,
   "metadata": {
    "collapsed": true
   },
   "outputs": [],
   "source": [
    "# Definition for singly-linked list.\n",
    "class ListNode(object):\n",
    "    def __init__(self, x):\n",
    "        self.val = x\n",
    "        self.next = None\n",
    "\n",
    "class Solution(object):\n",
    "    def removeNthFromEnd(self, head, n):\n",
    "        \"\"\"\n",
    "        :type head: ListNode\n",
    "        :type n: int\n",
    "        :rtype: ListNode\n",
    "        \"\"\"\n",
    "        p1=head\n",
    "        p2=head\n",
    "        for i in xrange(n):\n",
    "            p2=p2.next\n",
    "        p3=head\n",
    "        while p2!=None:\n",
    "            if p3.next==p1:\n",
    "                p3=p3.next\n",
    "            p1=p1.next\n",
    "            p2=p2.next\n",
    "        # start remove p1\n",
    "        p3.next=p1.next\n",
    "        p1.next=None\n",
    "        p1=None\n",
    "        \n",
    "        return head"
   ]
  },
  {
   "cell_type": "code",
   "execution_count": 8,
   "metadata": {
    "collapsed": false
   },
   "outputs": [
    {
     "name": "stdout",
     "output_type": "stream",
     "text": [
      "1 2 3 5 None\n"
     ]
    }
   ],
   "source": [
    "head=ListNode(1)\n",
    "head.next=ListNode(2)\n",
    "head.next.next=ListNode(3)\n",
    "head.next.next.next=ListNode(4)\n",
    "head.next.next.next.next=ListNode(5)\n",
    "o=Solution()\n",
    "head=o.removeNthFromEnd(head,2)\n",
    "print head.val, head.next.val, head.next.next.val,head.next.next.next.val, head.next.next.next.next"
   ]
  },
  {
   "cell_type": "markdown",
   "metadata": {},
   "source": [
    "There is a problem in the above code if the removed element is the head:"
   ]
  },
  {
   "cell_type": "code",
   "execution_count": 10,
   "metadata": {
    "collapsed": false
   },
   "outputs": [
    {
     "name": "stdout",
     "output_type": "stream",
     "text": [
      "\n"
     ]
    }
   ],
   "source": [
    "# Definition for singly-linked list.\n",
    "class ListNode(object):\n",
    "    def __init__(self, x):\n",
    "        self.val = x\n",
    "        self.next = None\n",
    "\n",
    "class Solution(object):\n",
    "    def removeNthFromEnd(self, head, n):\n",
    "        \"\"\"\n",
    "        :type head: ListNode\n",
    "        :type n: int\n",
    "        :rtype: ListNode\n",
    "        \"\"\"\n",
    "        p1=head\n",
    "        p2=head\n",
    "        for i in xrange(n):\n",
    "            p2=p2.next\n",
    "        p3=head\n",
    "        while p2!=None:\n",
    "            if p3.next==p1:\n",
    "                p3=p3.next\n",
    "            p1=p1.next\n",
    "            p2=p2.next\n",
    "        # start remove p1\n",
    "        if p1==head:\n",
    "            head=head.next\n",
    "            p1=None\n",
    "            p3=None\n",
    "        else:\n",
    "            p3.next=p1.next\n",
    "            p1.next=None\n",
    "            p1=None\n",
    "        \n",
    "        return head"
   ]
  },
  {
   "cell_type": "code",
   "execution_count": 15,
   "metadata": {
    "collapsed": false
   },
   "outputs": [
    {
     "name": "stdout",
     "output_type": "stream",
     "text": [
      " None\n"
     ]
    }
   ],
   "source": [
    "head=ListNode(1)\n",
    "o=Solution()\n",
    "head=o.removeNthFromEnd(head,1)\n",
    "print head"
   ]
  },
  {
   "cell_type": "markdown",
   "metadata": {},
   "source": [
    "## 24. Swap Nodes in Pairs"
   ]
  },
  {
   "cell_type": "markdown",
   "metadata": {},
   "source": [
    "Given a linked list, swap every two adjacent nodes and return its head.\n",
    "\n",
    "For example,\n",
    "Given 1->2->3->4, you should return the list as 2->1->4->3.\n",
    "\n",
    "Your algorithm should use only constant space. You may not modify the values in the list, only nodes itself can be changed."
   ]
  },
  {
   "cell_type": "code",
   "execution_count": 20,
   "metadata": {
    "collapsed": true
   },
   "outputs": [],
   "source": [
    "# Definition for singly-linked list.\n",
    "# class ListNode(object):\n",
    "#     def __init__(self, x):\n",
    "#         self.val = x\n",
    "#         self.next = None\n",
    "\n",
    "class Solution(object):\n",
    "    def swapPairs(self, head):\n",
    "        \"\"\"\n",
    "        :type head: ListNode\n",
    "        :rtype: ListNode\n",
    "        \"\"\"\n",
    "        if head==None:\n",
    "            return None\n",
    "        p1=head\n",
    "        if p1.next==None:\n",
    "            return head\n",
    "        tmp=p1.next\n",
    "        # swap first two\n",
    "        p1.next=tmp.next\n",
    "        tmp.next=p1\n",
    "        head=tmp\n",
    "        while p1.next!=None and p1.next.next!=None:\n",
    "            tmp=p1\n",
    "            p1=p1.next\n",
    "            tmp.next=p1.next\n",
    "            tmp=p1.next\n",
    "            p1.next=tmp.next\n",
    "            tmp.next=p1\n",
    "        return head"
   ]
  },
  {
   "cell_type": "code",
   "execution_count": 25,
   "metadata": {
    "collapsed": false
   },
   "outputs": [],
   "source": [
    "# head=ListNode(1)\n",
    "# head.next=ListNode(2)\n",
    "# head.next.next=ListNode(3)\n",
    "# head.next.next.next=ListNode(4)\n",
    "# head.next.next.next.next=ListNode(5)\n",
    "o=Solution()\n",
    "head=o.swapPairs(head)\n",
    "result=head\n",
    "while result!=None:    \n",
    "    print result.val\n",
    "    result=result.next"
   ]
  },
  {
   "cell_type": "markdown",
   "metadata": {},
   "source": [
    "## 61. Rotate List"
   ]
  },
  {
   "cell_type": "markdown",
   "metadata": {},
   "source": [
    "Given a list, rotate the list to the right by k places, where k is non-negative.\n",
    "\n",
    "For example:\n",
    "Given 1->2->3->4->5->NULL and k = 2,\n",
    "return 4->5->1->2->3->NULL.\n",
    "\n"
   ]
  },
  {
   "cell_type": "markdown",
   "metadata": {},
   "source": [
    "Solution: first we locate the start node of the rotation by two pointers method and then connect the tail to the head. Then we disconnect the new start from the previous node."
   ]
  },
  {
   "cell_type": "code",
   "execution_count": 164,
   "metadata": {
    "collapsed": true
   },
   "outputs": [],
   "source": [
    "# Definition for singly-linked list.\n",
    "# class ListNode(object):\n",
    "#     def __init__(self, x):\n",
    "#         self.val = x\n",
    "#         self.next = None\n",
    "\n",
    "class Solution(object):\n",
    "    def rotateRight(self, head, k):\n",
    "        \"\"\"\n",
    "        :type head: ListNode\n",
    "        :type k: int\n",
    "        :rtype: ListNode\n",
    "        \"\"\"\n",
    "        if head==None:\n",
    "            return None\n",
    "        p1=head\n",
    "        p2=head\n",
    "        for i in range(k):\n",
    "            if p2.next==None:\n",
    "                p2=head\n",
    "            else:\n",
    "                p2=p2.next\n",
    "        if p2==None:\n",
    "            return head\n",
    "        while p2.next:\n",
    "            p1=p1.next\n",
    "            p2=p2.next\n",
    "        p2.next=head\n",
    "        head=p1.next\n",
    "        p1.next=None\n",
    "        \n",
    "        return head"
   ]
  },
  {
   "cell_type": "code",
   "execution_count": 171,
   "metadata": {
    "collapsed": false
   },
   "outputs": [
    {
     "name": "stdout",
     "output_type": "stream",
     "text": [
      "1\n"
     ]
    }
   ],
   "source": [
    "head=ListNode(1)\n",
    "# head.next=ListNode(2)\n",
    "# head.next.next=ListNode(3)\n",
    "# head.next.next.next=ListNode(4)\n",
    "# head.next.next.next.next=ListNode(5)\n",
    "o=Solution()\n",
    "result=o.rotateRight(head,2)\n",
    "while result:\n",
    "    print result.val\n",
    "    result=result.next"
   ]
  },
  {
   "cell_type": "markdown",
   "metadata": {},
   "source": [
    "The above solution has memory error. We could improve it a little by first calculating the length of the linked list"
   ]
  },
  {
   "cell_type": "code",
   "execution_count": 179,
   "metadata": {
    "collapsed": true
   },
   "outputs": [],
   "source": [
    "# Definition for singly-linked list.\n",
    "# class ListNode(object):\n",
    "#     def __init__(self, x):\n",
    "#         self.val = x\n",
    "#         self.next = None\n",
    "\n",
    "class Solution(object):\n",
    "    def rotateRight(self, head, k):\n",
    "        \"\"\"\n",
    "        :type head: ListNode\n",
    "        :type k: int\n",
    "        :rtype: ListNode\n",
    "        \"\"\"\n",
    "        if head==None:\n",
    "            return None\n",
    "        p1=head\n",
    "        p2=head\n",
    "        length=1\n",
    "        tmp=head\n",
    "        while tmp.next:\n",
    "            length+=1\n",
    "            tmp=tmp.next\n",
    "        k%=length\n",
    "        for i in range(k):\n",
    "            p2=p2.next\n",
    "        if p2==None:\n",
    "            return head\n",
    "        while p2.next:\n",
    "            p1=p1.next\n",
    "            p2=p2.next\n",
    "        p2.next=head\n",
    "        head=p1.next\n",
    "        p1.next=None\n",
    "        \n",
    "        return head"
   ]
  },
  {
   "cell_type": "code",
   "execution_count": 180,
   "metadata": {
    "collapsed": false
   },
   "outputs": [
    {
     "name": "stdout",
     "output_type": "stream",
     "text": [
      "1\n",
      "2\n",
      "3\n",
      "4\n",
      "5\n"
     ]
    }
   ],
   "source": [
    "head=ListNode(1)\n",
    "head.next=ListNode(2)\n",
    "head.next.next=ListNode(3)\n",
    "head.next.next.next=ListNode(4)\n",
    "head.next.next.next.next=ListNode(5)\n",
    "o=Solution()\n",
    "result=o.rotateRight(head,200000000)\n",
    "while result:\n",
    "    print result.val\n",
    "    result=result.next"
   ]
  },
  {
   "cell_type": "markdown",
   "metadata": {},
   "source": [
    "## 83. Remove Duplicates from Sorted List"
   ]
  },
  {
   "cell_type": "markdown",
   "metadata": {},
   "source": [
    "Given a sorted linked list, delete all duplicates such that each element appear only once.\n",
    "\n",
    "For example,\n",
    "\n",
    "Given 1->1->2, return 1->2.\n",
    "\n",
    "Given 1->1->2->3->3, return 1->2->3."
   ]
  },
  {
   "cell_type": "markdown",
   "metadata": {},
   "source": [
    "Solution: We could just do a one-pass to remove the duplicates. But it is important to have a pointer pointing to keep track of the previous node."
   ]
  },
  {
   "cell_type": "code",
   "execution_count": 17,
   "metadata": {
    "collapsed": false
   },
   "outputs": [],
   "source": [
    "# Definition for singly-linked list.\n",
    "# class ListNode(object):\n",
    "#     def __init__(self, x):\n",
    "#         self.val = x\n",
    "#         self.next = None\n",
    "\n",
    "class Solution(object):\n",
    "    def deleteDuplicates(self, head):\n",
    "        \"\"\"\n",
    "        :type head: ListNode\n",
    "        :rtype: ListNode\n",
    "        \"\"\"\n",
    "        if head==None:\n",
    "            return None\n",
    "        p1=head\n",
    "        # pointer pointing to the previous node\n",
    "        p2=head\n",
    "        if p1.next==None:\n",
    "            return head\n",
    "        p1=p1.next\n",
    "        while p1!=None:\n",
    "            if p1.val==p2.val:\n",
    "                p2.next=p1.next\n",
    "                p1=p1.next\n",
    "            else:\n",
    "                p1=p1.next\n",
    "                p2=p2.next\n",
    "        return head"
   ]
  },
  {
   "cell_type": "code",
   "execution_count": 19,
   "metadata": {
    "collapsed": false
   },
   "outputs": [
    {
     "name": "stdout",
     "output_type": "stream",
     "text": [
      "1\n"
     ]
    }
   ],
   "source": [
    "head=ListNode(1)\n",
    "# head.next=ListNode(1)\n",
    "# head.next.next=ListNode(2)\n",
    "# head.next.next.next=ListNode(3)\n",
    "# head.next.next.next.next=ListNode(3)\n",
    "o=Solution()\n",
    "head=o.deleteDuplicates(head)\n",
    "result=head\n",
    "while result!=None:    \n",
    "    print result.val\n",
    "    result=result.next"
   ]
  },
  {
   "cell_type": "markdown",
   "metadata": {},
   "source": [
    "## 82. Remove Duplicates from Sorted List II"
   ]
  },
  {
   "cell_type": "markdown",
   "metadata": {},
   "source": [
    "Given a sorted linked list, delete all nodes that have duplicate numbers, leaving only distinct numbers from the original list.\n",
    "\n",
    "For example,\n",
    "Given 1->2->3->3->4->4->5, return 1->2->5.\n",
    "Given 1->1->1->2->3, return 2->3."
   ]
  },
  {
   "cell_type": "markdown",
   "metadata": {},
   "source": [
    "Solution: We need a previous pointer and we initialize previous pointer to be a listnode with none value to point at the head."
   ]
  },
  {
   "cell_type": "code",
   "execution_count": 62,
   "metadata": {
    "collapsed": true
   },
   "outputs": [],
   "source": [
    "# Definition for singly-linked list.\n",
    "# class ListNode(object):\n",
    "#     def __init__(self, x):\n",
    "#         self.val = x\n",
    "#         self.next = None\n",
    "\n",
    "class Solution(object):\n",
    "    def deleteDuplicates(self, head):\n",
    "        \"\"\"\n",
    "        :type head: ListNode\n",
    "        :rtype: ListNode\n",
    "        \"\"\"\n",
    "        # create a prev pointer initialized to point at the head\n",
    "        prev=ListNode(None)\n",
    "        prev.next=head\n",
    "        # bool\n",
    "        duplicate=False\n",
    "        if head==None:\n",
    "            return head\n",
    "        p1=head\n",
    "        while p1 and p1.next:\n",
    "            # skip duplicates\n",
    "            while p1.next and p1.next.val==p1.val:\n",
    "                p1=p1.next\n",
    "                duplicate=True\n",
    "            if duplicate:\n",
    "                prev.next=p1.next\n",
    "                p1=p1.next\n",
    "            else:\n",
    "                prev=prev.next\n",
    "                p1=p1.next\n",
    "            # keep track of head\n",
    "            if prev.val==None:\n",
    "                head=prev.next\n",
    "            duplicate=False\n",
    "        return head"
   ]
  },
  {
   "cell_type": "code",
   "execution_count": 66,
   "metadata": {
    "collapsed": false
   },
   "outputs": [],
   "source": [
    "head=ListNode(1)\n",
    "head.next=ListNode(1)\n",
    "# head.next.next=ListNode(2)\n",
    "# head.next.next.next=ListNode(3)\n",
    "# head.next.next.next.next=ListNode(3)\n",
    "# head.next.next.next.next.next=ListNode(4)\n",
    "o=Solution()\n",
    "head=o.deleteDuplicates(head)\n",
    "result=head\n",
    "while result!=None:    \n",
    "    print result.val\n",
    "    result=result.next"
   ]
  },
  {
   "cell_type": "markdown",
   "metadata": {},
   "source": [
    "Might seek for a better solution later."
   ]
  },
  {
   "cell_type": "markdown",
   "metadata": {},
   "source": [
    "## 86. Partition List"
   ]
  },
  {
   "cell_type": "markdown",
   "metadata": {},
   "source": [
    "Given a linked list and a value x, partition it such that all nodes less than x come before nodes greater than or equal to x.\n",
    "\n",
    "You should preserve the original relative order of the nodes in each of the two partitions.\n",
    "\n",
    "For example,\n",
    "\n",
    "Given 1->4->3->2->5->2 and x = 3,\n",
    "return 1->2->2->4->3->5.\n"
   ]
  },
  {
   "cell_type": "markdown",
   "metadata": {},
   "source": [
    "Solution: The partition of a list with a pivot value in the quick sort will not do the job as it breaks the relative order. If we use extra space, we could store the values in the linkedlist in a arraylist, then we record the indices of left partition and right partition respectively. Then we create a new linkedlist with the partitioned values."
   ]
  },
  {
   "cell_type": "markdown",
   "metadata": {},
   "source": [
    "The above solution is too naive and did not make full use of the linked list data structure. This problem could be solved in one pass according to discussion. We first create two auxiliary node that will point to the head of the left linked list and the right linked list respectively. Then we create the listnode of the left and right list one by one in one pass of the original linkedlist. "
   ]
  },
  {
   "cell_type": "code",
   "execution_count": null,
   "metadata": {
    "collapsed": true
   },
   "outputs": [],
   "source": [
    "# Definition for singly-linked list.\n",
    "# class ListNode(object):\n",
    "#     def __init__(self, x):\n",
    "#         self.val = x\n",
    "#         self.next = None\n",
    "\n",
    "class Solution(object):\n",
    "    def partition(self, head, x):\n",
    "        \"\"\"\n",
    "        :type head: ListNode\n",
    "        :type x: int\n",
    "        :rtype: ListNode\n",
    "        \"\"\"\n",
    "        n1=ListNode(0)\n",
    "        n2=ListNode(0)\n",
    "        p1=n1\n",
    "        p2=n2\n",
    "        while head:\n",
    "            if head.val<x:\n",
    "                p1.next=ListNode(head.val)\n",
    "                p1=p1.next\n",
    "            else:\n",
    "                p2.next=ListNode(head.val)\n",
    "                p2=p2.next\n",
    "                \n",
    "            head=head.next\n",
    "            \n",
    "        p1.next=n2.next\n",
    "        \n",
    "        return n1.next"
   ]
  },
  {
   "cell_type": "markdown",
   "metadata": {},
   "source": [
    "## 92. Reverse Linked List II"
   ]
  },
  {
   "cell_type": "markdown",
   "metadata": {},
   "source": [
    "Reverse a linked list from position m to n. Do it in-place and in one-pass.\n",
    "\n",
    "For example:\n",
    "Given 1->2->3->4->5->NULL, m = 2 and n = 4,\n",
    "\n",
    "return 1->4->3->2->5->NULL.\n",
    "\n",
    "Note:\n",
    "\n",
    "Given m, n satisfy the following condition:\n",
    "\n",
    "1 ≤ m ≤ n ≤ length of list."
   ]
  },
  {
   "cell_type": "markdown",
   "metadata": {},
   "source": [
    "Solution: We could reverse part of the linkedlist in the following procedure:\n",
    "\n",
    "1. Find the head and the end of the list: O(m+n) time. Notice that we have to keep track of the node before the head of the list and also the node next to the end of the list.\n",
    "2. detach the partial list from m to n.\n",
    "3. reverse the partial list\n",
    "4. attach it back to the original list"
   ]
  },
  {
   "cell_type": "code",
   "execution_count": 103,
   "metadata": {
    "collapsed": true
   },
   "outputs": [],
   "source": [
    "# Definition for singly-linked list.\n",
    "# class ListNode(object):\n",
    "#     def __init__(self, x):\n",
    "#         self.val = x\n",
    "#         self.next = None\n",
    "\n",
    "class Solution(object):\n",
    "    def reverseBetween(self, head, m, n):\n",
    "        \"\"\"\n",
    "        :type head: ListNode\n",
    "        :type m: int\n",
    "        :type n: int\n",
    "        :rtype: ListNode\n",
    "        \"\"\"\n",
    "        if m==n: return head\n",
    "        # create an auxiliary node pointing to the head of the linked list\n",
    "        node=ListNode(0)\n",
    "        node.next=head\n",
    "        start=node\n",
    "        end=node\n",
    "        for i in xrange(m-1):\n",
    "            start=start.next\n",
    "        for i in xrange(n):\n",
    "            end=end.next\n",
    "        prev=start\n",
    "        after=end.next\n",
    "        partial_head=start.next\n",
    "        end.next=None\n",
    "        prev.next=None\n",
    "        new_head=self.reverseList(partial_head)\n",
    "        prev.next=new_head\n",
    "        partial_head.next=after\n",
    "        \n",
    "        return node.next\n",
    "        \n",
    "    def reverseList(self,head):\n",
    "        last = None\n",
    "        currentNode = head\n",
    "        \n",
    "        while currentNode:\n",
    "            nextNode = currentNode.next\n",
    "            currentNode.next = last\n",
    "            last = currentNode\n",
    "            currentNode = nextNode\n",
    "        \n",
    "        return last"
   ]
  },
  {
   "cell_type": "code",
   "execution_count": 106,
   "metadata": {
    "collapsed": false
   },
   "outputs": [
    {
     "name": "stdout",
     "output_type": "stream",
     "text": [
      "1\n",
      "5\n",
      "4\n",
      "3\n",
      "2\n"
     ]
    }
   ],
   "source": [
    "o=Solution()\n",
    "head=ListNode(1)\n",
    "head.next=ListNode(2)\n",
    "head.next.next=ListNode(3)\n",
    "head.next.next.next=ListNode(4)\n",
    "head.next.next.next.next=ListNode(5)\n",
    "result=o.reverseBetween(head,2,5)\n",
    "while result:\n",
    "    print result.val\n",
    "    result=result.next"
   ]
  },
  {
   "cell_type": "markdown",
   "metadata": {},
   "source": [
    "**Discussion solution**:"
   ]
  },
  {
   "cell_type": "code",
   "execution_count": null,
   "metadata": {
    "collapsed": true
   },
   "outputs": [],
   "source": [
    "class Solution:\n",
    "    # @param head, a ListNode\n",
    "    # @param m, an integer\n",
    "    # @param n, an integer\n",
    "    # @return a ListNode\n",
    "    def reverseBetween(self, head, m, n):\n",
    "        if m == n:\n",
    "            return head\n",
    "\n",
    "        dummyNode = ListNode(0)\n",
    "        dummyNode.next = head\n",
    "        pre = dummyNode\n",
    "\n",
    "        for i in range(m - 1):\n",
    "            pre = pre.next\n",
    "        \n",
    "        # reverse the [m, n] nodes\n",
    "        reverse = None\n",
    "        cur = pre.next\n",
    "        for i in range(n - m + 1):\n",
    "            next = cur.next\n",
    "            cur.next = reverse\n",
    "            reverse = cur\n",
    "            cur = next\n",
    "\n",
    "        pre.next.next = cur\n",
    "        pre.next = reverse\n",
    "\n",
    "        return dummyNode.next"
   ]
  },
  {
   "cell_type": "markdown",
   "metadata": {},
   "source": [
    "## 141. Linked List Cycle"
   ]
  },
  {
   "cell_type": "markdown",
   "metadata": {},
   "source": [
    "Given a linked list, determine if it has a cycle in it.\n",
    "\n",
    "Follow up:\n",
    "\n",
    "Can you solve it without using extra space?"
   ]
  },
  {
   "cell_type": "markdown",
   "metadata": {},
   "source": [
    "Solution: We could use one fast mover and one slow mover to decide whether there is a cycle: If there is a cycle, then the two movers must meet. If not, one pointer will run into null."
   ]
  },
  {
   "cell_type": "code",
   "execution_count": 26,
   "metadata": {
    "collapsed": true
   },
   "outputs": [],
   "source": [
    "# Definition for singly-linked list.\n",
    "# class ListNode(object):\n",
    "#     def __init__(self, x):\n",
    "#         self.val = x\n",
    "#         self.next = None\n",
    "\n",
    "class Solution(object):\n",
    "    def hasCycle(self, head):\n",
    "        \"\"\"\n",
    "        :type head: ListNode\n",
    "        :rtype: bool\n",
    "        \"\"\"\n",
    "        if head==None:\n",
    "            return False\n",
    "        p1=head\n",
    "        p2=head\n",
    "        while p1.next!=None and p2.next!=None:\n",
    "            p1=p1.next\n",
    "            p2=p2.next.next\n",
    "            if p2==p1:\n",
    "                return True\n",
    "            elif p1==None or p2==None:\n",
    "                return False\n",
    "        return False"
   ]
  },
  {
   "cell_type": "markdown",
   "metadata": {},
   "source": [
    "## 142. Linked List Cycle II"
   ]
  },
  {
   "cell_type": "markdown",
   "metadata": {},
   "source": [
    "Given a linked list, return the node where the cycle begins. If there is no cycle, return null.\n",
    "\n",
    "Note: Do not modify the linked list.\n",
    "\n",
    "Follow up:\n",
    "\n",
    "Can you solve it without using extra space?\n"
   ]
  },
  {
   "cell_type": "code",
   "execution_count": 34,
   "metadata": {
    "collapsed": true
   },
   "outputs": [],
   "source": [
    "# Definition for singly-linked list.\n",
    "# class ListNode(object):\n",
    "#     def __init__(self, x):\n",
    "#         self.val = x\n",
    "#         self.next = None\n",
    "\n",
    "class Solution(object):\n",
    "    def detectCycle(self, head):\n",
    "        \"\"\"\n",
    "        :type head: ListNode\n",
    "        :rtype: ListNode\n",
    "        \"\"\"\n",
    "        if head==None:\n",
    "            return head\n",
    "        p1=head\n",
    "        p2=head\n",
    "        while p2!=None and p2.next!=None:\n",
    "            p1=p1.next\n",
    "            p2=p2.next.next\n",
    "            if p2==p1:\n",
    "                while head:\n",
    "                    if head==p1:\n",
    "                        return head\n",
    "                    head=head.next\n",
    "                    p1=p1.next\n",
    "        return None"
   ]
  },
  {
   "cell_type": "code",
   "execution_count": 27,
   "metadata": {
    "collapsed": true
   },
   "outputs": [],
   "source": [
    "class Solution(object):\n",
    "    def detectCycle(self, head):\n",
    "        fast = slow = head\n",
    "        while fast and fast.next:\n",
    "            fast = fast.next.next\n",
    "            slow = slow.next\n",
    "            # if there is a cycle\n",
    "            if slow is fast:\n",
    "                while head:\n",
    "                    if head == slow:\n",
    "                        return head\n",
    "                    head = head.next\n",
    "                    slow = slow.next\n",
    "        return None"
   ]
  },
  {
   "cell_type": "code",
   "execution_count": 33,
   "metadata": {
    "collapsed": false
   },
   "outputs": [
    {
     "name": "stdout",
     "output_type": "stream",
     "text": [
      "1\n"
     ]
    }
   ],
   "source": [
    "o=Solution()\n",
    "head=ListNode(1)\n",
    "head.next=head\n",
    "print o.detectCycle(head).val"
   ]
  },
  {
   "cell_type": "markdown",
   "metadata": {},
   "source": [
    "## 143. Reorder List"
   ]
  },
  {
   "cell_type": "markdown",
   "metadata": {},
   "source": [
    "Given a singly linked list L: L0→L1→…→Ln-1→Ln,\n",
    "reorder it to: L0→Ln→L1→Ln-1→L2→Ln-2→…\n",
    "\n",
    "You must do this in-place without altering the nodes' values.\n",
    "\n",
    "For example,\n",
    "Given {1,2,3,4}, reorder it to {1,4,2,3}."
   ]
  },
  {
   "cell_type": "markdown",
   "metadata": {},
   "source": [
    "Solution: We need to keep track of the start node and the remaining length."
   ]
  },
  {
   "cell_type": "code",
   "execution_count": 73,
   "metadata": {
    "collapsed": true
   },
   "outputs": [],
   "source": [
    "# Definition for singly-linked list.\n",
    "# class ListNode(object):\n",
    "#     def __init__(self, x):\n",
    "#         self.val = x\n",
    "#         self.next = None\n",
    "\n",
    "class Solution(object):\n",
    "    def reorderList(self, head):\n",
    "        \"\"\"\n",
    "        :type head: ListNode\n",
    "        :rtype: void Do not return anything, modify head in-place instead.\n",
    "        \"\"\"\n",
    "        # auxiliary node before the head\n",
    "        help_node=ListNode(0)\n",
    "        help_node.next=head\n",
    "        \n",
    "        length=0\n",
    "        p=help_node\n",
    "        # calculate the length\n",
    "        while p.next:\n",
    "            length+=1\n",
    "            p=p.next\n",
    "        \n",
    "        start_node=head\n",
    "        while length>2:\n",
    "            # locate the node before the last node\n",
    "            end_node=start_node\n",
    "            for i in range(length-2):\n",
    "                end_node=end_node.next\n",
    "            \n",
    "            # insert the last node\n",
    "            tmp=start_node.next\n",
    "            start_node.next=end_node.next\n",
    "            end_node.next.next=tmp\n",
    "            end_node.next=None\n",
    "            \n",
    "            start_node=start_node.next.next\n",
    "            length-=2"
   ]
  },
  {
   "cell_type": "code",
   "execution_count": 80,
   "metadata": {
    "collapsed": false
   },
   "outputs": [
    {
     "name": "stdout",
     "output_type": "stream",
     "text": [
      "1\n",
      "2\n"
     ]
    }
   ],
   "source": [
    "o=Solution()\n",
    "head=ListNode(1)\n",
    "head.next=ListNode(2)\n",
    "# head.next.next=ListNode(3)\n",
    "# head.next.next.next=ListNode(4)\n",
    "# head.next.next.next.next=ListNode(5)\n",
    "o.reorderList(head)\n",
    "p=head\n",
    "while p:\n",
    "    print p.val\n",
    "    p=p.next"
   ]
  },
  {
   "cell_type": "markdown",
   "metadata": {},
   "source": [
    "The above solution is TLE. Due to the scan through the whole list for each length, the time complexity is O(n^2). In order to improve the time complexity to O(n), we have to split the list in half(two pointer method). Then we reverse the second half and then merge them together."
   ]
  },
  {
   "cell_type": "code",
   "execution_count": 81,
   "metadata": {
    "collapsed": true
   },
   "outputs": [],
   "source": [
    "# Definition for singly-linked list.\n",
    "# class ListNode(object):\n",
    "#     def __init__(self, x):\n",
    "#         self.val = x\n",
    "#         self.next = None\n",
    "\n",
    "class Solution(object):\n",
    "    def reorderList(self, head):\n",
    "        \"\"\"\n",
    "        :type head: ListNode\n",
    "        :rtype: void Do not return anything, modify head in-place instead.\n",
    "        \"\"\"\n",
    "        if not head or not head.next or not head.next.next:\n",
    "            return\n",
    "        # locate the start node of the right sublist\n",
    "        slow=fast=head\n",
    "        while fast.next and fast.next.next:\n",
    "            slow=slow.next\n",
    "            fast=fast.next.next\n",
    "        \n",
    "        fast=slow # last node of left sublist\n",
    "        slow=slow.next # start node of right sublist\n",
    "        fast.next=None # separate left and right sublists\n",
    "        \n",
    "        # reverse right sublist\n",
    "        head2=self.reverseList(slow)\n",
    "        \n",
    "        # weave\n",
    "        self.weaveList(head,head2)\n",
    "        \n",
    "    def reverseList(self,head):\n",
    "        \"\"\"\n",
    "        :type head: ListNode\n",
    "        :rtype: ListNode\n",
    "        \"\"\"\n",
    "        last = None\n",
    "        currentNode = head\n",
    "        \n",
    "        while currentNode:\n",
    "            nextNode = currentNode.next\n",
    "            currentNode.next = last\n",
    "            last = currentNode\n",
    "            currentNode = nextNode\n",
    "        \n",
    "        return last\n",
    "        \n",
    "    def weaveList(self,head1,head2):\n",
    "        \"\"\"\n",
    "        :type head1, head2: ListNode\n",
    "        :rtype: void\n",
    "        \"\"\"\n",
    "        p1=head1\n",
    "        p2=head2\n",
    "        \n",
    "        while p1 and p2:\n",
    "            tmp1=p1.next\n",
    "            tmp2=p2.next\n",
    "            p1.next=p2\n",
    "            p2.next=tmp1\n",
    "            p1=tmp1\n",
    "            p2=tmp2"
   ]
  },
  {
   "cell_type": "code",
   "execution_count": 83,
   "metadata": {
    "collapsed": false
   },
   "outputs": [
    {
     "name": "stdout",
     "output_type": "stream",
     "text": [
      "1\n",
      "4\n",
      "2\n",
      "3\n"
     ]
    }
   ],
   "source": [
    "o=Solution()\n",
    "head=ListNode(1)\n",
    "head.next=ListNode(2)\n",
    "head.next.next=ListNode(3)\n",
    "head.next.next.next=ListNode(4)\n",
    "# head.next.next.next.next=ListNode(5)\n",
    "o.reorderList(head)\n",
    "p=head\n",
    "while p:\n",
    "    print p.val\n",
    "    p=p.next"
   ]
  },
  {
   "cell_type": "markdown",
   "metadata": {},
   "source": [
    "## 147. Insertion Sort List"
   ]
  },
  {
   "cell_type": "markdown",
   "metadata": {},
   "source": [
    "Sort a linked list using insertion sort."
   ]
  },
  {
   "cell_type": "markdown",
   "metadata": {},
   "source": [
    "Solution: Let us examine a specific example:\n",
    "\n",
    "5->4->6->3->1\n",
    "\n",
    "We have head of the linked list available. We need two pointers to rearrange the linked list. The first pointer scan the indices of the sorted list, while the second pointer is pointed towards the node previous to the one to be inserted. We need to take care of the head node."
   ]
  },
  {
   "cell_type": "code",
   "execution_count": 71,
   "metadata": {
    "collapsed": true
   },
   "outputs": [],
   "source": [
    "# Definition for singly-linked list.\n",
    "class ListNode(object):\n",
    "    def __init__(self, x):\n",
    "        self.val = x\n",
    "        self.next = None\n",
    "\n",
    "class Solution(object):\n",
    "    def insertionSortList(self, head):\n",
    "        \"\"\"\n",
    "        :type head: ListNode\n",
    "        :rtype: ListNode\n",
    "        \"\"\"\n",
    "        if not head or not head.next:\n",
    "            return head\n",
    "        \n",
    "        p2=head\n",
    "        while p2.next:\n",
    "            # smaller than the head\n",
    "            if p2.next.val<head.val:\n",
    "                tmp=p2.next\n",
    "                p2.next=p2.next.next\n",
    "                tmp.next=head\n",
    "                head=tmp\n",
    "            # insert in the middle\n",
    "            else:\n",
    "                p1=head\n",
    "                while p1.next!=p2.next and p1.next.val<=p2.next.val:\n",
    "                    p1=p1.next\n",
    "                if p2.next.val<p1.next.val:\n",
    "                    tmp=p2.next\n",
    "                    p2.next=p2.next.next\n",
    "                    tmp.next=p1.next\n",
    "                    p1.next=tmp\n",
    "                else:\n",
    "                    p2=p2.next\n",
    "                    \n",
    "        return head"
   ]
  },
  {
   "cell_type": "code",
   "execution_count": 72,
   "metadata": {
    "collapsed": false
   },
   "outputs": [
    {
     "name": "stdout",
     "output_type": "stream",
     "text": [
      "1\n",
      "2\n",
      "3\n",
      "4\n"
     ]
    }
   ],
   "source": [
    "o=Solution()\n",
    "head=ListNode(4)\n",
    "head.next=ListNode(2)\n",
    "head.next.next=ListNode(1)\n",
    "head.next.next.next=ListNode(3)\n",
    "# head.next.next.next.next=ListNode(1)\n",
    "p=o.insertionSortList(head)\n",
    "while p:\n",
    "    print p.val\n",
    "    p=p.next"
   ]
  },
  {
   "cell_type": "markdown",
   "metadata": {},
   "source": [
    "## <font color=red>148. Sort List"
   ]
  },
  {
   "cell_type": "markdown",
   "metadata": {},
   "source": [
    "Sort a linked list in O(n log n) time using constant space complexity."
   ]
  },
  {
   "cell_type": "code",
   "execution_count": null,
   "metadata": {
    "collapsed": true
   },
   "outputs": [],
   "source": [
    "# Definition for singly-linked list.\n",
    "# class ListNode(object):\n",
    "#     def __init__(self, x):\n",
    "#         self.val = x\n",
    "#         self.next = None\n",
    "\n",
    "class Solution(object):\n",
    "    def sortList(self, head):\n",
    "        \"\"\"\n",
    "        :type head: ListNode\n",
    "        :rtype: ListNode\n",
    "        \"\"\""
   ]
  },
  {
   "cell_type": "markdown",
   "metadata": {},
   "source": [
    "## 160. Intersection of Two Linked Lists"
   ]
  },
  {
   "cell_type": "markdown",
   "metadata": {},
   "source": [
    "Write a program to find the node at which the intersection of two singly linked lists begins.\n",
    "\n",
    "\n",
    "For example, the following two linked lists:\n",
    "\n",
    "A:          a1 → a2\n",
    "                   ↘\n",
    "                     c1 → c2 → c3\n",
    "                   ↗            \n",
    "B:     b1 → b2 → b3\n",
    "\n",
    "begin to intersect at node c1.\n",
    "\n",
    "\n",
    "Notes:\n",
    "\n",
    "* If the two linked lists have no intersection at all, return null.\n",
    "* The linked lists must retain their original structure after the function returns.\n",
    "* You may assume there are no cycles anywhere in the entire linked structure.\n",
    "* Your code should preferably run in O(n) time and use only O(1) memory."
   ]
  },
  {
   "cell_type": "markdown",
   "metadata": {},
   "source": [
    "Solution: Naive solution: Use two pointers pA and pB to backtrack A and B until pA!=pB. Time complexity $O(m n)$."
   ]
  },
  {
   "cell_type": "markdown",
   "metadata": {},
   "source": [
    "Editorial solution: two pointers\n",
    "\n",
    "* Maintain two pointers pA and pB initialized at the head of A and B, respectively. Then let them both traverse through the lists, one node at a time.\n",
    "* When pA reaches the end of a list, then redirect it to the head of B (yes, B, that's right.); similarly when pB reaches the end of a list, redirect it the head of A.\n",
    "* If at any point pA meets pB, then pA/pB is the intersection node.\n",
    "* To see why the above trick would work, consider the following two lists: A = {1,3,5,7,9,11} and B = {2,4,9,11}, which are intersected at node '9'. Since B.length (=4) < A.length (=6), pB would reach the end of the merged list first, because pB traverses exactly 2 nodes less than pA does. By redirecting pB to head A, and pA to head B, we now ask pB to travel exactly 2 more nodes than pA would. So in the second iteration, they are guaranteed to reach the intersection node at the same time.\n",
    "* If two lists have intersection, then their last nodes must be the same one. So when pA/pB reaches the end of a list, record the last element of A/B respectively. If the two last elements are not the same one, then the two lists have no intersections.\n",
    "\n",
    "Complexity Analysis\n",
    "\n",
    "Time complexity : $O(m+n)$.\n",
    "\n",
    "Space complexity : $O(1)$.\n"
   ]
  },
  {
   "cell_type": "code",
   "execution_count": 83,
   "metadata": {
    "collapsed": true
   },
   "outputs": [],
   "source": [
    "# Definition for singly-linked list.\n",
    "# class ListNode(object):\n",
    "#     def __init__(self, x):\n",
    "#         self.val = x\n",
    "#         self.next = None\n",
    "\n",
    "class Solution(object):\n",
    "    def getIntersectionNode(self, headA, headB):\n",
    "        \"\"\"\n",
    "        :type head1, head1: ListNode\n",
    "        :rtype: ListNode\n",
    "        \"\"\"\n",
    "        if headA==None or headB==None:\n",
    "            return None\n",
    "        # initialize pointers\n",
    "        pA=headA\n",
    "        pB=headB\n",
    "        lastA=headA\n",
    "        lastB=headB\n",
    "        # record whether both pA and pB reaches the end\n",
    "        # record whether both pA and pB reaches the end\n",
    "        indicatorA=False\n",
    "        indicatorB=False\n",
    "        while pA!=pB:\n",
    "            if pA.next!=None:\n",
    "                pA=pA.next\n",
    "            else:\n",
    "                lastA=pA\n",
    "                pA=headA\n",
    "                indicatorA=True\n",
    "                \n",
    "            if pB.next!=None:\n",
    "                pB=pB.next\n",
    "            else:\n",
    "                lastB=pB\n",
    "                pB=headB\n",
    "                indicatorB=True\n",
    "            # check if there is no intersection\n",
    "            if indicatorA and indicatorB and lastA!=lastB:\n",
    "                return None\n",
    "        return pA"
   ]
  },
  {
   "cell_type": "code",
   "execution_count": 84,
   "metadata": {
    "collapsed": false
   },
   "outputs": [],
   "source": [
    "headA=ListNode(1)\n",
    "headA.next=ListNode(2)\n",
    "headA.next.next=ListNode(3)\n",
    "headB=ListNode(1)\n",
    "headB.next=ListNode(10)\n",
    "headB.next.next=headA.next\n",
    "o=Solution()\n",
    "result=o.getIntersectionNode(None,None)\n",
    "while result:\n",
    "    print result.val\n",
    "    result=result.next"
   ]
  },
  {
   "cell_type": "markdown",
   "metadata": {},
   "source": [
    "The above code is TLE. We should improve that."
   ]
  },
  {
   "cell_type": "code",
   "execution_count": 46,
   "metadata": {
    "collapsed": true
   },
   "outputs": [],
   "source": [
    "# Definition for singly-linked list.\n",
    "class ListNode(object):\n",
    "    def __init__(self, x):\n",
    "        self.val = x\n",
    "        self.next = None\n",
    "\n",
    "class Solution(object):\n",
    "    def getIntersectionNode(self, headA, headB):\n",
    "        \"\"\"\n",
    "        :type head1, head1: ListNode\n",
    "        :rtype: ListNode\n",
    "        \"\"\"\n",
    "        pA=headA\n",
    "        pB=headB\n",
    "        if not pA or not pB: return None\n",
    "        # first pass:\n",
    "        Aend=False\n",
    "        Bend=False\n",
    "        while pA.next or pB.next:\n",
    "            if Aend and Bend:\n",
    "                break\n",
    "            # A longer\n",
    "            if pA.next and not pB.next:\n",
    "                pB=headA\n",
    "                pA=pA.next\n",
    "                Bend=True\n",
    "            # B longer\n",
    "            elif not pA.next and pB.next:\n",
    "                pA=headB\n",
    "                pB=pB.next\n",
    "                Aend=True\n",
    "            else:\n",
    "                pA=pA.next\n",
    "                pB=pB.next\n",
    "        # equal length.\n",
    "        if not Aend and not Bend:\n",
    "            pA=headA\n",
    "            pB=headB\n",
    "        \n",
    "        # second pass:\n",
    "        while pA and pB:\n",
    "            if pA==pB:\n",
    "                return pA\n",
    "            pA=pA.next\n",
    "            pB=pB.next\n",
    "            \n",
    "        return None"
   ]
  },
  {
   "cell_type": "code",
   "execution_count": 48,
   "metadata": {
    "collapsed": false
   },
   "outputs": [
    {
     "name": "stdout",
     "output_type": "stream",
     "text": [
      "2\n",
      "3\n"
     ]
    }
   ],
   "source": [
    "headA=ListNode(1)\n",
    "headA.next=ListNode(2)\n",
    "headA.next.next=ListNode(3)\n",
    "headB=ListNode(1)\n",
    "headB.next=ListNode(10)\n",
    "headB.next.next=headA.next\n",
    "o=Solution()\n",
    "result=o.getIntersectionNode(headA,headB)\n",
    "while result:\n",
    "    print result.val\n",
    "    result=result.next"
   ]
  },
  {
   "cell_type": "code",
   "execution_count": 49,
   "metadata": {
    "collapsed": false
   },
   "outputs": [
    {
     "name": "stdout",
     "output_type": "stream",
     "text": [
      "3\n"
     ]
    }
   ],
   "source": [
    "headA=ListNode(3)\n",
    "headB=ListNode(2)\n",
    "headB.next=headA\n",
    "o=Solution()\n",
    "result=o.getIntersectionNode(headA,headB)\n",
    "while result:\n",
    "    print result.val\n",
    "    result=result.next"
   ]
  },
  {
   "cell_type": "markdown",
   "metadata": {},
   "source": [
    "## 203. Remove Linked List Elements"
   ]
  },
  {
   "cell_type": "markdown",
   "metadata": {},
   "source": [
    "Remove all elements from a linked list of integers that have value val.\n",
    "\n",
    "Example\n",
    "\n",
    "Given: 1 --> 2 --> 6 --> 3 --> 4 --> 5 --> 6, val = 6\n",
    "\n",
    "Return: 1 --> 2 --> 3 --> 4 --> 5"
   ]
  },
  {
   "cell_type": "markdown",
   "metadata": {},
   "source": [
    "Solution: We need to pay attention to the difference between remove head and middle elements."
   ]
  },
  {
   "cell_type": "code",
   "execution_count": 49,
   "metadata": {
    "collapsed": true
   },
   "outputs": [],
   "source": [
    "# Definition for singly-linked list.\n",
    "# class ListNode(object):\n",
    "#     def __init__(self, x):\n",
    "#         self.val = x\n",
    "#         self.next = None\n",
    "\n",
    "class Solution(object):\n",
    "    def removeElements(self, head, val):\n",
    "        \"\"\"\n",
    "        :type head: ListNode\n",
    "        :type val: int\n",
    "        :rtype: ListNode\n",
    "        \"\"\"\n",
    "        while head and head.val==val:\n",
    "            head=head.next\n",
    "        # check if head is none\n",
    "        if head==None:\n",
    "            return head\n",
    "        p1=head\n",
    "        while p1.next:\n",
    "            if p1.next.val==val:\n",
    "                p1.next=p1.next.next\n",
    "            else:\n",
    "                p1=p1.next\n",
    "        return head"
   ]
  },
  {
   "cell_type": "code",
   "execution_count": 54,
   "metadata": {
    "collapsed": false
   },
   "outputs": [
    {
     "name": "stdout",
     "output_type": "stream",
     "text": [
      "None\n"
     ]
    }
   ],
   "source": [
    "o=Solution()\n",
    "head=ListNode(6)\n",
    "head.next=ListNode(6)\n",
    "# head.next.next=ListNode(6)\n",
    "# head.next.next.next=ListNode(3)\n",
    "# head.next.next.next.next=ListNode(4)\n",
    "# head.next.next.next.next.next=ListNode(5)\n",
    "# head.next.next.next.next.next.next=ListNode(6)\n",
    "result=o.removeElements(head,6)\n",
    "print result\n",
    "while result:\n",
    "    print result.val\n",
    "    result=result.next"
   ]
  },
  {
   "cell_type": "markdown",
   "metadata": {},
   "source": [
    "## 206. Reverse Linked List"
   ]
  },
  {
   "cell_type": "markdown",
   "metadata": {},
   "source": [
    "Reverse a singly linked list."
   ]
  },
  {
   "cell_type": "markdown",
   "metadata": {},
   "source": [
    "Solution: The end of the list becomes the head and the next pointer is going backwards.\n",
    "\n",
    "1->2->3->4 => 1<-2<-3<-4\n",
    "\n",
    "We should be able to flip the link direction one by one."
   ]
  },
  {
   "cell_type": "code",
   "execution_count": 47,
   "metadata": {
    "collapsed": true
   },
   "outputs": [],
   "source": [
    "# Definition for singly-linked list.\n",
    "# class ListNode(object):\n",
    "#     def __init__(self, x):\n",
    "#         self.val = x\n",
    "#         self.next = None\n",
    "\n",
    "class Solution(object):\n",
    "    def reverseList(self, head):\n",
    "        \"\"\"\n",
    "        :type head: ListNode\n",
    "        :rtype: ListNode\n",
    "        \"\"\"\n",
    "        p1=head\n",
    "        prev=None\n",
    "        while p1 and p1.next:\n",
    "            if p1==head:\n",
    "                # set head as previous node for next loop\n",
    "                prev=p1\n",
    "                p1=p1.next\n",
    "                prev.next=None\n",
    "            else:\n",
    "                # store current node\n",
    "                tmp=p1\n",
    "                p1=p1.next\n",
    "                tmp.next=prev\n",
    "                # set current node as previous node for next loop\n",
    "                prev=tmp\n",
    "        if not p1:\n",
    "            return head\n",
    "        if not p1.next:\n",
    "            p1.next=prev\n",
    "            head=p1\n",
    "        return head"
   ]
  },
  {
   "cell_type": "code",
   "execution_count": 48,
   "metadata": {
    "collapsed": false
   },
   "outputs": [
    {
     "name": "stdout",
     "output_type": "stream",
     "text": [
      "4\n",
      "3\n",
      "2\n",
      "1\n"
     ]
    }
   ],
   "source": [
    "o=Solution()\n",
    "head=ListNode(1)\n",
    "head.next=ListNode(2)\n",
    "head.next.next=ListNode(3)\n",
    "head.next.next.next=ListNode(4)\n",
    "result=o.reverseList(head)\n",
    "while result:\n",
    "    print result.val\n",
    "    result=result.next"
   ]
  },
  {
   "cell_type": "markdown",
   "metadata": {},
   "source": [
    "## 234. <font color=red>Palindrome Linked List"
   ]
  },
  {
   "cell_type": "markdown",
   "metadata": {},
   "source": [
    "Given a singly linked list, determine if it is a palindrome.\n",
    "\n",
    "Follow up:\n",
    "Could you do it in O(n) time and O(1) space?"
   ]
  },
  {
   "cell_type": "markdown",
   "metadata": {},
   "source": [
    "Solution: One way is to reverse the linkedlist and check the order. which will cause O(n) space and O(n) time. Alternatively, we could use a stack to check palindrome. But it will also cause O(n) extra space. To take O(1) space, we find the middle of the list and reverse the first half of the list."
   ]
  },
  {
   "cell_type": "code",
   "execution_count": 152,
   "metadata": {
    "collapsed": true
   },
   "outputs": [],
   "source": [
    "# Definition for singly-linked list.\n",
    "# class ListNode(object):\n",
    "#     def __init__(self, x):\n",
    "#         self.val = x\n",
    "#         self.next = None\n",
    "\n",
    "class Solution(object):\n",
    "    def isPalindrome(self, head):\n",
    "        \"\"\"\n",
    "        :type head: ListNode\n",
    "        :rtype: bool\n",
    "        \"\"\"\n",
    "        if head==None:\n",
    "            return True\n",
    "        # find the middle of the linked list\n",
    "        mid=head\n",
    "        fast=head\n",
    "        while fast.next and fast.next.next:\n",
    "            mid=mid.next\n",
    "            fast=fast.next.next\n",
    "        # odd number of nodes\n",
    "        if fast.next==None:\n",
    "            # reverse left half\n",
    "            p1=head\n",
    "            prev=None\n",
    "            while p1!=mid:\n",
    "                if p1==head:\n",
    "                    prev=p1\n",
    "                    p1=p1.next\n",
    "                    prev.next=None\n",
    "                else:\n",
    "                    tmp=p1\n",
    "                    p1=p1.next\n",
    "                    tmp.next=prev\n",
    "                    prev=tmp\n",
    "            # check palindrome\n",
    "            while prev and mid.next:\n",
    "                if prev.val!=mid.next.val:\n",
    "                    return False\n",
    "                prev=prev.next\n",
    "                mid=mid.next\n",
    "        else: # even number of nodes\n",
    "            # reverse left half\n",
    "            p1=head\n",
    "            prev=None\n",
    "            right=mid.next\n",
    "            while p1!=right:\n",
    "                if p1==head:\n",
    "                    prev=p1\n",
    "                    p1=p1.next\n",
    "                    prev.next=None\n",
    "                else:\n",
    "                    tmp=p1\n",
    "                    p1=p1.next\n",
    "                    tmp.next=prev\n",
    "                    prev=tmp\n",
    "            # check palindrome\n",
    "            while prev and right:\n",
    "                if prev.val!=right.val:\n",
    "                    return False\n",
    "                prev=prev.next\n",
    "                right=right.next\n",
    "        return True"
   ]
  },
  {
   "cell_type": "code",
   "execution_count": 155,
   "metadata": {
    "collapsed": false
   },
   "outputs": [
    {
     "data": {
      "text/plain": [
       "True"
      ]
     },
     "execution_count": 155,
     "metadata": {},
     "output_type": "execute_result"
    }
   ],
   "source": [
    "o=Solution()\n",
    "head=ListNode(1)\n",
    "head.next=ListNode(2)\n",
    "head.next.next=ListNode(3)\n",
    "head.next.next.next=ListNode(2)\n",
    "head.next.next.next.next=ListNode(1)\n",
    "o.isPalindrome(head)"
   ]
  },
  {
   "cell_type": "markdown",
   "metadata": {},
   "source": [
    "## 237. Delete Node in a Linked List"
   ]
  },
  {
   "cell_type": "markdown",
   "metadata": {},
   "source": [
    "Write a function to delete a node (except the tail) in a singly linked list, given only access to that node.\n",
    "\n",
    "Supposed the linked list is 1 -> 2 -> 3 -> 4 and you are given the third node with value 3, the linked list should become 1 -> 2 -> 4 after calling your function."
   ]
  },
  {
   "cell_type": "markdown",
   "metadata": {},
   "source": [
    "Solution: We move and check the next node from the given node. If the next node is not None, we pass the val in the next node to the current node and then delete the next node (since we have access to the previous node of the next node, which is the current node)."
   ]
  },
  {
   "cell_type": "code",
   "execution_count": 70,
   "metadata": {
    "collapsed": true
   },
   "outputs": [],
   "source": [
    "# Definition for singly-linked list.\n",
    "# class ListNode(object):\n",
    "#     def __init__(self, x):\n",
    "#         self.val = x\n",
    "#         self.next = None\n",
    "\n",
    "class Solution(object):\n",
    "    def deleteNode(self, node):\n",
    "        \"\"\"\n",
    "        :type node: ListNode\n",
    "        :rtype: void Do not return anything, modify node in-place instead.\n",
    "        \"\"\"\n",
    "        # pass the value in the next node to the current node\n",
    "        node.val=node.next.val\n",
    "        # delete the next node\n",
    "        node.next=node.next.next"
   ]
  },
  {
   "cell_type": "code",
   "execution_count": 71,
   "metadata": {
    "collapsed": false
   },
   "outputs": [
    {
     "name": "stdout",
     "output_type": "stream",
     "text": [
      "1\n",
      "3\n",
      "4\n"
     ]
    }
   ],
   "source": [
    "head=ListNode(1)\n",
    "head.next=ListNode(2)\n",
    "head.next.next=ListNode(3)\n",
    "head.next.next.next=ListNode(4)\n",
    "o=Solution()\n",
    "o.deleteNode(head.next)\n",
    "while head:\n",
    "    print head.val\n",
    "    head=head.next"
   ]
  },
  {
   "cell_type": "markdown",
   "metadata": {},
   "source": [
    "## 328. Odd Even Linked List"
   ]
  },
  {
   "cell_type": "markdown",
   "metadata": {},
   "source": [
    "Given a singly linked list, group all odd nodes together followed by the even nodes. Please note here we are talking about the node number and not the value in the nodes.\n",
    "\n",
    "You should try to do it in place. The program should run in O(1) space complexity and O(nodes) time complexity.\n",
    "\n",
    "Example:\n",
    "\n",
    "Given 1->2->3->4->5->NULL,\n",
    "\n",
    "return 1->3->5->2->4->NULL.\n",
    "\n",
    "Note:\n",
    "\n",
    "* The relative order inside both the even and odd groups should remain as it was in the input. \n",
    "* The first node is considered odd, the second node even and so on ...\n",
    "\n"
   ]
  },
  {
   "cell_type": "markdown",
   "metadata": {},
   "source": [
    "Solution: We use two pointers to solve the problem in one pass."
   ]
  },
  {
   "cell_type": "code",
   "execution_count": 91,
   "metadata": {
    "collapsed": true
   },
   "outputs": [],
   "source": [
    "# Definition for singly-linked list.\n",
    "# class ListNode(object):\n",
    "#     def __init__(self, x):\n",
    "#         self.val = x\n",
    "#         self.next = None\n",
    "\n",
    "class Solution(object):\n",
    "    def oddEvenList(self, head):\n",
    "        \"\"\"\n",
    "        :type head: ListNode\n",
    "        :rtype: ListNode\n",
    "        \"\"\"\n",
    "        if not head or not head.next:\n",
    "            return head\n",
    "        \n",
    "        head_odd=head\n",
    "        head_even=head.next\n",
    "        \n",
    "        odd_p=head_odd\n",
    "        even_p=head_even\n",
    "        \n",
    "        while odd_p.next and odd_p.next.next:\n",
    "            if even_p.next and even_p.next.next:\n",
    "                odd_p.next=odd_p.next.next\n",
    "                even_p.next=even_p.next.next\n",
    "                \n",
    "                # move forward\n",
    "                odd_p=odd_p.next\n",
    "                even_p=even_p.next\n",
    "            elif even_p.next and not even_p.next.next:\n",
    "                odd_p.next=odd_p.next.next\n",
    "                even_p.next=None\n",
    "                # move to the last node\n",
    "                odd_p=odd_p.next\n",
    "            else:\n",
    "                odd_p.next=None\n",
    "        # concatenate the even list after the odd one\n",
    "        odd_p.next=head_even\n",
    "        \n",
    "        return head_odd"
   ]
  },
  {
   "cell_type": "code",
   "execution_count": 97,
   "metadata": {
    "collapsed": false
   },
   "outputs": [
    {
     "name": "stdout",
     "output_type": "stream",
     "text": [
      "1\n",
      "3\n",
      "2\n"
     ]
    }
   ],
   "source": [
    "o=Solution()\n",
    "head=ListNode(1)\n",
    "head.next=ListNode(2)\n",
    "head.next.next=ListNode(3)\n",
    "# head.next.next.next=ListNode(4)\n",
    "# head.next.next.next.next=ListNode(5)\n",
    "result=o.oddEvenList(head)\n",
    "while result:\n",
    "    print result.val\n",
    "    result=result.next"
   ]
  },
  {
   "cell_type": "markdown",
   "metadata": {},
   "source": [
    "Discussion solution:"
   ]
  },
  {
   "cell_type": "code",
   "execution_count": null,
   "metadata": {
    "collapsed": true
   },
   "outputs": [],
   "source": [
    "def oddEvenList(self, head):\n",
    "    dummy1 = odd = ListNode(0)\n",
    "    dummy2 = even = ListNode(0)\n",
    "    while head:\n",
    "        odd.next = head\n",
    "        even.next = head.next\n",
    "        odd = odd.next\n",
    "        even = even.next\n",
    "        head = head.next.next if even else None\n",
    "    odd.next = dummy2.next\n",
    "    return dummy1.next"
   ]
  },
  {
   "cell_type": "markdown",
   "metadata": {
    "collapsed": true
   },
   "source": [
    "## 445. Add Two Numbers II"
   ]
  },
  {
   "cell_type": "markdown",
   "metadata": {},
   "source": [
    "You are given two non-empty linked lists representing two non-negative integers. The most significant digit comes first and each of their nodes contain a single digit. Add the two numbers and return it as a linked list.\n",
    "\n",
    "You may assume the two numbers do not contain any leading zero, except the number 0 itself.\n",
    "\n",
    "Follow up:\n",
    "\n",
    "What if you cannot modify the input lists? In other words, reversing the lists is not allowed.\n",
    "\n",
    "Example:\n",
    "\n",
    "Input: (7 -> 2 -> 4 -> 3) + (5 -> 6 -> 4)\n",
    "\n",
    "Output: 7 -> 8 -> 0 -> 7"
   ]
  },
  {
   "cell_type": "markdown",
   "metadata": {},
   "source": [
    "Solution: The most straightforward solution is to reverse the lists and add them up from the least significant digit in the beginning. After we obtain the result list, we reverse it back."
   ]
  },
  {
   "cell_type": "markdown",
   "metadata": {},
   "source": [
    "If we are not allowed to modify the input lists. We should first find the corresponding starting digit. This could be done by two pointers. But I need to figure out a way to keep track of add 1 or 0 at each digit. Since the summation result of the i-th digit depends on the digits after i-th position."
   ]
  },
  {
   "cell_type": "markdown",
   "metadata": {},
   "source": [
    "<font color=red> do it later"
   ]
  },
  {
   "cell_type": "code",
   "execution_count": null,
   "metadata": {
    "collapsed": true
   },
   "outputs": [],
   "source": [
    "# Definition for singly-linked list.\n",
    "# class ListNode(object):\n",
    "#     def __init__(self, x):\n",
    "#         self.val = x\n",
    "#         self.next = None\n",
    "\n",
    "class Solution(object):\n",
    "    def addTwoNumbers(self, l1, l2):\n",
    "        \"\"\"\n",
    "        :type l1: ListNode\n",
    "        :type l2: ListNode\n",
    "        :rtype: ListNode\n",
    "        \"\"\""
   ]
  },
  {
   "cell_type": "markdown",
   "metadata": {},
   "source": [
    "A good idea is to implement two stacks to do the sum. We use stack1 to store digits in l1 and stack2 to store digits in l2. Then we pop from both stacks to sum digits as the least significant digits are on the top of the stack. This will use extra O(m+n) memory but keeps time complexity linear in O(max{m,n})."
   ]
  },
  {
   "cell_type": "code",
   "execution_count": 86,
   "metadata": {
    "collapsed": true
   },
   "outputs": [],
   "source": [
    "# Definition for singly-linked list.\n",
    "# class ListNode(object):\n",
    "#     def __init__(self, x):\n",
    "#         self.val = x\n",
    "#         self.next = None\n",
    "\n",
    "class Solution(object):\n",
    "    def addTwoNumbers(self, l1, l2):\n",
    "        \"\"\"\n",
    "        :type l1: ListNode\n",
    "        :type l2: ListNode\n",
    "        :rtype: ListNode\n",
    "        \"\"\"\n",
    "        stack1=[]\n",
    "        stack2=[]\n",
    "        p1=l1\n",
    "        p2=l2\n",
    "        # build both stacks\n",
    "        while p1:\n",
    "            stack1.append(p1.val)\n",
    "            p1=p1.next\n",
    "        while p2:\n",
    "            stack2.append(p2.val)\n",
    "            p2=p2.next\n",
    "            \n",
    "        # create result list\n",
    "        next_node=None\n",
    "        curr_node=None\n",
    "        add_one=0\n",
    "        while stack1 or stack2:\n",
    "            d=0\n",
    "            if stack1 and stack2:\n",
    "                d=stack1.pop()+stack2.pop()+add_one\n",
    "            elif stack1 and not stack2:\n",
    "                d=stack1.pop()+add_one\n",
    "            elif not stack1 and stack2:\n",
    "                d=stack2.pop()+add_one\n",
    "            \n",
    "            if d>=10:\n",
    "                add_one=1\n",
    "                curr_node=ListNode(d-10)\n",
    "                curr_node.next=next_node\n",
    "            else:\n",
    "                add_one=0\n",
    "                curr_node=ListNode(d)\n",
    "                curr_node.next=next_node\n",
    "                \n",
    "            next_node=curr_node\n",
    "        \n",
    "        if add_one==1:\n",
    "            curr_node=ListNode(1)\n",
    "            curr_node.next=next_node\n",
    "            \n",
    "        return curr_node"
   ]
  },
  {
   "cell_type": "code",
   "execution_count": 87,
   "metadata": {
    "collapsed": false
   },
   "outputs": [
    {
     "name": "stdout",
     "output_type": "stream",
     "text": [
      "7\n",
      "8\n",
      "0\n",
      "7\n"
     ]
    }
   ],
   "source": [
    "o=Solution()\n",
    "l1=ListNode(7)\n",
    "l1.next=ListNode(2)\n",
    "l1.next.next=ListNode(4)\n",
    "l1.next.next.next=ListNode(3)\n",
    "l2=ListNode(5)\n",
    "l2.next=ListNode(6)\n",
    "l2.next.next=ListNode(4)\n",
    "head=o.addTwoNumbers(l1,l2)\n",
    "while head:\n",
    "    print head.val\n",
    "    head=head.next"
   ]
  },
  {
   "cell_type": "code",
   "execution_count": null,
   "metadata": {
    "collapsed": true
   },
   "outputs": [],
   "source": []
  }
 ],
 "metadata": {
  "kernelspec": {
   "display_name": "Python 2",
   "language": "python",
   "name": "python2"
  },
  "language_info": {
   "codemirror_mode": {
    "name": "ipython",
    "version": 2
   },
   "file_extension": ".py",
   "mimetype": "text/x-python",
   "name": "python",
   "nbconvert_exporter": "python",
   "pygments_lexer": "ipython2",
   "version": "2.7.12"
  }
 },
 "nbformat": 4,
 "nbformat_minor": 0
}
