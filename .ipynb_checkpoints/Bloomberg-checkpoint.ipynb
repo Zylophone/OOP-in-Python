{
 "cells": [
  {
   "cell_type": "markdown",
   "metadata": {},
   "source": [
    "## Reverse LinkedList"
   ]
  },
  {
   "cell_type": "code",
   "execution_count": null,
   "metadata": {
    "collapsed": true
   },
   "outputs": [],
   "source": [
    "def reverseList(self,head):\n",
    "    currNode=head\n",
    "    prev=None\n",
    "    while currNode:\n",
    "        temp=currNode.next\n",
    "        currNode.next=prev\n",
    "        prev=currNode\n",
    "        currNode=temp\n",
    "        \n",
    "    return prev"
   ]
  },
  {
   "cell_type": "markdown",
   "metadata": {},
   "source": [
    "## Maximum Subarray"
   ]
  },
  {
   "cell_type": "markdown",
   "metadata": {},
   "source": [
    "Find the contiguous subarray within an array (containing at least one number) which has the largest sum."
   ]
  },
  {
   "cell_type": "markdown",
   "metadata": {},
   "source": [
    "**DP solution**: Record the minimum sum upto index i and subtract it from the summation up to index i."
   ]
  },
  {
   "cell_type": "code",
   "execution_count": null,
   "metadata": {
    "collapsed": true
   },
   "outputs": [],
   "source": [
    "import sys\n",
    "\n",
    "class Solution(object):\n",
    "    def maxSubArray(self, nums):\n",
    "        \"\"\"\n",
    "        :type nums: List[int]\n",
    "        :rtype: int\n",
    "        \"\"\"\n",
    "        min_sum=0\n",
    "        max_sum=-sys.maxint-1\n",
    "        summation=0\n",
    "        for i in xrange(len(nums)):\n",
    "            summation+=nums[i]\n",
    "            max_sum=max(max_sum,summation-min_sum)\n",
    "            min_sum=min(min_sum,summation)\n",
    "            \n",
    "        return max_sum"
   ]
  },
  {
   "cell_type": "markdown",
   "metadata": {},
   "source": [
    "**Divide and conquer**: We can divide the array into left and right subarrays, then\n",
    "\n",
    "max_sum_array=max(max_sum_left,max_sum_right,max_sum_split)\n",
    "\n",
    "basecase:\n",
    "single element: return element\n",
    "0 element: return 0\n",
    "\n",
    "In order to calculate max_sum_split. We need end_max_sum for the left subarray and start_max_sum for the right subarray.\n",
    "\n",
    "max_sum_split=end_max_sum+start_max_sum"
   ]
  },
  {
   "cell_type": "code",
   "execution_count": null,
   "metadata": {
    "collapsed": true
   },
   "outputs": [],
   "source": [
    "import sys\n",
    "\n",
    "class Solution(object):\n",
    "    def maxSubArray(self, nums):\n",
    "        \"\"\"\n",
    "        :type nums: List[int]\n",
    "        :rtype: int\n",
    "        \"\"\"\n",
    "        return self.helper(nums,0,len(nums)-1)\n",
    "    \n",
    "    def helper(self,nums,start,end):\n",
    "        \"\"\"\n",
    "        :type nums: List[int]\n",
    "        :type start, end: int\n",
    "        :rtype: int\n",
    "        \"\"\"\n",
    "        if start==end:\n",
    "            return nums[start]\n",
    "        mid=(start+end)/2\n",
    "        left_max=self.helper(nums,start,mid)\n",
    "        right_max=self.helper(nums,mid+1,end)\n",
    "        \n",
    "        start_sum=0\n",
    "        start_sum_max=-sys.maxint-1\n",
    "        for i in xrange(mid+1,end+1):\n",
    "            start_sum+=nums[i]\n",
    "            start_sum_max=max(start_sum_max,start_sum)\n",
    "            \n",
    "        end_sum=0\n",
    "        end_sum_max=-sys.maxint-1\n",
    "        for i in xrange(mid,start-1,-1):\n",
    "            end_sum+=nums[i]\n",
    "            end_sum_max=max(end_sum_max,end_sum)\n",
    "            \n",
    "        return max(left_max,right_max,start_sum_max+end_sum_max)"
   ]
  },
  {
   "cell_type": "markdown",
   "metadata": {},
   "source": [
    "## best time buy stock I, III"
   ]
  },
  {
   "cell_type": "markdown",
   "metadata": {},
   "source": [
    "## Merge two sorted array"
   ]
  },
  {
   "cell_type": "markdown",
   "metadata": {},
   "source": [
    "## Strstr"
   ]
  },
  {
   "cell_type": "code",
   "execution_count": null,
   "metadata": {
    "collapsed": true
   },
   "outputs": [],
   "source": []
  },
  {
   "cell_type": "markdown",
   "metadata": {},
   "source": [
    "## Missing number "
   ]
  },
  {
   "cell_type": "markdown",
   "metadata": {},
   "source": [
    "## Pattern"
   ]
  },
  {
   "cell_type": "code",
   "execution_count": null,
   "metadata": {
    "collapsed": true
   },
   "outputs": [],
   "source": []
  }
 ],
 "metadata": {
  "kernelspec": {
   "display_name": "Python 2",
   "language": "python",
   "name": "python2"
  },
  "language_info": {
   "codemirror_mode": {
    "name": "ipython",
    "version": 2
   },
   "file_extension": ".py",
   "mimetype": "text/x-python",
   "name": "python",
   "nbconvert_exporter": "python",
   "pygments_lexer": "ipython2",
   "version": "2.7.12"
  }
 },
 "nbformat": 4,
 "nbformat_minor": 0
}
