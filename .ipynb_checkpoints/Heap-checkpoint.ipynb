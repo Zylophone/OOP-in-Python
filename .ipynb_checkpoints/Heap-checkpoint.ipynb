{
 "cells": [
  {
   "cell_type": "markdown",
   "metadata": {},
   "source": [
    "# Heapsort"
   ]
  },
  {
   "cell_type": "markdown",
   "metadata": {},
   "source": [
    "**heapsort**. Like merge sort, but unlike insertion sort, heapsort’s running time is O.n lg n/. Like insertion sort, but unlike merge sort, heapsort sorts in place: only a constant number of array elements are stored outside the input array at any time. Thus, heapsort combines the better attributes of the two sorting algorithms we have already discussed."
   ]
  },
  {
   "cell_type": "markdown",
   "metadata": {},
   "source": [
    "## heaps"
   ]
  },
  {
   "cell_type": "markdown",
   "metadata": {},
   "source": [
    "Heap is a balanced binary tree. The root of the tree is A[1] and given the index i of a node, we can easily compute the indices of its parent, left child, right child:\n",
    "\n",
    "parent: i/2\n",
    "\n",
    "left: 2*i\n",
    "\n",
    "right: 2*i+1"
   ]
  },
  {
   "cell_type": "markdown",
   "metadata": {},
   "source": [
    "**Max heap**: A[parent[i]]>=A[i], Application: heapsort\n",
    "\n",
    "**Min heap**: A[parent[i]]<=A[i], Application: priority queue"
   ]
  },
  {
   "cell_type": "markdown",
   "metadata": {},
   "source": [
    "**Operations**: \n",
    "\n",
    "* The MAX-HEAPIFY procedure, which runs in O.lg n/ time, is the key to maintaining the max-heap property.\n",
    "* The BUILD-MAX-HEAP procedure, which runs in linear time, produces a max- heap from an unordered input array.\n",
    "* The HEAPSORT procedure, which runs in O.nlgn/ time, sorts an array in place.\n",
    "* The MAX-HEAP-INSERT, HEAP-EXTRACT-MAX, HEAP-INCREASE-KEY, and HEAP-MAXIMUM procedures, which run in O(lg n) time, allow the heap data structure to implement a priority queue."
   ]
  },
  {
   "cell_type": "markdown",
   "metadata": {},
   "source": [
    "## Maxheapify"
   ]
  },
  {
   "cell_type": "code",
   "execution_count": 29,
   "metadata": {
    "collapsed": true
   },
   "outputs": [],
   "source": [
    "A=[0,16,4,10,14,7,9,3,2,8,1]"
   ]
  },
  {
   "cell_type": "code",
   "execution_count": 1,
   "metadata": {
    "collapsed": true
   },
   "outputs": [],
   "source": [
    "def max_heapify(A,size,i):\n",
    "    l=2*i\n",
    "    r=2*i+1\n",
    "    largest=i\n",
    "    if l<=size and A[l]>A[i]:\n",
    "        largest=l\n",
    "    if r<=size and A[r]>A[largest]:\n",
    "        largest=r\n",
    "    if largest!=i:\n",
    "        tmp=A[i]\n",
    "        A[i]=A[largest]\n",
    "        A[largest]=tmp\n",
    "        max_heapify(A,size,largest)"
   ]
  },
  {
   "cell_type": "code",
   "execution_count": 34,
   "metadata": {
    "collapsed": false
   },
   "outputs": [
    {
     "data": {
      "text/plain": [
       "[0, 16, 14, 10, 4, 7, 9, 3, 2, 8, 1]"
      ]
     },
     "execution_count": 34,
     "metadata": {},
     "output_type": "execute_result"
    }
   ],
   "source": [
    "max_heapify(A,len(A)-1,2)\n",
    "A"
   ]
  },
  {
   "cell_type": "code",
   "execution_count": 4,
   "metadata": {
    "collapsed": true
   },
   "outputs": [],
   "source": [
    "def build_max_heap(A):\n",
    "    n=len(A)\n",
    "    for i in range((n-1)/2,0,-1):\n",
    "        max_heapify(A,n-1,i)"
   ]
  },
  {
   "cell_type": "code",
   "execution_count": 36,
   "metadata": {
    "collapsed": false
   },
   "outputs": [
    {
     "name": "stdout",
     "output_type": "stream",
     "text": [
      "[0, 1, 8, 2, 3, 9, 7, 14, 10, 4, 16]\n"
     ]
    },
    {
     "data": {
      "text/plain": [
       "[0, 16, 10, 14, 4, 9, 7, 2, 3, 1, 8]"
      ]
     },
     "execution_count": 36,
     "metadata": {},
     "output_type": "execute_result"
    }
   ],
   "source": [
    "A=[0,16,4,10,14,7,9,3,2,8,1]\n",
    "B=[A[0]]+A[1:][::-1]\n",
    "print B\n",
    "build_max_heap(B)\n",
    "B"
   ]
  },
  {
   "cell_type": "code",
   "execution_count": null,
   "metadata": {
    "collapsed": true
   },
   "outputs": [],
   "source": []
  },
  {
   "cell_type": "markdown",
   "metadata": {},
   "source": [
    "## The heapsort algorithm"
   ]
  },
  {
   "cell_type": "markdown",
   "metadata": {},
   "source": [
    "The heapsort algorithm starts by using build_max_heap to build a max_heap on the input array A[1,...,n], where $n=A.length$. Since the maximum element of the array is stored at the root A[1], we can put it into its correct final position by exchanging it with A[n]. If we now discard A[n] (as it is already in the correct position, we can do so by decrementing heapsize by 1), we observe that the children of the root remain max-heaps, but the new root element might violate the max-heap property. All we need to do to restore the max-heap property, however, is call MAX-HEAPIFY(A,1), which leaves a max-heap in A[1..n-1]. The heapsort algorithm then repeats this process for the max-heap of size n-1 down to a heap of size 2."
   ]
  },
  {
   "cell_type": "code",
   "execution_count": 9,
   "metadata": {
    "collapsed": true
   },
   "outputs": [],
   "source": [
    "def heapsort(A):\n",
    "    build_max_heap(A)\n",
    "    n=len(A)-1\n",
    "    for i in range(n,1,-1):\n",
    "        tmp=A[1]\n",
    "        A[1]=A[i]\n",
    "        A[i]=tmp\n",
    "        i-=1\n",
    "        max_heapify(A,i,1)"
   ]
  },
  {
   "cell_type": "code",
   "execution_count": 11,
   "metadata": {
    "collapsed": false
   },
   "outputs": [
    {
     "name": "stdout",
     "output_type": "stream",
     "text": [
      "9\n",
      "8\n",
      "7\n",
      "6\n",
      "5\n",
      "4\n",
      "3\n",
      "2\n"
     ]
    },
    {
     "data": {
      "text/plain": [
       "[0, -5, 2, 4, 7, 8, 13, 17, 20, 25]"
      ]
     },
     "execution_count": 11,
     "metadata": {},
     "output_type": "execute_result"
    }
   ],
   "source": [
    "A=[0,-5,13,2,25,7,17,20,8,4]\n",
    "heapsort(A)\n",
    "A"
   ]
  },
  {
   "cell_type": "code",
   "execution_count": 3,
   "metadata": {
    "collapsed": false
   },
   "outputs": [],
   "source": [
    "def max_heapify(A,size,i):\n",
    "    l=2*i\n",
    "    r=2*i+1\n",
    "    largest=i\n",
    "    if l<=size and A[l]>A[i]:\n",
    "        largest=l\n",
    "    if r<=size and A[r]>A[largest]:\n",
    "        largest=r\n",
    "    if largest!=i:\n",
    "        tmp=A[i]\n",
    "        A[i]=A[largest]\n",
    "        A[largest]=tmp\n",
    "        max_heapify(A,size,largest)\n",
    "\n",
    "def build_max_heap(A):\n",
    "    n=len(A)\n",
    "    for i in range((n-1)/2,-1,-1):\n",
    "        max_heapify(A,n-1,i)\n",
    "        \n",
    "def heapsort(A):\n",
    "    build_max_heap(A)\n",
    "    n=len(A)-1\n",
    "    for i in range(n,0,-1):\n",
    "        tmp=A[0]\n",
    "        A[0]=A[i]\n",
    "        A[i]=tmp\n",
    "        i-=1\n",
    "        max_heapify(A,i,0)"
   ]
  },
  {
   "cell_type": "code",
   "execution_count": 7,
   "metadata": {
    "collapsed": false
   },
   "outputs": [
    {
     "data": {
      "text/plain": [
       "['a', 'b', 'c', 'd', 'e']"
      ]
     },
     "execution_count": 7,
     "metadata": {},
     "output_type": "execute_result"
    }
   ],
   "source": [
    "A=['b','d','e','c','a']\n",
    "heapsort(A)\n",
    "A"
   ]
  },
  {
   "cell_type": "markdown",
   "metadata": {},
   "source": [
    "## Priority queues"
   ]
  },
  {
   "cell_type": "markdown",
   "metadata": {},
   "source": [
    "When we use a heap to implement a priority queue, therefore, we often need to store a handle to the corresponding application object in each heap element. The exact makeup of the handle (such as a pointer or an integer) depends on the application. "
   ]
  },
  {
   "cell_type": "code",
   "execution_count": null,
   "metadata": {
    "collapsed": true
   },
   "outputs": [],
   "source": []
  },
  {
   "cell_type": "markdown",
   "metadata": {},
   "source": [
    "# Leetcode "
   ]
  },
  {
   "cell_type": "markdown",
   "metadata": {},
   "source": [
    "## 23. Merge k Sorted Lists"
   ]
  },
  {
   "cell_type": "markdown",
   "metadata": {},
   "source": [
    "Merge k sorted linked lists and return it as one sorted list. Analyze and describe its complexity."
   ]
  },
  {
   "cell_type": "markdown",
   "metadata": {},
   "source": [
    "Solution: We could implement priority queue or heap queue in carrying out the job.\n",
    "\n",
    "1. Initialize the heap queue h with the first k elements from each sorted lists. We need to label the list number they come from, so h will be a list of tuple(key, list_index).\n",
    "2. pop the heap queue and add in a new element from the list the popped element is from."
   ]
  },
  {
   "cell_type": "code",
   "execution_count": 55,
   "metadata": {
    "collapsed": true
   },
   "outputs": [],
   "source": [
    "# Definition for singly-linked list.\n",
    "class ListNode(object):\n",
    "    def __init__(self, x):\n",
    "        self.val = x\n",
    "        self.next = None\n",
    "\n",
    "import heapq\n",
    "\n",
    "class Solution(object):\n",
    "    def mergeKLists(self, lists):\n",
    "        \"\"\"\n",
    "        :type lists: List[ListNode]\n",
    "        :rtype: ListNode\n",
    "        \"\"\"\n",
    "        pq=[]\n",
    "        sorted_list=[]\n",
    "        k=len(lists)\n",
    "        # initialization\n",
    "        for i in range(k):\n",
    "            if lists[i]:\n",
    "                heapq.heappush(pq,(lists[i].val,i))\n",
    "                lists[i]=lists[i].next\n",
    "        # pop and push new element\n",
    "        while pq!=[]:\n",
    "            current=heapq.heappop(pq)\n",
    "            index=current[1]\n",
    "            sorted_list.append(current[0])\n",
    "            if lists[index]:\n",
    "                heapq.heappush(pq,(lists[index].val,index))\n",
    "                lists[index]=lists[index].next\n",
    "        return sorted_list"
   ]
  },
  {
   "cell_type": "code",
   "execution_count": 59,
   "metadata": {
    "collapsed": false
   },
   "outputs": [
    {
     "data": {
      "text/plain": [
       "[2, 3, 4]"
      ]
     },
     "execution_count": 59,
     "metadata": {},
     "output_type": "execute_result"
    }
   ],
   "source": [
    "head1=ListNode(3)\n",
    "head2=ListNode(2)\n",
    "head2.next=ListNode(4)\n",
    "lists=[head2,head1]\n",
    "o=Solution()\n",
    "o.mergeKLists(lists)"
   ]
  },
  {
   "cell_type": "markdown",
   "metadata": {},
   "source": [
    "## 215. Kth Largest Element in an Array"
   ]
  },
  {
   "cell_type": "markdown",
   "metadata": {},
   "source": [
    "Find the kth largest element in an unsorted array. Note that it is the kth largest element in the sorted order, not the kth distinct element.\n",
    "\n",
    "For example,\n",
    "Given [3,2,1,5,6,4] and k = 2, return 5.\n",
    "\n",
    "Note: \n",
    "You may assume k is always valid, 1 ≤ k ≤ array's length."
   ]
  },
  {
   "cell_type": "markdown",
   "metadata": {},
   "source": [
    "Solution: If we first sort the list and then find the k-th largest element, the time complexity will be O(n log n)+O(k)~O(n log n). If we build a binary heap, the time is O(n), then we pop k times, the time is O(k log n)"
   ]
  },
  {
   "cell_type": "code",
   "execution_count": 111,
   "metadata": {
    "collapsed": true
   },
   "outputs": [],
   "source": [
    "import heapq\n",
    "\n",
    "class Solution(object):\n",
    "    def findKthLargest(self, nums, k):\n",
    "        \"\"\"\n",
    "        :type nums: List[int]\n",
    "        :type k: int\n",
    "        :rtype: int\n",
    "        \"\"\"\n",
    "        heapq.heapify(nums)\n",
    "        for i in range(len(nums)-k):\n",
    "            heapq.heappop(nums)\n",
    "        return heapq.heappop(nums)"
   ]
  },
  {
   "cell_type": "code",
   "execution_count": 115,
   "metadata": {
    "collapsed": false
   },
   "outputs": [
    {
     "data": {
      "text/plain": [
       "2"
      ]
     },
     "execution_count": 115,
     "metadata": {},
     "output_type": "execute_result"
    }
   ],
   "source": [
    "nums=[1,2,3,4,-1,-2]\n",
    "o=Solution()\n",
    "o.findKthLargest(nums,3)"
   ]
  },
  {
   "cell_type": "markdown",
   "metadata": {},
   "source": [
    "## 264. Ugly Number II"
   ]
  },
  {
   "cell_type": "markdown",
   "metadata": {},
   "source": [
    "Write a program to find the n-th ugly number.\n",
    "\n",
    "Ugly numbers are positive numbers whose prime factors only include 2, 3, 5. For example, 1, 2, 3, 4, 5, 6, 8, 9, 10, 12 is the sequence of the first 10 ugly numbers.\n",
    "\n",
    "Note that 1 is typically treated as an ugly number."
   ]
  },
  {
   "cell_type": "code",
   "execution_count": 78,
   "metadata": {
    "collapsed": true
   },
   "outputs": [],
   "source": [
    "class Solution(object):\n",
    "    def nthUglyNumber(self, n):\n",
    "        \"\"\"\n",
    "        :type n: int\n",
    "        :rtype: int\n",
    "        \"\"\"\n",
    "        if n<=0:\n",
    "            return None\n",
    "        # ugly numbers list\n",
    "        ugly_list=[1]\n",
    "        # initialize Q2,Q3,Q5\n",
    "        Q2=[2]\n",
    "        Q3=[3]\n",
    "        Q5=[5]\n",
    "        while len(ugly_list)<n:\n",
    "            # next minimum\n",
    "            next_min=min(Q2[0],Q3[0],Q5[0])\n",
    "            if next_min==Q2[0]:\n",
    "                ugly_list.append(Q2.pop(0))\n",
    "                Q2.append(next_min*2)\n",
    "                Q3.append(next_min*3)\n",
    "                Q5.append(next_min*5)\n",
    "            elif next_min==Q3[0]:\n",
    "                ugly_list.append(Q3.pop(0))\n",
    "                Q3.append(next_min*3)\n",
    "                Q5.append(next_min*5)\n",
    "            else:\n",
    "                ugly_list.append(Q5.pop(0))\n",
    "                Q5.append(next_min*5)\n",
    "        return ugly_list[n-1]"
   ]
  },
  {
   "cell_type": "code",
   "execution_count": 79,
   "metadata": {
    "collapsed": false
   },
   "outputs": [
    {
     "data": {
      "text/plain": [
       "8"
      ]
     },
     "execution_count": 79,
     "metadata": {},
     "output_type": "execute_result"
    }
   ],
   "source": [
    "o=Solution()\n",
    "o.nthUglyNumber(7)"
   ]
  },
  {
   "cell_type": "code",
   "execution_count": 103,
   "metadata": {
    "collapsed": false
   },
   "outputs": [],
   "source": [
    "class Solution(object):\n",
    "    def nthUglyNumber(self, n):\n",
    "        \"\"\"\n",
    "        :type n: int\n",
    "        :rtype: int\n",
    "        \"\"\"\n",
    "        if n==1:\n",
    "            return 1\n",
    "        uglies=[1]\n",
    "        primes=[2,3,5]\n",
    "        compare_list=[e for e in primes]\n",
    "        # i2,i3,i5\n",
    "        index_lists=[0]*len(primes)\n",
    "        for i in range(1,n):\n",
    "            min_index=0\n",
    "            min_ugly=compare_list[0]\n",
    "            for j in range(len(compare_list)):\n",
    "                if compare_list[j]<min_ugly:\n",
    "                    min_index=j\n",
    "                    min_ugly=compare_list[j]\n",
    "            uglies.append((min_ugly,min_index))\n",
    "            index_lists[min_index]+=1\n",
    "            while uglies[index_lists[min_index]][1]>min_index:\n",
    "                index_lists[min_index]+=1\n",
    "            compare_list[min_index]=primes[min_index]*uglies[index_lists[min_index]][0]\n",
    "        return uglies[-1][0]"
   ]
  },
  {
   "cell_type": "code",
   "execution_count": 105,
   "metadata": {
    "collapsed": false
   },
   "outputs": [
    {
     "data": {
      "text/plain": [
       "16"
      ]
     },
     "execution_count": 105,
     "metadata": {},
     "output_type": "execute_result"
    }
   ],
   "source": [
    "o=Solution()\n",
    "o.nthUglyNumber(12)"
   ]
  },
  {
   "cell_type": "markdown",
   "metadata": {},
   "source": [
    "## 313. Super Ugly Number"
   ]
  },
  {
   "cell_type": "markdown",
   "metadata": {},
   "source": [
    "Write a program to find the nth super ugly number.\n",
    "\n",
    "Super ugly numbers are positive numbers whose all prime factors are in the given prime list primes of size k. For example, [1, 2, 4, 7, 8, 13, 14, 16, 19, 26, 28, 32] is the sequence of the first 12 super ugly numbers given primes = [2, 7, 13, 19] of size 4.\n",
    "\n",
    "Note:\n",
    "\n",
    "(1) 1 is a super ugly number for any given primes.\n",
    "\n",
    "(2) The given numbers in primes are in ascending order.\n",
    "\n",
    "(3) 0 < k ≤ 100, 0 < n ≤ $10^6$, 0 < primes[i] < 1000."
   ]
  },
  {
   "cell_type": "markdown",
   "metadata": {},
   "source": [
    "Solution: If we apply the same method in finding ugly number, the space complexity will be O(n), which is impractical. We need to do some modification. "
   ]
  },
  {
   "cell_type": "code",
   "execution_count": 106,
   "metadata": {
    "collapsed": true
   },
   "outputs": [],
   "source": [
    "class Solution(object):\n",
    "    def nthSuperUglyNumber(self, n, primes):\n",
    "        \"\"\"\n",
    "        :type n: int\n",
    "        :type primes: List[int]\n",
    "        :rtype: int\n",
    "        \"\"\"\n",
    "        if n==1:\n",
    "            return 1\n",
    "        uglies=[1]\n",
    "        compare_list=[e for e in primes]\n",
    "        index_lists=[0]*len(primes)\n",
    "        for i in range(1,n):\n",
    "            min_index=0\n",
    "            min_ugly=compare_list[0]\n",
    "            for j in range(len(compare_list)):\n",
    "                if compare_list[j]<min_ugly:\n",
    "                    min_index=j\n",
    "                    min_ugly=compare_list[j]\n",
    "            uglies.append((min_ugly,min_index))\n",
    "            index_lists[min_index]+=1\n",
    "            while uglies[index_lists[min_index]][1]>min_index:\n",
    "                index_lists[min_index]+=1\n",
    "            compare_list[min_index]=primes[min_index]*uglies[index_lists[min_index]][0]\n",
    "        return uglies[-1][0]"
   ]
  },
  {
   "cell_type": "code",
   "execution_count": 110,
   "metadata": {
    "collapsed": false
   },
   "outputs": [
    {
     "data": {
      "text/plain": [
       "19"
      ]
     },
     "execution_count": 110,
     "metadata": {},
     "output_type": "execute_result"
    }
   ],
   "source": [
    "o=Solution()\n",
    "o.nthSuperUglyNumber(9,[2, 7, 13, 19])"
   ]
  },
  {
   "cell_type": "markdown",
   "metadata": {},
   "source": [
    "The above algorithm is O(n*k) in time complexity. It can be improved by applying binary heap to the compare_list such that the time is O(n*log), but we have to use tuples as elements in compare_list to keep track of the index."
   ]
  },
  {
   "cell_type": "markdown",
   "metadata": {},
   "source": [
    "## 347. Top K Frequent Elements"
   ]
  },
  {
   "cell_type": "markdown",
   "metadata": {},
   "source": [
    "Given a non-empty array of integers, return the k most frequent elements.\n",
    "\n",
    "For example,\n",
    "Given [1,1,1,2,2,3] and k = 2, return [1,2].\n",
    "\n",
    "Note: \n",
    "* You may assume k is always valid, 1 ≤ k ≤ number of unique elements.\n",
    "* Your algorithm's time complexity must be better than O(n log n), where n is the array's size.\n"
   ]
  },
  {
   "cell_type": "markdown",
   "metadata": {},
   "source": [
    "Solution: We could use a hashtable to record number: frequency. Then we apply heap to the tuple list frequency: number."
   ]
  },
  {
   "cell_type": "code",
   "execution_count": 3,
   "metadata": {
    "collapsed": true
   },
   "outputs": [],
   "source": [
    "import heapq\n",
    "\n",
    "class Solution(object):\n",
    "    def topKFrequent(self, nums, k):\n",
    "        \"\"\"\n",
    "        :type nums: List[int]\n",
    "        :type k: int\n",
    "        :rtype: List[int]\n",
    "        \"\"\"\n",
    "        freq_dict={}\n",
    "        heap=[]\n",
    "        result=[]\n",
    "        for i in nums:\n",
    "            if freq_dict.get(i):\n",
    "                freq_dict[i]+=1\n",
    "            else:\n",
    "                freq_dict[i]=1\n",
    "        for i in freq_dict.keys():\n",
    "            heap.append((-freq_dict[i],i))\n",
    "        heapq.heapify(heap)\n",
    "        for i in range(k):\n",
    "            result.append(heapq.heappop(heap)[1])\n",
    "            \n",
    "        return result"
   ]
  },
  {
   "cell_type": "code",
   "execution_count": 4,
   "metadata": {
    "collapsed": false
   },
   "outputs": [
    {
     "data": {
      "text/plain": [
       "[1, 2]"
      ]
     },
     "execution_count": 4,
     "metadata": {},
     "output_type": "execute_result"
    }
   ],
   "source": [
    "o=Solution()\n",
    "o.topKFrequent([1,1,1,2,2,3],2)"
   ]
  },
  {
   "cell_type": "markdown",
   "metadata": {},
   "source": [
    "Discussion Solution: Concise solution O(n + klogn) python using minheap and dict"
   ]
  },
  {
   "cell_type": "code",
   "execution_count": null,
   "metadata": {
    "collapsed": true
   },
   "outputs": [],
   "source": [
    "import heapq\n",
    "\n",
    "class Solution(object):\n",
    "    def topKFrequent(self, nums, k):\n",
    "        \"\"\"\n",
    "        :type nums: List[int]\n",
    "        :type k: int\n",
    "        :rtype: List[int]\n",
    "        \"\"\"\n",
    "        freq = {}\n",
    "        freq_list=[]  \n",
    "        for num in nums:\n",
    "            if num in freq:\n",
    "                freq[num] = freq[num] + 1\n",
    "            else:\n",
    "                freq[num] = 1\n",
    "                \n",
    "        for key in freq.keys():\n",
    "           \n",
    "            freq_list.append((-freq[key], key))\n",
    "        heapq.heapify(freq_list)\n",
    "        topk = []\n",
    "        for i in range(0,k):\n",
    "            topk.append(heapq.heappop(freq_list)[1])\n",
    "        return topk"
   ]
  },
  {
   "cell_type": "markdown",
   "metadata": {
    "collapsed": true
   },
   "source": [
    "## <font color=red>373. Find K Pairs with Smallest Sums"
   ]
  },
  {
   "cell_type": "markdown",
   "metadata": {},
   "source": [
    "You are given two integer arrays nums1 and nums2 sorted in ascending order and an integer k.\n",
    "\n",
    "Define a pair (u,v) which consists of one element from the first array and one element from the second array.\n",
    "\n",
    "Find the k pairs (u1,v1),(u2,v2) ...(uk,vk) with the smallest sums.\n",
    "\n",
    "Example 1:\n",
    "Given nums1 = [1,7,11], nums2 = [2,4,6],  k = 3\n",
    "\n",
    "Return: [1,2],[1,4],[1,6]\n",
    "\n",
    "The first 3 pairs are returned from the sequence:\n",
    "[1,2],[1,4],[1,6],[7,2],[7,4],[11,2],[7,6],[11,4],[11,6]\n",
    "\n",
    "Example 2:\n",
    "Given nums1 = [1,1,2], nums2 = [1,2,3],  k = 2\n",
    "\n",
    "Return: [1,1],[1,1]\n",
    "\n",
    "The first 2 pairs are returned from the sequence:\n",
    "[1,1],[1,1],[1,2],[2,1],[1,2],[2,2],[1,3],[1,3],[2,3]\n",
    "\n",
    "Example 3:\n",
    "Given nums1 = [1,2], nums2 = [3],  k = 3 \n",
    "\n",
    "Return: [1,3],[2,3]\n",
    "\n",
    "All possible pairs are returned from the sequence:\n",
    "[1,3],[2,3]\n"
   ]
  },
  {
   "cell_type": "markdown",
   "metadata": {},
   "source": [
    "Solution: We could build a heap containing n1 n2 elements, which will take O(n_1 n_2) time. Then we pop the heap until we reach k or the heap becomes empty. This will take O(n_1 n_2 log n_1 n_2) time(not tight bound)"
   ]
  },
  {
   "cell_type": "code",
   "execution_count": 31,
   "metadata": {
    "collapsed": true
   },
   "outputs": [],
   "source": [
    "import heapq\n",
    "\n",
    "class Solution(object):\n",
    "    def kSmallestPairs(self, nums1, nums2, k):\n",
    "        \"\"\"\n",
    "        :type nums1: List[int]\n",
    "        :type nums2: List[int]\n",
    "        :type k: int\n",
    "        :rtype: List[List[int]]\n",
    "        \"\"\"\n",
    "        result=[]\n",
    "        heap=[(nums1[i]+nums2[j],[nums1[i],nums2[j]]) for i in range(len(nums1)) for j in range(len(nums2))]\n",
    "        heapq.heapify(heap)\n",
    "        while k>0 and heap:\n",
    "            result.append(heapq.heappop(heap)[1])\n",
    "            k-=1\n",
    "            \n",
    "        return result"
   ]
  },
  {
   "cell_type": "code",
   "execution_count": 33,
   "metadata": {
    "collapsed": false
   },
   "outputs": [
    {
     "data": {
      "text/plain": [
       "[[1, 3], [2, 3]]"
      ]
     },
     "execution_count": 33,
     "metadata": {},
     "output_type": "execute_result"
    }
   ],
   "source": [
    "o=Solution()\n",
    "o.kSmallestPairs([1,2],[3],3)"
   ]
  },
  {
   "cell_type": "markdown",
   "metadata": {},
   "source": [
    "The above solution is MLE. I think it takes O(n_1 n_2) memory. We could do a little better by shrinking the memory to O(k)."
   ]
  },
  {
   "cell_type": "code",
   "execution_count": 51,
   "metadata": {
    "collapsed": false
   },
   "outputs": [],
   "source": [
    "import heapq\n",
    "\n",
    "class Solution(object):\n",
    "    def kSmallestPairs(self, nums1, nums2, k, heap=[]):\n",
    "        for n1 in nums1:\n",
    "            for n2 in nums2:\n",
    "                if len(heap) < k: heapq.heappush(heap, (-n1-n2, [n1, n2]))\n",
    "                else:\n",
    "                    if heap and -heap[0][0] > n1 + n2:\n",
    "                        heapq.heappop(heap)\n",
    "                        heapq.heappush(heap, (-n1-n2, [n1, n2]))\n",
    "                    else: break\n",
    "        return [heapq.heappop(heap)[1] for _ in range(k) if heap]"
   ]
  },
  {
   "cell_type": "code",
   "execution_count": 52,
   "metadata": {
    "collapsed": false
   },
   "outputs": [
    {
     "data": {
      "text/plain": [
       "[[1, 6], [1, 4], [1, 2]]"
      ]
     },
     "execution_count": 52,
     "metadata": {},
     "output_type": "execute_result"
    }
   ],
   "source": [
    "o=Solution()\n",
    "o.kSmallestPairs([1,7,11],[2,4,6],3)"
   ]
  },
  {
   "cell_type": "markdown",
   "metadata": {
    "collapsed": true
   },
   "source": [
    "## 378. Kth Smallest Element in a Sorted Matrix"
   ]
  },
  {
   "cell_type": "markdown",
   "metadata": {},
   "source": [
    "Given a n x n matrix where each of the rows and columns are sorted in ascending order, find the kth smallest element in the matrix.\n",
    "\n",
    "Note that it is the kth smallest element in the sorted order, not the kth distinct element.\n",
    "\n",
    "Example:\n",
    "\n",
    "matrix = [\n",
    "   [ 1,  5,  9],\n",
    "   [10, 11, 13],\n",
    "   [12, 13, 15]\n",
    "],\n",
    "k = 8,\n",
    "\n",
    "return 13.\n",
    "\n",
    "Note: \n",
    "\n",
    "You may assume k is always valid, $1 ≤ k ≤ n^2$.\n",
    "\n"
   ]
  },
  {
   "cell_type": "markdown",
   "metadata": {},
   "source": [
    "Solution: Naive solution. Forget about the sorted nature of the matrix and just construct a heap to store the K-th largest element at the root. The worst case is O(n^2) time and O(n^2) space. We could improve it a little by only keep a heap of size O(n) by inserting a single row from the matrix. Inserting K smallest element takes O(k log n) time."
   ]
  },
  {
   "cell_type": "code",
   "execution_count": null,
   "metadata": {
    "collapsed": true
   },
   "outputs": [],
   "source": [
    "import heapq\n",
    "\n",
    "class Solution(object):\n",
    "    def kthSmallest(self, matrix, k):\n",
    "        \"\"\"\n",
    "        :type matrix: List[List[int]]\n",
    "        :type k: int\n",
    "        :rtype: int\n",
    "        \"\"\"\n",
    "        kheap=[(-matrix[0][i],0,i) for i in xrange(len(matrix[0]))]\n",
    "        heapq.heapify(kheap)\n",
    "        result=matrix[0][0]\n",
    "        for i in xrange(k):\n",
    "            result=kheap.heappop()\n",
    "            if result[1]<len(matrix)-1:\n",
    "                kheap.heappush(matrix[result[1]+1][result[2]])\n",
    "                \n",
    "        return result"
   ]
  },
  {
   "cell_type": "code",
   "execution_count": 12,
   "metadata": {
    "collapsed": false
   },
   "outputs": [
    {
     "data": {
      "text/plain": [
       "[(1, 2), (1, 3)]"
      ]
     },
     "execution_count": 12,
     "metadata": {},
     "output_type": "execute_result"
    }
   ],
   "source": [
    "a=[(1,3),(1,2)]\n",
    "heapq.heapify(a)\n",
    "a"
   ]
  },
  {
   "cell_type": "markdown",
   "metadata": {},
   "source": [
    "## 451. Sort Characters By Frequency"
   ]
  },
  {
   "cell_type": "markdown",
   "metadata": {},
   "source": [
    "Given a string, sort it in decreasing order based on the frequency of characters.\n",
    "\n",
    "Example 1:\n",
    "\n",
    "Input:\n",
    "\"tree\"\n",
    "\n",
    "Output:\n",
    "\"eert\"\n",
    "\n",
    "Explanation:\n",
    "'e' appears twice while 'r' and 't' both appear once.\n",
    "So 'e' must appear before both 'r' and 't'. Therefore \"eetr\" is also a valid answer.\n",
    "\n",
    "Example 2:\n",
    "\n",
    "Input:\n",
    "\"cccaaa\"\n",
    "\n",
    "Output:\n",
    "\"cccaaa\"\n",
    "\n",
    "Explanation:\n",
    "Both 'c' and 'a' appear three times, so \"aaaccc\" is also a valid answer.\n",
    "Note that \"cacaca\" is incorrect, as the same characters must be together.\n",
    "\n",
    "Example 3:\n",
    "\n",
    "Input:\n",
    "\"Aabb\"\n",
    "\n",
    "Output:\n",
    "\"bbAa\"\n",
    "\n",
    "Explanation:\n",
    "\"bbaA\" is also a valid answer, but \"Aabb\" is incorrect.\n",
    "Note that 'A' and 'a' are treated as two different characters.\n"
   ]
  },
  {
   "cell_type": "code",
   "execution_count": 24,
   "metadata": {
    "collapsed": false
   },
   "outputs": [],
   "source": [
    "class Solution(object):\n",
    "    def frequencySort(self, s):\n",
    "        \"\"\"\n",
    "        :type s: str\n",
    "        :rtype: str\n",
    "        \"\"\"\n",
    "        freq_dict={}\n",
    "        heap=[]\n",
    "        result=[]\n",
    "        for c in s:\n",
    "            if freq_dict.get(c):\n",
    "                freq_dict[c]+=1\n",
    "            else:\n",
    "                freq_dict[c]=1\n",
    "        for c in freq_dict.keys():\n",
    "            heap.append((-freq_dict[c],c))\n",
    "        heapq.heapify(heap)\n",
    "        while heap:\n",
    "            (minus_freq,c)=heapq.heappop(heap)\n",
    "            result.append((-minus_freq)*c)\n",
    "            \n",
    "        return ''.join(result)"
   ]
  },
  {
   "cell_type": "code",
   "execution_count": 25,
   "metadata": {
    "collapsed": false
   },
   "outputs": [
    {
     "data": {
      "text/plain": [
       "'eeeeaaarrd'"
      ]
     },
     "execution_count": 25,
     "metadata": {},
     "output_type": "execute_result"
    }
   ],
   "source": [
    "o=Solution()\n",
    "o.frequencySort(\"raaeaedere\")"
   ]
  },
  {
   "cell_type": "markdown",
   "metadata": {
    "collapsed": true
   },
   "source": [
    "Alternatively, there is a O(n) solution if we create a new array of len(s) with null initial values and match the frequency with the index of the array and the corresponding entry record the character in s. Then we read the array backwards."
   ]
  },
  {
   "cell_type": "code",
   "execution_count": 26,
   "metadata": {
    "collapsed": true
   },
   "outputs": [],
   "source": [
    "class Solution(object):\n",
    "    def frequencySort(self, s):\n",
    "        \"\"\"\n",
    "        :type s: str\n",
    "        :rtype: str\n",
    "        \"\"\"\n",
    "        freq_dict={}\n",
    "        bucket=[None for i in range(len(s))]\n",
    "        result=[]\n",
    "        \n",
    "        # create hashtable\n",
    "        for c in s:\n",
    "            if freq_dict.get(c):\n",
    "                freq_dict[c]+=1\n",
    "            else:\n",
    "                freq_dict[c]=1\n",
    "        \n",
    "        # record freq and c in ascending order in a bucket\n",
    "        for c in freq_dict.keys():\n",
    "            bucket[freq_dict[c]]=c\n",
    "        for i in range(len(bucket)-1,-1,-1):\n",
    "            if bucket[i]:\n",
    "                result.append(i*bucket[i])\n",
    "            \n",
    "        return ''.join(result)"
   ]
  },
  {
   "cell_type": "code",
   "execution_count": 27,
   "metadata": {
    "collapsed": false
   },
   "outputs": [
    {
     "data": {
      "text/plain": [
       "'eeeeaaarrd'"
      ]
     },
     "execution_count": 27,
     "metadata": {},
     "output_type": "execute_result"
    }
   ],
   "source": [
    "o=Solution()\n",
    "o.frequencySort(\"raaeaedere\")"
   ]
  },
  {
   "cell_type": "code",
   "execution_count": null,
   "metadata": {
    "collapsed": true
   },
   "outputs": [],
   "source": []
  }
 ],
 "metadata": {
  "kernelspec": {
   "display_name": "Python 2",
   "language": "python",
   "name": "python2"
  },
  "language_info": {
   "codemirror_mode": {
    "name": "ipython",
    "version": 2
   },
   "file_extension": ".py",
   "mimetype": "text/x-python",
   "name": "python",
   "nbconvert_exporter": "python",
   "pygments_lexer": "ipython2",
   "version": "2.7.12"
  }
 },
 "nbformat": 4,
 "nbformat_minor": 0
}
