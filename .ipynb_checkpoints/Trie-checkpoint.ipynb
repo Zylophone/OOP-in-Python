{
 "cells": [
  {
   "cell_type": "markdown",
   "metadata": {},
   "source": [
    "# Trie"
   ]
  },
  {
   "cell_type": "markdown",
   "metadata": {},
   "source": [
    "<img src=https://upload.wikimedia.org/wikipedia/commons/thumb/b/be/Trie_example.svg/250px-Trie_example.svg.png>"
   ]
  },
  {
   "cell_type": "markdown",
   "metadata": {},
   "source": [
    "## 208. Implement Trie (Prefix Tree)"
   ]
  },
  {
   "cell_type": "markdown",
   "metadata": {},
   "source": [
    "Implement a trie with insert, search, and startsWith methods.\n",
    "\n",
    "Note:\n",
    "You may assume that all inputs are consist of lowercase letters a-z."
   ]
  },
  {
   "cell_type": "markdown",
   "metadata": {},
   "source": [
    "Solution: Trie structure: every node could have at most 26 children. "
   ]
  },
  {
   "cell_type": "code",
   "execution_count": null,
   "metadata": {
    "collapsed": true
   },
   "outputs": [],
   "source": [
    "import collections\n",
    "\n",
    "class TrieNode(object):\n",
    "    def __init__(self):\n",
    "        \"\"\"\n",
    "        Initialize your data structure here.\n",
    "        \"\"\"\n",
    "        self.children=collections.defaultdict(TrieNode)\n",
    "        self.is_word=False\n",
    "\n",
    "class Trie(object):\n",
    "\n",
    "    def __init__(self):\n",
    "        self.root = TrieNode()\n",
    "\n",
    "    def insert(self, word):\n",
    "        \"\"\"\n",
    "        Inserts a word into the trie.\n",
    "        :type word: str\n",
    "        :rtype: void\n",
    "        \"\"\"\n",
    "        node=self.root\n",
    "        for letter in word:\n",
    "            node=node.children[letter]\n",
    "        node.is_word=True\n",
    "\n",
    "    def search(self, word):\n",
    "        \"\"\"\n",
    "        Returns if the word is in the trie.\n",
    "        :type word: str\n",
    "        :rtype: bool\n",
    "        \"\"\"\n",
    "        node=self.root\n",
    "        for letter in word:\n",
    "            node=node.children.get(letter)\n",
    "            if not node:\n",
    "                return False\n",
    "        return node.is_word\n",
    "\n",
    "    def startsWith(self, prefix):\n",
    "        \"\"\"\n",
    "        Returns if there is any word in the trie\n",
    "        that starts with the given prefix.\n",
    "        :type prefix: str\n",
    "        :rtype: bool\n",
    "        \"\"\"\n",
    "        node=self.root\n",
    "        for letter in prefix:\n",
    "            node=node.children.get(letter)\n",
    "            if not node:\n",
    "                return False\n",
    "        return True\n",
    "\n",
    "# Your Trie object will be instantiated and called as such:\n",
    "# trie = Trie()\n",
    "# trie.insert(\"somestring\")\n",
    "# trie.search(\"key\")"
   ]
  },
  {
   "cell_type": "code",
   "execution_count": 11,
   "metadata": {
    "collapsed": false
   },
   "outputs": [
    {
     "data": {
      "text/plain": [
       "[]"
      ]
     },
     "execution_count": 11,
     "metadata": {},
     "output_type": "execute_result"
    }
   ],
   "source": [
    "import collections\n",
    "a=collections.defaultdict(list)\n",
    "a['c']"
   ]
  },
  {
   "cell_type": "markdown",
   "metadata": {},
   "source": [
    "Alternatively, we could use regular dictionary."
   ]
  },
  {
   "cell_type": "code",
   "execution_count": null,
   "metadata": {
    "collapsed": true
   },
   "outputs": [],
   "source": [
    "class TrieNode(object):\n",
    "    def __init__(self):\n",
    "        \"\"\"\n",
    "        Initialize your data structure here.\n",
    "        \"\"\"\n",
    "        self.children={}\n",
    "        self.is_word=False\n",
    "\n",
    "class Trie(object):\n",
    "\n",
    "    def __init__(self):\n",
    "        self.root = TrieNode()\n",
    "\n",
    "    def insert(self, word):\n",
    "        \"\"\"\n",
    "        Inserts a word into the trie.\n",
    "        :type word: str\n",
    "        :rtype: void\n",
    "        \"\"\"\n",
    "        node=self.root\n",
    "        for letter in word:\n",
    "            if node.children.get(letter):\n",
    "                node=node.children[letter]\n",
    "            else:\n",
    "                node.children[letter]=TrieNode()\n",
    "                node=node.children[letter]\n",
    "        node.is_word=True\n",
    "\n",
    "    def search(self, word):\n",
    "        \"\"\"\n",
    "        Returns if the word is in the trie.\n",
    "        :type word: str\n",
    "        :rtype: bool\n",
    "        \"\"\"\n",
    "        node=self.root\n",
    "        for letter in word:\n",
    "            node=node.children.get(letter)\n",
    "            if not node:\n",
    "                return False\n",
    "        return node.is_word\n",
    "\n",
    "    def startsWith(self, prefix):\n",
    "        \"\"\"\n",
    "        Returns if there is any word in the trie\n",
    "        that starts with the given prefix.\n",
    "        :type prefix: str\n",
    "        :rtype: bool\n",
    "        \"\"\"\n",
    "        node=self.root\n",
    "        for letter in prefix:\n",
    "            node=node.children.get(letter)\n",
    "            if not node:\n",
    "                return False\n",
    "        return True\n",
    "\n",
    "# Your Trie object will be instantiated and called as such:\n",
    "# trie = Trie()\n",
    "# trie.insert(\"somestring\")\n",
    "# trie.search(\"key\")"
   ]
  },
  {
   "cell_type": "markdown",
   "metadata": {},
   "source": [
    "## 211. Add and Search Word - Data structure design"
   ]
  },
  {
   "cell_type": "markdown",
   "metadata": {},
   "source": [
    "Design a data structure that supports the following two operations:\n",
    "\n",
    "void addWord(word)\n",
    "\n",
    "bool search(word)\n",
    "\n",
    "<font color=red>search(word) can search a literal word or a regular expression string containing only letters a-z or .. A . means it can represent any one letter.\n",
    "\n",
    "<font color=black>For example:\n",
    "\n",
    "addWord(\"bad\")\n",
    "\n",
    "addWord(\"dad\")\n",
    "\n",
    "addWord(\"mad\")\n",
    "\n",
    "search(\"pad\") -> false\n",
    "\n",
    "search(\"bad\") -> true\n",
    "\n",
    "search(\".ad\") -> true\n",
    "\n",
    "search(\"b..\") -> true\n",
    "\n",
    "Note:\n",
    "You may assume that all words are consist of lowercase letters a-z.\n",
    "\n",
    "click to show hint.\n",
    "\n",
    "You should be familiar with how a Trie works. If not, please work on this problem: Implement Trie (Prefix Tree) first."
   ]
  },
  {
   "cell_type": "code",
   "execution_count": 19,
   "metadata": {
    "collapsed": true
   },
   "outputs": [],
   "source": [
    "class WordDictionary(object):\n",
    "    def __init__(self):\n",
    "        \"\"\"\n",
    "        initialize your data structure here.\n",
    "        \"\"\"\n",
    "        self.root=TrieNode()\n",
    "\n",
    "    def addWord(self, word):\n",
    "        \"\"\"\n",
    "        Adds a word into the data structure.\n",
    "        :type word: str\n",
    "        :rtype: void\n",
    "        \"\"\"\n",
    "        node=self.root\n",
    "        for letter in word:\n",
    "            if node.children.get(letter):\n",
    "                node=node.children[letter]\n",
    "            else:\n",
    "                node.children[letter]=TrieNode()\n",
    "                node=node.children[letter]\n",
    "        node.is_word=True\n",
    "\n",
    "    def search(self, word):\n",
    "        \"\"\"\n",
    "        Returns if the word is in the data structure. A word could\n",
    "        contain the dot character '.' to represent any one letter.\n",
    "        :type word: str\n",
    "        :rtype: bool\n",
    "        \"\"\"\n",
    "        node=self.root\n",
    "        return self.__search(word,0,node)\n",
    "        \n",
    "    def __search(self,word,index,node):\n",
    "        if index==len(word):\n",
    "            return node.is_word\n",
    "        if word[index]=='.':\n",
    "            return any([self.__search(word,index+1,node.children[letter]) for letter in node.children.keys()])\n",
    "        elif node.children.get(word[index]):\n",
    "            return self.__search(word,index+1,node.children[word[index]])\n",
    "        else:\n",
    "            return False\n",
    "        \n",
    "class TrieNode(object):\n",
    "    def __init__(self):\n",
    "        \"\"\"\n",
    "        Initialize your data structure here.\n",
    "        \"\"\"\n",
    "        self.children={}\n",
    "        self.is_word=False        \n",
    "\n",
    "# Your WordDictionary object will be instantiated and called as such:\n",
    "# wordDictionary = WordDictionary()\n",
    "# wordDictionary.addWord(\"word\")\n",
    "# wordDictionary.search(\"pattern\")"
   ]
  },
  {
   "cell_type": "code",
   "execution_count": 32,
   "metadata": {
    "collapsed": false
   },
   "outputs": [
    {
     "data": {
      "text/plain": [
       "False"
      ]
     },
     "execution_count": 32,
     "metadata": {},
     "output_type": "execute_result"
    }
   ],
   "source": [
    "wordDictionary = WordDictionary()\n",
    "wordDictionary.addWord(\"bad\")\n",
    "wordDictionary.addWord(\"dad\")\n",
    "wordDictionary.addWord(\"mad\")\n",
    "wordDictionary.search(\"m...\")"
   ]
  },
  {
   "cell_type": "markdown",
   "metadata": {},
   "source": [
    "## 212. Word Search II"
   ]
  },
  {
   "cell_type": "markdown",
   "metadata": {},
   "source": [
    "Given a 2D board and a list of words from the dictionary, find all words in the board.\n",
    "\n",
    "Each word must be constructed from letters of sequentially adjacent cell, where \"adjacent\" cells are those horizontally or vertically neighboring. The same letter cell may not be used more than once in a word.\n",
    "\n",
    "For example,\n",
    "Given words = [\"oath\",\"pea\",\"eat\",\"rain\"] and board =\n",
    "\n",
    "[\n",
    "  ['o','a','a','n'],\n",
    "  ['e','t','a','e'],\n",
    "  ['i','h','k','r'],\n",
    "  ['i','f','l','v']\n",
    "]\n",
    "\n",
    "Return [\"eat\",\"oath\"].\n",
    "\n",
    "Note:\n",
    "You may assume that all inputs are consist of lowercase letters a-z."
   ]
  },
  {
   "cell_type": "markdown",
   "metadata": {},
   "source": [
    "Solution: We could consider a dfs search starting from a particular entry and check if the word along the path is in the words. It is easier to implement a trie when looking up the word."
   ]
  },
  {
   "cell_type": "code",
   "execution_count": 37,
   "metadata": {
    "collapsed": true
   },
   "outputs": [],
   "source": [
    "class Solution(object):\n",
    "    def findWords(self, board, words):\n",
    "        \"\"\"\n",
    "        :type board: List[List[str]]\n",
    "        :type words: List[str]\n",
    "        :rtype: List[str]\n",
    "        \"\"\"\n",
    "        root=self.__buildTrie(words)\n",
    "        result=[]\n",
    "        \n",
    "        m=len(board)\n",
    "        if m==0:\n",
    "            return []\n",
    "        n=len(board[0])\n",
    "        if n==0:\n",
    "            return []\n",
    "        for i in xrange(m):\n",
    "            for j in xrange(n):\n",
    "                self.dfs(i,j,board,root,result)\n",
    "        return result\n",
    "        \n",
    "    def __buildTrie(self,words):\n",
    "        \"\"\"\n",
    "        :type words: List[str]\n",
    "        :rtype: TrieNode()\n",
    "        \"\"\"\n",
    "        # build a Trie using insert\n",
    "        root=TrieNode()\n",
    "        for word in words:\n",
    "            self.__insert(word,root)\n",
    "            \n",
    "        return root\n",
    "        \n",
    "    def __insert(self, word, root):\n",
    "        \"\"\"\n",
    "        Inserts a word into the trie.\n",
    "        :type word: str\n",
    "        :rtype: void\n",
    "        \"\"\"\n",
    "        node=root\n",
    "        for letter in word:\n",
    "            if node.children.get(letter):\n",
    "                node=node.children[letter]\n",
    "            else:\n",
    "                node.children[letter]=TrieNode()\n",
    "                node=node.children[letter]\n",
    "        node.word=word\n",
    "        \n",
    "    def dfs(self,i,j,board,root,result):\n",
    "        if not root:\n",
    "            return\n",
    "        c=board[i][j]\n",
    "        board[i][j]='#'\n",
    "        child=root.children.get(c)\n",
    "        if child:\n",
    "            if child.word:\n",
    "                result.append(child.word)\n",
    "                child.word=None # de-duplicate\n",
    "        \n",
    "        # choose a path by visiting all the neighbors\n",
    "        # up\n",
    "        if i-1>=0 and board[i-1][j]!='#':\n",
    "            self.dfs(i-1,j,board,child,result)\n",
    "        # down\n",
    "        if i+1<len(board) and board[i+1][j]!='#':\n",
    "            self.dfs(i+1,j,board,child,result)\n",
    "        # left\n",
    "        if j-1>=0 and board[i][j-1]!='#':\n",
    "            self.dfs(i,j-1,board,child,result)\n",
    "        # right\n",
    "        if j+1<len(board[0]) and board[i][j+1]!='#':\n",
    "            self.dfs(i,j+1,board,child,result)\n",
    "            \n",
    "        board[i][j]=c\n",
    "        \n",
    "class TrieNode(object):\n",
    "    def __init__(self):\n",
    "        \"\"\"\n",
    "        Initialize your data structure here.\n",
    "        \"\"\"\n",
    "        self.children={}\n",
    "        self.word=None"
   ]
  },
  {
   "cell_type": "code",
   "execution_count": 38,
   "metadata": {
    "collapsed": false
   },
   "outputs": [
    {
     "data": {
      "text/plain": [
       "['oath', 'eat']"
      ]
     },
     "execution_count": 38,
     "metadata": {},
     "output_type": "execute_result"
    }
   ],
   "source": [
    "words=[\"oath\",\"pea\",\"eat\",\"rain\"]\n",
    "board=[['o','a','a','n'],['e','t','a','e'],['i','h','k','r'],['i','f','l','v']]\n",
    "o=Solution()\n",
    "o.findWords(board,words)"
   ]
  },
  {
   "cell_type": "code",
   "execution_count": null,
   "metadata": {
    "collapsed": true
   },
   "outputs": [],
   "source": []
  }
 ],
 "metadata": {
  "kernelspec": {
   "display_name": "Python 2",
   "language": "python",
   "name": "python2"
  },
  "language_info": {
   "codemirror_mode": {
    "name": "ipython",
    "version": 2
   },
   "file_extension": ".py",
   "mimetype": "text/x-python",
   "name": "python",
   "nbconvert_exporter": "python",
   "pygments_lexer": "ipython2",
   "version": "2.7.12"
  }
 },
 "nbformat": 4,
 "nbformat_minor": 0
}
