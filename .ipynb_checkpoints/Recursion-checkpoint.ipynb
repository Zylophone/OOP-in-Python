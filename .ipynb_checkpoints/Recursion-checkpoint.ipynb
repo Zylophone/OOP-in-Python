{
 "cells": [
  {
   "cell_type": "markdown",
   "metadata": {},
   "source": [
    "# Recursion"
   ]
  },
  {
   "cell_type": "markdown",
   "metadata": {},
   "source": [
    "Recursion is a method of solving problems that involves breaking a problem down into smaller and smaller subproblems until you get to a small enough problem that it can be solved trivially. Usually recursion involves a function calling itself. While it may not seem like much on the surface, recursion allows us to write elegant solutions to problems that may otherwise be very difficult to program."
   ]
  },
  {
   "cell_type": "markdown",
   "metadata": {},
   "source": [
    "Like the robots of Asimov, all recursive algorithms must obey three important laws:\n",
    "\n",
    "1. A recursive algorithm must have a base case.\n",
    "2. A recursive algorithm must change its state and move toward the base case.\n",
    "3. A recursive algorithm must call itself, recursively."
   ]
  },
  {
   "cell_type": "markdown",
   "metadata": {},
   "source": [
    "## Calculating the Sum of a List of Numbers"
   ]
  },
  {
   "cell_type": "code",
   "execution_count": 1,
   "metadata": {
    "collapsed": true
   },
   "outputs": [],
   "source": [
    "def sum(alist):\n",
    "    if(len(alist)==1):\n",
    "        return alist[0]\n",
    "    else:\n",
    "        return alist[0]+sum(alist[1:])        "
   ]
  },
  {
   "cell_type": "code",
   "execution_count": 4,
   "metadata": {
    "collapsed": false
   },
   "outputs": [
    {
     "data": {
      "text/plain": [
       "42"
      ]
     },
     "execution_count": 4,
     "metadata": {},
     "output_type": "execute_result"
    }
   ],
   "source": [
    "a=[3,4,5,6,7,8,9]\n",
    "sum(a)"
   ]
  },
  {
   "cell_type": "markdown",
   "metadata": {},
   "source": [
    "## Converting an Integer to a String in Any Base"
   ]
  },
  {
   "cell_type": "markdown",
   "metadata": {},
   "source": [
    "<img src=http://interactivepython.org/runestone/static/pythonds/_images/toStr.png \\>"
   ]
  },
  {
   "cell_type": "code",
   "execution_count": 7,
   "metadata": {
    "collapsed": false
   },
   "outputs": [],
   "source": [
    "convString=\"0123456789ABCDEF\""
   ]
  },
  {
   "cell_type": "code",
   "execution_count": 16,
   "metadata": {
    "collapsed": true
   },
   "outputs": [],
   "source": [
    "def IntToString(number,base):\n",
    "    if(number<base):\n",
    "        return convString[number]\n",
    "    else:\n",
    "        return IntToString(number//base,base)+convString[number%base]"
   ]
  },
  {
   "cell_type": "code",
   "execution_count": 18,
   "metadata": {
    "collapsed": false
   },
   "outputs": [
    {
     "name": "stdout",
     "output_type": "stream",
     "text": [
      "19\n"
     ]
    }
   ],
   "source": [
    "print IntToString(25,16)"
   ]
  },
  {
   "cell_type": "markdown",
   "metadata": {},
   "source": [
    "## Sierpinski Triangle"
   ]
  },
  {
   "cell_type": "markdown",
   "metadata": {},
   "source": [
    "Another fractal that exhibits the property of self-similarity is the Sierpinski triangle. An example is shown in Figure 3. The Sierpinski triangle illustrates a three-way recursive algorithm. The procedure for drawing a Sierpinski triangle by hand is simple. Start with a single large triangle. Divide this large triangle into four new triangles by connecting the midpoint of each side. Ignoring the middle triangle that you just created, apply the same procedure to each of the three corner triangles. Each time you create a new set of triangles, you recursively apply this procedure to the three smaller corner triangles. You can continue to apply this procedure indefinitely if you have a sharp enough pencil. Before you continue reading, you may want to try drawing the Sierpinski triangle yourself, using the method described."
   ]
  },
  {
   "cell_type": "markdown",
   "metadata": {},
   "source": [
    "<img src=http://interactivepython.org/runestone/static/pythonds/_images/sierpinski.png \\>"
   ]
  },
  {
   "cell_type": "code",
   "execution_count": 2,
   "metadata": {
    "collapsed": true
   },
   "outputs": [],
   "source": [
    "import turtle\n",
    "\n",
    "def drawTriangle(points,color, myTurtle):\n",
    "    myTurtle.fillcolor(color)\n",
    "    myTurtle.up()\n",
    "    myTurtle.goto(points[0][0],points[0][1])\n",
    "    myTurtle.down()\n",
    "    myTurtle.begin_fill()\n",
    "    myTurtle.goto(points[1][0],points[1][1])\n",
    "    myTurtle.goto(points[2][0],points[2][1])\n",
    "    myTurtle.goto(points[0][0],points[0][1])\n",
    "    myTurtle.end_fill()\n",
    "    \n",
    "def getMid(point1,point2):\n",
    "    return [(point1[0]+point2[0])/2,(point1[1]+point2[1])/2]\n",
    "\n",
    "def sierpinski(points,degree,myTurtle):\n",
    "    colormap = ['blue','red','green','white','yellow',\n",
    "                'violet','orange']\n",
    "    drawTriangle(points,colormap[degree],myTurtle)\n",
    "    if degree>0:\n",
    "        left=[points[0],getMid(points[0],points[1]),getMid(points[0],points[2])]\n",
    "        sierpinski(left,degree-1,myTurtle)\n",
    "        top=[points[1],getMid(points[0],points[1]),getMid(points[1],points[2])]\n",
    "        sierpinski(top,degree-1,myTurtle)\n",
    "        right=[points[2],getMid(points[1],points[2]),getMid(points[0],points[2])]\n",
    "        sierpinski(right,degree-1,myTurtle)"
   ]
  },
  {
   "cell_type": "code",
   "execution_count": 3,
   "metadata": {
    "collapsed": false
   },
   "outputs": [],
   "source": [
    "myTurtle=turtle.Turtle()\n",
    "myPoints = [[-100,-50],[0,100],[100,-50]]\n",
    "sierpinski(myPoints,4,myTurtle)"
   ]
  },
  {
   "cell_type": "markdown",
   "metadata": {},
   "source": [
    "## Tower of Hanoi"
   ]
  },
  {
   "cell_type": "markdown",
   "metadata": {},
   "source": [
    "At the beginning of time, the priests were given three poles and a stack of 64 gold disks, each disk a little smaller than the one beneath it. Their assignment was to transfer all 64 disks from one of the three poles to another, with two important constraints. They could only move one disk at a time, and they could never place a larger disk on top of a smaller one. The priests worked very efficiently, day and night, moving one disk every second. When they finished their work, the legend said, the temple would crumble into dust and the world would vanish.\n",
    "\n"
   ]
  },
  {
   "cell_type": "markdown",
   "metadata": {},
   "source": [
    "<img src=http://interactivepython.org/runestone/static/pythonds/_images/hanoi.png \\>"
   ]
  },
  {
   "cell_type": "markdown",
   "metadata": {},
   "source": [
    "Solution: The recursion algorithm is as follows:\n",
    "\n",
    "1. base case: If there is only one disk to move, just move it from fromPole to toPole\n",
    "2. To move m+1 disks from fromPole to toPole, first we move m disks from fromPole to withPole (in this case, withPole becomes toPole, toPole becomes withPole), then we move the (m+1)-th disk from fromPole to toPole. Finally, move the m disks from withPole to toPole(in this case, withPole becomes fromPole, fromPole becomes withPole)."
   ]
  },
  {
   "cell_type": "code",
   "execution_count": 7,
   "metadata": {
    "collapsed": false
   },
   "outputs": [],
   "source": [
    "from pythonds.basic.stack import Stack\n",
    "\n",
    "fromPole=Stack()\n",
    "withPole=Stack()\n",
    "toPole=Stack()\n",
    "fromPole.push(5)\n",
    "fromPole.push(4)\n",
    "fromPole.push(3)\n",
    "fromPole.push(2)\n",
    "fromPole.push(1)"
   ]
  },
  {
   "cell_type": "code",
   "execution_count": 8,
   "metadata": {
    "collapsed": true
   },
   "outputs": [],
   "source": [
    "def moveTower(number,fromPole,withPole,toPole):\n",
    "    if(number==1):\n",
    "        a=fromPole.pop()\n",
    "        toPole.push(a)\n",
    "    else:\n",
    "        moveTower(number-1,fromPole,toPole,withPole)\n",
    "        a=fromPole.pop()\n",
    "        toPole.push(a)\n",
    "        moveTower(number-1,withPole,fromPole,toPole)"
   ]
  },
  {
   "cell_type": "code",
   "execution_count": 9,
   "metadata": {
    "collapsed": true
   },
   "outputs": [],
   "source": [
    "moveTower(5,fromPole, withPole, toPole)"
   ]
  },
  {
   "cell_type": "code",
   "execution_count": 12,
   "metadata": {
    "collapsed": false
   },
   "outputs": [
    {
     "data": {
      "text/plain": [
       "1"
      ]
     },
     "execution_count": 12,
     "metadata": {},
     "output_type": "execute_result"
    }
   ],
   "source": [
    "toPole.peek()"
   ]
  },
  {
   "cell_type": "markdown",
   "metadata": {},
   "source": [
    "## <font color='red'>Exploring a Maze</font>"
   ]
  },
  {
   "cell_type": "markdown",
   "metadata": {},
   "source": [
    "<img src=http://interactivepython.org/runestone/static/pythonds/_images/maze.png \\>"
   ]
  },
  {
   "cell_type": "markdown",
   "metadata": {},
   "source": [
    "To make it easier for us we will assume that our maze is divided up into “squares.” Each square of the maze is either open or occupied by a section of wall. The turtle can only pass through the open squares of the maze. If the turtle bumps into a wall it must try a different direction. The turtle will require a systematic procedure to find its way out of the maze. Here is the procedure:\n",
    "\n",
    "* From our starting position we will first try going North one square and then recursively try our procedure from there.\n",
    "* If we are not successful by trying a Northern path as the first step then we will take a step to the South and recursively repeat our procedure.\n",
    "* If South does not work then we will try a step to the West as our first step and recursively apply our procedure.\n",
    "* If North, South, and West have not been successful then apply the procedure recursively from a position one step to our East.\n",
    "* If none of these directions works then there is no way to get out of the maze and we fail.\n"
   ]
  },
  {
   "cell_type": "markdown",
   "metadata": {},
   "source": [
    "In this algorithm, there are four base cases to consider:\n",
    "\n",
    "1. The turtle has run into a wall. Since the square is occupied by a wall no further exploration can take place.\n",
    "2. The turtle has found a square that has already been explored. We do not want to continue exploring from this position or we will get into a loop.\n",
    "3. We have found an outside edge, not occupied by a wall. In other words we have found an exit from the maze.\n",
    "4. We have explored a square unsuccessfully in all four directions."
   ]
  },
  {
   "cell_type": "code",
   "execution_count": 29,
   "metadata": {
    "collapsed": true
   },
   "outputs": [],
   "source": [
    "mazeFile=open('maze2.txt','r')"
   ]
  },
  {
   "cell_type": "code",
   "execution_count": 30,
   "metadata": {
    "collapsed": false
   },
   "outputs": [
    {
     "name": "stdout",
     "output_type": "stream",
     "text": [
      "<open file 'maze2.txt', mode 'r' at 0x103f93d20>\n"
     ]
    }
   ],
   "source": [
    "print mazeFile"
   ]
  },
  {
   "cell_type": "code",
   "execution_count": 32,
   "metadata": {
    "collapsed": false
   },
   "outputs": [
    {
     "name": "stdout",
     "output_type": "stream",
     "text": [
      "+   +   ++ ++        +\n",
      "\n",
      "      +     ++++++++++\n",
      "\n",
      "+ +    ++  ++++ +++ ++\n",
      "\n",
      "+ +   + + ++    +++  +\n",
      "\n",
      "+          ++  ++  + +\n",
      "\n",
      "+++++ + +      ++  + +\n",
      "\n",
      "+++++ +++  + +  ++   +\n",
      "\n",
      "+          + + S+ +  +\n",
      "\n",
      "+++++ +  + + +     + +\n",
      "\n",
      "++++++++++++++++++++++\n",
      "\n"
     ]
    }
   ],
   "source": [
    "for line in mazeFile:\n",
    "    print line"
   ]
  },
  {
   "cell_type": "markdown",
   "metadata": {},
   "source": [
    "## Dynamic Programming"
   ]
  },
  {
   "cell_type": "markdown",
   "metadata": {},
   "source": [
    "Dynamic programming is one strategy for optimization problems."
   ]
  },
  {
   "cell_type": "markdown",
   "metadata": {},
   "source": [
    "A classic example of an optimization problem involves making change using the fewest coins. Suppose you are a programmer for a vending machine manufacturer. Your company wants to streamline effort by giving out the fewest possible coins in change for each transaction. Suppose a customer puts in a dollar bill and purchases an item for 37 cents. What is the smallest number of coins you can use to make change? The answer is six coins: two quarters, one dime, and three pennies. How did we arrive at the answer of six coins? We start with the largest coin in our arsenal (a quarter) and use as many of those as possible, then we go to the next lowest coin value and use as many of those as possible. This first approach is called a greedy method because we try to solve as big a piece of the problem as possible right away.\n",
    "\n",
    "The greedy method works fine when we are using U.S. coins, but suppose that your company decides to deploy its vending machines in Lower Elbonia where, in addition to the usual 1, 5, 10, and 25 cent coins they also have a 21 cent coin. In this instance our greedy method fails to find the optimal solution for 63 cents in change. With the addition of the 21 cent coin the greedy method would still find the solution to be six coins. However, the optimal answer is three 21 cent pieces.\n",
    "\n",
    "If the amount does not match we have several options. What we want is the minimum of a penny plus the number of coins needed to make change for the original amount minus a penny, or a nickel plus the number of coins needed to make change for the original amount minus five cents, or a dime plus the number of coins needed to make change for the original amount minus ten cents, and so on. So the number of coins needed to make change for the original amount can be computed according to the following:\n",
    "\n",
    "\\begin{equation}\n",
    "numCoins=min\\left\\{\n",
    "                \\begin{array}{l}\n",
    "                  1+numCoins(originalamount-1)\\\\\n",
    "                  1+numCoins(originalamount-5)\\\\\n",
    "                  1+numCoins(originalamount-10)\\\\\n",
    "                  1+numCoins(originalamount-25)\\\\\n",
    "                \\end{array}\n",
    "              \\right.\n",
    "\\end{equation}"
   ]
  },
  {
   "cell_type": "code",
   "execution_count": 69,
   "metadata": {
    "collapsed": true
   },
   "outputs": [],
   "source": [
    "# Recursive algorithm on solving the minimum number of coins to make the change\n",
    "def recMC(coinValueList,change):\n",
    "    # base case, if change in coinValueList\n",
    "    if change in coinValueList:\n",
    "        return 1\n",
    "    else:\n",
    "        # if change>coinValueList, recursively reduce to base case\n",
    "        return min([1+recMC(coinValueList,change-val) for val in coinValueList if (change-val)>=0])"
   ]
  },
  {
   "cell_type": "code",
   "execution_count": 70,
   "metadata": {
    "collapsed": false
   },
   "outputs": [
    {
     "name": "stdout",
     "output_type": "stream",
     "text": [
      "7\n"
     ]
    }
   ],
   "source": [
    "print(recMC([1,5,10,25],73))"
   ]
  },
  {
   "cell_type": "markdown",
   "metadata": {},
   "source": [
    "The trouble with the above algorithm is that it is extremely inefficient. In fact, it takes 67,716,925 recursive calls to find the optimal solution to the 4 coins, 63 cents problem! To understand the fatal flaw in our approach look at Figure 5, which illustrates a small fraction of the 377 function calls needed to find the optimal set of coins to make change for 26 cents."
   ]
  },
  {
   "cell_type": "markdown",
   "metadata": {},
   "source": [
    "The key to cutting down on the amount of work we do is to remember some of the past results so we can avoid recomputing results we already know. A simple solution is to store the results for the minimum number of coins in a table when we find them. Then before we compute a new minimum, we first check the table to see if a result is already known. If there is already a result in the table, we use the value from the table rather than recomputing. In fact the term for what we have done is not dynamic programming but rather we have improved the performance of our program by using a technique known as “memoization,” or more commonly called “caching.”\n",
    "\n"
   ]
  },
  {
   "cell_type": "markdown",
   "metadata": {},
   "source": [
    "A truly dynamic programming algorithm will take a more systematic approach to the problem. Our dynamic programming solution is going to start with making change for one cent and systematically work its way up to the amount of change we require. This guarantees us that at each step of the algorithm we already know the minimum number of coins needed to make change for any smaller amount.\n",
    "\n",
    "Let’s look at how we would fill in a table of minimum coins to use in making change for 11 cents. Figure 4 illustrates the process. We start with one cent. The only solution possible is one coin (a penny). The next row shows the minimum for one cent and two cents. Again, the only solution is two pennies. The fifth row is where things get interesting. Now we have two options to consider, five pennies or one nickel. How do we decide which is best? We consult the table and see that the number of coins needed to make change for four cents is four, plus one more penny to make five, equals five coins. Or we can look at zero cents plus one more nickel to make five cents equals 1 coin. Since the minimum of one and five is one we store 1 in the table. Fast forward again to the end of the table and consider 11 cents. Figure 5 shows the three options that we have to consider:\n",
    "\n",
    "1. A penny plus the minimum number of coins to make change for 11−1=10 cents (1)\n",
    "2. A nickel plus the minimum number of coins to make change for 11−5=6 cents (2)\n",
    "3. A dime plus the minimum number of coins to make change for 11−10=1 cent (1)\n",
    "\n",
    "Either option 1 or 3 will give us a total of two coins which is the minimum number of coins for 11 cents."
   ]
  },
  {
   "cell_type": "markdown",
   "metadata": {
    "collapsed": true
   },
   "source": [
    "# Crack coding Chapter 8 Recursion"
   ]
  },
  {
   "cell_type": "markdown",
   "metadata": {},
   "source": [
    "## How to Recognize"
   ]
  },
  {
   "cell_type": "markdown",
   "metadata": {},
   "source": [
    "A good hint that problem is recursive is that it appears to be built off sub-problems. When you hear a problem beginning with the following, it’s often (though not always) a good candidate for recursion: “Design an algorithm to compute the nth ...”; “Write code to list the first n...”; “Implement a method to compute all...”; etc."
   ]
  },
  {
   "cell_type": "markdown",
   "metadata": {},
   "source": [
    "## How to approach"
   ]
  },
  {
   "cell_type": "markdown",
   "metadata": {},
   "source": [
    "Compute f(n) by adding something, removing something, or otherwise changing the solution for f(n-1). In other cases, you might have to do something more complicated. Regardless, we recommend the following approach:\n",
    "\n",
    "1. Think about what the sub-problem is. How many sub-problems does f(n) depend on? That is, in a recursive binary tree problem, each part will likely depend on two problems. In a linked list problem, it’ll probably be just one.\n",
    "2. Solve for a “base case.” That is, if you need to compute f(n), first compute it for f(0) or f(1). This is usually just a hard-coded value.\n",
    "3. Solve for f(2).\n",
    "4. Understand how to solve for f(3) using f(2) (or previous solutions). That is, understand the exact process of translating the solutions for sub-problems into the real solution.\n",
    "5. Generalize for f(n).\n",
    "\n",
    "This “bottom-up recursion” is often the most straight-forward. Sometimes, though, it can be useful to approach problems “top down”, where you essentially jump directly into breaking f(n) into its sub-problems."
   ]
  },
  {
   "cell_type": "markdown",
   "metadata": {},
   "source": [
    "## Things to watch out for"
   ]
  },
  {
   "cell_type": "markdown",
   "metadata": {},
   "source": [
    "1. All problems that can be solved recursively can also be solved iteratively (though the code may be much more complicated). Before diving into a recursive code, ask yourself how hard it would be to implement this algorithm iteratively. Discuss the trade-offs with your interviewer.\n",
    "2. Recursive algorithms can be very space inefficient. Each recursive call adds a new layer to the stack, which means that if your algorithm has O(n) recursive calls then it uses O(n) memory. Ouch! This is one reason why an iterative algorithm may be better."
   ]
  },
  {
   "cell_type": "markdown",
   "metadata": {},
   "source": [
    "**1**. Write a method to generate the nth Fibonacci number."
   ]
  },
  {
   "cell_type": "markdown",
   "metadata": {},
   "source": [
    "Solution: The Fibonacci numbers are defined as:\n",
    "$$F_0=0, F_1=1$$\n",
    "$$F_n=F_{n-1}+F_{n-2}$$\n",
    "Explicitly,\n",
    "<img src=https://wikimedia.org/api/rest_v1/media/math/render/svg/d53d979cefc9ca303256377c2fde8c8f88c4d055 \\>"
   ]
  },
  {
   "cell_type": "code",
   "execution_count": 1,
   "metadata": {
    "collapsed": true
   },
   "outputs": [],
   "source": [
    "def Fibonacci(n):\n",
    "    if n==0:\n",
    "        return 0\n",
    "    elif n==1:\n",
    "        return 1\n",
    "    else:\n",
    "        return Fibonacci(n-1)+Fibonacci(n-2)"
   ]
  },
  {
   "cell_type": "code",
   "execution_count": 5,
   "metadata": {
    "collapsed": false
   },
   "outputs": [
    {
     "data": {
      "text/plain": [
       "233"
      ]
     },
     "execution_count": 5,
     "metadata": {},
     "output_type": "execute_result"
    }
   ],
   "source": [
    "Fibonacci(13)"
   ]
  },
  {
   "cell_type": "markdown",
   "metadata": {},
   "source": [
    "**2**. Imagine a robot sitting on the upper left hand corner of an NxN grid. The robot can only move in two directions: right and down. How many possible paths are there for the robot?\n",
    "FOLLOW UP\n",
    "Imagine certain squares are “off limits”, such that the robot can not step on them. Design an algorithm to get all possible paths for the robot."
   ]
  },
  {
   "cell_type": "markdown",
   "metadata": {},
   "source": [
    "Solution: First we consider no \"off limits\". Obviously, for XxY grid, we have the following recursion relation for path count:\n",
    "$$C(X,Y)=C(X-1,Y)+C(X,Y-1)$$\n",
    "and\n",
    "$$C(1,1)=0, C(N,1)=C(1,M)=1\\ for\\ any\\ N, M$$\n",
    "This implementation is absolutely inefficient for large grids. There is a direct counting as follows:\n",
    "Since you must always move right X-1 times, and you have X-1 + Y-1 total steps, you have to pick X-1 times to move right out of X-1+Y-1 choices. Thus, there are C(X-1, X-1+Y-1) paths (e.g., X-1+Y-1 choose X-1):\n",
    "$$(X-1 + Y-1)! / ((X-1)! \\times (Y-1)!)$$"
   ]
  },
  {
   "cell_type": "code",
   "execution_count": 17,
   "metadata": {
    "collapsed": true
   },
   "outputs": [],
   "source": [
    "def gridPath(X,Y):\n",
    "    if(X==1 or Y==1):\n",
    "        if(X==1 and Y==1):\n",
    "            return 0 # 1 square grid\n",
    "        else:\n",
    "            return 1 # C(n,1) or C(1,n)\n",
    "    else:\n",
    "        return gridPath(X-1,Y)+gridPath(X,Y-1)"
   ]
  },
  {
   "cell_type": "code",
   "execution_count": 24,
   "metadata": {
    "collapsed": false
   },
   "outputs": [
    {
     "data": {
      "text/plain": [
       "48620"
      ]
     },
     "execution_count": 24,
     "metadata": {},
     "output_type": "execute_result"
    }
   ],
   "source": [
    "gridPath(10,10)"
   ]
  },
  {
   "cell_type": "markdown",
   "metadata": {},
   "source": [
    "**3**. Write a method that returns all subsets of a set."
   ]
  },
  {
   "cell_type": "markdown",
   "metadata": {},
   "source": [
    "Solution: We have the following assumptions:\n",
    "\n",
    "1. The set can be empty\n",
    "2. The set always contains finite elements\n",
    "\n",
    "Example: If c={a,b,c}, then the output should be\n",
    "\n",
    "{{},{a},{b},{c},{a,b},{a,c},{b,c},{a,b,c}}"
   ]
  },
  {
   "cell_type": "code",
   "execution_count": 74,
   "metadata": {
    "collapsed": false
   },
   "outputs": [],
   "source": [
    "import copy\n",
    "\n",
    "def allsubsets(aset):\n",
    "    aset=list(set(aset))\n",
    "    if(aset==[]):\n",
    "        return [[]]\n",
    "    else:\n",
    "        element=aset.pop()\n",
    "        prev_subsets=allsubsets(aset)\n",
    "        subsets=allsubsets(aset)\n",
    "        for e in subsets:\n",
    "            e.append(element)\n",
    "        return prev_subsets+subsets"
   ]
  },
  {
   "cell_type": "code",
   "execution_count": 83,
   "metadata": {
    "collapsed": false
   },
   "outputs": [],
   "source": [
    "import copy\n",
    "\n",
    "def allsubsets(aset):\n",
    "    aset=list(set(aset))\n",
    "    if(aset==[]):\n",
    "        return [[]]\n",
    "    else:\n",
    "        element=aset.pop()\n",
    "        prev_subsets=allsubsets(aset)\n",
    "        subsets=copy.deepcopy(prev_subsets)\n",
    "        for e in subsets:\n",
    "            e.append(element)\n",
    "        return prev_subsets+subsets"
   ]
  },
  {
   "cell_type": "code",
   "execution_count": 84,
   "metadata": {
    "collapsed": false
   },
   "outputs": [
    {
     "data": {
      "text/plain": [
       "[[], ['a'], ['c'], ['a', 'c'], ['b'], ['a', 'b'], ['c', 'b'], ['a', 'c', 'b']]"
      ]
     },
     "execution_count": 84,
     "metadata": {},
     "output_type": "execute_result"
    }
   ],
   "source": [
    "a=['a','b','c']\n",
    "allsubsets(a)"
   ]
  },
  {
   "cell_type": "code",
   "execution_count": 23,
   "metadata": {
    "collapsed": false
   },
   "outputs": [
    {
     "data": {
      "text/plain": [
       "[1]"
      ]
     },
     "execution_count": 23,
     "metadata": {},
     "output_type": "execute_result"
    }
   ],
   "source": [
    "a=list(set([1,2]))\n",
    "a.pop()\n",
    "a"
   ]
  },
  {
   "cell_type": "markdown",
   "metadata": {},
   "source": [
    "**4**. Write a method to compute all permutations of a string"
   ]
  },
  {
   "cell_type": "markdown",
   "metadata": {},
   "source": [
    "Solution: Example: \"abc\" all permutations:\n",
    "\"abc\",\"bca\",\"acb\",\"cba\",\"acb\",\"bac\"\n",
    "\n",
    "We could start from the base case: first character of string. Then to add n-th char to the permutations, we have n slots to insert."
   ]
  },
  {
   "cell_type": "code",
   "execution_count": 23,
   "metadata": {
    "collapsed": false
   },
   "outputs": [],
   "source": [
    "import copy\n",
    "\n",
    "def stringPermute(astring):\n",
    "    if astring=='':\n",
    "        return ['']\n",
    "    elif len(astring)==1:\n",
    "        return [astring]\n",
    "    else:\n",
    "        chararray=list(astring)\n",
    "        first=chararray[0]\n",
    "        chararray.remove(first)\n",
    "        prev_string=''.join(chararray)\n",
    "        prev_perm=stringPermute(prev_string)\n",
    "        perm=[]\n",
    "        for e in prev_perm:\n",
    "            e_array=list(e)\n",
    "            n=len(e_array)+1\n",
    "            for i in range(n):\n",
    "                new_array=copy.copy(e_array)\n",
    "                new_array.insert(i,first)\n",
    "                perm.append(''.join(new_array))\n",
    "        return perm"
   ]
  },
  {
   "cell_type": "code",
   "execution_count": 27,
   "metadata": {
    "collapsed": false
   },
   "outputs": [
    {
     "data": {
      "text/plain": [
       "['string',\n",
       " 'tsring',\n",
       " 'trsing',\n",
       " 'trisng',\n",
       " 'trinsg',\n",
       " 'trings',\n",
       " 'srting',\n",
       " 'rsting',\n",
       " 'rtsing',\n",
       " 'rtisng',\n",
       " 'rtinsg',\n",
       " 'rtings',\n",
       " 'sritng',\n",
       " 'rsitng',\n",
       " 'ristng',\n",
       " 'ritsng',\n",
       " 'ritnsg',\n",
       " 'ritngs',\n",
       " 'srintg',\n",
       " 'rsintg',\n",
       " 'risntg',\n",
       " 'rinstg',\n",
       " 'rintsg',\n",
       " 'rintgs',\n",
       " 'sringt',\n",
       " 'rsingt',\n",
       " 'risngt',\n",
       " 'rinsgt',\n",
       " 'ringst',\n",
       " 'ringts',\n",
       " 'stirng',\n",
       " 'tsirng',\n",
       " 'tisrng',\n",
       " 'tirsng',\n",
       " 'tirnsg',\n",
       " 'tirngs',\n",
       " 'sitrng',\n",
       " 'istrng',\n",
       " 'itsrng',\n",
       " 'itrsng',\n",
       " 'itrnsg',\n",
       " 'itrngs',\n",
       " 'sirtng',\n",
       " 'isrtng',\n",
       " 'irstng',\n",
       " 'irtsng',\n",
       " 'irtnsg',\n",
       " 'irtngs',\n",
       " 'sirntg',\n",
       " 'isrntg',\n",
       " 'irsntg',\n",
       " 'irnstg',\n",
       " 'irntsg',\n",
       " 'irntgs',\n",
       " 'sirngt',\n",
       " 'isrngt',\n",
       " 'irsngt',\n",
       " 'irnsgt',\n",
       " 'irngst',\n",
       " 'irngts',\n",
       " 'stinrg',\n",
       " 'tsinrg',\n",
       " 'tisnrg',\n",
       " 'tinsrg',\n",
       " 'tinrsg',\n",
       " 'tinrgs',\n",
       " 'sitnrg',\n",
       " 'istnrg',\n",
       " 'itsnrg',\n",
       " 'itnsrg',\n",
       " 'itnrsg',\n",
       " 'itnrgs',\n",
       " 'sintrg',\n",
       " 'isntrg',\n",
       " 'instrg',\n",
       " 'intsrg',\n",
       " 'intrsg',\n",
       " 'intrgs',\n",
       " 'sinrtg',\n",
       " 'isnrtg',\n",
       " 'insrtg',\n",
       " 'inrstg',\n",
       " 'inrtsg',\n",
       " 'inrtgs',\n",
       " 'sinrgt',\n",
       " 'isnrgt',\n",
       " 'insrgt',\n",
       " 'inrsgt',\n",
       " 'inrgst',\n",
       " 'inrgts',\n",
       " 'stingr',\n",
       " 'tsingr',\n",
       " 'tisngr',\n",
       " 'tinsgr',\n",
       " 'tingsr',\n",
       " 'tingrs',\n",
       " 'sitngr',\n",
       " 'istngr',\n",
       " 'itsngr',\n",
       " 'itnsgr',\n",
       " 'itngsr',\n",
       " 'itngrs',\n",
       " 'sintgr',\n",
       " 'isntgr',\n",
       " 'instgr',\n",
       " 'intsgr',\n",
       " 'intgsr',\n",
       " 'intgrs',\n",
       " 'singtr',\n",
       " 'isngtr',\n",
       " 'insgtr',\n",
       " 'ingstr',\n",
       " 'ingtsr',\n",
       " 'ingtrs',\n",
       " 'singrt',\n",
       " 'isngrt',\n",
       " 'insgrt',\n",
       " 'ingsrt',\n",
       " 'ingrst',\n",
       " 'ingrts',\n",
       " 'strnig',\n",
       " 'tsrnig',\n",
       " 'trsnig',\n",
       " 'trnsig',\n",
       " 'trnisg',\n",
       " 'trnigs',\n",
       " 'srtnig',\n",
       " 'rstnig',\n",
       " 'rtsnig',\n",
       " 'rtnsig',\n",
       " 'rtnisg',\n",
       " 'rtnigs',\n",
       " 'srntig',\n",
       " 'rsntig',\n",
       " 'rnstig',\n",
       " 'rntsig',\n",
       " 'rntisg',\n",
       " 'rntigs',\n",
       " 'srnitg',\n",
       " 'rsnitg',\n",
       " 'rnsitg',\n",
       " 'rnistg',\n",
       " 'rnitsg',\n",
       " 'rnitgs',\n",
       " 'srnigt',\n",
       " 'rsnigt',\n",
       " 'rnsigt',\n",
       " 'rnisgt',\n",
       " 'rnigst',\n",
       " 'rnigts',\n",
       " 'stnrig',\n",
       " 'tsnrig',\n",
       " 'tnsrig',\n",
       " 'tnrsig',\n",
       " 'tnrisg',\n",
       " 'tnrigs',\n",
       " 'sntrig',\n",
       " 'nstrig',\n",
       " 'ntsrig',\n",
       " 'ntrsig',\n",
       " 'ntrisg',\n",
       " 'ntrigs',\n",
       " 'snrtig',\n",
       " 'nsrtig',\n",
       " 'nrstig',\n",
       " 'nrtsig',\n",
       " 'nrtisg',\n",
       " 'nrtigs',\n",
       " 'snritg',\n",
       " 'nsritg',\n",
       " 'nrsitg',\n",
       " 'nristg',\n",
       " 'nritsg',\n",
       " 'nritgs',\n",
       " 'snrigt',\n",
       " 'nsrigt',\n",
       " 'nrsigt',\n",
       " 'nrisgt',\n",
       " 'nrigst',\n",
       " 'nrigts',\n",
       " 'stnirg',\n",
       " 'tsnirg',\n",
       " 'tnsirg',\n",
       " 'tnisrg',\n",
       " 'tnirsg',\n",
       " 'tnirgs',\n",
       " 'sntirg',\n",
       " 'nstirg',\n",
       " 'ntsirg',\n",
       " 'ntisrg',\n",
       " 'ntirsg',\n",
       " 'ntirgs',\n",
       " 'snitrg',\n",
       " 'nsitrg',\n",
       " 'nistrg',\n",
       " 'nitsrg',\n",
       " 'nitrsg',\n",
       " 'nitrgs',\n",
       " 'snirtg',\n",
       " 'nsirtg',\n",
       " 'nisrtg',\n",
       " 'nirstg',\n",
       " 'nirtsg',\n",
       " 'nirtgs',\n",
       " 'snirgt',\n",
       " 'nsirgt',\n",
       " 'nisrgt',\n",
       " 'nirsgt',\n",
       " 'nirgst',\n",
       " 'nirgts',\n",
       " 'stnigr',\n",
       " 'tsnigr',\n",
       " 'tnsigr',\n",
       " 'tnisgr',\n",
       " 'tnigsr',\n",
       " 'tnigrs',\n",
       " 'sntigr',\n",
       " 'nstigr',\n",
       " 'ntsigr',\n",
       " 'ntisgr',\n",
       " 'ntigsr',\n",
       " 'ntigrs',\n",
       " 'snitgr',\n",
       " 'nsitgr',\n",
       " 'nistgr',\n",
       " 'nitsgr',\n",
       " 'nitgsr',\n",
       " 'nitgrs',\n",
       " 'snigtr',\n",
       " 'nsigtr',\n",
       " 'nisgtr',\n",
       " 'nigstr',\n",
       " 'nigtsr',\n",
       " 'nigtrs',\n",
       " 'snigrt',\n",
       " 'nsigrt',\n",
       " 'nisgrt',\n",
       " 'nigsrt',\n",
       " 'nigrst',\n",
       " 'nigrts',\n",
       " 'strngi',\n",
       " 'tsrngi',\n",
       " 'trsngi',\n",
       " 'trnsgi',\n",
       " 'trngsi',\n",
       " 'trngis',\n",
       " 'srtngi',\n",
       " 'rstngi',\n",
       " 'rtsngi',\n",
       " 'rtnsgi',\n",
       " 'rtngsi',\n",
       " 'rtngis',\n",
       " 'srntgi',\n",
       " 'rsntgi',\n",
       " 'rnstgi',\n",
       " 'rntsgi',\n",
       " 'rntgsi',\n",
       " 'rntgis',\n",
       " 'srngti',\n",
       " 'rsngti',\n",
       " 'rnsgti',\n",
       " 'rngsti',\n",
       " 'rngtsi',\n",
       " 'rngtis',\n",
       " 'srngit',\n",
       " 'rsngit',\n",
       " 'rnsgit',\n",
       " 'rngsit',\n",
       " 'rngist',\n",
       " 'rngits',\n",
       " 'stnrgi',\n",
       " 'tsnrgi',\n",
       " 'tnsrgi',\n",
       " 'tnrsgi',\n",
       " 'tnrgsi',\n",
       " 'tnrgis',\n",
       " 'sntrgi',\n",
       " 'nstrgi',\n",
       " 'ntsrgi',\n",
       " 'ntrsgi',\n",
       " 'ntrgsi',\n",
       " 'ntrgis',\n",
       " 'snrtgi',\n",
       " 'nsrtgi',\n",
       " 'nrstgi',\n",
       " 'nrtsgi',\n",
       " 'nrtgsi',\n",
       " 'nrtgis',\n",
       " 'snrgti',\n",
       " 'nsrgti',\n",
       " 'nrsgti',\n",
       " 'nrgsti',\n",
       " 'nrgtsi',\n",
       " 'nrgtis',\n",
       " 'snrgit',\n",
       " 'nsrgit',\n",
       " 'nrsgit',\n",
       " 'nrgsit',\n",
       " 'nrgist',\n",
       " 'nrgits',\n",
       " 'stngri',\n",
       " 'tsngri',\n",
       " 'tnsgri',\n",
       " 'tngsri',\n",
       " 'tngrsi',\n",
       " 'tngris',\n",
       " 'sntgri',\n",
       " 'nstgri',\n",
       " 'ntsgri',\n",
       " 'ntgsri',\n",
       " 'ntgrsi',\n",
       " 'ntgris',\n",
       " 'sngtri',\n",
       " 'nsgtri',\n",
       " 'ngstri',\n",
       " 'ngtsri',\n",
       " 'ngtrsi',\n",
       " 'ngtris',\n",
       " 'sngrti',\n",
       " 'nsgrti',\n",
       " 'ngsrti',\n",
       " 'ngrsti',\n",
       " 'ngrtsi',\n",
       " 'ngrtis',\n",
       " 'sngrit',\n",
       " 'nsgrit',\n",
       " 'ngsrit',\n",
       " 'ngrsit',\n",
       " 'ngrist',\n",
       " 'ngrits',\n",
       " 'stngir',\n",
       " 'tsngir',\n",
       " 'tnsgir',\n",
       " 'tngsir',\n",
       " 'tngisr',\n",
       " 'tngirs',\n",
       " 'sntgir',\n",
       " 'nstgir',\n",
       " 'ntsgir',\n",
       " 'ntgsir',\n",
       " 'ntgisr',\n",
       " 'ntgirs',\n",
       " 'sngtir',\n",
       " 'nsgtir',\n",
       " 'ngstir',\n",
       " 'ngtsir',\n",
       " 'ngtisr',\n",
       " 'ngtirs',\n",
       " 'sngitr',\n",
       " 'nsgitr',\n",
       " 'ngsitr',\n",
       " 'ngistr',\n",
       " 'ngitsr',\n",
       " 'ngitrs',\n",
       " 'sngirt',\n",
       " 'nsgirt',\n",
       " 'ngsirt',\n",
       " 'ngisrt',\n",
       " 'ngirst',\n",
       " 'ngirts',\n",
       " 'strign',\n",
       " 'tsrign',\n",
       " 'trsign',\n",
       " 'trisgn',\n",
       " 'trigsn',\n",
       " 'trigns',\n",
       " 'srtign',\n",
       " 'rstign',\n",
       " 'rtsign',\n",
       " 'rtisgn',\n",
       " 'rtigsn',\n",
       " 'rtigns',\n",
       " 'sritgn',\n",
       " 'rsitgn',\n",
       " 'ristgn',\n",
       " 'ritsgn',\n",
       " 'ritgsn',\n",
       " 'ritgns',\n",
       " 'srigtn',\n",
       " 'rsigtn',\n",
       " 'risgtn',\n",
       " 'rigstn',\n",
       " 'rigtsn',\n",
       " 'rigtns',\n",
       " 'srignt',\n",
       " 'rsignt',\n",
       " 'risgnt',\n",
       " 'rigsnt',\n",
       " 'rignst',\n",
       " 'rignts',\n",
       " 'stirgn',\n",
       " 'tsirgn',\n",
       " 'tisrgn',\n",
       " 'tirsgn',\n",
       " 'tirgsn',\n",
       " 'tirgns',\n",
       " 'sitrgn',\n",
       " 'istrgn',\n",
       " 'itsrgn',\n",
       " 'itrsgn',\n",
       " 'itrgsn',\n",
       " 'itrgns',\n",
       " 'sirtgn',\n",
       " 'isrtgn',\n",
       " 'irstgn',\n",
       " 'irtsgn',\n",
       " 'irtgsn',\n",
       " 'irtgns',\n",
       " 'sirgtn',\n",
       " 'isrgtn',\n",
       " 'irsgtn',\n",
       " 'irgstn',\n",
       " 'irgtsn',\n",
       " 'irgtns',\n",
       " 'sirgnt',\n",
       " 'isrgnt',\n",
       " 'irsgnt',\n",
       " 'irgsnt',\n",
       " 'irgnst',\n",
       " 'irgnts',\n",
       " 'stigrn',\n",
       " 'tsigrn',\n",
       " 'tisgrn',\n",
       " 'tigsrn',\n",
       " 'tigrsn',\n",
       " 'tigrns',\n",
       " 'sitgrn',\n",
       " 'istgrn',\n",
       " 'itsgrn',\n",
       " 'itgsrn',\n",
       " 'itgrsn',\n",
       " 'itgrns',\n",
       " 'sigtrn',\n",
       " 'isgtrn',\n",
       " 'igstrn',\n",
       " 'igtsrn',\n",
       " 'igtrsn',\n",
       " 'igtrns',\n",
       " 'sigrtn',\n",
       " 'isgrtn',\n",
       " 'igsrtn',\n",
       " 'igrstn',\n",
       " 'igrtsn',\n",
       " 'igrtns',\n",
       " 'sigrnt',\n",
       " 'isgrnt',\n",
       " 'igsrnt',\n",
       " 'igrsnt',\n",
       " 'igrnst',\n",
       " 'igrnts',\n",
       " 'stignr',\n",
       " 'tsignr',\n",
       " 'tisgnr',\n",
       " 'tigsnr',\n",
       " 'tignsr',\n",
       " 'tignrs',\n",
       " 'sitgnr',\n",
       " 'istgnr',\n",
       " 'itsgnr',\n",
       " 'itgsnr',\n",
       " 'itgnsr',\n",
       " 'itgnrs',\n",
       " 'sigtnr',\n",
       " 'isgtnr',\n",
       " 'igstnr',\n",
       " 'igtsnr',\n",
       " 'igtnsr',\n",
       " 'igtnrs',\n",
       " 'signtr',\n",
       " 'isgntr',\n",
       " 'igsntr',\n",
       " 'ignstr',\n",
       " 'igntsr',\n",
       " 'igntrs',\n",
       " 'signrt',\n",
       " 'isgnrt',\n",
       " 'igsnrt',\n",
       " 'ignsrt',\n",
       " 'ignrst',\n",
       " 'ignrts',\n",
       " 'strgin',\n",
       " 'tsrgin',\n",
       " 'trsgin',\n",
       " 'trgsin',\n",
       " 'trgisn',\n",
       " 'trgins',\n",
       " 'srtgin',\n",
       " 'rstgin',\n",
       " 'rtsgin',\n",
       " 'rtgsin',\n",
       " 'rtgisn',\n",
       " 'rtgins',\n",
       " 'srgtin',\n",
       " 'rsgtin',\n",
       " 'rgstin',\n",
       " 'rgtsin',\n",
       " 'rgtisn',\n",
       " 'rgtins',\n",
       " 'srgitn',\n",
       " 'rsgitn',\n",
       " 'rgsitn',\n",
       " 'rgistn',\n",
       " 'rgitsn',\n",
       " 'rgitns',\n",
       " 'srgint',\n",
       " 'rsgint',\n",
       " 'rgsint',\n",
       " 'rgisnt',\n",
       " 'rginst',\n",
       " 'rgints',\n",
       " 'stgrin',\n",
       " 'tsgrin',\n",
       " 'tgsrin',\n",
       " 'tgrsin',\n",
       " 'tgrisn',\n",
       " 'tgrins',\n",
       " 'sgtrin',\n",
       " 'gstrin',\n",
       " 'gtsrin',\n",
       " 'gtrsin',\n",
       " 'gtrisn',\n",
       " 'gtrins',\n",
       " 'sgrtin',\n",
       " 'gsrtin',\n",
       " 'grstin',\n",
       " 'grtsin',\n",
       " 'grtisn',\n",
       " 'grtins',\n",
       " 'sgritn',\n",
       " 'gsritn',\n",
       " 'grsitn',\n",
       " 'gristn',\n",
       " 'gritsn',\n",
       " 'gritns',\n",
       " 'sgrint',\n",
       " 'gsrint',\n",
       " 'grsint',\n",
       " 'grisnt',\n",
       " 'grinst',\n",
       " 'grints',\n",
       " 'stgirn',\n",
       " 'tsgirn',\n",
       " 'tgsirn',\n",
       " 'tgisrn',\n",
       " 'tgirsn',\n",
       " 'tgirns',\n",
       " 'sgtirn',\n",
       " 'gstirn',\n",
       " 'gtsirn',\n",
       " 'gtisrn',\n",
       " 'gtirsn',\n",
       " 'gtirns',\n",
       " 'sgitrn',\n",
       " 'gsitrn',\n",
       " 'gistrn',\n",
       " 'gitsrn',\n",
       " 'gitrsn',\n",
       " 'gitrns',\n",
       " 'sgirtn',\n",
       " 'gsirtn',\n",
       " 'gisrtn',\n",
       " 'girstn',\n",
       " 'girtsn',\n",
       " 'girtns',\n",
       " 'sgirnt',\n",
       " 'gsirnt',\n",
       " 'gisrnt',\n",
       " 'girsnt',\n",
       " 'girnst',\n",
       " 'girnts',\n",
       " 'stginr',\n",
       " 'tsginr',\n",
       " 'tgsinr',\n",
       " 'tgisnr',\n",
       " 'tginsr',\n",
       " 'tginrs',\n",
       " 'sgtinr',\n",
       " 'gstinr',\n",
       " 'gtsinr',\n",
       " 'gtisnr',\n",
       " 'gtinsr',\n",
       " 'gtinrs',\n",
       " 'sgitnr',\n",
       " 'gsitnr',\n",
       " 'gistnr',\n",
       " 'gitsnr',\n",
       " 'gitnsr',\n",
       " 'gitnrs',\n",
       " 'sgintr',\n",
       " 'gsintr',\n",
       " 'gisntr',\n",
       " 'ginstr',\n",
       " 'gintsr',\n",
       " 'gintrs',\n",
       " 'sginrt',\n",
       " 'gsinrt',\n",
       " 'gisnrt',\n",
       " 'ginsrt',\n",
       " 'ginrst',\n",
       " 'ginrts',\n",
       " 'strgni',\n",
       " 'tsrgni',\n",
       " 'trsgni',\n",
       " 'trgsni',\n",
       " 'trgnsi',\n",
       " 'trgnis',\n",
       " 'srtgni',\n",
       " 'rstgni',\n",
       " 'rtsgni',\n",
       " 'rtgsni',\n",
       " 'rtgnsi',\n",
       " 'rtgnis',\n",
       " 'srgtni',\n",
       " 'rsgtni',\n",
       " 'rgstni',\n",
       " 'rgtsni',\n",
       " 'rgtnsi',\n",
       " 'rgtnis',\n",
       " 'srgnti',\n",
       " 'rsgnti',\n",
       " 'rgsnti',\n",
       " 'rgnsti',\n",
       " 'rgntsi',\n",
       " 'rgntis',\n",
       " 'srgnit',\n",
       " 'rsgnit',\n",
       " 'rgsnit',\n",
       " 'rgnsit',\n",
       " 'rgnist',\n",
       " 'rgnits',\n",
       " 'stgrni',\n",
       " 'tsgrni',\n",
       " 'tgsrni',\n",
       " 'tgrsni',\n",
       " 'tgrnsi',\n",
       " 'tgrnis',\n",
       " 'sgtrni',\n",
       " 'gstrni',\n",
       " 'gtsrni',\n",
       " 'gtrsni',\n",
       " 'gtrnsi',\n",
       " 'gtrnis',\n",
       " 'sgrtni',\n",
       " 'gsrtni',\n",
       " 'grstni',\n",
       " 'grtsni',\n",
       " 'grtnsi',\n",
       " 'grtnis',\n",
       " 'sgrnti',\n",
       " 'gsrnti',\n",
       " 'grsnti',\n",
       " 'grnsti',\n",
       " 'grntsi',\n",
       " 'grntis',\n",
       " 'sgrnit',\n",
       " 'gsrnit',\n",
       " 'grsnit',\n",
       " 'grnsit',\n",
       " 'grnist',\n",
       " 'grnits',\n",
       " 'stgnri',\n",
       " 'tsgnri',\n",
       " 'tgsnri',\n",
       " 'tgnsri',\n",
       " 'tgnrsi',\n",
       " 'tgnris',\n",
       " 'sgtnri',\n",
       " 'gstnri',\n",
       " 'gtsnri',\n",
       " 'gtnsri',\n",
       " 'gtnrsi',\n",
       " 'gtnris',\n",
       " 'sgntri',\n",
       " 'gsntri',\n",
       " 'gnstri',\n",
       " 'gntsri',\n",
       " 'gntrsi',\n",
       " 'gntris',\n",
       " 'sgnrti',\n",
       " 'gsnrti',\n",
       " 'gnsrti',\n",
       " 'gnrsti',\n",
       " 'gnrtsi',\n",
       " 'gnrtis',\n",
       " 'sgnrit',\n",
       " 'gsnrit',\n",
       " 'gnsrit',\n",
       " 'gnrsit',\n",
       " 'gnrist',\n",
       " 'gnrits',\n",
       " 'stgnir',\n",
       " 'tsgnir',\n",
       " 'tgsnir',\n",
       " 'tgnsir',\n",
       " 'tgnisr',\n",
       " 'tgnirs',\n",
       " 'sgtnir',\n",
       " 'gstnir',\n",
       " 'gtsnir',\n",
       " 'gtnsir',\n",
       " 'gtnisr',\n",
       " 'gtnirs',\n",
       " 'sgntir',\n",
       " 'gsntir',\n",
       " 'gnstir',\n",
       " 'gntsir',\n",
       " 'gntisr',\n",
       " 'gntirs',\n",
       " 'sgnitr',\n",
       " 'gsnitr',\n",
       " 'gnsitr',\n",
       " 'gnistr',\n",
       " 'gnitsr',\n",
       " 'gnitrs',\n",
       " 'sgnirt',\n",
       " 'gsnirt',\n",
       " 'gnsirt',\n",
       " 'gnisrt',\n",
       " 'gnirst',\n",
       " 'gnirts']"
      ]
     },
     "execution_count": 27,
     "metadata": {},
     "output_type": "execute_result"
    }
   ],
   "source": [
    "a='string'\n",
    "stringPermute(a)"
   ]
  },
  {
   "cell_type": "markdown",
   "metadata": {},
   "source": [
    "**5**. Implement an algorithm to print all valid (e.g., properly opened and closed) combinations of n-pairs of parentheses.\n",
    "\n",
    "EXAMPLE: input: 3 (e.g., 3 pairs of parentheses) output: ()()(), ()(()), (())(), (()()), ((()))"
   ]
  },
  {
   "cell_type": "markdown",
   "metadata": {},
   "source": [
    "Solution: We can solve this problem recursively by recursing through the string. On each iteration, we have the index for a particular character in the string. We need to select either a left or a right paren. When can we use left, and when can we use a right paren?\n",
    "\n",
    "Left: As long as we haven’t used up all the left parentheses, we can always insert a left paren.\n",
    "\n",
    "Right: We can insert a right paren as long as it won’t lead to a syntax error. When will we get a syntax error? We will get a syntax error if there are more right parentheses than left."
   ]
  },
  {
   "cell_type": "code",
   "execution_count": 44,
   "metadata": {
    "collapsed": false
   },
   "outputs": [],
   "source": [
    "def printPar(num_left,num_right,combinations,start):\n",
    "    if num_left<0 or num_right<num_left:\n",
    "        return\n",
    "    if num_left==0 and num_right==0:\n",
    "        print ''.join(combinations)\n",
    "    else:\n",
    "        if num_left>0:\n",
    "            combinations[start]='('\n",
    "            printPar(num_left-1,num_right,combinations,start+1)\n",
    "        if num_right>num_left:\n",
    "            combinations[start]=')'\n",
    "            printPar(num_left,num_right-1,combinations,start+1)"
   ]
  },
  {
   "cell_type": "code",
   "execution_count": 45,
   "metadata": {
    "collapsed": false
   },
   "outputs": [
    {
     "name": "stdout",
     "output_type": "stream",
     "text": [
      "((()))\n",
      "(()())\n",
      "(())()\n",
      "()(())\n",
      "()()()\n"
     ]
    }
   ],
   "source": [
    "printPar(3,3,[None]*(3+3),0)"
   ]
  },
  {
   "cell_type": "markdown",
   "metadata": {},
   "source": [
    "**6**. <font color='red'>Implement the “paint fill” function that one might see on many image editing programs. That is, given a screen (represented by a 2-dimensional array of Colors), a point, and a new color, fill in the surrounding area until you hit a border of that color.</font>"
   ]
  },
  {
   "cell_type": "markdown",
   "metadata": {},
   "source": [
    "Solution:"
   ]
  },
  {
   "cell_type": "markdown",
   "metadata": {},
   "source": [
    "**7**. Given an infinite number of quarters (25 cents), dimes (10 cents), nickels (5 cents) and pennies (1 cent), write code to calculate the number of ways of representing n cents."
   ]
  },
  {
   "cell_type": "markdown",
   "metadata": {},
   "source": [
    "Solution: This should be similar to the problem of making change with a list of coin values. We have the following recursive formula:\n",
    "\n",
    "\\begin{equation}\n",
    "numCoins=min\\left\\{\n",
    "                \\begin{array}{l}\n",
    "                  1+numCoins(originalamount-1)\\\\\n",
    "                  1+numCoins(originalamount-5)\\\\\n",
    "                  1+numCoins(originalamount-10)\\\\\n",
    "                  1+numCoins(originalamount-25)\\\\\n",
    "                \\end{array}\n",
    "              \\right.\n",
    "\\end{equation}"
   ]
  },
  {
   "cell_type": "code",
   "execution_count": 1,
   "metadata": {
    "collapsed": true
   },
   "outputs": [],
   "source": [
    "# Recursive algorithm on solving the minimum number of coins to make the change\n",
    "def recMC(coinValueList,change):\n",
    "    # base case, if change in coinValueList\n",
    "    if change in coinValueList:\n",
    "        return 1\n",
    "    else:\n",
    "        # if change>coinValueList, recursively reduce to base case\n",
    "        return min([1+recMC(coinValueList,change-val) for val in coinValueList if (change-val)>=0])"
   ]
  },
  {
   "cell_type": "code",
   "execution_count": 6,
   "metadata": {
    "collapsed": false
   },
   "outputs": [
    {
     "name": "stdout",
     "output_type": "stream",
     "text": [
      "5\n"
     ]
    }
   ],
   "source": [
    "print(recMC([1,5,10,25],53))"
   ]
  },
  {
   "cell_type": "markdown",
   "metadata": {},
   "source": [
    "**8**. Write an algorithm to print all ways of arranging eight queens on a chess board so that none of them share the same row, column or diagonal."
   ]
  },
  {
   "cell_type": "markdown",
   "metadata": {},
   "source": [
    "Solution: This is the famous n-queen problem. The answers are listed as follows:\n",
    "\n",
    "\\begin{array}{l|l|l}\n",
    "Board size & Solutions & Time(ms) \\\\\n",
    "1&1&0 \\\\\n",
    "2&0&0 \\\\\n",
    "3&0&0 \\\\\n",
    "4&2&0 \\\\\n",
    "5&10&0 \\\\\n",
    "6&4&0 \\\\\n",
    "7&40&3 \\\\\n",
    "8&92&9 \\\\\n",
    "9&352&35 \\\\\n",
    "10&724&95\n",
    "\\end{array}"
   ]
  },
  {
   "cell_type": "markdown",
   "metadata": {},
   "source": [
    "The constraints can be written as:\n",
    "\n",
    "On same Column : ColumnForRow[i] == ColumnForRow[j]\n",
    "\n",
    "On same Diagonal: (ColumnForRow[i] - ColumnForRow[j] ) == ( i- j) or (ColumnForRow[j] - ColumnForRow[i]) == (i - j)"
   ]
  },
  {
   "cell_type": "markdown",
   "metadata": {},
   "source": [
    "plan: \n",
    "\n",
    "1. use a for loop start from row 1 to row n and keep a record of ColumnForRow for rows previous to row i\n",
    "2. rule out the squares that is forbidden and choose from the available squares list and do the recursion. This process requires backtracking."
   ]
  },
  {
   "cell_type": "code",
   "execution_count": 32,
   "metadata": {
    "collapsed": false
   },
   "outputs": [],
   "source": [
    "class Solution:\n",
    "    def nqueen(self,n):\n",
    "        self.solutions=[]\n",
    "        ColumnForRow=[None]*n\n",
    "        _nqueen(n,0,ColumnForRow)\n",
    "        return self.solutions\n",
    "        \n",
    "    def _nqueen(self,n,row,ColumnForRow):\n",
    "        # iterate through column number\n",
    "        for j in range(n):\n",
    "            diag_checklist=map(lambda x: abs(j-ColumnForRow[x])==abs(row-x), range(len(ColumnForRow[:row])))\n",
    "            if j not in ColumnForRow[:row] \\\n",
    "            and True not in diag_checklist: #not in the same Column and not diagonal with elements in previous rows\n",
    "                if row==n-1:\n",
    "                    ColumnForRow[row]=j\n",
    "                    self.solutions.append(ColumnForRow)\n",
    "                else:\n",
    "                    ColumnForRow[row]=j\n",
    "                    _nqueen(n,row+1,ColumnForRow)"
   ]
  },
  {
   "cell_type": "code",
   "execution_count": 33,
   "metadata": {
    "collapsed": false
   },
   "outputs": [
    {
     "ename": "NameError",
     "evalue": "global name 'solutions' is not defined",
     "output_type": "error",
     "traceback": [
      "\u001b[0;31m---------------------------------------------------------------------------\u001b[0m",
      "\u001b[0;31mNameError\u001b[0m                                 Traceback (most recent call last)",
      "\u001b[0;32m<ipython-input-33-8039bea2ebad>\u001b[0m in \u001b[0;36m<module>\u001b[0;34m()\u001b[0m\n\u001b[1;32m      1\u001b[0m \u001b[0mo\u001b[0m\u001b[0;34m=\u001b[0m\u001b[0mSolution\u001b[0m\u001b[0;34m(\u001b[0m\u001b[0;34m)\u001b[0m\u001b[0;34m\u001b[0m\u001b[0m\n\u001b[0;32m----> 2\u001b[0;31m \u001b[0mo\u001b[0m\u001b[0;34m.\u001b[0m\u001b[0mnqueen\u001b[0m\u001b[0;34m(\u001b[0m\u001b[0;36m4\u001b[0m\u001b[0;34m)\u001b[0m\u001b[0;34m\u001b[0m\u001b[0m\n\u001b[0m",
      "\u001b[0;32m<ipython-input-32-cbff98c63b13>\u001b[0m in \u001b[0;36mnqueen\u001b[0;34m(self, n)\u001b[0m\n\u001b[1;32m      3\u001b[0m         \u001b[0mself\u001b[0m\u001b[0;34m.\u001b[0m\u001b[0msolutions\u001b[0m\u001b[0;34m=\u001b[0m\u001b[0;34m[\u001b[0m\u001b[0;34m]\u001b[0m\u001b[0;34m\u001b[0m\u001b[0m\n\u001b[1;32m      4\u001b[0m         \u001b[0mColumnForRow\u001b[0m\u001b[0;34m=\u001b[0m\u001b[0;34m[\u001b[0m\u001b[0mNone\u001b[0m\u001b[0;34m]\u001b[0m\u001b[0;34m*\u001b[0m\u001b[0mn\u001b[0m\u001b[0;34m\u001b[0m\u001b[0m\n\u001b[0;32m----> 5\u001b[0;31m         \u001b[0m_nqueen\u001b[0m\u001b[0;34m(\u001b[0m\u001b[0mn\u001b[0m\u001b[0;34m,\u001b[0m\u001b[0;36m0\u001b[0m\u001b[0;34m,\u001b[0m\u001b[0mColumnForRow\u001b[0m\u001b[0;34m)\u001b[0m\u001b[0;34m\u001b[0m\u001b[0m\n\u001b[0m\u001b[1;32m      6\u001b[0m         \u001b[0;32mreturn\u001b[0m \u001b[0mself\u001b[0m\u001b[0;34m.\u001b[0m\u001b[0msolutions\u001b[0m\u001b[0;34m\u001b[0m\u001b[0m\n\u001b[1;32m      7\u001b[0m \u001b[0;34m\u001b[0m\u001b[0m\n",
      "\u001b[0;32m<ipython-input-27-74cd4e00e5ee>\u001b[0m in \u001b[0;36m_nqueen\u001b[0;34m(n, row, ColumnForRow)\u001b[0m\n\u001b[1;32m     15\u001b[0m             \u001b[0;32melse\u001b[0m\u001b[0;34m:\u001b[0m\u001b[0;34m\u001b[0m\u001b[0m\n\u001b[1;32m     16\u001b[0m                 \u001b[0mColumnForRow\u001b[0m\u001b[0;34m[\u001b[0m\u001b[0mrow\u001b[0m\u001b[0;34m]\u001b[0m\u001b[0;34m=\u001b[0m\u001b[0mj\u001b[0m\u001b[0;34m\u001b[0m\u001b[0m\n\u001b[0;32m---> 17\u001b[0;31m                 \u001b[0m_nqueen\u001b[0m\u001b[0;34m(\u001b[0m\u001b[0mn\u001b[0m\u001b[0;34m,\u001b[0m\u001b[0mrow\u001b[0m\u001b[0;34m+\u001b[0m\u001b[0;36m1\u001b[0m\u001b[0;34m,\u001b[0m\u001b[0mColumnForRow\u001b[0m\u001b[0;34m)\u001b[0m\u001b[0;34m\u001b[0m\u001b[0m\n\u001b[0m",
      "\u001b[0;32m<ipython-input-27-74cd4e00e5ee>\u001b[0m in \u001b[0;36m_nqueen\u001b[0;34m(n, row, ColumnForRow)\u001b[0m\n\u001b[1;32m     15\u001b[0m             \u001b[0;32melse\u001b[0m\u001b[0;34m:\u001b[0m\u001b[0;34m\u001b[0m\u001b[0m\n\u001b[1;32m     16\u001b[0m                 \u001b[0mColumnForRow\u001b[0m\u001b[0;34m[\u001b[0m\u001b[0mrow\u001b[0m\u001b[0;34m]\u001b[0m\u001b[0;34m=\u001b[0m\u001b[0mj\u001b[0m\u001b[0;34m\u001b[0m\u001b[0m\n\u001b[0;32m---> 17\u001b[0;31m                 \u001b[0m_nqueen\u001b[0m\u001b[0;34m(\u001b[0m\u001b[0mn\u001b[0m\u001b[0;34m,\u001b[0m\u001b[0mrow\u001b[0m\u001b[0;34m+\u001b[0m\u001b[0;36m1\u001b[0m\u001b[0;34m,\u001b[0m\u001b[0mColumnForRow\u001b[0m\u001b[0;34m)\u001b[0m\u001b[0;34m\u001b[0m\u001b[0m\n\u001b[0m",
      "\u001b[0;32m<ipython-input-27-74cd4e00e5ee>\u001b[0m in \u001b[0;36m_nqueen\u001b[0;34m(n, row, ColumnForRow)\u001b[0m\n\u001b[1;32m     15\u001b[0m             \u001b[0;32melse\u001b[0m\u001b[0;34m:\u001b[0m\u001b[0;34m\u001b[0m\u001b[0m\n\u001b[1;32m     16\u001b[0m                 \u001b[0mColumnForRow\u001b[0m\u001b[0;34m[\u001b[0m\u001b[0mrow\u001b[0m\u001b[0;34m]\u001b[0m\u001b[0;34m=\u001b[0m\u001b[0mj\u001b[0m\u001b[0;34m\u001b[0m\u001b[0m\n\u001b[0;32m---> 17\u001b[0;31m                 \u001b[0m_nqueen\u001b[0m\u001b[0;34m(\u001b[0m\u001b[0mn\u001b[0m\u001b[0;34m,\u001b[0m\u001b[0mrow\u001b[0m\u001b[0;34m+\u001b[0m\u001b[0;36m1\u001b[0m\u001b[0;34m,\u001b[0m\u001b[0mColumnForRow\u001b[0m\u001b[0;34m)\u001b[0m\u001b[0;34m\u001b[0m\u001b[0m\n\u001b[0m",
      "\u001b[0;32m<ipython-input-27-74cd4e00e5ee>\u001b[0m in \u001b[0;36m_nqueen\u001b[0;34m(n, row, ColumnForRow)\u001b[0m\n\u001b[1;32m     12\u001b[0m             \u001b[0;32mif\u001b[0m \u001b[0mrow\u001b[0m\u001b[0;34m==\u001b[0m\u001b[0mn\u001b[0m\u001b[0;34m-\u001b[0m\u001b[0;36m1\u001b[0m\u001b[0;34m:\u001b[0m\u001b[0;34m\u001b[0m\u001b[0m\n\u001b[1;32m     13\u001b[0m                 \u001b[0mColumnForRow\u001b[0m\u001b[0;34m[\u001b[0m\u001b[0mrow\u001b[0m\u001b[0;34m]\u001b[0m\u001b[0;34m=\u001b[0m\u001b[0mj\u001b[0m\u001b[0;34m\u001b[0m\u001b[0m\n\u001b[0;32m---> 14\u001b[0;31m                 \u001b[0msolutions\u001b[0m\u001b[0;34m.\u001b[0m\u001b[0mappend\u001b[0m\u001b[0;34m(\u001b[0m\u001b[0mColumnForRow\u001b[0m\u001b[0;34m)\u001b[0m\u001b[0;34m\u001b[0m\u001b[0m\n\u001b[0m\u001b[1;32m     15\u001b[0m             \u001b[0;32melse\u001b[0m\u001b[0;34m:\u001b[0m\u001b[0;34m\u001b[0m\u001b[0m\n\u001b[1;32m     16\u001b[0m                 \u001b[0mColumnForRow\u001b[0m\u001b[0;34m[\u001b[0m\u001b[0mrow\u001b[0m\u001b[0;34m]\u001b[0m\u001b[0;34m=\u001b[0m\u001b[0mj\u001b[0m\u001b[0;34m\u001b[0m\u001b[0m\n",
      "\u001b[0;31mNameError\u001b[0m: global name 'solutions' is not defined"
     ]
    }
   ],
   "source": [
    "o=Solution()\n",
    "o.nqueen(4)"
   ]
  },
  {
   "cell_type": "code",
   "execution_count": null,
   "metadata": {
    "collapsed": true
   },
   "outputs": [],
   "source": []
  }
 ],
 "metadata": {
  "kernelspec": {
   "display_name": "Python 2",
   "language": "python",
   "name": "python2"
  },
  "language_info": {
   "codemirror_mode": {
    "name": "ipython",
    "version": 2
   },
   "file_extension": ".py",
   "mimetype": "text/x-python",
   "name": "python",
   "nbconvert_exporter": "python",
   "pygments_lexer": "ipython2",
   "version": "2.7.12"
  }
 },
 "nbformat": 4,
 "nbformat_minor": 0
}
