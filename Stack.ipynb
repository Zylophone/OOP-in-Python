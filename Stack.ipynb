{
 "cells": [
  {
   "cell_type": "markdown",
   "metadata": {},
   "source": [
    "## 71. Simplify Path"
   ]
  },
  {
   "cell_type": "markdown",
   "metadata": {},
   "source": [
    "Given an absolute path for a file (Unix-style), simplify it.\n",
    "\n",
    "For example,\n",
    "\n",
    "path = \"/home/\", => \"/home\"\n",
    "\n",
    "path = \"/a/./b/../../c/\", => \"/c\"\n",
    "\n",
    "click to show corner cases.\n",
    "\n",
    "Corner Cases:\n",
    "\n",
    "* Did you consider the case where path = \"/../\"? In this case, you should return \"/\".\n",
    "* Another corner case is the path might contain multiple slashes '/' together, such as \"/home//foo/\". In this case, you should ignore redundant slashes and return \"/home/foo\".\n"
   ]
  },
  {
   "cell_type": "markdown",
   "metadata": {},
   "source": [
    "Solution: First we parse the path into list of strings, then we use a stack to store the path name by skipping ['..','.','']. If we encounter '..' and the stack is not empty, we pop the top element. The simplified path can be reonstructed by adding '/' with the popped element from the stack."
   ]
  },
  {
   "cell_type": "code",
   "execution_count": 126,
   "metadata": {
    "collapsed": true
   },
   "outputs": [],
   "source": [
    "class Solution(object):\n",
    "    def simplifyPath(self, path):\n",
    "        \"\"\"\n",
    "        :type path: str\n",
    "        :rtype: str\n",
    "        \"\"\"\n",
    "        path_list=path.split('/')\n",
    "        stack=[]\n",
    "        res=''\n",
    "        for name in path_list:\n",
    "            if name=='..' and stack!=[]:\n",
    "                stack.pop()\n",
    "            elif name not in ['..','.','']:\n",
    "                stack.append(name)\n",
    "        for name in stack:\n",
    "            res+='/'+name\n",
    "        if res=='':\n",
    "            return '/'\n",
    "        else:\n",
    "            return res"
   ]
  },
  {
   "cell_type": "code",
   "execution_count": 128,
   "metadata": {
    "collapsed": false
   },
   "outputs": [
    {
     "data": {
      "text/plain": [
       "'/home/path'"
      ]
     },
     "execution_count": 128,
     "metadata": {},
     "output_type": "execute_result"
    }
   ],
   "source": [
    "o=Solution()\n",
    "path=\"/home//path/\"\n",
    "o.simplifyPath(path)"
   ]
  },
  {
   "cell_type": "markdown",
   "metadata": {},
   "source": [
    "## 150. Evaluate Reverse Polish Notation"
   ]
  },
  {
   "cell_type": "markdown",
   "metadata": {},
   "source": [
    "Evaluate the value of an arithmetic expression in Reverse Polish Notation.\n",
    "\n",
    "Valid operators are +, -, *, /. Each operand may be an integer or another expression.\n",
    "\n",
    "Some examples:\n",
    "\n",
    "  [\"2\", \"1\", \"+\", \"3\", \"**\" ] -> ((2 + 1) * 3) -> 9\n",
    "  \n",
    "  [\"4\", \"13\", \"5\", \"/\", \"+\"] -> (4 + (13 / 5)) -> 6\n"
   ]
  },
  {
   "cell_type": "markdown",
   "metadata": {},
   "source": [
    "Solution: We need to use stack to store the result of the partial expression."
   ]
  },
  {
   "cell_type": "code",
   "execution_count": 40,
   "metadata": {
    "collapsed": true
   },
   "outputs": [],
   "source": [
    "class Solution(object):\n",
    "    def evalRPN(self, tokens):\n",
    "        \"\"\"\n",
    "        :type tokens: List[str]\n",
    "        :rtype: int\n",
    "        \"\"\"\n",
    "        if tokens==[]:\n",
    "            return 0\n",
    "        stack=[]\n",
    "        for sym in tokens:\n",
    "            if sym not in [\"+\",\"-\",\"*\",\"/\"]:\n",
    "                stack.append(int(sym))\n",
    "            else:\n",
    "                a2=stack.pop()\n",
    "                a1=stack.pop()\n",
    "                if sym=='+':\n",
    "                    stack.append(a1+a2)\n",
    "                elif sym=='-':\n",
    "                    stack.append(a1-a2)\n",
    "                elif sym=='*':\n",
    "                    stack.append(a1*a2)\n",
    "                elif sym=='/':\n",
    "                    stack.append(a1/a2)\n",
    "        return stack[-1]"
   ]
  },
  {
   "cell_type": "code",
   "execution_count": 43,
   "metadata": {
    "collapsed": false
   },
   "outputs": [
    {
     "data": {
      "text/plain": [
       "-1"
      ]
     },
     "execution_count": 43,
     "metadata": {},
     "output_type": "execute_result"
    }
   ],
   "source": [
    "o=Solution()\n",
    "tokens=[\"3\", \"-4\", \"+\"]\n",
    "o.evalRPN(tokens)"
   ]
  },
  {
   "cell_type": "markdown",
   "metadata": {},
   "source": [
    "The above solution is wrong for the case [\"10\",\"6\",\"9\",\"3\",\"+\",\"-11\",\"*\",\"/\",\"*\",\"17\",\"+\",\"5\",\"+\"], which is equivalent to\n",
    "\n",
    "$$\n",
    "10*(6/((9+3)*(-11)))+17+5\n",
    "$$\n",
    "\n",
    "The error is due to 6/(-11*12) which yields -1 in Python"
   ]
  },
  {
   "cell_type": "code",
   "execution_count": 45,
   "metadata": {
    "collapsed": false
   },
   "outputs": [
    {
     "data": {
      "text/plain": [
       "-1"
      ]
     },
     "execution_count": 45,
     "metadata": {},
     "output_type": "execute_result"
    }
   ],
   "source": [
    "6/(-11*12)"
   ]
  },
  {
   "cell_type": "code",
   "execution_count": 46,
   "metadata": {
    "collapsed": true
   },
   "outputs": [],
   "source": [
    "class Solution(object):\n",
    "    def evalRPN(self, tokens):\n",
    "        \"\"\"\n",
    "        :type tokens: List[str]\n",
    "        :rtype: int\n",
    "        \"\"\"\n",
    "        if tokens==[]:\n",
    "            return 0\n",
    "        stack=[]\n",
    "        for sym in tokens:\n",
    "            if sym not in [\"+\",\"-\",\"*\",\"/\"]:\n",
    "                stack.append(int(sym))\n",
    "            else:\n",
    "                a2=stack.pop()\n",
    "                a1=stack.pop()\n",
    "                if sym=='+':\n",
    "                    stack.append(a1+a2)\n",
    "                elif sym=='-':\n",
    "                    stack.append(a1-a2)\n",
    "                elif sym=='*':\n",
    "                    stack.append(a1*a2)\n",
    "                elif sym=='/':\n",
    "                    # here take care of the case like \"1/-22\",\n",
    "                    # in Python 2.x, it returns -1, while in \n",
    "                    # Leetcode it should return 0\n",
    "                    if a1*a2 < 0 and a1 % a2 != 0:\n",
    "                        stack.append(a1/a2+1)\n",
    "                    else:\n",
    "                        stack.append(a1/a2)\n",
    "        return stack[-1]"
   ]
  },
  {
   "cell_type": "code",
   "execution_count": 47,
   "metadata": {
    "collapsed": false
   },
   "outputs": [
    {
     "data": {
      "text/plain": [
       "22"
      ]
     },
     "execution_count": 47,
     "metadata": {},
     "output_type": "execute_result"
    }
   ],
   "source": [
    "o=Solution()\n",
    "tokens=[\"10\",\"6\",\"9\",\"3\",\"+\",\"-11\",\"*\",\"/\",\"*\",\"17\",\"+\",\"5\",\"+\"]\n",
    "o.evalRPN(tokens)"
   ]
  },
  {
   "cell_type": "markdown",
   "metadata": {},
   "source": [
    "## 155. Min Stack"
   ]
  },
  {
   "cell_type": "markdown",
   "metadata": {},
   "source": [
    "Design a stack that supports push, pop, top, and retrieving the minimum element in constant time.\n",
    "\n",
    "* push(x) -- Push element x onto stack.\n",
    "* pop() -- Removes the element on top of the stack.\n",
    "* top() -- Get the top element.\n",
    "* getMin() -- Retrieve the minimum element in the stack.\n",
    "\n",
    "Example:\n",
    "\n",
    "MinStack minStack = new MinStack();\n",
    "\n",
    "minStack.push(-2);\n",
    "\n",
    "minStack.push(0);\n",
    "\n",
    "minStack.push(-3);\n",
    "\n",
    "minStack.getMin();   --> Returns -3.\n",
    "\n",
    "minStack.pop();\n",
    "\n",
    "minStack.top();      --> Returns 0.\n",
    "\n",
    "minStack.getMin();   --> Returns -2.\n"
   ]
  },
  {
   "cell_type": "markdown",
   "metadata": {},
   "source": [
    "Solution: We need to keep track of min when push or pop. For a particular num in stack, we only need to keep track of the min below it and include itself. So we store a tuple in the stack"
   ]
  },
  {
   "cell_type": "code",
   "execution_count": 5,
   "metadata": {
    "collapsed": true
   },
   "outputs": [],
   "source": [
    "class MinStack(object):\n",
    "\n",
    "    def __init__(self):\n",
    "        \"\"\"\n",
    "        initialize your data structure here.\n",
    "        \"\"\"\n",
    "        self.stack=[]\n",
    "\n",
    "    def push(self, x):\n",
    "        \"\"\"\n",
    "        :type x: int\n",
    "        :rtype: void\n",
    "        \"\"\"\n",
    "        curMin=self.getMin()\n",
    "        if curMin==None or x<curMin:\n",
    "            self.stack.append((x,x))\n",
    "        else:\n",
    "            self.stack.append((x,curMin))\n",
    "\n",
    "    def pop(self):\n",
    "        \"\"\"\n",
    "        :rtype: void\n",
    "        \"\"\"\n",
    "        if self.stack!=[]:\n",
    "            self.stack.pop()\n",
    "\n",
    "    def top(self):\n",
    "        \"\"\"\n",
    "        :rtype: int\n",
    "        \"\"\"\n",
    "        return self.stack[-1][0]\n",
    "\n",
    "    def getMin(self):\n",
    "        \"\"\"\n",
    "        :rtype: int\n",
    "        \"\"\"\n",
    "        if self.stack == []:\n",
    "            return None\n",
    "        else:\n",
    "            return self.stack[-1][1]\n",
    "\n",
    "\n",
    "# Your MinStack object will be instantiated and called as such:\n",
    "# obj = MinStack()\n",
    "# obj.push(x)\n",
    "# obj.pop()\n",
    "# param_3 = obj.top()\n",
    "# param_4 = obj.getMin()"
   ]
  },
  {
   "cell_type": "code",
   "execution_count": 6,
   "metadata": {
    "collapsed": false
   },
   "outputs": [
    {
     "data": {
      "text/plain": [
       "-2"
      ]
     },
     "execution_count": 6,
     "metadata": {},
     "output_type": "execute_result"
    }
   ],
   "source": [
    "minStack = MinStack()\n",
    "\n",
    "minStack.push(-2)\n",
    "\n",
    "minStack.push(0)\n",
    "\n",
    "minStack.push(-3)\n",
    "\n",
    "minStack.getMin()\n",
    "\n",
    "minStack.pop()\n",
    "\n",
    "minStack.top()\n",
    "\n",
    "minStack.getMin()"
   ]
  },
  {
   "cell_type": "markdown",
   "metadata": {},
   "source": [
    "## 173. Binary Search Tree Iterator"
   ]
  },
  {
   "cell_type": "markdown",
   "metadata": {},
   "source": [
    "Implement an iterator over a binary search tree (BST). Your iterator will be initialized with the root node of a BST.\n",
    "\n",
    "Calling next() will return the next smallest number in the BST.\n",
    "\n",
    "Note: next() and hasNext() should run in average O(1) time and uses O(h) memory, where h is the height of the tree."
   ]
  },
  {
   "cell_type": "markdown",
   "metadata": {},
   "source": [
    "Solution: In-order traversal will require O(n) space in intialization. We "
   ]
  },
  {
   "cell_type": "code",
   "execution_count": 26,
   "metadata": {
    "collapsed": true
   },
   "outputs": [],
   "source": [
    "# Definition for a  binary tree node\n",
    "class TreeNode(object):\n",
    "    def __init__(self, x):\n",
    "        self.val = x\n",
    "        self.left = None\n",
    "        self.right = None\n",
    "\n",
    "class BSTIterator(object):\n",
    "    def __init__(self, root):\n",
    "        \"\"\"\n",
    "        :type root: TreeNode\n",
    "        \"\"\"\n",
    "        self.stack=[]\n",
    "        if root:\n",
    "            self.stack=[root]\n",
    "            while root.left:\n",
    "                self.stack.append(root.left)\n",
    "                root=root.left\n",
    "\n",
    "    def hasNext(self):\n",
    "        \"\"\"\n",
    "        :rtype: bool\n",
    "        \"\"\"\n",
    "        return self.stack!=[]\n",
    "        \n",
    "\n",
    "    def next(self):\n",
    "        \"\"\"\n",
    "        :rtype: int\n",
    "        \"\"\"\n",
    "        if not self.stack:\n",
    "            return None\n",
    "        node=self.stack.pop()\n",
    "        curr=node\n",
    "        if curr.right:\n",
    "            curr=curr.right\n",
    "            self.stack.append(curr)\n",
    "            while curr.left:\n",
    "                curr=curr.left\n",
    "                self.stack.append(curr)\n",
    "        return node.val\n",
    "\n",
    "# Your BSTIterator will be called like this:\n",
    "# i, v = BSTIterator(root), []\n",
    "# while i.hasNext(): v.append(i.next())"
   ]
  },
  {
   "cell_type": "code",
   "execution_count": 27,
   "metadata": {
    "collapsed": false
   },
   "outputs": [],
   "source": [
    "root=None\n",
    "i, v = BSTIterator(root), []\n",
    "while i.hasNext(): v.append(i.next())"
   ]
  },
  {
   "cell_type": "code",
   "execution_count": 19,
   "metadata": {
    "collapsed": false
   },
   "outputs": [
    {
     "data": {
      "text/plain": [
       "True"
      ]
     },
     "execution_count": 19,
     "metadata": {},
     "output_type": "execute_result"
    }
   ],
   "source": [
    "not []"
   ]
  },
  {
   "cell_type": "markdown",
   "metadata": {},
   "source": [
    "## 225. Implement Stack using Queues"
   ]
  },
  {
   "cell_type": "markdown",
   "metadata": {},
   "source": [
    "Implement the following operations of a stack using queues.\n",
    "\n",
    "* push(x) -- Push element x onto stack.\n",
    "* pop() -- Removes the element on top of the stack.\n",
    "* top() -- Get the top element.\n",
    "* empty() -- Return whether the stack is empty.\n",
    "\n",
    "Notes:\n",
    "\n",
    "* You must use only standard operations of a queue -- which means only push to back, peek/pop from front, size, and is empty operations are valid.\n",
    "* Depending on your language, queue may not be supported natively. You may simulate a queue by using a list or deque (double-ended queue), as long as you use only standard operations of a queue.\n",
    "* You may assume that all operations are valid (for example, no pop or top operations will be called on an empty stack).\n"
   ]
  },
  {
   "cell_type": "markdown",
   "metadata": {},
   "source": [
    "Solution: We have to consider pop and top implementation."
   ]
  },
  {
   "cell_type": "code",
   "execution_count": null,
   "metadata": {
    "collapsed": true
   },
   "outputs": [],
   "source": [
    "import collections\n",
    "\n",
    "class MyStack(object):\n",
    "\n",
    "    def __init__(self):\n",
    "        \"\"\"\n",
    "        Initialize your data structure here.\n",
    "        \"\"\"\n",
    "        self.queue=collections.deque()\n",
    "        self.size=0\n",
    "\n",
    "    def push(self, x):\n",
    "        \"\"\"\n",
    "        Push element x onto stack.\n",
    "        :type x: int\n",
    "        :rtype: void\n",
    "        \"\"\"\n",
    "        self.queue.append(x)\n",
    "        self.size+=1\n",
    "\n",
    "    def pop(self):\n",
    "        \"\"\"\n",
    "        Removes the element on top of the stack and returns that element.\n",
    "        :rtype: int\n",
    "        \"\"\"\n",
    "        if self.size==0:\n",
    "            return None\n",
    "        else:\n",
    "            for i in xrange(self.size-1):\n",
    "                self.queue.append(self.queue.pop())\n",
    "            self.size-=1\n",
    "            return self.queue.pop()\n",
    "\n",
    "    def top(self):\n",
    "        \"\"\"\n",
    "        Get the top element.\n",
    "        :rtype: int\n",
    "        \"\"\"\n",
    "        if self.size==0:\n",
    "            return None\n",
    "        else:\n",
    "            for i in xrange(self.size-1):\n",
    "                self.queue.append(self.queue.pop())\n",
    "            top=self.queue.pop()\n",
    "            self.queue.append(top)\n",
    "            return top\n",
    "\n",
    "    def empty(self):\n",
    "        \"\"\"\n",
    "        Returns whether the stack is empty.\n",
    "        :rtype: bool\n",
    "        \"\"\"\n",
    "        if self.size==0:\n",
    "            return True\n",
    "        else:\n",
    "            return False\n",
    "\n",
    "# Your MyStack object will be instantiated and called as such:\n",
    "# obj = MyStack()\n",
    "# obj.push(x)\n",
    "# param_2 = obj.pop()\n",
    "# param_3 = obj.top()\n",
    "# param_4 = obj.empty()"
   ]
  },
  {
   "cell_type": "code",
   "execution_count": 13,
   "metadata": {
    "collapsed": false
   },
   "outputs": [],
   "source": [
    "import collections\n",
    "a=collections.deque()\n",
    "if a:\n",
    "    print a"
   ]
  },
  {
   "cell_type": "markdown",
   "metadata": {},
   "source": [
    "## 232. Implement Queue using Stacks"
   ]
  },
  {
   "cell_type": "markdown",
   "metadata": {},
   "source": [
    "Implement the following operations of a queue using stacks.\n",
    "\n",
    "* push(x) -- Push element x to the back of queue.\n",
    "* pop() -- Removes the element from in front of queue.\n",
    "* peek() -- Get the front element.\n",
    "* empty() -- Return whether the queue is empty.\n",
    "\n",
    "Notes:\n",
    "* You must use only standard operations of a stack -- which means only push to top, peek/pop from top, size, and is empty operations are valid.\n",
    "* Depending on your language, stack may not be supported natively. You may simulate a stack by using a list or deque (double-ended queue), as long as you use only standard operations of a stack.\n",
    "* You may assume that all operations are valid (for example, no pop or peek operations will be called on an empty queue)."
   ]
  },
  {
   "cell_type": "markdown",
   "metadata": {},
   "source": [
    "Solution: If we use two stacks, then either pop, peek or push will take linear time O(n)."
   ]
  },
  {
   "cell_type": "code",
   "execution_count": null,
   "metadata": {
    "collapsed": true
   },
   "outputs": [],
   "source": [
    "class MyQueue(object):\n",
    "\n",
    "    def __init__(self):\n",
    "        \"\"\"\n",
    "        Initialize your data structure here.\n",
    "        \"\"\"\n",
    "        self.S1=[]\n",
    "        self.S2=[]\n",
    "\n",
    "    def push(self, x):\n",
    "        \"\"\"\n",
    "        Push element x to the back of queue.\n",
    "        :type x: int\n",
    "        :rtype: void\n",
    "        \"\"\"\n",
    "        while self.S2!=[]:\n",
    "            self.S1.append(self.S2.pop())\n",
    "        self.S1.append(x)\n",
    "\n",
    "    def pop(self):\n",
    "        \"\"\"\n",
    "        Removes the element from in front of queue and returns that element.\n",
    "        :rtype: int\n",
    "        \"\"\"\n",
    "        while self.S1!=[]:\n",
    "            self.S2.append(self.S1.pop())\n",
    "        if self.S2!=[]:\n",
    "            return self.S2.pop()\n",
    "        else:\n",
    "            return None\n",
    "\n",
    "    def peek(self):\n",
    "        \"\"\"\n",
    "        Get the front element.\n",
    "        :rtype: int\n",
    "        \"\"\"\n",
    "        while self.S1!=[]:\n",
    "            self.S2.append(self.S1.pop())\n",
    "        if self.S2!=[]:\n",
    "            return self.S2[-1]\n",
    "        else:\n",
    "            return None\n",
    "\n",
    "    def empty(self):\n",
    "        \"\"\"\n",
    "        Returns whether the queue is empty.\n",
    "        :rtype: bool\n",
    "        \"\"\"\n",
    "        return self.S1==[] and self.S2==[]\n",
    "\n",
    "\n",
    "# Your MyQueue object will be instantiated and called as such:\n",
    "# obj = MyQueue()\n",
    "# obj.push(x)\n",
    "# param_2 = obj.pop()\n",
    "# param_3 = obj.peek()\n",
    "# param_4 = obj.empty()"
   ]
  },
  {
   "cell_type": "markdown",
   "metadata": {},
   "source": [
    "## 331. Verify Preorder Serialization of a Binary Tree"
   ]
  },
  {
   "cell_type": "markdown",
   "metadata": {},
   "source": [
    "One way to serialize a binary tree is to use pre-order traversal. When we encounter a non-null node, we record the node's value. If it is a null node, we record using a sentinel value such as #.\n",
    "\n",
    "      _9_\n",
    "     /   \\\n",
    "    3     2\n",
    "   / \\   / \\\n",
    "  4   1  #  6\n",
    " / \\ / \\   / \\\n",
    "# ## #  # #\n",
    "\n",
    "For example, the above binary tree can be serialized to the string \"9,3,4,#,#,1,#,#,2,#,6,#,#\", where # represents a null node.\n",
    "\n",
    "Given a string of comma separated values, verify whether it is a correct preorder traversal serialization of a binary tree. Find an algorithm without reconstructing the tree.\n",
    "\n",
    "Each comma separated value in the string must be either an integer or a character '#' representing null pointer.\n",
    "\n",
    "You may assume that the input format is always valid, for example it could never contain two consecutive commas such as \"1,,3\".\n",
    "\n",
    "Example 1:\n",
    "\n",
    "\"9,3,4,#,#,1,#,#,2,#,6,#,#\"\n",
    "\n",
    "Return true\n",
    "\n",
    "Example 2:\n",
    "\n",
    "\"1,#\"\n",
    "\n",
    "Return false\n",
    "\n",
    "Example 3:\n",
    "\n",
    "\"9,#,#,1\"\n",
    "\n",
    "Return false"
   ]
  },
  {
   "cell_type": "markdown",
   "metadata": {},
   "source": [
    "Solution: When we scan the sequence, if we encounter a number, then it has two outgoing branches. In our example, we start from the root, we have out=2, then we encounter 3, we eliminate 1 out for 9 and add 2 out from 3. then totally out=2-1+2=3. Then we move to 4, out=3-1+2=4. Then #, out=4-1=3, Then #, out=3-1=2, Then 1: out=2-1+2=3,...\n",
    "\n",
    "In summary, \n",
    "\n",
    "1. if we encounter a number, out+=1, for the root, out+=2. \n",
    "2. if we encounter a #, out-=1\n",
    "3. we check whether out=0 when we finish the scan."
   ]
  },
  {
   "cell_type": "code",
   "execution_count": 95,
   "metadata": {
    "collapsed": true
   },
   "outputs": [],
   "source": [
    "class Solution(object):\n",
    "    def isValidSerialization(self, preorder):\n",
    "        \"\"\"\n",
    "        :type preorder: str\n",
    "        :rtype: bool\n",
    "        \"\"\"\n",
    "        preorder_list=preorder.split(',')\n",
    "        out=0\n",
    "        for sym in preorder_list:\n",
    "            if out<0: return False\n",
    "            out-=1\n",
    "            if sym!='#':\n",
    "                out+=2\n",
    "                \n",
    "        return out==-1"
   ]
  },
  {
   "cell_type": "code",
   "execution_count": 97,
   "metadata": {
    "collapsed": false
   },
   "outputs": [
    {
     "data": {
      "text/plain": [
       "False"
      ]
     },
     "execution_count": 97,
     "metadata": {},
     "output_type": "execute_result"
    }
   ],
   "source": [
    "o=Solution()\n",
    "preorder=\"9,#,#,1\"\n",
    "o.isValidSerialization(preorder)"
   ]
  },
  {
   "cell_type": "markdown",
   "metadata": {},
   "source": [
    "Then we consider stack solution.\n",
    "\n",
    "\"9,3,4,#,#,1,#,#,2,#,6,#,#\"\n",
    "\n",
    "sym=9, stack=[9]\n",
    "sym=3, stack=[9,3]\n",
    "sym=4, stack=[9,3,4]\n",
    "sym=#, stack=[9,3,4,#]\n",
    "sym=#, stack=[9,3,#]\n",
    "sym=1, stack=[9,3,#,1]\n",
    "sym=#, stack=[9,3,#,1,#]\n",
    "sym=#, stack=[9,3,#,#]=>[9,#]\n",
    "sym=2, stack=[9,#,2]\n",
    "sym=#, stack=[9,#,2,#]\n",
    "sym=6, stack=[9,#,2,#,6]\n",
    "sym=#, stack=[9,#,2,#,6,#]\n",
    "sym=#, stack=[9,#,2,#,#]=>[9,#,#]=>[#]\n",
    "\n",
    "\"1,#\"\n",
    "\n",
    "sym=1, stack=[1]\n",
    "sym=#, stack=[1,#]\n",
    "\n",
    "\"9,#,#,1\"\n",
    "\n",
    "sym=9, stack=[9]\n",
    "sym=#, stack=[9,#]\n",
    "sym=#, stack=[#]\n",
    "sym=1, stack=[#,1]\n",
    "\n",
    "\"1,#,#,#,#\"\n",
    "\n",
    "sym=1, stack=[1]\n",
    "sym=#, stack=[1,#]\n",
    "sym=#, stack=[#]\n",
    "sym=#, stack=[]"
   ]
  },
  {
   "cell_type": "code",
   "execution_count": 109,
   "metadata": {
    "collapsed": true
   },
   "outputs": [],
   "source": [
    "class Solution(object):\n",
    "    def isValidSerialization(self, preorder):\n",
    "        \"\"\"\n",
    "        :type preorder: str\n",
    "        :rtype: bool\n",
    "        \"\"\"\n",
    "        preorder_list=preorder.split(',')\n",
    "        stack=[]\n",
    "        for sym in preorder_list:\n",
    "            stack.append(sym)\n",
    "            while len(stack)>1 and stack[-1]=='#' and stack[-2]=='#':\n",
    "                stack.pop()\n",
    "                stack.pop()\n",
    "                if stack!=[]:# if empty stack, then we do not have a parent for two null node, which is invalid\n",
    "                    stack[-1]='#'\n",
    "                else:\n",
    "                    return False\n",
    "                \n",
    "        return len(stack)==1 and stack[-1]=='#'"
   ]
  },
  {
   "cell_type": "code",
   "execution_count": 110,
   "metadata": {
    "collapsed": false
   },
   "outputs": [
    {
     "data": {
      "text/plain": [
       "False"
      ]
     },
     "execution_count": 110,
     "metadata": {},
     "output_type": "execute_result"
    }
   ],
   "source": [
    "o=Solution()\n",
    "preorder=\"1,#,#,#,#\"\n",
    "o.isValidSerialization(preorder)"
   ]
  },
  {
   "cell_type": "markdown",
   "metadata": {},
   "source": [
    "## 341. Flatten Nested List Iterator"
   ]
  },
  {
   "cell_type": "markdown",
   "metadata": {},
   "source": [
    "Given a nested list of integers, implement an iterator to flatten it.\n",
    "\n",
    "Each element is either an integer, or a list -- whose elements may also be integers or other lists.\n",
    "\n",
    "Example 1:\n",
    "\n",
    "Given the list [[1,1],2,[1,1]],\n",
    "\n",
    "By calling next repeatedly until hasNext returns false, the order of elements returned by next should be: [1,1,2,1,1].\n",
    "\n",
    "Example 2:\n",
    "\n",
    "Given the list [1,[4,[6]]],\n",
    "\n",
    "By calling next repeatedly until hasNext returns false, the order of elements returned by next should be: [1,4,6]."
   ]
  },
  {
   "cell_type": "markdown",
   "metadata": {},
   "source": [
    "Solution: We use a stack to store the nestedList. Then we pop the top element\n",
    "\n",
    "1. If it is single integer, then that is our next\n",
    "2. If it is a list, we reverse it and push its entries in order. We repeat this process until the top is an integer."
   ]
  },
  {
   "cell_type": "code",
   "execution_count": null,
   "metadata": {
    "collapsed": true
   },
   "outputs": [],
   "source": [
    "# \"\"\"\n",
    "# This is the interface that allows for creating nested lists.\n",
    "# You should not implement it, or speculate about its implementation\n",
    "# \"\"\"\n",
    "#class NestedInteger(object):\n",
    "#    def isInteger(self):\n",
    "#        \"\"\"\n",
    "#        @return True if this NestedInteger holds a single integer, rather than a nested list.\n",
    "#        :rtype bool\n",
    "#        \"\"\"\n",
    "#\n",
    "#    def getInteger(self):\n",
    "#        \"\"\"\n",
    "#        @return the single integer that this NestedInteger holds, if it holds a single integer\n",
    "#        Return None if this NestedInteger holds a nested list\n",
    "#        :rtype int\n",
    "#        \"\"\"\n",
    "#\n",
    "#    def getList(self):\n",
    "#        \"\"\"\n",
    "#        @return the nested list that this NestedInteger holds, if it holds a nested list\n",
    "#        Return None if this NestedInteger holds a single integer\n",
    "#        :rtype List[NestedInteger]\n",
    "#        \"\"\"\n",
    "\n",
    "class NestedIterator(object):\n",
    "\n",
    "    def __init__(self, nestedList):\n",
    "        \"\"\"\n",
    "        Initialize your data structure here.\n",
    "        :type nestedList: List[NestedInteger]\n",
    "        \"\"\"\n",
    "        self.stack=nestedList[::-1]\n",
    "\n",
    "    def next(self):\n",
    "        \"\"\"\n",
    "        :rtype: int\n",
    "        \"\"\"\n",
    "        if self.hasNext():\n",
    "            return self.stack.pop().getInteger()\n",
    "            \n",
    "        return None\n",
    "\n",
    "    def hasNext(self):\n",
    "        \"\"\"\n",
    "        :rtype: bool\n",
    "        \"\"\"\n",
    "        while self.stack!=[] and not self.stack[-1].isInteger():\n",
    "            top=self.stack.pop()\n",
    "            self.stack+=top.getList()[::-1]\n",
    "        return self.stack!=[] and self.stack[-1].isInteger()\n",
    "\n",
    "# Your NestedIterator object will be instantiated and called as such:\n",
    "# i, v = NestedIterator(nestedList), []\n",
    "# while i.hasNext(): v.append(i.next())"
   ]
  },
  {
   "cell_type": "code",
   "execution_count": 149,
   "metadata": {
    "collapsed": false
   },
   "outputs": [
    {
     "data": {
      "text/plain": [
       "['a']"
      ]
     },
     "execution_count": 149,
     "metadata": {},
     "output_type": "execute_result"
    }
   ],
   "source": [
    "['a']+[][::-1]"
   ]
  },
  {
   "cell_type": "markdown",
   "metadata": {},
   "source": [
    "## 456. 132 Pattern"
   ]
  },
  {
   "cell_type": "markdown",
   "metadata": {},
   "source": [
    "Given a sequence of n integers a1, a2, ..., an, a 132 pattern is a subsequence ai, aj, ak such that i < j < k and ai < ak < aj. Design an algorithm that takes a list of n numbers as input and checks whether there is a 132 pattern in the list.\n",
    "\n",
    "Note: n will be less than 15,000.\n",
    "\n",
    "Example 1:\n",
    "\n",
    "Input: [1, 2, 3, 4]\n",
    "\n",
    "Output: False\n",
    "\n",
    "Explanation: There is no 132 pattern in the sequence.\n",
    "\n",
    "Example 2:\n",
    "\n",
    "Input: [3, 1, 4, 2]\n",
    "\n",
    "Output: True\n",
    "\n",
    "Explanation: There is a 132 pattern in the sequence: [1, 4, 2].\n",
    "\n",
    "Example 3:\n",
    "\n",
    "Input: [-1, 3, 2, 0]\n",
    "\n",
    "Output: True\n",
    "\n",
    "Explanation: There are three 132 patterns in the sequence: [-1, 3, 2], [-1, 3, 0] and [-1, 2, 0]."
   ]
  },
  {
   "cell_type": "markdown",
   "metadata": {},
   "source": [
    "Solution: Brutal force O(n^3). Detailed improvement:\n",
    "\n",
    "https://discuss.leetcode.com/topic/68242/java-solutions-from-o-n-3-to-o-n-for-132-pattern"
   ]
  },
  {
   "cell_type": "markdown",
   "metadata": {},
   "source": [
    "**O(n^2) solution**: As we pass through the array, we want the range (nums[i], nums[j]) to be as wide as possible. Then we only need to keep track of the minimum in nums[0,j)."
   ]
  },
  {
   "cell_type": "code",
   "execution_count": 131,
   "metadata": {
    "collapsed": true
   },
   "outputs": [],
   "source": [
    "class Solution(object):\n",
    "    def find132pattern(self, nums):\n",
    "        \"\"\"\n",
    "        :type nums: List[int]\n",
    "        :rtype: bool\n",
    "        \"\"\"\n",
    "        n=len(nums)\n",
    "        if n<3: return False\n",
    "        minimum=nums[0]\n",
    "        for j in xrange(n-1):\n",
    "            minimum=min(nums[j],minimum)\n",
    "            for k in xrange(j+1,n):\n",
    "                if nums[k]<nums[j] and nums[k]>minimum:\n",
    "                    return True\n",
    "        return False"
   ]
  },
  {
   "cell_type": "code",
   "execution_count": 134,
   "metadata": {
    "collapsed": false
   },
   "outputs": [
    {
     "data": {
      "text/plain": [
       "True"
      ]
     },
     "execution_count": 134,
     "metadata": {},
     "output_type": "execute_result"
    }
   ],
   "source": [
    "o=Solution()\n",
    "o.find132pattern([-1, 3, 2, 0])"
   ]
  },
  {
   "cell_type": "markdown",
   "metadata": {},
   "source": [
    "To further reduce the time complexity, we need to record the \"useful\" information about elements in the right part of the input array nums. So it is natual to start from the end of the array and do a backward pass. Meanwhile we need the minimum of nums[0,j). This is done by a first pass to record mins[j]. The \"useful\" information for current index j will be a collection of scanned elements that are greater than mins[j], and nums[k] will be chosen as the smallest one if the collection is not empty."
   ]
  },
  {
   "cell_type": "code",
   "execution_count": 142,
   "metadata": {
    "collapsed": true
   },
   "outputs": [],
   "source": [
    "class Solution(object):\n",
    "    def find132pattern(self, nums):\n",
    "        \"\"\"\n",
    "        :type nums: List[int]\n",
    "        :rtype: bool\n",
    "        \"\"\"\n",
    "        n=len(nums)\n",
    "        if n<3: return False\n",
    "        # record min\n",
    "        mins=[nums[0]]*n\n",
    "        for i in xrange(1,n):\n",
    "            if nums[i]<mins[i-1]:\n",
    "                mins[i]=nums[i]\n",
    "            else:\n",
    "                mins[i]=mins[i-1]\n",
    "        # maximum stack from backwards\n",
    "        max_stack=[nums[n-1]]\n",
    "        for j in xrange(n-2,0,-1):\n",
    "            while max_stack!=[] and max_stack[-1]<=mins[j]:\n",
    "                max_stack.pop()\n",
    "            if max_stack==[] or max_stack[-1]>=nums[j]:\n",
    "                max_stack.append(nums[j])\n",
    "            else:\n",
    "                return True\n",
    "            \n",
    "        return False"
   ]
  },
  {
   "cell_type": "code",
   "execution_count": 145,
   "metadata": {
    "collapsed": false
   },
   "outputs": [
    {
     "data": {
      "text/plain": [
       "False"
      ]
     },
     "execution_count": 145,
     "metadata": {},
     "output_type": "execute_result"
    }
   ],
   "source": [
    "o=Solution()\n",
    "o.find132pattern([1, 2, 3, 4])"
   ]
  },
  {
   "cell_type": "markdown",
   "metadata": {},
   "source": [
    "## 385. Mini Parser"
   ]
  },
  {
   "cell_type": "markdown",
   "metadata": {},
   "source": [
    "Given a nested list of integers represented as a string, implement a parser to deserialize it.\n",
    "\n",
    "Each element is either an integer, or a list -- whose elements may also be integers or other lists.\n",
    "\n",
    "Note: You may assume that the string is well-formed:\n",
    "\n",
    "* String is non-empty.\n",
    "* String does not contain white spaces.\n",
    "* String contains only digits 0-9, \"[\", \"-\" \",\", \"]\".\n",
    "\n",
    "Example 1:\n",
    "\n",
    "Given s = \"324\",\n",
    "\n",
    "You should return a NestedInteger object which contains a single integer 324.\n",
    "\n",
    "Example 2:\n",
    "\n",
    "Given s = \"[123,[456,[789]]]\",\n",
    "\n",
    "Return a NestedInteger object containing a nested list with 2 elements:\n",
    "\n",
    "1. An integer containing value 123.\n",
    "2. A nested list containing two elements:\n",
    "    i. An integer containing value 456.\n",
    "    ii. A nested list with one element:\n",
    "         a. An integer containing value 789."
   ]
  },
  {
   "cell_type": "markdown",
   "metadata": {},
   "source": [
    "Solution: We could parse the string char by char:\n",
    "\n",
    "In scanning through the nums array:\n",
    "\n",
    "1. If we meet \"[\": we add a NestedInteger of nestedList(value=None) into the stack and to the previous top NestedInteger.\n",
    "2. If we encounter a digit or '-': we construct our num(int) variable.\n",
    "3. If we meet \",\": we add the current NestedInteger(integer number or nestedList) to the list of the top NestedInteger of the stack.\n",
    "4. If we meet \"]\": we add the current NestedInteger(integer number) to the list of the top NestedInteger of the stack and we pop the top element in the stack."
   ]
  },
  {
   "cell_type": "code",
   "execution_count": null,
   "metadata": {
    "collapsed": true
   },
   "outputs": [],
   "source": [
    "# \"\"\"\n",
    "# This is the interface that allows for creating nested lists.\n",
    "# You should not implement it, or speculate about its implementation\n",
    "# \"\"\"\n",
    "#class NestedInteger(object):\n",
    "#    def __init__(self, value=None):\n",
    "#        \"\"\"\n",
    "#        If value is not specified, initializes an empty list.\n",
    "#        Otherwise initializes a single integer equal to value.\n",
    "#        \"\"\"\n",
    "#\n",
    "#    def isInteger(self):\n",
    "#        \"\"\"\n",
    "#        @return True if this NestedInteger holds a single integer, rather than a nested list.\n",
    "#        :rtype bool\n",
    "#        \"\"\"\n",
    "#\n",
    "#    def add(self, elem):\n",
    "#        \"\"\"\n",
    "#        Set this NestedInteger to hold a nested list and adds a nested integer elem to it.\n",
    "#        :rtype void\n",
    "#        \"\"\"\n",
    "#\n",
    "#    def setInteger(self, value):\n",
    "#        \"\"\"\n",
    "#        Set this NestedInteger to hold a single integer equal to value.\n",
    "#        :rtype void\n",
    "#        \"\"\"\n",
    "#\n",
    "#    def getInteger(self):\n",
    "#        \"\"\"\n",
    "#        @return the single integer that this NestedInteger holds, if it holds a single integer\n",
    "#        Return None if this NestedInteger holds a nested list\n",
    "#        :rtype int\n",
    "#        \"\"\"\n",
    "#\n",
    "#    def getList(self):\n",
    "#        \"\"\"\n",
    "#        @return the nested list that this NestedInteger holds, if it holds a nested list\n",
    "#        Return None if this NestedInteger holds a single integer\n",
    "#        :rtype List[NestedInteger]\n",
    "#        \"\"\"\n",
    "\n",
    "class Solution(object):\n",
    "    def deserialize(self, s):\n",
    "        \"\"\"\n",
    "        :type s: str\n",
    "        :rtype: NestedInteger\n",
    "        \"\"\"\n",
    "        stack=[]\n",
    "        num=0\n",
    "        sgn=1\n",
    "        isnum=False\n",
    "        curr=None\n",
    "        for ch in s:\n",
    "            if ch=='[':\n",
    "                if stack!=[]:\n",
    "                    top=NestedInteger(None)\n",
    "                    stack[-1].add(top)\n",
    "                    stack.append(top)\n",
    "                else:\n",
    "                    stack.append(NestedInteger(None))\n",
    "            elif ch=='-':\n",
    "                sgn=-1\n",
    "            elif ch.isdigit():\n",
    "                isnum=True\n",
    "                num=10*num+sgn*int(ch)\n",
    "            elif ch==',':\n",
    "                if isnum:\n",
    "                    isnum=False\n",
    "                    stack[-1].add(NestedInteger(num))\n",
    "                    num=0\n",
    "                    sgn=1   \n",
    "            elif ch==']':\n",
    "                if isnum:\n",
    "                    isnum=False\n",
    "                    stack[-1].add(NestedInteger(num))\n",
    "                    num=0\n",
    "                    sgn=1\n",
    "                stack.pop()\n",
    "                \n",
    "        if isnum: # special case: single number\n",
    "            return NestedInteger(num)\n",
    "        else:\n",
    "            return curr"
   ]
  },
  {
   "cell_type": "markdown",
   "metadata": {},
   "source": [
    "Testcase: \"[1,[123,-1],[456,[789]]]\",\"324\""
   ]
  },
  {
   "cell_type": "markdown",
   "metadata": {},
   "source": [
    "The above solution is accepted, but it will consume roughly O(n^2) space once we have a lot of nestedlist. We could improve the above by the following(Discussion solution): We use a curr to keep track of the current NestedInteger\n",
    "\n",
    "1. If we meet \"[\": push curr into the stack and initialize curr=NestedInteger(None)\n",
    "2. If we encounter a digit or '-': we construct our num(int) variable.\n",
    "3. If we meet \",\": if we just wrap up a num, we add it to the curr, otherwise do nothing\n",
    "4. If we meet \"]\": if we just wrap up a num, we add it to the curr. if the stack is not empty, we pop the top element, add curr to the top and then set curr=top."
   ]
  },
  {
   "cell_type": "code",
   "execution_count": null,
   "metadata": {
    "collapsed": true
   },
   "outputs": [],
   "source": [
    "class Solution(object):\n",
    "    def deserialize(self, s):\n",
    "        \"\"\"\n",
    "        :type s: str\n",
    "        :rtype: NestedInteger\n",
    "        \"\"\"\n",
    "        stack=[]\n",
    "        num=0\n",
    "        sgn=1\n",
    "        isnum=False\n",
    "        curr=None\n",
    "        for ch in s:\n",
    "            if ch=='[':\n",
    "                if curr!=None:\n",
    "                    stack.append(curr)\n",
    "                curr=NestedInteger()\n",
    "            elif ch=='-':\n",
    "                sgn=-1\n",
    "            elif ch.isdigit():\n",
    "                isnum=True\n",
    "                num=10*num+sgn*int(ch)\n",
    "            elif ch==',':\n",
    "                if isnum:\n",
    "                    isnum=False\n",
    "                    curr.add(NestedInteger(num))\n",
    "                    num=0\n",
    "                    sgn=1   \n",
    "            elif ch==']':\n",
    "                if isnum:\n",
    "                    isnum=False\n",
    "                    curr.add(NestedInteger(num))\n",
    "                    num=0\n",
    "                    sgn=1\n",
    "                if stack!=[]:\n",
    "                    top=stack.pop()\n",
    "                    top.add(curr)\n",
    "                    curr=top\n",
    "                \n",
    "        if isnum: # special case: single number\n",
    "            return NestedInteger(num)\n",
    "        else:\n",
    "            return curr"
   ]
  }
 ],
 "metadata": {
  "kernelspec": {
   "display_name": "Python 2",
   "language": "python",
   "name": "python2"
  },
  "language_info": {
   "codemirror_mode": {
    "name": "ipython",
    "version": 2
   },
   "file_extension": ".py",
   "mimetype": "text/x-python",
   "name": "python",
   "nbconvert_exporter": "python",
   "pygments_lexer": "ipython2",
   "version": "2.7.12"
  }
 },
 "nbformat": 4,
 "nbformat_minor": 0
}
